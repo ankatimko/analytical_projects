{
 "cells": [
  {
   "cell_type": "markdown",
   "metadata": {
    "id": "iViQ0JVZ3Kiw"
   },
   "source": [
    "# Формирование модели монетизации"
   ]
  },
  {
   "cell_type": "markdown",
   "metadata": {
    "id": "poh4jYe_rUIR"
   },
   "source": [
    "**Презентация:**<BR>\n",
    "https://drive.google.com/file/d/1Nfg0rHFP6KSm-s3FGCwPeDHw4_4g8vlN/view?usp=sharing"
   ]
  },
  {
   "cell_type": "markdown",
   "metadata": {
    "id": "xrWYbaAF7CYS"
   },
   "source": [
    "Для мобильной игры \"Космические братья\" нужно сформировать модель будущей монетизации. Она будет происходить в виде показа рекламы на экране с выбором типа объекта для постройки.<br>\n",
    "Основная задача: определить на каких этапах игры показывать пользователям рекламу."
   ]
  },
  {
   "cell_type": "markdown",
   "metadata": {
    "id": "UFfDqlWlUWNq"
   },
   "source": [
    "## Загрузка"
   ]
  },
  {
   "cell_type": "code",
   "execution_count": 1,
   "metadata": {
    "id": "AaGNflqSYIFx"
   },
   "outputs": [],
   "source": [
    "import pandas as pd\n",
    "import numpy as np\n",
    "import matplotlib.pyplot as plt\n",
    "from scipy import stats as st"
   ]
  },
  {
   "cell_type": "code",
   "execution_count": 2,
   "metadata": {
    "id": "RnQYCYwvIP5e"
   },
   "outputs": [],
   "source": [
    "user_source = pd.read_csv('https://drive.google.com/uc?export=download&id=16xcZUycI88HTxG00fpOzoPA7Mz9zt6nk',\n",
    "                           sep=',', encoding='windows-1251', low_memory=False)\n",
    "events = pd.read_csv('https://drive.google.com/uc?export=download&id=1cvVWQ_Y5lYIib7OuMUUB3TRRkrN1WNND',\n",
    "                           sep=',', encoding='windows-1251', low_memory=False)\n",
    "ad_costs = pd.read_csv('https://drive.google.com/uc?export=download&id=122Jddsb-YzMsg1svcC2X5lSUiN0P3or7',\n",
    "                           sep=',', encoding='windows-1251', low_memory=False)"
   ]
  },
  {
   "cell_type": "markdown",
   "metadata": {
    "id": "l1Rj0xpHUgrp"
   },
   "source": [
    "## Предобработка"
   ]
  },
  {
   "cell_type": "code",
   "execution_count": 3,
   "metadata": {
    "id": "R5mbw3SyYRaP"
   },
   "outputs": [],
   "source": [
    "events['event_datetime'] = pd.to_datetime(events['event_datetime']).dt.to_period('D') "
   ]
  },
  {
   "cell_type": "code",
   "execution_count": 4,
   "metadata": {
    "id": "4H3-d3lQmLk_"
   },
   "outputs": [],
   "source": [
    "finishes = ['not_finished', 'project', 'no_project']\n",
    "def get_finish_type(row):\n",
    "  finish_types = ['project', 'finished_stage_1']\n",
    "  i=0\n",
    "  for type in finish_types:\n",
    "    i+=1\n",
    "    if (events[events['user_id']==row['user_id']]['event'] == type).sum():\n",
    "      return finishes[i]\n",
    "  return finishes[0]"
   ]
  },
  {
   "cell_type": "markdown",
   "metadata": {
    "id": "NXLYCUD6G-55"
   },
   "source": [
    "Соберем сводную таблицу по пользователям, дальше в основном будем анализоравть ее."
   ]
  },
  {
   "cell_type": "code",
   "execution_count": 5,
   "metadata": {
    "id": "Ns7AcEA312yL"
   },
   "outputs": [],
   "source": [
    "users = pd.DataFrame({'user_id':events['user_id'].unique()})\n",
    "users['finish_type'] = users.apply(get_finish_type, axis=1)\n",
    "users1 = events.pivot_table(columns='event', values='event_datetime',index='user_id', aggfunc='count').reset_index()\n",
    "users2 = events.pivot_table(columns='building_type', values='event_datetime',index='user_id', aggfunc='count').reset_index()\n",
    "users3 = events.pivot_table(values='event_datetime',index='user_id', aggfunc=['min', 'max']).reset_index()\n",
    "users3.columns = ['user_id', 'start', 'finish']\n",
    "users = users.merge(users1, on='user_id').merge(users2, on='user_id').merge(users3, on='user_id').merge(user_source, on='user_id')\n",
    "users = users.drop(columns=['finished_stage_1', 'project'])\n",
    "users['time'] = ( users['finish'].dt.to_timestamp() - users['start'].dt.to_timestamp() )/ np.timedelta64(1,'D')"
   ]
  },
  {
   "cell_type": "code",
   "execution_count": 6,
   "metadata": {
    "colab": {
     "base_uri": "https://localhost:8080/",
     "height": 204
    },
    "id": "WfsNyhHx03R3",
    "outputId": "9beaaf47-2cb3-4fd9-8659-785bbe47cab2"
   },
   "outputs": [
    {
     "data": {
      "text/html": [
       "<div>\n",
       "<style scoped>\n",
       "    .dataframe tbody tr th:only-of-type {\n",
       "        vertical-align: middle;\n",
       "    }\n",
       "\n",
       "    .dataframe tbody tr th {\n",
       "        vertical-align: top;\n",
       "    }\n",
       "\n",
       "    .dataframe thead th {\n",
       "        text-align: right;\n",
       "    }\n",
       "</style>\n",
       "<table border=\"1\" class=\"dataframe\">\n",
       "  <thead>\n",
       "    <tr style=\"text-align: right;\">\n",
       "      <th></th>\n",
       "      <th>user_id</th>\n",
       "      <th>finish_type</th>\n",
       "      <th>building</th>\n",
       "      <th>assembly_shop</th>\n",
       "      <th>research_center</th>\n",
       "      <th>spaceport</th>\n",
       "      <th>start</th>\n",
       "      <th>finish</th>\n",
       "      <th>source</th>\n",
       "      <th>time</th>\n",
       "    </tr>\n",
       "  </thead>\n",
       "  <tbody>\n",
       "    <tr>\n",
       "      <td>0</td>\n",
       "      <td>55e92310-cb8e-4754-b622-597e124b03de</td>\n",
       "      <td>not_finished</td>\n",
       "      <td>7.0</td>\n",
       "      <td>7.0</td>\n",
       "      <td>NaN</td>\n",
       "      <td>NaN</td>\n",
       "      <td>2020-05-04</td>\n",
       "      <td>2020-05-10</td>\n",
       "      <td>youtube_channel_reklama</td>\n",
       "      <td>6.0</td>\n",
       "    </tr>\n",
       "    <tr>\n",
       "      <td>1</td>\n",
       "      <td>c07b1c10-f477-44dc-81dc-ec82254b1347</td>\n",
       "      <td>project</td>\n",
       "      <td>11.0</td>\n",
       "      <td>6.0</td>\n",
       "      <td>2.0</td>\n",
       "      <td>3.0</td>\n",
       "      <td>2020-05-04</td>\n",
       "      <td>2020-05-15</td>\n",
       "      <td>facebook_ads</td>\n",
       "      <td>11.0</td>\n",
       "    </tr>\n",
       "    <tr>\n",
       "      <td>2</td>\n",
       "      <td>6edd42cc-e753-4ff6-a947-2107cd560710</td>\n",
       "      <td>no_project</td>\n",
       "      <td>12.0</td>\n",
       "      <td>6.0</td>\n",
       "      <td>2.0</td>\n",
       "      <td>4.0</td>\n",
       "      <td>2020-05-04</td>\n",
       "      <td>2020-05-16</td>\n",
       "      <td>instagram_new_adverts</td>\n",
       "      <td>12.0</td>\n",
       "    </tr>\n",
       "    <tr>\n",
       "      <td>3</td>\n",
       "      <td>92c69003-d60a-444a-827f-8cc51bf6bf4c</td>\n",
       "      <td>not_finished</td>\n",
       "      <td>10.0</td>\n",
       "      <td>5.0</td>\n",
       "      <td>2.0</td>\n",
       "      <td>3.0</td>\n",
       "      <td>2020-05-04</td>\n",
       "      <td>2020-05-12</td>\n",
       "      <td>facebook_ads</td>\n",
       "      <td>8.0</td>\n",
       "    </tr>\n",
       "    <tr>\n",
       "      <td>4</td>\n",
       "      <td>cdc6bb92-0ccb-4490-9866-ef142f09139d</td>\n",
       "      <td>no_project</td>\n",
       "      <td>6.0</td>\n",
       "      <td>3.0</td>\n",
       "      <td>NaN</td>\n",
       "      <td>3.0</td>\n",
       "      <td>2020-05-04</td>\n",
       "      <td>2020-05-11</td>\n",
       "      <td>yandex_direct</td>\n",
       "      <td>7.0</td>\n",
       "    </tr>\n",
       "  </tbody>\n",
       "</table>\n",
       "</div>"
      ],
      "text/plain": [
       "                                user_id   finish_type  building  \\\n",
       "0  55e92310-cb8e-4754-b622-597e124b03de  not_finished       7.0   \n",
       "1  c07b1c10-f477-44dc-81dc-ec82254b1347       project      11.0   \n",
       "2  6edd42cc-e753-4ff6-a947-2107cd560710    no_project      12.0   \n",
       "3  92c69003-d60a-444a-827f-8cc51bf6bf4c  not_finished      10.0   \n",
       "4  cdc6bb92-0ccb-4490-9866-ef142f09139d    no_project       6.0   \n",
       "\n",
       "   assembly_shop  research_center  spaceport       start      finish  \\\n",
       "0            7.0              NaN        NaN  2020-05-04  2020-05-10   \n",
       "1            6.0              2.0        3.0  2020-05-04  2020-05-15   \n",
       "2            6.0              2.0        4.0  2020-05-04  2020-05-16   \n",
       "3            5.0              2.0        3.0  2020-05-04  2020-05-12   \n",
       "4            3.0              NaN        3.0  2020-05-04  2020-05-11   \n",
       "\n",
       "                    source  time  \n",
       "0  youtube_channel_reklama   6.0  \n",
       "1             facebook_ads  11.0  \n",
       "2    instagram_new_adverts  12.0  \n",
       "3             facebook_ads   8.0  \n",
       "4            yandex_direct   7.0  "
      ]
     },
     "execution_count": 6,
     "metadata": {},
     "output_type": "execute_result"
    }
   ],
   "source": [
    "users.head()"
   ]
  },
  {
   "cell_type": "code",
   "execution_count": 7,
   "metadata": {
    "id": "XdcqoXnMppIO"
   },
   "outputs": [],
   "source": [
    "events = events.merge(users[['user_id', 'finish_type']], on='user_id')"
   ]
  },
  {
   "cell_type": "markdown",
   "metadata": {
    "id": "KDqSaWCDUoe6"
   },
   "source": [
    "## Анализ"
   ]
  },
  {
   "cell_type": "markdown",
   "metadata": {
    "id": "BUP25r5ifnO7"
   },
   "source": [
    "### EDA"
   ]
  },
  {
   "cell_type": "code",
   "execution_count": 8,
   "metadata": {
    "colab": {
     "base_uri": "https://localhost:8080/",
     "height": 34
    },
    "id": "5kEppkV6Ksub",
    "outputId": "03e8cd19-6d05-4b71-fa2f-58f478d66a97"
   },
   "outputs": [
    {
     "name": "stdout",
     "output_type": "stream",
     "text": [
      "Анализируемый период c 2020-05-04 по 2020-06-05 \n"
     ]
    }
   ],
   "source": [
    "print(f'Анализируемый период c {events[\"event_datetime\"].min()} по {events[\"event_datetime\"].max()} ')"
   ]
  },
  {
   "cell_type": "code",
   "execution_count": 9,
   "metadata": {
    "colab": {
     "base_uri": "https://localhost:8080/",
     "height": 34
    },
    "id": "sKFl6AvyiLxi",
    "outputId": "7054904b-e1d3-4239-87b9-9653c815b61b"
   },
   "outputs": [
    {
     "name": "stdout",
     "output_type": "stream",
     "text": [
      "Количество уникальных пользователей за период: 13576\n"
     ]
    }
   ],
   "source": [
    "print('Количество уникальных пользователей за период:', events['user_id'].nunique())"
   ]
  },
  {
   "cell_type": "code",
   "execution_count": 10,
   "metadata": {
    "colab": {
     "base_uri": "https://localhost:8080/",
     "height": 136
    },
    "id": "i9O7JE6ahmHt",
    "outputId": "a4d8f65a-64c5-4793-eb89-f6c574fc1759"
   },
   "outputs": [
    {
     "data": {
      "text/plain": [
       "(not_finished    7759\n",
       " no_project      3951\n",
       " project         1866\n",
       " Name: finish_type, dtype: int64,\n",
       " not_finished    0.571523\n",
       " no_project      0.291028\n",
       " project         0.137448\n",
       " Name: finish_type, dtype: float64)"
      ]
     },
     "execution_count": 10,
     "metadata": {},
     "output_type": "execute_result"
    }
   ],
   "source": [
    "users['finish_type'].value_counts(), users['finish_type'].value_counts(normalize=True)"
   ]
  },
  {
   "cell_type": "markdown",
   "metadata": {
    "id": "UxRqAAgGS1hG"
   },
   "source": [
    "Из 1365 тыс. зарегистрированных пользователей до конца первого уровня дошли 57%. Посомтрим как они убывают."
   ]
  },
  {
   "cell_type": "code",
   "execution_count": 51,
   "metadata": {
    "colab": {
     "base_uri": "https://localhost:8080/",
     "height": 331
    },
    "id": "ZwMqZvUk5_5C",
    "outputId": "b645a4e8-9061-46c4-83e9-1d1f099151f3"
   },
   "outputs": [
    {
     "data": {
      "image/png": "[encoded data removed]",
      "text/plain": [
       "<Figure size 720x360 with 1 Axes>"
      ]
     },
     "metadata": {
      "needs_background": "light"
     },
     "output_type": "display_data"
    }
   ],
   "source": [
    "#print('\\033[1m      Количетсво активных пользователей по времени')\n",
    "\n",
    "fig, ax = plt.subplots(figsize=(10, 5))\n",
    "events.groupby('event_datetime')['user_id'].nunique().reset_index().set_index('event_datetime').plot(ax=ax,legend='asd')\n",
    "events[events['finish_type']=='not_finished'].groupby('event_datetime')['user_id'].nunique().reset_index().set_index('event_datetime').plot(ax=ax)\n",
    "\n",
    "users.groupby('start')['user_id'].count().reset_index().set_index('start').plot(ax=ax)\n",
    "ax.legend(['Total users', 'Lost users', 'New users'])\n",
    "plt.title('Количество активных пользователей по времени')\n",
    "plt.show()\n"
   ]
  },
  {
   "cell_type": "markdown",
   "metadata": {
    "id": "m_sxbngL6G9s"
   },
   "source": [
    "Видим, что люди приходят и уходят со временем. Посомтрим по событиям."
   ]
  },
  {
   "cell_type": "code",
   "execution_count": 12,
   "metadata": {
    "id": "X62Uz14oihUh"
   },
   "outputs": [],
   "source": [
    "df_list = {}\n",
    "for i in range (1,22):\n",
    "  df_list[i] = ( users[ (users['building']>=i)]['building'].count(),\n",
    "                users[ (users['building']>=i) &  (users['finish_type']=='not_finished') ]['building'].count(),\n",
    "                 users[ (users['building']>=i) &  (users['finish_type']!='not_finished') ]['building'].count(),\n",
    "                users[ (users['building']<i) &  (users['finish_type']!='not_finished') ]['building'].count()\n",
    "                )"
   ]
  },
  {
   "cell_type": "code",
   "execution_count": 13,
   "metadata": {
    "colab": {
     "base_uri": "https://localhost:8080/",
     "height": 717
    },
    "id": "wJcMbLu5WAsp",
    "outputId": "804d7cd3-f2f8-4b54-f9b9-7ad3e4a40dfa"
   },
   "outputs": [
    {
     "name": "stdout",
     "output_type": "stream",
     "text": [
      "\u001b[1m                                               Воронка по событиям\n"
     ]
    },
    {
     "data": {
      "text/html": [
       "<div>\n",
       "<style scoped>\n",
       "    .dataframe tbody tr th:only-of-type {\n",
       "        vertical-align: middle;\n",
       "    }\n",
       "\n",
       "    .dataframe tbody tr th {\n",
       "        vertical-align: top;\n",
       "    }\n",
       "\n",
       "    .dataframe thead th {\n",
       "        text-align: right;\n",
       "    }\n",
       "</style>\n",
       "<table border=\"1\" class=\"dataframe\">\n",
       "  <thead>\n",
       "    <tr style=\"text-align: right;\">\n",
       "      <th></th>\n",
       "      <th>all</th>\n",
       "      <th>not_finished</th>\n",
       "      <th>finished</th>\n",
       "      <th>finished_early</th>\n",
       "      <th>finished_in_round</th>\n",
       "      <th>lost</th>\n",
       "      <th>lost_in_round</th>\n",
       "      <th>lost_in_round_pc</th>\n",
       "      <th>finished_in_round_pc</th>\n",
       "    </tr>\n",
       "  </thead>\n",
       "  <tbody>\n",
       "    <tr>\n",
       "      <td>1</td>\n",
       "      <td>13576</td>\n",
       "      <td>7759</td>\n",
       "      <td>5817</td>\n",
       "      <td>0</td>\n",
       "      <td>0.0</td>\n",
       "      <td>0</td>\n",
       "      <td>57.0</td>\n",
       "      <td>0.42</td>\n",
       "      <td>0.00</td>\n",
       "    </tr>\n",
       "    <tr>\n",
       "      <td>2</td>\n",
       "      <td>13519</td>\n",
       "      <td>7702</td>\n",
       "      <td>5817</td>\n",
       "      <td>0</td>\n",
       "      <td>49.0</td>\n",
       "      <td>57</td>\n",
       "      <td>229.0</td>\n",
       "      <td>1.69</td>\n",
       "      <td>0.36</td>\n",
       "    </tr>\n",
       "    <tr>\n",
       "      <td>3</td>\n",
       "      <td>13241</td>\n",
       "      <td>7473</td>\n",
       "      <td>5768</td>\n",
       "      <td>49</td>\n",
       "      <td>101.0</td>\n",
       "      <td>286</td>\n",
       "      <td>455.0</td>\n",
       "      <td>3.44</td>\n",
       "      <td>0.76</td>\n",
       "    </tr>\n",
       "    <tr>\n",
       "      <td>4</td>\n",
       "      <td>12685</td>\n",
       "      <td>7018</td>\n",
       "      <td>5667</td>\n",
       "      <td>150</td>\n",
       "      <td>168.0</td>\n",
       "      <td>741</td>\n",
       "      <td>614.0</td>\n",
       "      <td>4.84</td>\n",
       "      <td>1.32</td>\n",
       "    </tr>\n",
       "    <tr>\n",
       "      <td>5</td>\n",
       "      <td>11903</td>\n",
       "      <td>6404</td>\n",
       "      <td>5499</td>\n",
       "      <td>318</td>\n",
       "      <td>212.0</td>\n",
       "      <td>1355</td>\n",
       "      <td>779.0</td>\n",
       "      <td>6.54</td>\n",
       "      <td>1.78</td>\n",
       "    </tr>\n",
       "    <tr>\n",
       "      <td>6</td>\n",
       "      <td>10912</td>\n",
       "      <td>5625</td>\n",
       "      <td>5287</td>\n",
       "      <td>530</td>\n",
       "      <td>285.0</td>\n",
       "      <td>2134</td>\n",
       "      <td>1034.0</td>\n",
       "      <td>9.48</td>\n",
       "      <td>2.61</td>\n",
       "    </tr>\n",
       "    <tr>\n",
       "      <td>7</td>\n",
       "      <td>9593</td>\n",
       "      <td>4591</td>\n",
       "      <td>5002</td>\n",
       "      <td>815</td>\n",
       "      <td>75.0</td>\n",
       "      <td>3168</td>\n",
       "      <td>244.0</td>\n",
       "      <td>2.54</td>\n",
       "      <td>0.78</td>\n",
       "    </tr>\n",
       "    <tr>\n",
       "      <td>8</td>\n",
       "      <td>9274</td>\n",
       "      <td>4347</td>\n",
       "      <td>4927</td>\n",
       "      <td>890</td>\n",
       "      <td>357.0</td>\n",
       "      <td>3412</td>\n",
       "      <td>486.0</td>\n",
       "      <td>5.24</td>\n",
       "      <td>3.85</td>\n",
       "    </tr>\n",
       "    <tr>\n",
       "      <td>9</td>\n",
       "      <td>8431</td>\n",
       "      <td>3861</td>\n",
       "      <td>4570</td>\n",
       "      <td>1247</td>\n",
       "      <td>676.0</td>\n",
       "      <td>3898</td>\n",
       "      <td>638.0</td>\n",
       "      <td>7.57</td>\n",
       "      <td>8.02</td>\n",
       "    </tr>\n",
       "    <tr>\n",
       "      <td>10</td>\n",
       "      <td>7117</td>\n",
       "      <td>3223</td>\n",
       "      <td>3894</td>\n",
       "      <td>1923</td>\n",
       "      <td>846.0</td>\n",
       "      <td>4536</td>\n",
       "      <td>590.0</td>\n",
       "      <td>8.29</td>\n",
       "      <td>11.89</td>\n",
       "    </tr>\n",
       "    <tr>\n",
       "      <td>11</td>\n",
       "      <td>5681</td>\n",
       "      <td>2633</td>\n",
       "      <td>3048</td>\n",
       "      <td>2769</td>\n",
       "      <td>857.0</td>\n",
       "      <td>5126</td>\n",
       "      <td>504.0</td>\n",
       "      <td>8.87</td>\n",
       "      <td>15.09</td>\n",
       "    </tr>\n",
       "    <tr>\n",
       "      <td>12</td>\n",
       "      <td>4320</td>\n",
       "      <td>2129</td>\n",
       "      <td>2191</td>\n",
       "      <td>3626</td>\n",
       "      <td>744.0</td>\n",
       "      <td>5630</td>\n",
       "      <td>486.0</td>\n",
       "      <td>11.25</td>\n",
       "      <td>17.22</td>\n",
       "    </tr>\n",
       "    <tr>\n",
       "      <td>13</td>\n",
       "      <td>3090</td>\n",
       "      <td>1643</td>\n",
       "      <td>1447</td>\n",
       "      <td>4370</td>\n",
       "      <td>562.0</td>\n",
       "      <td>6116</td>\n",
       "      <td>445.0</td>\n",
       "      <td>14.40</td>\n",
       "      <td>18.19</td>\n",
       "    </tr>\n",
       "    <tr>\n",
       "      <td>14</td>\n",
       "      <td>2083</td>\n",
       "      <td>1198</td>\n",
       "      <td>885</td>\n",
       "      <td>4932</td>\n",
       "      <td>415.0</td>\n",
       "      <td>6561</td>\n",
       "      <td>398.0</td>\n",
       "      <td>19.11</td>\n",
       "      <td>19.92</td>\n",
       "    </tr>\n",
       "    <tr>\n",
       "      <td>15</td>\n",
       "      <td>1270</td>\n",
       "      <td>800</td>\n",
       "      <td>470</td>\n",
       "      <td>5347</td>\n",
       "      <td>187.0</td>\n",
       "      <td>6959</td>\n",
       "      <td>368.0</td>\n",
       "      <td>28.98</td>\n",
       "      <td>14.72</td>\n",
       "    </tr>\n",
       "    <tr>\n",
       "      <td>16</td>\n",
       "      <td>715</td>\n",
       "      <td>432</td>\n",
       "      <td>283</td>\n",
       "      <td>5534</td>\n",
       "      <td>145.0</td>\n",
       "      <td>7327</td>\n",
       "      <td>216.0</td>\n",
       "      <td>30.21</td>\n",
       "      <td>20.28</td>\n",
       "    </tr>\n",
       "    <tr>\n",
       "      <td>17</td>\n",
       "      <td>354</td>\n",
       "      <td>216</td>\n",
       "      <td>138</td>\n",
       "      <td>5679</td>\n",
       "      <td>83.0</td>\n",
       "      <td>7543</td>\n",
       "      <td>133.0</td>\n",
       "      <td>37.57</td>\n",
       "      <td>23.45</td>\n",
       "    </tr>\n",
       "    <tr>\n",
       "      <td>18</td>\n",
       "      <td>138</td>\n",
       "      <td>83</td>\n",
       "      <td>55</td>\n",
       "      <td>5762</td>\n",
       "      <td>37.0</td>\n",
       "      <td>7676</td>\n",
       "      <td>56.0</td>\n",
       "      <td>40.58</td>\n",
       "      <td>26.81</td>\n",
       "    </tr>\n",
       "    <tr>\n",
       "      <td>19</td>\n",
       "      <td>45</td>\n",
       "      <td>27</td>\n",
       "      <td>18</td>\n",
       "      <td>5799</td>\n",
       "      <td>15.0</td>\n",
       "      <td>7732</td>\n",
       "      <td>20.0</td>\n",
       "      <td>44.44</td>\n",
       "      <td>33.33</td>\n",
       "    </tr>\n",
       "    <tr>\n",
       "      <td>20</td>\n",
       "      <td>10</td>\n",
       "      <td>7</td>\n",
       "      <td>3</td>\n",
       "      <td>5814</td>\n",
       "      <td>3.0</td>\n",
       "      <td>7752</td>\n",
       "      <td>7.0</td>\n",
       "      <td>70.00</td>\n",
       "      <td>30.00</td>\n",
       "    </tr>\n",
       "    <tr>\n",
       "      <td>21</td>\n",
       "      <td>0</td>\n",
       "      <td>0</td>\n",
       "      <td>0</td>\n",
       "      <td>5817</td>\n",
       "      <td>NaN</td>\n",
       "      <td>7759</td>\n",
       "      <td>NaN</td>\n",
       "      <td>NaN</td>\n",
       "      <td>NaN</td>\n",
       "    </tr>\n",
       "  </tbody>\n",
       "</table>\n",
       "</div>"
      ],
      "text/plain": [
       "      all  not_finished  finished  finished_early  finished_in_round  lost  \\\n",
       "1   13576          7759      5817               0                0.0     0   \n",
       "2   13519          7702      5817               0               49.0    57   \n",
       "3   13241          7473      5768              49              101.0   286   \n",
       "4   12685          7018      5667             150              168.0   741   \n",
       "5   11903          6404      5499             318              212.0  1355   \n",
       "6   10912          5625      5287             530              285.0  2134   \n",
       "7    9593          4591      5002             815               75.0  3168   \n",
       "8    9274          4347      4927             890              357.0  3412   \n",
       "9    8431          3861      4570            1247              676.0  3898   \n",
       "10   7117          3223      3894            1923              846.0  4536   \n",
       "11   5681          2633      3048            2769              857.0  5126   \n",
       "12   4320          2129      2191            3626              744.0  5630   \n",
       "13   3090          1643      1447            4370              562.0  6116   \n",
       "14   2083          1198       885            4932              415.0  6561   \n",
       "15   1270           800       470            5347              187.0  6959   \n",
       "16    715           432       283            5534              145.0  7327   \n",
       "17    354           216       138            5679               83.0  7543   \n",
       "18    138            83        55            5762               37.0  7676   \n",
       "19     45            27        18            5799               15.0  7732   \n",
       "20     10             7         3            5814                3.0  7752   \n",
       "21      0             0         0            5817                NaN  7759   \n",
       "\n",
       "    lost_in_round  lost_in_round_pc  finished_in_round_pc  \n",
       "1            57.0              0.42                  0.00  \n",
       "2           229.0              1.69                  0.36  \n",
       "3           455.0              3.44                  0.76  \n",
       "4           614.0              4.84                  1.32  \n",
       "5           779.0              6.54                  1.78  \n",
       "6          1034.0              9.48                  2.61  \n",
       "7           244.0              2.54                  0.78  \n",
       "8           486.0              5.24                  3.85  \n",
       "9           638.0              7.57                  8.02  \n",
       "10          590.0              8.29                 11.89  \n",
       "11          504.0              8.87                 15.09  \n",
       "12          486.0             11.25                 17.22  \n",
       "13          445.0             14.40                 18.19  \n",
       "14          398.0             19.11                 19.92  \n",
       "15          368.0             28.98                 14.72  \n",
       "16          216.0             30.21                 20.28  \n",
       "17          133.0             37.57                 23.45  \n",
       "18           56.0             40.58                 26.81  \n",
       "19           20.0             44.44                 33.33  \n",
       "20            7.0             70.00                 30.00  \n",
       "21            NaN               NaN                   NaN  "
      ]
     },
     "execution_count": 13,
     "metadata": {},
     "output_type": "execute_result"
    }
   ],
   "source": [
    "fun = pd.DataFrame(df_list).T\n",
    "fun.columns = ['all', 'not_finished', 'finished', 'finished_early']\n",
    "##fun['all_diff'] = round(((fun['all'] / fun['all'].shift(1) ) * 100), 0)\n",
    "#fun['not_finished_diff'] = round(((fun['not_finished'] / fun['not_finished'].shift(1) ) * 100), 0)\n",
    "fun['finished_in_round'] = fun['finished_early'].shift(-1) - fun['finished_early']\n",
    "\n",
    "fun['lost'] = fun['all'].max()- fun['all'] - fun['finished_early'] \n",
    "#fun['lost_in_round'] = fun['lost'] - fun['lost'].shift(1)\n",
    "fun['lost_in_round'] = fun['lost'].shift(-1) - fun['lost']\n",
    "fun['lost_in_round_pc'] = round((fun['lost_in_round'] / fun['all'] * 100),2)\n",
    "fun['finished_in_round_pc'] = round((fun['finished_in_round'] / fun['all'] * 100),2)\n",
    "print('\\033[1m                                               Воронка по событиям')\n",
    "fun"
   ]
  },
  {
   "cell_type": "code",
   "execution_count": 14,
   "metadata": {
    "colab": {
     "base_uri": "https://localhost:8080/",
     "height": 34
    },
    "id": "DWidLGuc580y",
    "outputId": "fd30cd2f-a6e4-4d3f-cbe6-305e47c665e1"
   },
   "outputs": [
    {
     "name": "stdout",
     "output_type": "stream",
     "text": [
      "В среднем на каждой постройке теряется 388.0 пользователей или 3.9% от пользователей, дошедших до этой постройки\n"
     ]
    }
   ],
   "source": [
    "print(f'В среднем на каждой постройке теряется {round((fun[\"not_finished\"].max() / users[\"building\"].max()),0)} пользователей или {round((fun[\"all\"].mean() / fun[\"not_finished\"].max() / users[\"building\"].max()*100),1)}% от пользователей, дошедших до этой постройки' )"
   ]
  },
  {
   "cell_type": "code",
   "execution_count": 53,
   "metadata": {
    "colab": {
     "base_uri": "https://localhost:8080/",
     "height": 283
    },
    "id": "BalEU2FAZTAX",
    "outputId": "80e7b32e-412f-4438-e828-378511448608",
    "scrolled": false
   },
   "outputs": [
    {
     "name": "stdout",
     "output_type": "stream",
     "text": [
      "\u001b[1m              Количетсво активных пользователей по событиям\n"
     ]
    },
    {
     "data": {
      "image/png": "[encoded data removed]",
      "text/plain": [
       "<Figure size 576x360 with 1 Axes>"
      ]
     },
     "metadata": {
      "needs_background": "light"
     },
     "output_type": "display_data"
    }
   ],
   "source": [
    "print('\\033[1m              Количетсво активных пользователей по событиям')\n",
    "fig, ax = plt.subplots(figsize=(8, 5))\n",
    "fun['finished_early'].plot(ax=ax)\n",
    "fun['all'].plot(ax=ax)\n",
    "fun['lost'].plot(ax=ax)\n",
    "ax.legend(['Finished', 'Total users', 'Lost'])\n",
    "plt.show()"
   ]
  },
  {
   "cell_type": "markdown",
   "metadata": {
    "id": "D4SI1F-eI1Sf"
   },
   "source": [
    "### Что влияет на прохождение уровня?"
   ]
  },
  {
   "cell_type": "markdown",
   "metadata": {
    "id": "uU8nXNzwM6Dp"
   },
   "source": [
    "#### Источник пользователя"
   ]
  },
  {
   "cell_type": "code",
   "execution_count": 16,
   "metadata": {
    "colab": {
     "base_uri": "https://localhost:8080/",
     "height": 173
    },
    "id": "8OVuyvKW6FUV",
    "outputId": "663f54a9-bdcb-4101-bee3-a9a58e78a29a"
   },
   "outputs": [
    {
     "data": {
      "text/html": [
       "<div>\n",
       "<style scoped>\n",
       "    .dataframe tbody tr th:only-of-type {\n",
       "        vertical-align: middle;\n",
       "    }\n",
       "\n",
       "    .dataframe tbody tr th {\n",
       "        vertical-align: top;\n",
       "    }\n",
       "\n",
       "    .dataframe thead th {\n",
       "        text-align: right;\n",
       "    }\n",
       "</style>\n",
       "<table border=\"1\" class=\"dataframe\">\n",
       "  <thead>\n",
       "    <tr style=\"text-align: right;\">\n",
       "      <th>finish_type</th>\n",
       "      <th>source</th>\n",
       "      <th>no_project</th>\n",
       "      <th>not_finished</th>\n",
       "      <th>project</th>\n",
       "      <th>tot</th>\n",
       "    </tr>\n",
       "  </thead>\n",
       "  <tbody>\n",
       "    <tr>\n",
       "      <td>0</td>\n",
       "      <td>facebook_ads</td>\n",
       "      <td>28.0</td>\n",
       "      <td>58.0</td>\n",
       "      <td>14.0</td>\n",
       "      <td>2726</td>\n",
       "    </tr>\n",
       "    <tr>\n",
       "      <td>1</td>\n",
       "      <td>instagram_new_adverts</td>\n",
       "      <td>30.0</td>\n",
       "      <td>56.0</td>\n",
       "      <td>14.0</td>\n",
       "      <td>3347</td>\n",
       "    </tr>\n",
       "    <tr>\n",
       "      <td>2</td>\n",
       "      <td>yandex_direct</td>\n",
       "      <td>30.0</td>\n",
       "      <td>58.0</td>\n",
       "      <td>13.0</td>\n",
       "      <td>4817</td>\n",
       "    </tr>\n",
       "    <tr>\n",
       "      <td>3</td>\n",
       "      <td>youtube_channel_reklama</td>\n",
       "      <td>29.0</td>\n",
       "      <td>57.0</td>\n",
       "      <td>14.0</td>\n",
       "      <td>2686</td>\n",
       "    </tr>\n",
       "  </tbody>\n",
       "</table>\n",
       "</div>"
      ],
      "text/plain": [
       "finish_type                   source  no_project  not_finished  project   tot\n",
       "0                       facebook_ads        28.0          58.0     14.0  2726\n",
       "1              instagram_new_adverts        30.0          56.0     14.0  3347\n",
       "2                      yandex_direct        30.0          58.0     13.0  4817\n",
       "3            youtube_channel_reklama        29.0          57.0     14.0  2686"
      ]
     },
     "execution_count": 16,
     "metadata": {},
     "output_type": "execute_result"
    }
   ],
   "source": [
    "users_by_source = users.pivot_table(index='source', columns='finish_type', aggfunc='count')['finish'].reset_index()\n",
    "users_by_source['tot'] = users_by_source['no_project'] + users_by_source['not_finished'] + users_by_source['project']\n",
    "users_by_source['no_project'] = round(users_by_source['no_project'] / users_by_source['tot'] *100,0)\n",
    "users_by_source['not_finished'] = round(users_by_source['not_finished'] / users_by_source['tot']  *100,0)\n",
    "users_by_source['project'] = round(users_by_source['project'] / users_by_source['tot']  *100,0)\n",
    "\n",
    "users_by_source"
   ]
  },
  {
   "cell_type": "code",
   "execution_count": 17,
   "metadata": {
    "colab": {
     "base_uri": "https://localhost:8080/",
     "height": 173
    },
    "id": "TfuHfwl1WzvY",
    "outputId": "003f2c6a-92f5-464a-d515-0269cc527fc0"
   },
   "outputs": [
    {
     "data": {
      "text/html": [
       "<div>\n",
       "<style scoped>\n",
       "    .dataframe tbody tr th:only-of-type {\n",
       "        vertical-align: middle;\n",
       "    }\n",
       "\n",
       "    .dataframe tbody tr th {\n",
       "        vertical-align: top;\n",
       "    }\n",
       "\n",
       "    .dataframe thead th {\n",
       "        text-align: right;\n",
       "    }\n",
       "</style>\n",
       "<table border=\"1\" class=\"dataframe\">\n",
       "  <thead>\n",
       "    <tr style=\"text-align: right;\">\n",
       "      <th></th>\n",
       "      <th>source</th>\n",
       "      <th>building</th>\n",
       "      <th>assembly_shop</th>\n",
       "      <th>research_center</th>\n",
       "      <th>spaceport</th>\n",
       "      <th>time</th>\n",
       "    </tr>\n",
       "  </thead>\n",
       "  <tbody>\n",
       "    <tr>\n",
       "      <td>0</td>\n",
       "      <td>facebook_ads</td>\n",
       "      <td>9.585840</td>\n",
       "      <td>4.078136</td>\n",
       "      <td>1.867470</td>\n",
       "      <td>4.530405</td>\n",
       "      <td>10.676449</td>\n",
       "    </tr>\n",
       "    <tr>\n",
       "      <td>1</td>\n",
       "      <td>instagram_new_adverts</td>\n",
       "      <td>9.505527</td>\n",
       "      <td>4.012847</td>\n",
       "      <td>1.855719</td>\n",
       "      <td>4.543146</td>\n",
       "      <td>10.745145</td>\n",
       "    </tr>\n",
       "    <tr>\n",
       "      <td>2</td>\n",
       "      <td>yandex_direct</td>\n",
       "      <td>9.348557</td>\n",
       "      <td>4.005605</td>\n",
       "      <td>1.827306</td>\n",
       "      <td>4.422340</td>\n",
       "      <td>10.565497</td>\n",
       "    </tr>\n",
       "    <tr>\n",
       "      <td>3</td>\n",
       "      <td>youtube_channel_reklama</td>\n",
       "      <td>9.299702</td>\n",
       "      <td>3.965376</td>\n",
       "      <td>1.829499</td>\n",
       "      <td>4.472489</td>\n",
       "      <td>10.554356</td>\n",
       "    </tr>\n",
       "  </tbody>\n",
       "</table>\n",
       "</div>"
      ],
      "text/plain": [
       "                    source  building  assembly_shop  research_center  \\\n",
       "0             facebook_ads  9.585840       4.078136         1.867470   \n",
       "1    instagram_new_adverts  9.505527       4.012847         1.855719   \n",
       "2            yandex_direct  9.348557       4.005605         1.827306   \n",
       "3  youtube_channel_reklama  9.299702       3.965376         1.829499   \n",
       "\n",
       "   spaceport       time  \n",
       "0   4.530405  10.676449  \n",
       "1   4.543146  10.745145  \n",
       "2   4.422340  10.565497  \n",
       "3   4.472489  10.554356  "
      ]
     },
     "execution_count": 17,
     "metadata": {},
     "output_type": "execute_result"
    }
   ],
   "source": [
    "users.groupby('source').mean().reset_index()"
   ]
  },
  {
   "cell_type": "markdown",
   "metadata": {
    "id": "Ir_g6ge7NTn0"
   },
   "source": [
    "Видим, что источник не влияет."
   ]
  },
  {
   "cell_type": "markdown",
   "metadata": {
    "id": "wuYuccgkNXOU"
   },
   "source": [
    "#### Порядок постройки строений"
   ]
  },
  {
   "cell_type": "code",
   "execution_count": 18,
   "metadata": {
    "id": "KJ7RpkOkqK3Y"
   },
   "outputs": [],
   "source": [
    "for i in range (1,21):\n",
    "  users['build_{}'.format(i)]= events.groupby('user_id')['building_type'].nth(i).reset_index()['building_type'] \n",
    "  "
   ]
  },
  {
   "cell_type": "markdown",
   "metadata": {
    "id": "d-8PUy1QNrS6"
   },
   "source": [
    "Смотрим вторую и тертью постройку (первая у всех одинаковая):"
   ]
  },
  {
   "cell_type": "code",
   "execution_count": 19,
   "metadata": {
    "colab": {
     "base_uri": "https://localhost:8080/",
     "height": 429
    },
    "id": "aiygaIdlNzkg",
    "outputId": "79a6f043-36e1-4265-c0d2-6fa2e18e8ad9"
   },
   "outputs": [
    {
     "data": {
      "text/plain": [
       "'build_2'"
      ]
     },
     "metadata": {},
     "output_type": "display_data"
    },
    {
     "data": {
      "text/html": [
       "<div>\n",
       "<style scoped>\n",
       "    .dataframe tbody tr th:only-of-type {\n",
       "        vertical-align: middle;\n",
       "    }\n",
       "\n",
       "    .dataframe tbody tr th {\n",
       "        vertical-align: top;\n",
       "    }\n",
       "\n",
       "    .dataframe thead th {\n",
       "        text-align: right;\n",
       "    }\n",
       "</style>\n",
       "<table border=\"1\" class=\"dataframe\">\n",
       "  <thead>\n",
       "    <tr style=\"text-align: right;\">\n",
       "      <th>finish_type</th>\n",
       "      <th>build_2</th>\n",
       "      <th>no_project</th>\n",
       "      <th>not_finished</th>\n",
       "      <th>project</th>\n",
       "      <th>tot</th>\n",
       "    </tr>\n",
       "  </thead>\n",
       "  <tbody>\n",
       "    <tr>\n",
       "      <td>0</td>\n",
       "      <td>assembly_shop</td>\n",
       "      <td>29.0</td>\n",
       "      <td>57.0</td>\n",
       "      <td>14.0</td>\n",
       "      <td>8216</td>\n",
       "    </tr>\n",
       "    <tr>\n",
       "      <td>1</td>\n",
       "      <td>spaceport</td>\n",
       "      <td>30.0</td>\n",
       "      <td>57.0</td>\n",
       "      <td>14.0</td>\n",
       "      <td>5025</td>\n",
       "    </tr>\n",
       "  </tbody>\n",
       "</table>\n",
       "</div>"
      ],
      "text/plain": [
       "finish_type        build_2  no_project  not_finished  project   tot\n",
       "0            assembly_shop        29.0          57.0     14.0  8216\n",
       "1                spaceport        30.0          57.0     14.0  5025"
      ]
     },
     "metadata": {},
     "output_type": "display_data"
    },
    {
     "data": {
      "text/html": [
       "<div>\n",
       "<style scoped>\n",
       "    .dataframe tbody tr th:only-of-type {\n",
       "        vertical-align: middle;\n",
       "    }\n",
       "\n",
       "    .dataframe tbody tr th {\n",
       "        vertical-align: top;\n",
       "    }\n",
       "\n",
       "    .dataframe thead th {\n",
       "        text-align: right;\n",
       "    }\n",
       "</style>\n",
       "<table border=\"1\" class=\"dataframe\">\n",
       "  <thead>\n",
       "    <tr style=\"text-align: right;\">\n",
       "      <th></th>\n",
       "      <th>build_2</th>\n",
       "      <th>building</th>\n",
       "      <th>assembly_shop</th>\n",
       "      <th>research_center</th>\n",
       "      <th>spaceport</th>\n",
       "      <th>time</th>\n",
       "    </tr>\n",
       "  </thead>\n",
       "  <tbody>\n",
       "    <tr>\n",
       "      <td>0</td>\n",
       "      <td>assembly_shop</td>\n",
       "      <td>9.509250</td>\n",
       "      <td>4.071324</td>\n",
       "      <td>1.849742</td>\n",
       "      <td>4.495638</td>\n",
       "      <td>10.646787</td>\n",
       "    </tr>\n",
       "    <tr>\n",
       "      <td>1</td>\n",
       "      <td>spaceport</td>\n",
       "      <td>9.478408</td>\n",
       "      <td>4.082587</td>\n",
       "      <td>1.837457</td>\n",
       "      <td>4.459537</td>\n",
       "      <td>10.668856</td>\n",
       "    </tr>\n",
       "  </tbody>\n",
       "</table>\n",
       "</div>"
      ],
      "text/plain": [
       "         build_2  building  assembly_shop  research_center  spaceport  \\\n",
       "0  assembly_shop  9.509250       4.071324         1.849742   4.495638   \n",
       "1      spaceport  9.478408       4.082587         1.837457   4.459537   \n",
       "\n",
       "        time  \n",
       "0  10.646787  \n",
       "1  10.668856  "
      ]
     },
     "metadata": {},
     "output_type": "display_data"
    },
    {
     "data": {
      "text/plain": [
       "'build_3'"
      ]
     },
     "metadata": {},
     "output_type": "display_data"
    },
    {
     "data": {
      "text/html": [
       "<div>\n",
       "<style scoped>\n",
       "    .dataframe tbody tr th:only-of-type {\n",
       "        vertical-align: middle;\n",
       "    }\n",
       "\n",
       "    .dataframe tbody tr th {\n",
       "        vertical-align: top;\n",
       "    }\n",
       "\n",
       "    .dataframe thead th {\n",
       "        text-align: right;\n",
       "    }\n",
       "</style>\n",
       "<table border=\"1\" class=\"dataframe\">\n",
       "  <thead>\n",
       "    <tr style=\"text-align: right;\">\n",
       "      <th>finish_type</th>\n",
       "      <th>build_3</th>\n",
       "      <th>no_project</th>\n",
       "      <th>not_finished</th>\n",
       "      <th>project</th>\n",
       "      <th>tot</th>\n",
       "    </tr>\n",
       "  </thead>\n",
       "  <tbody>\n",
       "    <tr>\n",
       "      <td>0</td>\n",
       "      <td>assembly_shop</td>\n",
       "      <td>30.0</td>\n",
       "      <td>56.0</td>\n",
       "      <td>14.0</td>\n",
       "      <td>6830</td>\n",
       "    </tr>\n",
       "    <tr>\n",
       "      <td>1</td>\n",
       "      <td>spaceport</td>\n",
       "      <td>29.0</td>\n",
       "      <td>56.0</td>\n",
       "      <td>15.0</td>\n",
       "      <td>5855</td>\n",
       "    </tr>\n",
       "  </tbody>\n",
       "</table>\n",
       "</div>"
      ],
      "text/plain": [
       "finish_type        build_3  no_project  not_finished  project   tot\n",
       "0            assembly_shop        30.0          56.0     14.0  6830\n",
       "1                spaceport        29.0          56.0     15.0  5855"
      ]
     },
     "metadata": {},
     "output_type": "display_data"
    },
    {
     "data": {
      "text/html": [
       "<div>\n",
       "<style scoped>\n",
       "    .dataframe tbody tr th:only-of-type {\n",
       "        vertical-align: middle;\n",
       "    }\n",
       "\n",
       "    .dataframe tbody tr th {\n",
       "        vertical-align: top;\n",
       "    }\n",
       "\n",
       "    .dataframe thead th {\n",
       "        text-align: right;\n",
       "    }\n",
       "</style>\n",
       "<table border=\"1\" class=\"dataframe\">\n",
       "  <thead>\n",
       "    <tr style=\"text-align: right;\">\n",
       "      <th></th>\n",
       "      <th>build_2</th>\n",
       "      <th>building</th>\n",
       "      <th>assembly_shop</th>\n",
       "      <th>research_center</th>\n",
       "      <th>spaceport</th>\n",
       "      <th>time</th>\n",
       "    </tr>\n",
       "  </thead>\n",
       "  <tbody>\n",
       "    <tr>\n",
       "      <td>0</td>\n",
       "      <td>assembly_shop</td>\n",
       "      <td>9.509250</td>\n",
       "      <td>4.071324</td>\n",
       "      <td>1.849742</td>\n",
       "      <td>4.495638</td>\n",
       "      <td>10.646787</td>\n",
       "    </tr>\n",
       "    <tr>\n",
       "      <td>1</td>\n",
       "      <td>spaceport</td>\n",
       "      <td>9.478408</td>\n",
       "      <td>4.082587</td>\n",
       "      <td>1.837457</td>\n",
       "      <td>4.459537</td>\n",
       "      <td>10.668856</td>\n",
       "    </tr>\n",
       "  </tbody>\n",
       "</table>\n",
       "</div>"
      ],
      "text/plain": [
       "         build_2  building  assembly_shop  research_center  spaceport  \\\n",
       "0  assembly_shop  9.509250       4.071324         1.849742   4.495638   \n",
       "1      spaceport  9.478408       4.082587         1.837457   4.459537   \n",
       "\n",
       "        time  \n",
       "0  10.646787  \n",
       "1  10.668856  "
      ]
     },
     "metadata": {},
     "output_type": "display_data"
    }
   ],
   "source": [
    "for build in ('build_2', 'build_3'):\n",
    "  users_by_source = users.pivot_table(index=build, columns='finish_type', aggfunc='count')['finish'].reset_index()\n",
    "  users_by_source['tot'] = users_by_source['no_project'] + users_by_source['not_finished'] + users_by_source['project']\n",
    "  users_by_source['no_project'] = round(users_by_source['no_project'] / users_by_source['tot'] *100,0)\n",
    "  users_by_source['not_finished'] = round(users_by_source['not_finished'] / users_by_source['tot']  *100,0)\n",
    "  users_by_source['project'] = round(users_by_source['project'] / users_by_source['tot']  *100,0)\n",
    "  display(build)\n",
    "  display(users_by_source)\n",
    "  display(users.groupby('build_2').mean().reset_index())"
   ]
  },
  {
   "cell_type": "markdown",
   "metadata": {
    "id": "shoZm50TRF_N"
   },
   "source": [
    "Видим, что порядок постройки не влияет \n"
   ]
  },
  {
   "cell_type": "markdown",
   "metadata": {
    "id": "YQHRdzxmRRsE"
   },
   "source": [
    "### На что влияет способ прохождения уровня?"
   ]
  },
  {
   "cell_type": "markdown",
   "metadata": {
    "id": "8Kal3At8YUhR"
   },
   "source": [
    "Посмотрим как отличаются показатели прохождения уровня разных способов его прохождения."
   ]
  },
  {
   "cell_type": "code",
   "execution_count": 20,
   "metadata": {
    "colab": {
     "base_uri": "https://localhost:8080/",
     "height": 142
    },
    "id": "Y3vyXmOjxE_U",
    "outputId": "50ff5307-2d0f-408e-df01-0dbaa9835705"
   },
   "outputs": [
    {
     "data": {
      "text/html": [
       "<div>\n",
       "<style scoped>\n",
       "    .dataframe tbody tr th:only-of-type {\n",
       "        vertical-align: middle;\n",
       "    }\n",
       "\n",
       "    .dataframe tbody tr th {\n",
       "        vertical-align: top;\n",
       "    }\n",
       "\n",
       "    .dataframe thead th {\n",
       "        text-align: right;\n",
       "    }\n",
       "</style>\n",
       "<table border=\"1\" class=\"dataframe\">\n",
       "  <thead>\n",
       "    <tr style=\"text-align: right;\">\n",
       "      <th></th>\n",
       "      <th>finish_type</th>\n",
       "      <th>building</th>\n",
       "      <th>assembly_shop</th>\n",
       "      <th>research_center</th>\n",
       "      <th>spaceport</th>\n",
       "      <th>time</th>\n",
       "    </tr>\n",
       "  </thead>\n",
       "  <tbody>\n",
       "    <tr>\n",
       "      <td>0</td>\n",
       "      <td>no_project</td>\n",
       "      <td>9.411541</td>\n",
       "      <td>4.125032</td>\n",
       "      <td>1.603330</td>\n",
       "      <td>4.399589</td>\n",
       "      <td>11.058466</td>\n",
       "    </tr>\n",
       "    <tr>\n",
       "      <td>1</td>\n",
       "      <td>not_finished</td>\n",
       "      <td>8.657172</td>\n",
       "      <td>3.747906</td>\n",
       "      <td>1.930696</td>\n",
       "      <td>4.203587</td>\n",
       "      <td>9.746230</td>\n",
       "    </tr>\n",
       "    <tr>\n",
       "      <td>2</td>\n",
       "      <td>project</td>\n",
       "      <td>12.647910</td>\n",
       "      <td>4.885316</td>\n",
       "      <td>1.981243</td>\n",
       "      <td>5.781350</td>\n",
       "      <td>13.396570</td>\n",
       "    </tr>\n",
       "  </tbody>\n",
       "</table>\n",
       "</div>"
      ],
      "text/plain": [
       "    finish_type   building  assembly_shop  research_center  spaceport  \\\n",
       "0    no_project   9.411541       4.125032         1.603330   4.399589   \n",
       "1  not_finished   8.657172       3.747906         1.930696   4.203587   \n",
       "2       project  12.647910       4.885316         1.981243   5.781350   \n",
       "\n",
       "        time  \n",
       "0  11.058466  \n",
       "1   9.746230  \n",
       "2  13.396570  "
      ]
     },
     "execution_count": 20,
     "metadata": {},
     "output_type": "execute_result"
    }
   ],
   "source": [
    "users.groupby('finish_type').mean().reset_index()"
   ]
  },
  {
   "cell_type": "code",
   "execution_count": 79,
   "metadata": {},
   "outputs": [
    {
     "data": {
      "text/html": [
       "<div>\n",
       "<style scoped>\n",
       "    .dataframe tbody tr th:only-of-type {\n",
       "        vertical-align: middle;\n",
       "    }\n",
       "\n",
       "    .dataframe tbody tr th {\n",
       "        vertical-align: top;\n",
       "    }\n",
       "\n",
       "    .dataframe thead th {\n",
       "        text-align: right;\n",
       "    }\n",
       "</style>\n",
       "<table border=\"1\" class=\"dataframe\">\n",
       "  <thead>\n",
       "    <tr style=\"text-align: right;\">\n",
       "      <th></th>\n",
       "      <th>index</th>\n",
       "      <th>finish_type</th>\n",
       "    </tr>\n",
       "  </thead>\n",
       "  <tbody>\n",
       "    <tr>\n",
       "      <td>0</td>\n",
       "      <td>not_finished</td>\n",
       "      <td>0.571523</td>\n",
       "    </tr>\n",
       "    <tr>\n",
       "      <td>1</td>\n",
       "      <td>no_project</td>\n",
       "      <td>0.291028</td>\n",
       "    </tr>\n",
       "    <tr>\n",
       "      <td>2</td>\n",
       "      <td>project</td>\n",
       "      <td>0.137448</td>\n",
       "    </tr>\n",
       "  </tbody>\n",
       "</table>\n",
       "</div>"
      ],
      "text/plain": [
       "          index  finish_type\n",
       "0  not_finished     0.571523\n",
       "1    no_project     0.291028\n",
       "2       project     0.137448"
      ]
     },
     "execution_count": 79,
     "metadata": {},
     "output_type": "execute_result"
    }
   ],
   "source": [
    "y  = users['finish_type'].value_counts(normalize=True).reset_index()\n",
    "y"
   ]
  },
  {
   "cell_type": "code",
   "execution_count": 88,
   "metadata": {},
   "outputs": [
    {
     "data": {
      "image/png": "[encoded data removed]",
      "text/plain": [
       "<Figure size 640x480 with 1 Axes>"
      ]
     },
     "metadata": {},
     "output_type": "display_data"
    }
   ],
   "source": [
    "plt.rcdefaults()\n",
    "fig, ax = plt.subplots()\n",
    "plt.barh([1,2,3], width=y['finish_type'])\n",
    "ax.set_yticks([1,2,3])\n",
    "ax.set_yticklabels(y['index'])\n",
    "\n",
    "plt.show()"
   ]
  },
  {
   "cell_type": "markdown",
   "metadata": {},
   "source": [
    "57% пользователей не завершили первый уровень. Из тех, кто завершил, 70% сделали это победой над врагом"
   ]
  },
  {
   "cell_type": "code",
   "execution_count": null,
   "metadata": {},
   "outputs": [],
   "source": [
    "ax.barh(y_pos, performance, xerr=error, align='center')"
   ]
  },
  {
   "cell_type": "markdown",
   "metadata": {
    "id": "KEelOYucYhAj"
   },
   "source": [
    "Время прохождения:"
   ]
  },
  {
   "cell_type": "code",
   "execution_count": 21,
   "metadata": {
    "colab": {
     "base_uri": "https://localhost:8080/",
     "height": 282
    },
    "id": "6m3Oy6phv6Hm",
    "outputId": "3a6fa618-d8c9-43d4-c175-6490e2adf845"
   },
   "outputs": [
    {
     "data": {
      "text/plain": [
       "<matplotlib.axes._subplots.AxesSubplot at 0x7fa6172f3090>"
      ]
     },
     "execution_count": 21,
     "metadata": {},
     "output_type": "execute_result"
    },
    {
     "data": {
      "image/png": "[encoded data removed]",
      "text/plain": [
       "<Figure size 432x288 with 1 Axes>"
      ]
     },
     "metadata": {
      "needs_background": "light"
     },
     "output_type": "display_data"
    }
   ],
   "source": [
    "users[users['finish_type']=='project']['time'].hist()"
   ]
  },
  {
   "cell_type": "code",
   "execution_count": 22,
   "metadata": {
    "colab": {
     "base_uri": "https://localhost:8080/",
     "height": 282
    },
    "id": "MeAfV5U908D1",
    "outputId": "5e16f5c4-876e-4235-d1e6-432a9de7aed3"
   },
   "outputs": [
    {
     "data": {
      "text/plain": [
       "<matplotlib.axes._subplots.AxesSubplot at 0x7fa616afa0d0>"
      ]
     },
     "execution_count": 22,
     "metadata": {},
     "output_type": "execute_result"
    },
    {
     "data": {
      "image/png": "[encoded data removed]",
      "text/plain": [
       "<Figure size 432x288 with 1 Axes>"
      ]
     },
     "metadata": {
      "needs_background": "light"
     },
     "output_type": "display_data"
    }
   ],
   "source": [
    "users[users['finish_type']=='no_project']['time'].hist()"
   ]
  },
  {
   "cell_type": "code",
   "execution_count": 23,
   "metadata": {
    "colab": {
     "base_uri": "https://localhost:8080/",
     "height": 34
    },
    "id": "zlXcNO82s9n7",
    "outputId": "4bb4ecb6-a7b4-437e-cf0e-700a2f45f888"
   },
   "outputs": [
    {
     "data": {
      "text/plain": [
       "(13.396570203644158, 11.0584662110858, 2.3381039925583575)"
      ]
     },
     "execution_count": 23,
     "metadata": {},
     "output_type": "execute_result"
    }
   ],
   "source": [
    "users[users['finish_type']=='project']['time'].mean(), users[users['finish_type']=='no_project']['time'].mean(), users[users['finish_type']=='project']['time'].mean() - users[users['finish_type']=='no_project']['time'].mean()"
   ]
  },
  {
   "cell_type": "code",
   "execution_count": 24,
   "metadata": {
    "colab": {
     "base_uri": "https://localhost:8080/",
     "height": 51
    },
    "id": "foyGU_-j0_BD",
    "outputId": "6ef25550-d89f-4a6b-8860-8dfc0d083cc3"
   },
   "outputs": [
    {
     "name": "stdout",
     "output_type": "stream",
     "text": [
      "p-значение: 6.570466755643636e-105\n",
      "Отвергаем нулевую гипотезу\n"
     ]
    }
   ],
   "source": [
    "\n",
    "alpha = .05 \n",
    "results = st.ttest_ind(\n",
    "    users[users['finish_type']=='project']['time'], \n",
    "    users[users['finish_type']=='no_project']['time'],\n",
    "    equal_var = False)\n",
    "print('p-значение:', results.pvalue)\n",
    "if (results.pvalue < alpha):\n",
    "    print(\"Отвергаем нулевую гипотезу\")\n",
    "else:\n",
    "    print(\"Не получилось отвергнуть нулевую гипотезу\")\n"
   ]
  },
  {
   "cell_type": "markdown",
   "metadata": {
    "id": "7AXlY7kFYp9Q"
   },
   "source": [
    "Среднее время прохождения уровня через реализацию проекта составляет 13,5 дней, что на 2 дня выше, чем время прохлждения, если победать врага. (Эта разница стат. значима)"
   ]
  },
  {
   "cell_type": "markdown",
   "metadata": {
    "id": "04lVZXXiYp0w"
   },
   "source": [
    "Количество строений для прохождения уровня:"
   ]
  },
  {
   "cell_type": "code",
   "execution_count": 25,
   "metadata": {
    "colab": {
     "base_uri": "https://localhost:8080/",
     "height": 282
    },
    "id": "W-E8j5wrcwPw",
    "outputId": "f03c1af8-b8f0-4f5d-89af-b9ce21cf2530"
   },
   "outputs": [
    {
     "data": {
      "text/plain": [
       "<matplotlib.axes._subplots.AxesSubplot at 0x7fa614b6c410>"
      ]
     },
     "execution_count": 25,
     "metadata": {},
     "output_type": "execute_result"
    },
    {
     "data": {
      "image/png": "[encoded data removed]",
      "text/plain": [
       "<Figure size 432x288 with 1 Axes>"
      ]
     },
     "metadata": {
      "needs_background": "light"
     },
     "output_type": "display_data"
    }
   ],
   "source": [
    "users[users['finish_type']=='project']['building'].hist()"
   ]
  },
  {
   "cell_type": "code",
   "execution_count": 26,
   "metadata": {
    "colab": {
     "base_uri": "https://localhost:8080/",
     "height": 282
    },
    "id": "wCy6LivhcwG5",
    "outputId": "9f2db765-b205-40b1-8a85-87881c1d52bf"
   },
   "outputs": [
    {
     "data": {
      "text/plain": [
       "<matplotlib.axes._subplots.AxesSubplot at 0x7fa616a08690>"
      ]
     },
     "execution_count": 26,
     "metadata": {},
     "output_type": "execute_result"
    },
    {
     "data": {
      "image/png": "[encoded data removed]",
      "text/plain": [
       "<Figure size 432x288 with 1 Axes>"
      ]
     },
     "metadata": {
      "needs_background": "light"
     },
     "output_type": "display_data"
    }
   ],
   "source": [
    "users[users['finish_type']=='no_project']['building'].hist()"
   ]
  },
  {
   "cell_type": "code",
   "execution_count": 27,
   "metadata": {
    "colab": {
     "base_uri": "https://localhost:8080/",
     "height": 34
    },
    "id": "kclzc_p2eFbF",
    "outputId": "9f6007a0-b6ee-4d24-a20b-97fc114fca78"
   },
   "outputs": [
    {
     "data": {
      "text/plain": [
       "(12.64790996784566, 9.411541381928625, 3.2363685859170346)"
      ]
     },
     "execution_count": 27,
     "metadata": {},
     "output_type": "execute_result"
    }
   ],
   "source": [
    "users[users['finish_type']=='project']['building'].mean(), users[users['finish_type']=='no_project']['building'].mean(), users[users['finish_type']=='project']['building'].mean() - users[users['finish_type']=='no_project']['building'].mean()"
   ]
  },
  {
   "cell_type": "code",
   "execution_count": 28,
   "metadata": {
    "colab": {
     "base_uri": "https://localhost:8080/",
     "height": 51
    },
    "id": "gKWLyjqM0L6Z",
    "outputId": "45176737-c9a7-4729-ec60-b08de2d0e533"
   },
   "outputs": [
    {
     "name": "stdout",
     "output_type": "stream",
     "text": [
      "p-значение: 2.605963137511153e-305\n",
      "Отвергаем нулевую гипотезу\n"
     ]
    }
   ],
   "source": [
    "results = st.mannwhitneyu(\n",
    "    users[users['finish_type']=='project']['building'], \n",
    "    users[users['finish_type']=='no_project']['building'])\n",
    "print('p-значение:', results[1])\n",
    "if (results.pvalue < alpha):\n",
    "    print(\"Отвергаем нулевую гипотезу\")\n",
    "else:\n",
    "    print(\"Не получилось отвергнуть нулевую гипотезу\")\n"
   ]
  },
  {
   "cell_type": "markdown",
   "metadata": {
    "id": "34LmIqnaegDL"
   },
   "source": [
    "Среднее количетсво построенных строений для прохождения уровня через реализацию проекта - 13, что на 3 выше, чем количество строений для прохлждения, если побеждать врага. (Эта разница стат. значима)"
   ]
  },
  {
   "cell_type": "markdown",
   "metadata": {
    "id": "U6X3vmStRe7e"
   },
   "source": [
    "### Вывод"
   ]
  },
  {
   "cell_type": "markdown",
   "metadata": {
    "id": "SUIvvcN0Rexq"
   },
   "source": [
    "В данных активностей 13,5 тыс. пользователей на первом уровне игры за май 2020 г. мы увидели, что идет довольно большой отток пользователей - первый уровень заканчивают только 57% из них. При этом их поведение не зависит от места, из которого они пришли. Также нельзя определеить их последующее поведение по первым их шагам в игре.<br>\n",
    "Большинство (70%) прошедших первый уровень пользователей проходят его победой над врагом. Это занимает меньше времени и требует именьше шагов, чем прохлждение уровня через реализацию проетка.<br>\n",
    "К сожалению, из всего перечисленного нельзя сформулировать паттерны, по которым можно было бы определить по каким качественным правилам целесообразно включать / выключать рекламу. (За исклчюением одного: видно, что на 7-8 постройках у пользователей повышается интерес, уменьшается отток, поэтому целесообразно рекламу показывать на них)<br>\n",
    "Потмоу модель будем строить более ориентрированную на количетсвенные показатели."
   ]
  },
  {
   "cell_type": "markdown",
   "metadata": {
    "id": "yvIL6GuovAAg"
   },
   "source": [
    "## Модель"
   ]
  },
  {
   "cell_type": "markdown",
   "metadata": {
    "id": "bPNBO_cWXqDG"
   },
   "source": [
    "Основной принцип такой: нужно получить максимальное количество просмотров рекламы пользователями за период их жизни (в т.ч. первый уровень).<br>\n",
    "Общее количество просмотров будет определятсья следующим образом:<br><br>\n",
    "`Кол-во просмотров` = SUMi(`Кол-во пользвателей на i постройке на первом уровне, на которой показывалась реклама`) + `Кол-во пользвателей, закончивших первый урвоень` * `Плановое количество просмотров рекламы, после первого уровня`<br><br>\n",
    "Исходя из того, что при включении рекламы отток пользователей будет увеличиваться, решение не очевидно. При увеличении показов рекламы на первом уровне будет расти первое слагаемое, но уменьшаться второе (из-за снижения кол-ва прошедших урвоень), и наоборот."
   ]
  },
  {
   "cell_type": "markdown",
   "metadata": {
    "id": "U1mG6MivadVG"
   },
   "source": [
    "Исходными данными для модели возьмем коэффициенты оттока и прохождения уровня на каждой постройке, а также первоначальное количество пользователей.<br>\n",
    "Целевой переменной будет являться общее количество просмотров, достигать максимальне значение которой будем изменяя переменные-флаги наличия рекламы на каждом этапе постройки.<br>\n",
    "Также нужно задаться коэффициентом увеличения оттока пользователя при включении рекламы и терминальынм количеством просмотров."
   ]
  },
  {
   "cell_type": "markdown",
   "metadata": {
    "id": "up3Wl9tycjdU"
   },
   "source": [
    "Закодим пока имеющиеся данные в модель:"
   ]
  },
  {
   "cell_type": "code",
   "execution_count": 29,
   "metadata": {
    "colab": {
     "base_uri": "https://localhost:8080/",
     "height": 669
    },
    "id": "HkIKLAljFfM6",
    "outputId": "f765371d-78ba-4f77-d1cf-aacb1ff23e15"
   },
   "outputs": [
    {
     "data": {
      "text/html": [
       "<div>\n",
       "<style scoped>\n",
       "    .dataframe tbody tr th:only-of-type {\n",
       "        vertical-align: middle;\n",
       "    }\n",
       "\n",
       "    .dataframe tbody tr th {\n",
       "        vertical-align: top;\n",
       "    }\n",
       "\n",
       "    .dataframe thead th {\n",
       "        text-align: right;\n",
       "    }\n",
       "</style>\n",
       "<table border=\"1\" class=\"dataframe\">\n",
       "  <thead>\n",
       "    <tr style=\"text-align: right;\">\n",
       "      <th></th>\n",
       "      <th>lost_in_round_pc</th>\n",
       "      <th>finished_in_round_pc</th>\n",
       "      <th>all</th>\n",
       "      <th>lost_in_round_pc_1</th>\n",
       "      <th>lost</th>\n",
       "      <th>finished</th>\n",
       "      <th>ad_tag</th>\n",
       "    </tr>\n",
       "  </thead>\n",
       "  <tbody>\n",
       "    <tr>\n",
       "      <td>1</td>\n",
       "      <td>0.42</td>\n",
       "      <td>0.00</td>\n",
       "      <td>13576.0</td>\n",
       "      <td>0.42</td>\n",
       "      <td>57.0</td>\n",
       "      <td>0.0</td>\n",
       "      <td>0</td>\n",
       "    </tr>\n",
       "    <tr>\n",
       "      <td>2</td>\n",
       "      <td>1.69</td>\n",
       "      <td>0.36</td>\n",
       "      <td>13519.0</td>\n",
       "      <td>1.69</td>\n",
       "      <td>228.0</td>\n",
       "      <td>49.0</td>\n",
       "      <td>0</td>\n",
       "    </tr>\n",
       "    <tr>\n",
       "      <td>3</td>\n",
       "      <td>3.44</td>\n",
       "      <td>0.76</td>\n",
       "      <td>13242.0</td>\n",
       "      <td>3.44</td>\n",
       "      <td>456.0</td>\n",
       "      <td>101.0</td>\n",
       "      <td>0</td>\n",
       "    </tr>\n",
       "    <tr>\n",
       "      <td>4</td>\n",
       "      <td>4.84</td>\n",
       "      <td>1.32</td>\n",
       "      <td>12685.0</td>\n",
       "      <td>4.84</td>\n",
       "      <td>614.0</td>\n",
       "      <td>167.0</td>\n",
       "      <td>0</td>\n",
       "    </tr>\n",
       "    <tr>\n",
       "      <td>5</td>\n",
       "      <td>6.54</td>\n",
       "      <td>1.78</td>\n",
       "      <td>11904.0</td>\n",
       "      <td>6.54</td>\n",
       "      <td>779.0</td>\n",
       "      <td>212.0</td>\n",
       "      <td>0</td>\n",
       "    </tr>\n",
       "    <tr>\n",
       "      <td>6</td>\n",
       "      <td>9.48</td>\n",
       "      <td>2.61</td>\n",
       "      <td>10913.0</td>\n",
       "      <td>9.48</td>\n",
       "      <td>1035.0</td>\n",
       "      <td>285.0</td>\n",
       "      <td>0</td>\n",
       "    </tr>\n",
       "    <tr>\n",
       "      <td>7</td>\n",
       "      <td>2.54</td>\n",
       "      <td>0.78</td>\n",
       "      <td>9593.0</td>\n",
       "      <td>2.54</td>\n",
       "      <td>244.0</td>\n",
       "      <td>75.0</td>\n",
       "      <td>0</td>\n",
       "    </tr>\n",
       "    <tr>\n",
       "      <td>8</td>\n",
       "      <td>5.24</td>\n",
       "      <td>3.85</td>\n",
       "      <td>9274.0</td>\n",
       "      <td>5.24</td>\n",
       "      <td>486.0</td>\n",
       "      <td>357.0</td>\n",
       "      <td>0</td>\n",
       "    </tr>\n",
       "    <tr>\n",
       "      <td>9</td>\n",
       "      <td>7.57</td>\n",
       "      <td>8.02</td>\n",
       "      <td>8431.0</td>\n",
       "      <td>7.57</td>\n",
       "      <td>638.0</td>\n",
       "      <td>676.0</td>\n",
       "      <td>0</td>\n",
       "    </tr>\n",
       "    <tr>\n",
       "      <td>10</td>\n",
       "      <td>8.29</td>\n",
       "      <td>11.89</td>\n",
       "      <td>7117.0</td>\n",
       "      <td>8.29</td>\n",
       "      <td>590.0</td>\n",
       "      <td>846.0</td>\n",
       "      <td>0</td>\n",
       "    </tr>\n",
       "    <tr>\n",
       "      <td>11</td>\n",
       "      <td>8.87</td>\n",
       "      <td>15.09</td>\n",
       "      <td>5681.0</td>\n",
       "      <td>8.87</td>\n",
       "      <td>504.0</td>\n",
       "      <td>857.0</td>\n",
       "      <td>0</td>\n",
       "    </tr>\n",
       "    <tr>\n",
       "      <td>12</td>\n",
       "      <td>11.25</td>\n",
       "      <td>17.22</td>\n",
       "      <td>4320.0</td>\n",
       "      <td>11.25</td>\n",
       "      <td>486.0</td>\n",
       "      <td>744.0</td>\n",
       "      <td>0</td>\n",
       "    </tr>\n",
       "    <tr>\n",
       "      <td>13</td>\n",
       "      <td>14.40</td>\n",
       "      <td>18.19</td>\n",
       "      <td>3090.0</td>\n",
       "      <td>14.40</td>\n",
       "      <td>445.0</td>\n",
       "      <td>562.0</td>\n",
       "      <td>0</td>\n",
       "    </tr>\n",
       "    <tr>\n",
       "      <td>14</td>\n",
       "      <td>19.11</td>\n",
       "      <td>19.92</td>\n",
       "      <td>2083.0</td>\n",
       "      <td>19.11</td>\n",
       "      <td>398.0</td>\n",
       "      <td>415.0</td>\n",
       "      <td>0</td>\n",
       "    </tr>\n",
       "    <tr>\n",
       "      <td>15</td>\n",
       "      <td>28.98</td>\n",
       "      <td>14.72</td>\n",
       "      <td>1270.0</td>\n",
       "      <td>28.98</td>\n",
       "      <td>368.0</td>\n",
       "      <td>187.0</td>\n",
       "      <td>0</td>\n",
       "    </tr>\n",
       "    <tr>\n",
       "      <td>16</td>\n",
       "      <td>30.21</td>\n",
       "      <td>20.28</td>\n",
       "      <td>715.0</td>\n",
       "      <td>30.21</td>\n",
       "      <td>216.0</td>\n",
       "      <td>145.0</td>\n",
       "      <td>0</td>\n",
       "    </tr>\n",
       "    <tr>\n",
       "      <td>17</td>\n",
       "      <td>37.57</td>\n",
       "      <td>23.45</td>\n",
       "      <td>354.0</td>\n",
       "      <td>37.57</td>\n",
       "      <td>133.0</td>\n",
       "      <td>83.0</td>\n",
       "      <td>0</td>\n",
       "    </tr>\n",
       "    <tr>\n",
       "      <td>18</td>\n",
       "      <td>40.58</td>\n",
       "      <td>26.81</td>\n",
       "      <td>138.0</td>\n",
       "      <td>40.58</td>\n",
       "      <td>56.0</td>\n",
       "      <td>37.0</td>\n",
       "      <td>0</td>\n",
       "    </tr>\n",
       "    <tr>\n",
       "      <td>19</td>\n",
       "      <td>44.44</td>\n",
       "      <td>33.33</td>\n",
       "      <td>45.0</td>\n",
       "      <td>44.44</td>\n",
       "      <td>20.0</td>\n",
       "      <td>15.0</td>\n",
       "      <td>0</td>\n",
       "    </tr>\n",
       "    <tr>\n",
       "      <td>20</td>\n",
       "      <td>70.00</td>\n",
       "      <td>30.00</td>\n",
       "      <td>10.0</td>\n",
       "      <td>70.00</td>\n",
       "      <td>7.0</td>\n",
       "      <td>3.0</td>\n",
       "      <td>0</td>\n",
       "    </tr>\n",
       "  </tbody>\n",
       "</table>\n",
       "</div>"
      ],
      "text/plain": [
       "    lost_in_round_pc  finished_in_round_pc      all  lost_in_round_pc_1  \\\n",
       "1               0.42                  0.00  13576.0                0.42   \n",
       "2               1.69                  0.36  13519.0                1.69   \n",
       "3               3.44                  0.76  13242.0                3.44   \n",
       "4               4.84                  1.32  12685.0                4.84   \n",
       "5               6.54                  1.78  11904.0                6.54   \n",
       "6               9.48                  2.61  10913.0                9.48   \n",
       "7               2.54                  0.78   9593.0                2.54   \n",
       "8               5.24                  3.85   9274.0                5.24   \n",
       "9               7.57                  8.02   8431.0                7.57   \n",
       "10              8.29                 11.89   7117.0                8.29   \n",
       "11              8.87                 15.09   5681.0                8.87   \n",
       "12             11.25                 17.22   4320.0               11.25   \n",
       "13             14.40                 18.19   3090.0               14.40   \n",
       "14             19.11                 19.92   2083.0               19.11   \n",
       "15             28.98                 14.72   1270.0               28.98   \n",
       "16             30.21                 20.28    715.0               30.21   \n",
       "17             37.57                 23.45    354.0               37.57   \n",
       "18             40.58                 26.81    138.0               40.58   \n",
       "19             44.44                 33.33     45.0               44.44   \n",
       "20             70.00                 30.00     10.0               70.00   \n",
       "\n",
       "      lost  finished  ad_tag  \n",
       "1     57.0       0.0       0  \n",
       "2    228.0      49.0       0  \n",
       "3    456.0     101.0       0  \n",
       "4    614.0     167.0       0  \n",
       "5    779.0     212.0       0  \n",
       "6   1035.0     285.0       0  \n",
       "7    244.0      75.0       0  \n",
       "8    486.0     357.0       0  \n",
       "9    638.0     676.0       0  \n",
       "10   590.0     846.0       0  \n",
       "11   504.0     857.0       0  \n",
       "12   486.0     744.0       0  \n",
       "13   445.0     562.0       0  \n",
       "14   398.0     415.0       0  \n",
       "15   368.0     187.0       0  \n",
       "16   216.0     145.0       0  \n",
       "17   133.0      83.0       0  \n",
       "18    56.0      37.0       0  \n",
       "19    20.0      15.0       0  \n",
       "20     7.0       3.0       0  "
      ]
     },
     "execution_count": 29,
     "metadata": {},
     "output_type": "execute_result"
    }
   ],
   "source": [
    "model = fun[['lost_in_round_pc', 'finished_in_round_pc']]\n",
    "model= model.loc[:20]\n",
    "model.loc[1, 'all']=  fun['all'].max()\n",
    "model['lost_in_round_pc_1'] = model['lost_in_round_pc']\n",
    "\n",
    "for i in range (len(model)):\n",
    "  model['lost'] = round( (model['all'] * model['lost_in_round_pc_1'] / 100), 0)\n",
    "  model['finished'] = round( (model['all'] * model['finished_in_round_pc'] / 100), 0)\n",
    "  model.loc[2:, 'all'] = model['all'].shift(1) - model['lost'].shift(1) - model['finished'].shift(1)\n",
    "model['ad_tag'] = 0\n",
    "model"
   ]
  },
  {
   "cell_type": "markdown",
   "metadata": {
    "id": "HznevAMocthD"
   },
   "source": [
    "Теперь добавим новые переменные и расчет общего колиечества просмотров:"
   ]
  },
  {
   "cell_type": "code",
   "execution_count": 30,
   "metadata": {
    "id": "UMaWvuaLk0UB"
   },
   "outputs": [],
   "source": [
    "\n",
    "def do_model(ad_churn_multiple, termination_ltv, ad_array):\n",
    "    \n",
    "  model['ad_tag'] = ad_array\n",
    "  model['lost_in_round_pc_1'] = model['lost_in_round_pc'] * ad_churn_multiple\n",
    "  for i in range (len(model)):\n",
    "    model['lost'] = round( (model['all'] * model['lost_in_round_pc_1'] / 100), 0)\n",
    "    model['finished'] = round( (model['all'] * model['finished_in_round_pc'] / 100), 0)\n",
    "    model.loc[2:, 'all'] = model['all'].shift(1) - model['lost'].shift(1) - model['finished'].shift(1)\n",
    "  tot_LTV = (model['ad_tag'] * model['all']).sum() + model['finished'].sum() * termination_ltv \n",
    "  display(model)\n",
    "  print(tot_LTV)"
   ]
  },
  {
   "cell_type": "code",
   "execution_count": 31,
   "metadata": {
    "colab": {
     "base_uri": "https://localhost:8080/",
     "height": 686
    },
    "id": "2AoxM6jd1m12",
    "outputId": "cb500876-c3f6-4c7f-e6b1-15bdff2f97d7"
   },
   "outputs": [
    {
     "data": {
      "text/html": [
       "<div>\n",
       "<style scoped>\n",
       "    .dataframe tbody tr th:only-of-type {\n",
       "        vertical-align: middle;\n",
       "    }\n",
       "\n",
       "    .dataframe tbody tr th {\n",
       "        vertical-align: top;\n",
       "    }\n",
       "\n",
       "    .dataframe thead th {\n",
       "        text-align: right;\n",
       "    }\n",
       "</style>\n",
       "<table border=\"1\" class=\"dataframe\">\n",
       "  <thead>\n",
       "    <tr style=\"text-align: right;\">\n",
       "      <th></th>\n",
       "      <th>lost_in_round_pc</th>\n",
       "      <th>finished_in_round_pc</th>\n",
       "      <th>all</th>\n",
       "      <th>lost_in_round_pc_1</th>\n",
       "      <th>lost</th>\n",
       "      <th>finished</th>\n",
       "      <th>ad_tag</th>\n",
       "    </tr>\n",
       "  </thead>\n",
       "  <tbody>\n",
       "    <tr>\n",
       "      <td>1</td>\n",
       "      <td>0.42</td>\n",
       "      <td>0.00</td>\n",
       "      <td>13576.0</td>\n",
       "      <td>0.630</td>\n",
       "      <td>86.0</td>\n",
       "      <td>0.0</td>\n",
       "      <td>1</td>\n",
       "    </tr>\n",
       "    <tr>\n",
       "      <td>2</td>\n",
       "      <td>1.69</td>\n",
       "      <td>0.36</td>\n",
       "      <td>13490.0</td>\n",
       "      <td>2.535</td>\n",
       "      <td>342.0</td>\n",
       "      <td>49.0</td>\n",
       "      <td>1</td>\n",
       "    </tr>\n",
       "    <tr>\n",
       "      <td>3</td>\n",
       "      <td>3.44</td>\n",
       "      <td>0.76</td>\n",
       "      <td>13099.0</td>\n",
       "      <td>5.160</td>\n",
       "      <td>676.0</td>\n",
       "      <td>100.0</td>\n",
       "      <td>1</td>\n",
       "    </tr>\n",
       "    <tr>\n",
       "      <td>4</td>\n",
       "      <td>4.84</td>\n",
       "      <td>1.32</td>\n",
       "      <td>12323.0</td>\n",
       "      <td>7.260</td>\n",
       "      <td>895.0</td>\n",
       "      <td>163.0</td>\n",
       "      <td>1</td>\n",
       "    </tr>\n",
       "    <tr>\n",
       "      <td>5</td>\n",
       "      <td>6.54</td>\n",
       "      <td>1.78</td>\n",
       "      <td>11265.0</td>\n",
       "      <td>9.810</td>\n",
       "      <td>1105.0</td>\n",
       "      <td>201.0</td>\n",
       "      <td>1</td>\n",
       "    </tr>\n",
       "    <tr>\n",
       "      <td>6</td>\n",
       "      <td>9.48</td>\n",
       "      <td>2.61</td>\n",
       "      <td>9959.0</td>\n",
       "      <td>14.220</td>\n",
       "      <td>1416.0</td>\n",
       "      <td>260.0</td>\n",
       "      <td>1</td>\n",
       "    </tr>\n",
       "    <tr>\n",
       "      <td>7</td>\n",
       "      <td>2.54</td>\n",
       "      <td>0.78</td>\n",
       "      <td>8283.0</td>\n",
       "      <td>3.810</td>\n",
       "      <td>316.0</td>\n",
       "      <td>65.0</td>\n",
       "      <td>1</td>\n",
       "    </tr>\n",
       "    <tr>\n",
       "      <td>8</td>\n",
       "      <td>5.24</td>\n",
       "      <td>3.85</td>\n",
       "      <td>7902.0</td>\n",
       "      <td>7.860</td>\n",
       "      <td>621.0</td>\n",
       "      <td>304.0</td>\n",
       "      <td>1</td>\n",
       "    </tr>\n",
       "    <tr>\n",
       "      <td>9</td>\n",
       "      <td>7.57</td>\n",
       "      <td>8.02</td>\n",
       "      <td>6977.0</td>\n",
       "      <td>11.355</td>\n",
       "      <td>792.0</td>\n",
       "      <td>560.0</td>\n",
       "      <td>1</td>\n",
       "    </tr>\n",
       "    <tr>\n",
       "      <td>10</td>\n",
       "      <td>8.29</td>\n",
       "      <td>11.89</td>\n",
       "      <td>5625.0</td>\n",
       "      <td>12.435</td>\n",
       "      <td>699.0</td>\n",
       "      <td>669.0</td>\n",
       "      <td>1</td>\n",
       "    </tr>\n",
       "    <tr>\n",
       "      <td>11</td>\n",
       "      <td>8.87</td>\n",
       "      <td>15.09</td>\n",
       "      <td>4257.0</td>\n",
       "      <td>13.305</td>\n",
       "      <td>566.0</td>\n",
       "      <td>642.0</td>\n",
       "      <td>1</td>\n",
       "    </tr>\n",
       "    <tr>\n",
       "      <td>12</td>\n",
       "      <td>11.25</td>\n",
       "      <td>17.22</td>\n",
       "      <td>3049.0</td>\n",
       "      <td>16.875</td>\n",
       "      <td>515.0</td>\n",
       "      <td>525.0</td>\n",
       "      <td>1</td>\n",
       "    </tr>\n",
       "    <tr>\n",
       "      <td>13</td>\n",
       "      <td>14.40</td>\n",
       "      <td>18.19</td>\n",
       "      <td>2009.0</td>\n",
       "      <td>21.600</td>\n",
       "      <td>434.0</td>\n",
       "      <td>365.0</td>\n",
       "      <td>1</td>\n",
       "    </tr>\n",
       "    <tr>\n",
       "      <td>14</td>\n",
       "      <td>19.11</td>\n",
       "      <td>19.92</td>\n",
       "      <td>1210.0</td>\n",
       "      <td>28.665</td>\n",
       "      <td>347.0</td>\n",
       "      <td>241.0</td>\n",
       "      <td>1</td>\n",
       "    </tr>\n",
       "    <tr>\n",
       "      <td>15</td>\n",
       "      <td>28.98</td>\n",
       "      <td>14.72</td>\n",
       "      <td>622.0</td>\n",
       "      <td>43.470</td>\n",
       "      <td>270.0</td>\n",
       "      <td>92.0</td>\n",
       "      <td>1</td>\n",
       "    </tr>\n",
       "    <tr>\n",
       "      <td>16</td>\n",
       "      <td>30.21</td>\n",
       "      <td>20.28</td>\n",
       "      <td>260.0</td>\n",
       "      <td>45.315</td>\n",
       "      <td>118.0</td>\n",
       "      <td>53.0</td>\n",
       "      <td>1</td>\n",
       "    </tr>\n",
       "    <tr>\n",
       "      <td>17</td>\n",
       "      <td>37.57</td>\n",
       "      <td>23.45</td>\n",
       "      <td>89.0</td>\n",
       "      <td>56.355</td>\n",
       "      <td>50.0</td>\n",
       "      <td>21.0</td>\n",
       "      <td>1</td>\n",
       "    </tr>\n",
       "    <tr>\n",
       "      <td>18</td>\n",
       "      <td>40.58</td>\n",
       "      <td>26.81</td>\n",
       "      <td>18.0</td>\n",
       "      <td>60.870</td>\n",
       "      <td>11.0</td>\n",
       "      <td>5.0</td>\n",
       "      <td>1</td>\n",
       "    </tr>\n",
       "    <tr>\n",
       "      <td>19</td>\n",
       "      <td>44.44</td>\n",
       "      <td>33.33</td>\n",
       "      <td>2.0</td>\n",
       "      <td>66.660</td>\n",
       "      <td>1.0</td>\n",
       "      <td>1.0</td>\n",
       "      <td>1</td>\n",
       "    </tr>\n",
       "    <tr>\n",
       "      <td>20</td>\n",
       "      <td>70.00</td>\n",
       "      <td>30.00</td>\n",
       "      <td>0.0</td>\n",
       "      <td>105.000</td>\n",
       "      <td>0.0</td>\n",
       "      <td>0.0</td>\n",
       "      <td>1</td>\n",
       "    </tr>\n",
       "  </tbody>\n",
       "</table>\n",
       "</div>"
      ],
      "text/plain": [
       "    lost_in_round_pc  finished_in_round_pc      all  lost_in_round_pc_1  \\\n",
       "1               0.42                  0.00  13576.0               0.630   \n",
       "2               1.69                  0.36  13490.0               2.535   \n",
       "3               3.44                  0.76  13099.0               5.160   \n",
       "4               4.84                  1.32  12323.0               7.260   \n",
       "5               6.54                  1.78  11265.0               9.810   \n",
       "6               9.48                  2.61   9959.0              14.220   \n",
       "7               2.54                  0.78   8283.0               3.810   \n",
       "8               5.24                  3.85   7902.0               7.860   \n",
       "9               7.57                  8.02   6977.0              11.355   \n",
       "10              8.29                 11.89   5625.0              12.435   \n",
       "11              8.87                 15.09   4257.0              13.305   \n",
       "12             11.25                 17.22   3049.0              16.875   \n",
       "13             14.40                 18.19   2009.0              21.600   \n",
       "14             19.11                 19.92   1210.0              28.665   \n",
       "15             28.98                 14.72    622.0              43.470   \n",
       "16             30.21                 20.28    260.0              45.315   \n",
       "17             37.57                 23.45     89.0              56.355   \n",
       "18             40.58                 26.81     18.0              60.870   \n",
       "19             44.44                 33.33      2.0              66.660   \n",
       "20             70.00                 30.00      0.0             105.000   \n",
       "\n",
       "      lost  finished  ad_tag  \n",
       "1     86.0       0.0       1  \n",
       "2    342.0      49.0       1  \n",
       "3    676.0     100.0       1  \n",
       "4    895.0     163.0       1  \n",
       "5   1105.0     201.0       1  \n",
       "6   1416.0     260.0       1  \n",
       "7    316.0      65.0       1  \n",
       "8    621.0     304.0       1  \n",
       "9    792.0     560.0       1  \n",
       "10   699.0     669.0       1  \n",
       "11   566.0     642.0       1  \n",
       "12   515.0     525.0       1  \n",
       "13   434.0     365.0       1  \n",
       "14   347.0     241.0       1  \n",
       "15   270.0      92.0       1  \n",
       "16   118.0      53.0       1  \n",
       "17    50.0      21.0       1  \n",
       "18    11.0       5.0       1  \n",
       "19     1.0       1.0       1  \n",
       "20     0.0       0.0       1  "
      ]
     },
     "metadata": {},
     "output_type": "display_data"
    },
    {
     "name": "stdout",
     "output_type": "stream",
     "text": [
      "126963.0\n"
     ]
    }
   ],
   "source": [
    "do_model(ad_churn_multiple=1.5,\n",
    "         termination_ltv=3,\n",
    "         ad_array= [\n",
    "         1,1,1,1,1,\n",
    "         1,1,1,1,1,\n",
    "         1,1,1,1,1,\n",
    "         1,1,1,1,1         \n",
    "         ])\n"
   ]
  },
  {
   "cell_type": "markdown",
   "metadata": {
    "id": "4qTzGRACfKkT"
   },
   "source": [
    "Если миллион раз посчитать эту модель, то можно получить набор оптимальных значений переменных (порядковые номера построек, на которых нужно включать рекламу) для заданных сценариев (значения коэффициента увеличения оттока пользователя при включении рекламы и количеством просмотров после первого уровня).<br>\n",
    "Сценарии сгенерируем комбинацией следующих переменных:\n",
    "> средний и выскоий коээфициент увеличения оттока пользователей (1,5 и 2)<br>\n",
    "> низкое, среднее, высокое и очень высокое кол-во терминальных просмотров (3, 10 ,50, 100)\n",
    "\n",
    "\n",
    "\n"
   ]
  },
  {
   "cell_type": "markdown",
   "metadata": {
    "id": "6aFMjTaqgXlV"
   },
   "source": [
    "Сведем все в итоговую таблицу:"
   ]
  },
  {
   "cell_type": "code",
   "execution_count": 32,
   "metadata": {
    "id": "jzLx5rn2w02i"
   },
   "outputs": [],
   "source": [
    "#1\n",
    "ad_churn_multiple = 1.5\n",
    "termination_ltv = 3\n",
    "name1 = str(ad_churn_multiple)+'/'+ str(termination_ltv)\n",
    "ad_array1= [\n",
    "1,1,1,1,1,\n",
    "1,1,1,1,1,\n",
    "1,1,1,1,1,\n",
    "1,1,1,1,1\n",
    "]\n",
    "\n",
    "#2\n",
    "ad_churn_multiple = 1.5\n",
    "termination_ltv = 10\n",
    "name2 = str(ad_churn_multiple)+'/'+ str(termination_ltv)\n",
    "ad_array2= [\n",
    "1,1,1,1,1,\n",
    "1,1,1,1,1,\n",
    "1,1,1,1,1,\n",
    "1,1,1,1,1\n",
    "]\n",
    "\n",
    "#3\n",
    "ad_churn_multiple = 1.5\n",
    "termination_ltv = 50\n",
    "name3 = str(ad_churn_multiple)+'/'+ str(termination_ltv)\n",
    "ad_array3= [\n",
    "1,1,1,1,1,\n",
    "1,1,1,1,1,\n",
    "0,0,0,0,0,\n",
    "0,0,0,0,1\n",
    "]\n",
    "\n",
    "#4\n",
    "ad_churn_multiple = 1.5\n",
    "termination_ltv = 100\n",
    "name4 = str(ad_churn_multiple)+'/'+ str(termination_ltv)\n",
    "ad_array4= [\n",
    "1,1,1,0,0,\n",
    "0,1,0,0,0,\n",
    "0,0,0,0,0,\n",
    "0,0,0,0,1\n",
    "]\n",
    "\n",
    "#5\n",
    "ad_churn_multiple = 2\n",
    "termination_ltv = 3\n",
    "name5 = str(ad_churn_multiple)+'/'+ str(termination_ltv)\n",
    "ad_array5= [\n",
    "1,1,1,1,1,\n",
    "1,1,1,1,1,\n",
    "1,1,1,1,1,\n",
    "1,1,1,0,0\n",
    "]\n",
    "\n",
    "#6\n",
    "ad_churn_multiple = 2\n",
    "termination_ltv = 10\n",
    "name6 = str(ad_churn_multiple)+'/'+ str(termination_ltv)\n",
    "ad_array6= [\n",
    "1,1,1,1,1,\n",
    "1,1,1,1,1,\n",
    "1,1,1,1,0,\n",
    "0,0,0,0,1\n",
    "]\n",
    "\n",
    "#7\n",
    "ad_churn_multiple = 2\n",
    "termination_ltv = 50\n",
    "name7 = str(ad_churn_multiple)+'/'+ str(termination_ltv)\n",
    "ad_array7= [\n",
    "1,1,1,0,0,\n",
    "0,1,0,0,0,\n",
    "0,0,0,0,0,\n",
    "0,0,0,0,1\n",
    "]\n",
    "\n",
    "#8\n",
    "ad_churn_multiple = 2\n",
    "termination_ltv = 100\n",
    "name8 = str(ad_churn_multiple)+'/'+ str(termination_ltv)\n",
    "ad_array8= [\n",
    "1,1,0,0,0,\n",
    "0,0,0,0,0,\n",
    "0,0,0,0,0,\n",
    "0,0,0,0,1\n",
    "]"
   ]
  },
  {
   "cell_type": "code",
   "execution_count": 33,
   "metadata": {
    "colab": {
     "base_uri": "https://localhost:8080/",
     "height": 669
    },
    "id": "ZZrkajxbL_b9",
    "outputId": "d9ad0975-ca69-4b09-95cd-e4ffbe9a299b"
   },
   "outputs": [
    {
     "data": {
      "text/html": [
       "<div>\n",
       "<style scoped>\n",
       "    .dataframe tbody tr th:only-of-type {\n",
       "        vertical-align: middle;\n",
       "    }\n",
       "\n",
       "    .dataframe tbody tr th {\n",
       "        vertical-align: top;\n",
       "    }\n",
       "\n",
       "    .dataframe thead th {\n",
       "        text-align: right;\n",
       "    }\n",
       "</style>\n",
       "<table border=\"1\" class=\"dataframe\">\n",
       "  <thead>\n",
       "    <tr style=\"text-align: right;\">\n",
       "      <th></th>\n",
       "      <th>1.5/3</th>\n",
       "      <th>1.5/10</th>\n",
       "      <th>1.5/50</th>\n",
       "      <th>1.5/100</th>\n",
       "      <th>2/3</th>\n",
       "      <th>2/10</th>\n",
       "      <th>2/50</th>\n",
       "      <th>2/100</th>\n",
       "    </tr>\n",
       "  </thead>\n",
       "  <tbody>\n",
       "    <tr>\n",
       "      <td>1</td>\n",
       "      <td>1</td>\n",
       "      <td>1</td>\n",
       "      <td>1</td>\n",
       "      <td>1</td>\n",
       "      <td>1</td>\n",
       "      <td>1</td>\n",
       "      <td>1</td>\n",
       "      <td>1</td>\n",
       "    </tr>\n",
       "    <tr>\n",
       "      <td>2</td>\n",
       "      <td>1</td>\n",
       "      <td>1</td>\n",
       "      <td>1</td>\n",
       "      <td>1</td>\n",
       "      <td>1</td>\n",
       "      <td>1</td>\n",
       "      <td>1</td>\n",
       "      <td>1</td>\n",
       "    </tr>\n",
       "    <tr>\n",
       "      <td>3</td>\n",
       "      <td>1</td>\n",
       "      <td>1</td>\n",
       "      <td>1</td>\n",
       "      <td>1</td>\n",
       "      <td>1</td>\n",
       "      <td>1</td>\n",
       "      <td>1</td>\n",
       "      <td>0</td>\n",
       "    </tr>\n",
       "    <tr>\n",
       "      <td>4</td>\n",
       "      <td>1</td>\n",
       "      <td>1</td>\n",
       "      <td>1</td>\n",
       "      <td>0</td>\n",
       "      <td>1</td>\n",
       "      <td>1</td>\n",
       "      <td>0</td>\n",
       "      <td>0</td>\n",
       "    </tr>\n",
       "    <tr>\n",
       "      <td>5</td>\n",
       "      <td>1</td>\n",
       "      <td>1</td>\n",
       "      <td>1</td>\n",
       "      <td>0</td>\n",
       "      <td>1</td>\n",
       "      <td>1</td>\n",
       "      <td>0</td>\n",
       "      <td>0</td>\n",
       "    </tr>\n",
       "    <tr>\n",
       "      <td>6</td>\n",
       "      <td>1</td>\n",
       "      <td>1</td>\n",
       "      <td>1</td>\n",
       "      <td>0</td>\n",
       "      <td>1</td>\n",
       "      <td>1</td>\n",
       "      <td>0</td>\n",
       "      <td>0</td>\n",
       "    </tr>\n",
       "    <tr>\n",
       "      <td>7</td>\n",
       "      <td>1</td>\n",
       "      <td>1</td>\n",
       "      <td>1</td>\n",
       "      <td>1</td>\n",
       "      <td>1</td>\n",
       "      <td>1</td>\n",
       "      <td>1</td>\n",
       "      <td>0</td>\n",
       "    </tr>\n",
       "    <tr>\n",
       "      <td>8</td>\n",
       "      <td>1</td>\n",
       "      <td>1</td>\n",
       "      <td>1</td>\n",
       "      <td>0</td>\n",
       "      <td>1</td>\n",
       "      <td>1</td>\n",
       "      <td>0</td>\n",
       "      <td>0</td>\n",
       "    </tr>\n",
       "    <tr>\n",
       "      <td>9</td>\n",
       "      <td>1</td>\n",
       "      <td>1</td>\n",
       "      <td>1</td>\n",
       "      <td>0</td>\n",
       "      <td>1</td>\n",
       "      <td>1</td>\n",
       "      <td>0</td>\n",
       "      <td>0</td>\n",
       "    </tr>\n",
       "    <tr>\n",
       "      <td>10</td>\n",
       "      <td>1</td>\n",
       "      <td>1</td>\n",
       "      <td>1</td>\n",
       "      <td>0</td>\n",
       "      <td>1</td>\n",
       "      <td>1</td>\n",
       "      <td>0</td>\n",
       "      <td>0</td>\n",
       "    </tr>\n",
       "    <tr>\n",
       "      <td>11</td>\n",
       "      <td>1</td>\n",
       "      <td>1</td>\n",
       "      <td>0</td>\n",
       "      <td>0</td>\n",
       "      <td>1</td>\n",
       "      <td>1</td>\n",
       "      <td>0</td>\n",
       "      <td>0</td>\n",
       "    </tr>\n",
       "    <tr>\n",
       "      <td>12</td>\n",
       "      <td>1</td>\n",
       "      <td>1</td>\n",
       "      <td>0</td>\n",
       "      <td>0</td>\n",
       "      <td>1</td>\n",
       "      <td>1</td>\n",
       "      <td>0</td>\n",
       "      <td>0</td>\n",
       "    </tr>\n",
       "    <tr>\n",
       "      <td>13</td>\n",
       "      <td>1</td>\n",
       "      <td>1</td>\n",
       "      <td>0</td>\n",
       "      <td>0</td>\n",
       "      <td>1</td>\n",
       "      <td>1</td>\n",
       "      <td>0</td>\n",
       "      <td>0</td>\n",
       "    </tr>\n",
       "    <tr>\n",
       "      <td>14</td>\n",
       "      <td>1</td>\n",
       "      <td>1</td>\n",
       "      <td>0</td>\n",
       "      <td>0</td>\n",
       "      <td>1</td>\n",
       "      <td>1</td>\n",
       "      <td>0</td>\n",
       "      <td>0</td>\n",
       "    </tr>\n",
       "    <tr>\n",
       "      <td>15</td>\n",
       "      <td>1</td>\n",
       "      <td>1</td>\n",
       "      <td>0</td>\n",
       "      <td>0</td>\n",
       "      <td>1</td>\n",
       "      <td>0</td>\n",
       "      <td>0</td>\n",
       "      <td>0</td>\n",
       "    </tr>\n",
       "    <tr>\n",
       "      <td>16</td>\n",
       "      <td>1</td>\n",
       "      <td>1</td>\n",
       "      <td>0</td>\n",
       "      <td>0</td>\n",
       "      <td>1</td>\n",
       "      <td>0</td>\n",
       "      <td>0</td>\n",
       "      <td>0</td>\n",
       "    </tr>\n",
       "    <tr>\n",
       "      <td>17</td>\n",
       "      <td>1</td>\n",
       "      <td>1</td>\n",
       "      <td>0</td>\n",
       "      <td>0</td>\n",
       "      <td>1</td>\n",
       "      <td>0</td>\n",
       "      <td>0</td>\n",
       "      <td>0</td>\n",
       "    </tr>\n",
       "    <tr>\n",
       "      <td>18</td>\n",
       "      <td>1</td>\n",
       "      <td>1</td>\n",
       "      <td>0</td>\n",
       "      <td>0</td>\n",
       "      <td>1</td>\n",
       "      <td>0</td>\n",
       "      <td>0</td>\n",
       "      <td>0</td>\n",
       "    </tr>\n",
       "    <tr>\n",
       "      <td>19</td>\n",
       "      <td>1</td>\n",
       "      <td>1</td>\n",
       "      <td>0</td>\n",
       "      <td>0</td>\n",
       "      <td>0</td>\n",
       "      <td>0</td>\n",
       "      <td>0</td>\n",
       "      <td>0</td>\n",
       "    </tr>\n",
       "    <tr>\n",
       "      <td>20</td>\n",
       "      <td>1</td>\n",
       "      <td>1</td>\n",
       "      <td>1</td>\n",
       "      <td>1</td>\n",
       "      <td>0</td>\n",
       "      <td>1</td>\n",
       "      <td>1</td>\n",
       "      <td>1</td>\n",
       "    </tr>\n",
       "  </tbody>\n",
       "</table>\n",
       "</div>"
      ],
      "text/plain": [
       "    1.5/3  1.5/10  1.5/50  1.5/100  2/3  2/10  2/50  2/100\n",
       "1       1       1       1        1    1     1     1      1\n",
       "2       1       1       1        1    1     1     1      1\n",
       "3       1       1       1        1    1     1     1      0\n",
       "4       1       1       1        0    1     1     0      0\n",
       "5       1       1       1        0    1     1     0      0\n",
       "6       1       1       1        0    1     1     0      0\n",
       "7       1       1       1        1    1     1     1      0\n",
       "8       1       1       1        0    1     1     0      0\n",
       "9       1       1       1        0    1     1     0      0\n",
       "10      1       1       1        0    1     1     0      0\n",
       "11      1       1       0        0    1     1     0      0\n",
       "12      1       1       0        0    1     1     0      0\n",
       "13      1       1       0        0    1     1     0      0\n",
       "14      1       1       0        0    1     1     0      0\n",
       "15      1       1       0        0    1     0     0      0\n",
       "16      1       1       0        0    1     0     0      0\n",
       "17      1       1       0        0    1     0     0      0\n",
       "18      1       1       0        0    1     0     0      0\n",
       "19      1       1       0        0    0     0     0      0\n",
       "20      1       1       1        1    0     1     1      1"
      ]
     },
     "execution_count": 33,
     "metadata": {},
     "output_type": "execute_result"
    }
   ],
   "source": [
    "res = pd.DataFrame({name1:ad_array1,\n",
    "                    name2:ad_array2,\n",
    "                    name3:ad_array3,\n",
    "                    name4:ad_array4,\n",
    "                    name5:ad_array5,\n",
    "                    name6:ad_array6,\n",
    "                    name7:ad_array7,\n",
    "                    name8:ad_array8,})\n",
    "res.index += 1 \n",
    "res"
   ]
  },
  {
   "cell_type": "markdown",
   "metadata": {
    "id": "y21Tau6-tQMl"
   },
   "source": [
    "Получается следующее:<br>\n",
    "- при маленьком кол-ве (3 или 10) терминальных просмотров (если в игре после первого уровня почти нет контента) выгодно максимально монетизировать первый уровень - включать рекламу почти на каждой постройке\n",
    "- при большом кол-ве (50-100) терминальных просмотров (если в игре после первого уровня  много контента) выгодно сохранить наибольшее количество пользователей после первого уровня и оставить рекламу толлько на первой половине построек, где она наиболее выгодна (низкий чарн и максимальное кол-во пользователей). Если отток пользоватлей увеличивается более сильно (к=2), то выгодно оставить рекламу только на первых двух постройках.<br><br>\n",
    "\n",
    "Фактическое значение коэффициента увеличения оттока пользователя при включении рекламы для расчета можно получить после первой рекламной кампании, количество просмотров после первого уровня можно спрогнозировать по кол-ву контента в игре после первого уровня по сравнению с первым уровнем."
   ]
  },
  {
   "cell_type": "markdown",
   "metadata": {
    "id": "d1yR2yuE9YOb"
   },
   "source": [
    "### Общий вывод"
   ]
  },
  {
   "cell_type": "markdown",
   "metadata": {
    "id": "_kO1fngUy9_n"
   },
   "source": [
    "Задача была определить на каких этапах игры показывать пользователям рекламу.<br><br>\n",
    "Для анализа взяли данные по когортам пользователей, которые начали пользоваться приложением в период с 4 по 10 мая включительно. Увидели, что идет довольно большой отток пользователей - первый уровень заканчивают только 57% из них.\n",
    "Большинство (70%) прошедших первый уровень пользователей проходят его победой над врагом. Это занимает меньше времени и требует именьше шагов, чем прохлждение уровня через реализацию проетка.<br><br>\n",
    "Модель монетизации строили по критерию максимизации количества просмотров рекламы пользователями за период их жизни (в т.ч. первый уровень). Исходными данными коэффициента оттока и прохождения уровня на каждой постойке. По модели получили порядковые номера построек, на которых выгодно показывать рекламу, задаваясь при этом коэффициентом увеличения оттока из-за рекламы и количеством просмотренной рекламы после первого уровня.<br>\n",
    "\n",
    "Фактическое значение коэффициента увеличения оттока пользователя при включении рекламы для расчета можно получить после первой рекламной кампании, количество просмотров после первого уровня можно спрогнозировать по кол-ву контента в игре после первого уровня по сравнению с первым уровнем."
   ]
  },
  {
   "cell_type": "markdown",
   "metadata": {},
   "source": [
    "### Рекомендации"
   ]
  },
  {
   "cell_type": "markdown",
   "metadata": {},
   "source": [
    "При маленьком кол-ве (3 или 10) терминальных просмотров (если в игре после первого уровня почти нет контента) выгодно максимально монетизировать первый уровень - включать рекламу почти на каждой постройке<br>\n",
    "При большом кол-ве (50-100) терминальных просмотров (если в игре после первого уровня много контента) выгодно сохранить наибольшее количество пользователей после первого уровня и оставить рекламу толлько на первой половине построек, где она наиболее выгодна (низкий чарн и максимальное кол-во пользователей). Если отток пользоватлей увеличивается более сильно (к=2), то выгодно оставить рекламу только на первых двух постройках.\n",
    "<br>"
   ]
  }
 ],
 "metadata": {
  "colab": {
   "collapsed_sections": [
    "UFfDqlWlUWNq",
    "l1Rj0xpHUgrp"
   ],
   "name": "Fin_project_v3.ipynb",
   "provenance": []
  },
  "kernelspec": {
   "display_name": "Python 3",
   "language": "python",
   "name": "python3"
  },
  "language_info": {
   "codemirror_mode": {
    "name": "ipython",
    "version": 3
   },
   "file_extension": ".py",
   "mimetype": "text/x-python",
   "name": "python",
   "nbconvert_exporter": "python",
   "pygments_lexer": "ipython3",
   "version": "3.7.6"
  }
 },
 "nbformat": 4,
 "nbformat_minor": 1
}
