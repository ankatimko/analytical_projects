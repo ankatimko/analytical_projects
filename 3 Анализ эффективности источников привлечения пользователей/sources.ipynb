{
 "cells": [
  {
   "cell_type": "markdown",
   "metadata": {
    "colab_type": "text",
    "id": "BzjA8tMVo0Gp"
   },
   "source": [
    "# Аналитика в Яндекс.Афише"
   ]
  },
  {
   "cell_type": "markdown",
   "metadata": {
    "colab_type": "text",
    "id": "x8zRztMWvLVK"
   },
   "source": [
    "Цель исследования: оптимизировать маркетинговые затраты.<br>\n",
    "Оптимизацию возможно провести путем выбора оптимальных рекламного источника, размера затрат и платформы. <br>\n",
    "Для анализа будут использоваться данные за 2017-2018 гг. по визитам на сайт, заказам и маркетинговым затратам.<br>\n",
    "\n"
   ]
  },
  {
   "cell_type": "markdown",
   "metadata": {
    "colab_type": "text",
    "id": "-_Th34Z9yYDV"
   },
   "source": [
    "План: <br>\n",
    "1 Загрузка и подготовка данных<br>\n",
    "2 Посторение отчетов и расчет метрик<br>\n",
    "3 Общий вывод<br>"
   ]
  },
  {
   "cell_type": "markdown",
   "metadata": {
    "colab_type": "text",
    "id": "cBlMUCZdyar6"
   },
   "source": [
    "## 1 Загрузка и подготовка данных"
   ]
  },
  {
   "cell_type": "code",
   "execution_count": 1,
   "metadata": {
    "colab": {},
    "colab_type": "code",
    "id": "CKxWMrfMr3_k"
   },
   "outputs": [],
   "source": [
    "import pandas as pd\n",
    "import numpy as np\n",
    "import matplotlib.pyplot as plt\n",
    "import seaborn as sns"
   ]
  },
  {
   "cell_type": "code",
   "execution_count": 2,
   "metadata": {
    "cellView": "code",
    "colab": {},
    "colab_type": "code",
    "id": "IA6Le5ghtCrw"
   },
   "outputs": [],
   "source": [
    "visits = pd.read_csv('https://code.s3.yandex.net/datasets/visits_log.csv')\n",
    "orders = pd.read_csv('https://code.s3.yandex.net/datasets/orders_log.csv')\n",
    "costs = pd.read_csv('https://code.s3.yandex.net/datasets/costs.csv')"
   ]
  },
  {
   "cell_type": "code",
   "execution_count": 3,
   "metadata": {
    "colab": {
     "base_uri": "https://localhost:8080/",
     "height": 402
    },
    "colab_type": "code",
    "id": "l3gRRSVjtLt5",
    "outputId": "ee342076-f6d2-4174-a2bd-75c9a05f5fc2"
   },
   "outputs": [
    {
     "data": {
      "text/html": [
       "<div>\n",
       "<style scoped>\n",
       "    .dataframe tbody tr th:only-of-type {\n",
       "        vertical-align: middle;\n",
       "    }\n",
       "\n",
       "    .dataframe tbody tr th {\n",
       "        vertical-align: top;\n",
       "    }\n",
       "\n",
       "    .dataframe thead th {\n",
       "        text-align: right;\n",
       "    }\n",
       "</style>\n",
       "<table border=\"1\" class=\"dataframe\">\n",
       "  <thead>\n",
       "    <tr style=\"text-align: right;\">\n",
       "      <th></th>\n",
       "      <th>Device</th>\n",
       "      <th>End Ts</th>\n",
       "      <th>Source Id</th>\n",
       "      <th>Start Ts</th>\n",
       "      <th>Uid</th>\n",
       "    </tr>\n",
       "  </thead>\n",
       "  <tbody>\n",
       "    <tr>\n",
       "      <td>0</td>\n",
       "      <td>touch</td>\n",
       "      <td>2017-12-20 17:38:00</td>\n",
       "      <td>4</td>\n",
       "      <td>2017-12-20 17:20:00</td>\n",
       "      <td>16879256277535980062</td>\n",
       "    </tr>\n",
       "    <tr>\n",
       "      <td>1</td>\n",
       "      <td>desktop</td>\n",
       "      <td>2018-02-19 17:21:00</td>\n",
       "      <td>2</td>\n",
       "      <td>2018-02-19 16:53:00</td>\n",
       "      <td>104060357244891740</td>\n",
       "    </tr>\n",
       "    <tr>\n",
       "      <td>2</td>\n",
       "      <td>touch</td>\n",
       "      <td>2017-07-01 01:54:00</td>\n",
       "      <td>5</td>\n",
       "      <td>2017-07-01 01:54:00</td>\n",
       "      <td>7459035603376831527</td>\n",
       "    </tr>\n",
       "    <tr>\n",
       "      <td>3</td>\n",
       "      <td>desktop</td>\n",
       "      <td>2018-05-20 11:23:00</td>\n",
       "      <td>9</td>\n",
       "      <td>2018-05-20 10:59:00</td>\n",
       "      <td>16174680259334210214</td>\n",
       "    </tr>\n",
       "    <tr>\n",
       "      <td>4</td>\n",
       "      <td>desktop</td>\n",
       "      <td>2017-12-27 14:06:00</td>\n",
       "      <td>3</td>\n",
       "      <td>2017-12-27 14:06:00</td>\n",
       "      <td>9969694820036681168</td>\n",
       "    </tr>\n",
       "    <tr>\n",
       "      <td>...</td>\n",
       "      <td>...</td>\n",
       "      <td>...</td>\n",
       "      <td>...</td>\n",
       "      <td>...</td>\n",
       "      <td>...</td>\n",
       "    </tr>\n",
       "    <tr>\n",
       "      <td>359395</td>\n",
       "      <td>desktop</td>\n",
       "      <td>2017-07-29 19:07:19</td>\n",
       "      <td>2</td>\n",
       "      <td>2017-07-29 19:07:00</td>\n",
       "      <td>18363291481961487539</td>\n",
       "    </tr>\n",
       "    <tr>\n",
       "      <td>359396</td>\n",
       "      <td>touch</td>\n",
       "      <td>2018-01-25 17:38:19</td>\n",
       "      <td>1</td>\n",
       "      <td>2018-01-25 17:38:00</td>\n",
       "      <td>18370831553019119586</td>\n",
       "    </tr>\n",
       "    <tr>\n",
       "      <td>359397</td>\n",
       "      <td>desktop</td>\n",
       "      <td>2018-03-03 10:12:19</td>\n",
       "      <td>4</td>\n",
       "      <td>2018-03-03 10:12:00</td>\n",
       "      <td>18387297585500748294</td>\n",
       "    </tr>\n",
       "    <tr>\n",
       "      <td>359398</td>\n",
       "      <td>desktop</td>\n",
       "      <td>2017-11-02 10:12:19</td>\n",
       "      <td>5</td>\n",
       "      <td>2017-11-02 10:12:00</td>\n",
       "      <td>18388616944624776485</td>\n",
       "    </tr>\n",
       "    <tr>\n",
       "      <td>359399</td>\n",
       "      <td>touch</td>\n",
       "      <td>2017-09-10 13:13:19</td>\n",
       "      <td>2</td>\n",
       "      <td>2017-09-10 13:13:00</td>\n",
       "      <td>18396128934054549559</td>\n",
       "    </tr>\n",
       "  </tbody>\n",
       "</table>\n",
       "<p>359400 rows × 5 columns</p>\n",
       "</div>"
      ],
      "text/plain": [
       "         Device               End Ts  Source Id             Start Ts  \\\n",
       "0         touch  2017-12-20 17:38:00          4  2017-12-20 17:20:00   \n",
       "1       desktop  2018-02-19 17:21:00          2  2018-02-19 16:53:00   \n",
       "2         touch  2017-07-01 01:54:00          5  2017-07-01 01:54:00   \n",
       "3       desktop  2018-05-20 11:23:00          9  2018-05-20 10:59:00   \n",
       "4       desktop  2017-12-27 14:06:00          3  2017-12-27 14:06:00   \n",
       "...         ...                  ...        ...                  ...   \n",
       "359395  desktop  2017-07-29 19:07:19          2  2017-07-29 19:07:00   \n",
       "359396    touch  2018-01-25 17:38:19          1  2018-01-25 17:38:00   \n",
       "359397  desktop  2018-03-03 10:12:19          4  2018-03-03 10:12:00   \n",
       "359398  desktop  2017-11-02 10:12:19          5  2017-11-02 10:12:00   \n",
       "359399    touch  2017-09-10 13:13:19          2  2017-09-10 13:13:00   \n",
       "\n",
       "                         Uid  \n",
       "0       16879256277535980062  \n",
       "1         104060357244891740  \n",
       "2        7459035603376831527  \n",
       "3       16174680259334210214  \n",
       "4        9969694820036681168  \n",
       "...                      ...  \n",
       "359395  18363291481961487539  \n",
       "359396  18370831553019119586  \n",
       "359397  18387297585500748294  \n",
       "359398  18388616944624776485  \n",
       "359399  18396128934054549559  \n",
       "\n",
       "[359400 rows x 5 columns]"
      ]
     },
     "execution_count": 3,
     "metadata": {},
     "output_type": "execute_result"
    }
   ],
   "source": [
    "visits"
   ]
  },
  {
   "cell_type": "code",
   "execution_count": 4,
   "metadata": {
    "colab": {
     "base_uri": "https://localhost:8080/",
     "height": 218
    },
    "colab_type": "code",
    "id": "RMmWmEC2teco",
    "outputId": "79694ba3-2f12-447c-a77e-50b57b80bb0a"
   },
   "outputs": [
    {
     "name": "stdout",
     "output_type": "stream",
     "text": [
      "<class 'pandas.core.frame.DataFrame'>\n",
      "RangeIndex: 359400 entries, 0 to 359399\n",
      "Data columns (total 5 columns):\n",
      "Device       359400 non-null object\n",
      "End Ts       359400 non-null object\n",
      "Source Id    359400 non-null int64\n",
      "Start Ts     359400 non-null object\n",
      "Uid          359400 non-null uint64\n",
      "dtypes: int64(1), object(3), uint64(1)\n",
      "memory usage: 13.7+ MB\n"
     ]
    }
   ],
   "source": [
    "visits.info()"
   ]
  },
  {
   "cell_type": "code",
   "execution_count": 5,
   "metadata": {
    "colab": {
     "base_uri": "https://localhost:8080/",
     "height": 402
    },
    "colab_type": "code",
    "id": "CgKI2-P-ti14",
    "outputId": "49e9ea9a-44f1-4935-a73e-f9bb1989fb04"
   },
   "outputs": [
    {
     "data": {
      "text/html": [
       "<div>\n",
       "<style scoped>\n",
       "    .dataframe tbody tr th:only-of-type {\n",
       "        vertical-align: middle;\n",
       "    }\n",
       "\n",
       "    .dataframe tbody tr th {\n",
       "        vertical-align: top;\n",
       "    }\n",
       "\n",
       "    .dataframe thead th {\n",
       "        text-align: right;\n",
       "    }\n",
       "</style>\n",
       "<table border=\"1\" class=\"dataframe\">\n",
       "  <thead>\n",
       "    <tr style=\"text-align: right;\">\n",
       "      <th></th>\n",
       "      <th>Buy Ts</th>\n",
       "      <th>Revenue</th>\n",
       "      <th>Uid</th>\n",
       "    </tr>\n",
       "  </thead>\n",
       "  <tbody>\n",
       "    <tr>\n",
       "      <td>0</td>\n",
       "      <td>2017-06-01 00:10:00</td>\n",
       "      <td>17.00</td>\n",
       "      <td>10329302124590727494</td>\n",
       "    </tr>\n",
       "    <tr>\n",
       "      <td>1</td>\n",
       "      <td>2017-06-01 00:25:00</td>\n",
       "      <td>0.55</td>\n",
       "      <td>11627257723692907447</td>\n",
       "    </tr>\n",
       "    <tr>\n",
       "      <td>2</td>\n",
       "      <td>2017-06-01 00:27:00</td>\n",
       "      <td>0.37</td>\n",
       "      <td>17903680561304213844</td>\n",
       "    </tr>\n",
       "    <tr>\n",
       "      <td>3</td>\n",
       "      <td>2017-06-01 00:29:00</td>\n",
       "      <td>0.55</td>\n",
       "      <td>16109239769442553005</td>\n",
       "    </tr>\n",
       "    <tr>\n",
       "      <td>4</td>\n",
       "      <td>2017-06-01 07:58:00</td>\n",
       "      <td>0.37</td>\n",
       "      <td>14200605875248379450</td>\n",
       "    </tr>\n",
       "    <tr>\n",
       "      <td>...</td>\n",
       "      <td>...</td>\n",
       "      <td>...</td>\n",
       "      <td>...</td>\n",
       "    </tr>\n",
       "    <tr>\n",
       "      <td>50410</td>\n",
       "      <td>2018-05-31 23:50:00</td>\n",
       "      <td>4.64</td>\n",
       "      <td>12296626599487328624</td>\n",
       "    </tr>\n",
       "    <tr>\n",
       "      <td>50411</td>\n",
       "      <td>2018-05-31 23:50:00</td>\n",
       "      <td>5.80</td>\n",
       "      <td>11369640365507475976</td>\n",
       "    </tr>\n",
       "    <tr>\n",
       "      <td>50412</td>\n",
       "      <td>2018-05-31 23:54:00</td>\n",
       "      <td>0.30</td>\n",
       "      <td>1786462140797698849</td>\n",
       "    </tr>\n",
       "    <tr>\n",
       "      <td>50413</td>\n",
       "      <td>2018-05-31 23:56:00</td>\n",
       "      <td>3.67</td>\n",
       "      <td>3993697860786194247</td>\n",
       "    </tr>\n",
       "    <tr>\n",
       "      <td>50414</td>\n",
       "      <td>2018-06-01 00:02:00</td>\n",
       "      <td>3.42</td>\n",
       "      <td>83872787173869366</td>\n",
       "    </tr>\n",
       "  </tbody>\n",
       "</table>\n",
       "<p>50415 rows × 3 columns</p>\n",
       "</div>"
      ],
      "text/plain": [
       "                    Buy Ts  Revenue                   Uid\n",
       "0      2017-06-01 00:10:00    17.00  10329302124590727494\n",
       "1      2017-06-01 00:25:00     0.55  11627257723692907447\n",
       "2      2017-06-01 00:27:00     0.37  17903680561304213844\n",
       "3      2017-06-01 00:29:00     0.55  16109239769442553005\n",
       "4      2017-06-01 07:58:00     0.37  14200605875248379450\n",
       "...                    ...      ...                   ...\n",
       "50410  2018-05-31 23:50:00     4.64  12296626599487328624\n",
       "50411  2018-05-31 23:50:00     5.80  11369640365507475976\n",
       "50412  2018-05-31 23:54:00     0.30   1786462140797698849\n",
       "50413  2018-05-31 23:56:00     3.67   3993697860786194247\n",
       "50414  2018-06-01 00:02:00     3.42     83872787173869366\n",
       "\n",
       "[50415 rows x 3 columns]"
      ]
     },
     "execution_count": 5,
     "metadata": {},
     "output_type": "execute_result"
    }
   ],
   "source": [
    "orders"
   ]
  },
  {
   "cell_type": "code",
   "execution_count": 6,
   "metadata": {
    "colab": {
     "base_uri": "https://localhost:8080/",
     "height": 185
    },
    "colab_type": "code",
    "id": "a-z1EPe4trII",
    "outputId": "d838e362-7a4c-47c4-bf14-fd4684bfa2c8"
   },
   "outputs": [
    {
     "name": "stdout",
     "output_type": "stream",
     "text": [
      "<class 'pandas.core.frame.DataFrame'>\n",
      "RangeIndex: 50415 entries, 0 to 50414\n",
      "Data columns (total 3 columns):\n",
      "Buy Ts     50415 non-null object\n",
      "Revenue    50415 non-null float64\n",
      "Uid        50415 non-null uint64\n",
      "dtypes: float64(1), object(1), uint64(1)\n",
      "memory usage: 1.2+ MB\n"
     ]
    }
   ],
   "source": [
    "orders.info()"
   ]
  },
  {
   "cell_type": "code",
   "execution_count": 7,
   "metadata": {
    "colab": {
     "base_uri": "https://localhost:8080/",
     "height": 402
    },
    "colab_type": "code",
    "id": "27z8h27pvS4k",
    "outputId": "072f5790-998f-4461-ac5a-de4dcb9d2cbe"
   },
   "outputs": [
    {
     "data": {
      "text/html": [
       "<div>\n",
       "<style scoped>\n",
       "    .dataframe tbody tr th:only-of-type {\n",
       "        vertical-align: middle;\n",
       "    }\n",
       "\n",
       "    .dataframe tbody tr th {\n",
       "        vertical-align: top;\n",
       "    }\n",
       "\n",
       "    .dataframe thead th {\n",
       "        text-align: right;\n",
       "    }\n",
       "</style>\n",
       "<table border=\"1\" class=\"dataframe\">\n",
       "  <thead>\n",
       "    <tr style=\"text-align: right;\">\n",
       "      <th></th>\n",
       "      <th>source_id</th>\n",
       "      <th>dt</th>\n",
       "      <th>costs</th>\n",
       "    </tr>\n",
       "  </thead>\n",
       "  <tbody>\n",
       "    <tr>\n",
       "      <td>0</td>\n",
       "      <td>1</td>\n",
       "      <td>2017-06-01</td>\n",
       "      <td>75.20</td>\n",
       "    </tr>\n",
       "    <tr>\n",
       "      <td>1</td>\n",
       "      <td>1</td>\n",
       "      <td>2017-06-02</td>\n",
       "      <td>62.25</td>\n",
       "    </tr>\n",
       "    <tr>\n",
       "      <td>2</td>\n",
       "      <td>1</td>\n",
       "      <td>2017-06-03</td>\n",
       "      <td>36.53</td>\n",
       "    </tr>\n",
       "    <tr>\n",
       "      <td>3</td>\n",
       "      <td>1</td>\n",
       "      <td>2017-06-04</td>\n",
       "      <td>55.00</td>\n",
       "    </tr>\n",
       "    <tr>\n",
       "      <td>4</td>\n",
       "      <td>1</td>\n",
       "      <td>2017-06-05</td>\n",
       "      <td>57.08</td>\n",
       "    </tr>\n",
       "    <tr>\n",
       "      <td>...</td>\n",
       "      <td>...</td>\n",
       "      <td>...</td>\n",
       "      <td>...</td>\n",
       "    </tr>\n",
       "    <tr>\n",
       "      <td>2537</td>\n",
       "      <td>10</td>\n",
       "      <td>2018-05-27</td>\n",
       "      <td>9.92</td>\n",
       "    </tr>\n",
       "    <tr>\n",
       "      <td>2538</td>\n",
       "      <td>10</td>\n",
       "      <td>2018-05-28</td>\n",
       "      <td>21.26</td>\n",
       "    </tr>\n",
       "    <tr>\n",
       "      <td>2539</td>\n",
       "      <td>10</td>\n",
       "      <td>2018-05-29</td>\n",
       "      <td>11.32</td>\n",
       "    </tr>\n",
       "    <tr>\n",
       "      <td>2540</td>\n",
       "      <td>10</td>\n",
       "      <td>2018-05-30</td>\n",
       "      <td>33.15</td>\n",
       "    </tr>\n",
       "    <tr>\n",
       "      <td>2541</td>\n",
       "      <td>10</td>\n",
       "      <td>2018-05-31</td>\n",
       "      <td>17.60</td>\n",
       "    </tr>\n",
       "  </tbody>\n",
       "</table>\n",
       "<p>2542 rows × 3 columns</p>\n",
       "</div>"
      ],
      "text/plain": [
       "      source_id          dt  costs\n",
       "0             1  2017-06-01  75.20\n",
       "1             1  2017-06-02  62.25\n",
       "2             1  2017-06-03  36.53\n",
       "3             1  2017-06-04  55.00\n",
       "4             1  2017-06-05  57.08\n",
       "...         ...         ...    ...\n",
       "2537         10  2018-05-27   9.92\n",
       "2538         10  2018-05-28  21.26\n",
       "2539         10  2018-05-29  11.32\n",
       "2540         10  2018-05-30  33.15\n",
       "2541         10  2018-05-31  17.60\n",
       "\n",
       "[2542 rows x 3 columns]"
      ]
     },
     "execution_count": 7,
     "metadata": {},
     "output_type": "execute_result"
    }
   ],
   "source": [
    "costs"
   ]
  },
  {
   "cell_type": "code",
   "execution_count": 8,
   "metadata": {
    "colab": {
     "base_uri": "https://localhost:8080/",
     "height": 185
    },
    "colab_type": "code",
    "id": "uiKC2nEYZOzw",
    "outputId": "ce53716a-3e27-4033-9b45-ee21c5f2f648"
   },
   "outputs": [
    {
     "name": "stdout",
     "output_type": "stream",
     "text": [
      "<class 'pandas.core.frame.DataFrame'>\n",
      "RangeIndex: 2542 entries, 0 to 2541\n",
      "Data columns (total 3 columns):\n",
      "source_id    2542 non-null int64\n",
      "dt           2542 non-null object\n",
      "costs        2542 non-null float64\n",
      "dtypes: float64(1), int64(1), object(1)\n",
      "memory usage: 59.7+ KB\n"
     ]
    }
   ],
   "source": [
    "costs.info()"
   ]
  },
  {
   "cell_type": "code",
   "execution_count": 9,
   "metadata": {
    "colab": {},
    "colab_type": "code",
    "id": "F-gLhNi8d0Fr"
   },
   "outputs": [],
   "source": [
    "visits.columns=['device', 'end_ts', 'source_id', 'start_ts', 'uid']\n",
    "orders.columns=['buy_ts', 'revenue', 'uid']"
   ]
  },
  {
   "cell_type": "code",
   "execution_count": 10,
   "metadata": {
    "colab": {},
    "colab_type": "code",
    "id": "viUy9uGNZPzv"
   },
   "outputs": [],
   "source": [
    "visits['end_ts'] = pd.to_datetime(visits['end_ts'], format=\"%Y-%m-%d %H:%M\")\n",
    "visits['start_ts'] = pd.to_datetime(visits['start_ts'], format=\"%Y-%m-%d %H:%M\")\n",
    "orders['buy_ts'] = pd.to_datetime(orders['buy_ts'], format=\"%Y-%m-%d %H:%M\")\n",
    "costs['dt'] = pd.to_datetime(costs['dt'], format=\"%Y-%m-%d %H:%M\")"
   ]
  },
  {
   "cell_type": "code",
   "execution_count": 11,
   "metadata": {
    "colab": {},
    "colab_type": "code",
    "id": "J_oYNv-vexUn"
   },
   "outputs": [],
   "source": [
    "visits['session_year']  = visits['start_ts'].dt.year\n",
    "visits['session_month'] = visits['start_ts'].dt.month\n",
    "visits['session_week']  = visits['start_ts'].dt.week\n",
    "visits['session_date'] = visits['start_ts'].dt.date\n",
    "\n",
    "orders['buy_year']  = orders['buy_ts'].dt.year\n",
    "orders['buy_month'] = orders['buy_ts'].dt.month\n",
    "orders['buy_week']  = orders['buy_ts'].dt.week\n",
    "\n",
    "costs['cost_year']  = costs['dt'].dt.year\n",
    "costs['cost_month'] = costs['dt'].dt.month\n",
    "costs['cost_week']  = costs['dt'].dt.week"
   ]
  },
  {
   "cell_type": "markdown",
   "metadata": {
    "colab_type": "text",
    "id": "B7Xou1oqAQ9v"
   },
   "source": [
    "<div style=\"border:solid grey 2px; padding: 30px\">\n",
    "В таблицах переименовали поля. Перевели дату в dt. Выделили из нее недели, месяцы, года."
   ]
  },
  {
   "cell_type": "markdown",
   "metadata": {
    "colab_type": "text",
    "id": "L5hMBuUgJQjq"
   },
   "source": [
    "Соединяем нужные таблицы"
   ]
  },
  {
   "cell_type": "code",
   "execution_count": 12,
   "metadata": {
    "colab": {},
    "colab_type": "code",
    "id": "d45mZnQcRLjw"
   },
   "outputs": [],
   "source": [
    "#sources_uids\n",
    "uids = visits.sort_values('start_ts').groupby('uid')[['source_id', 'device']].agg('first').reset_index()\n",
    "sources_count = uids.groupby('source_id')['uid'].count().reset_index()"
   ]
  },
  {
   "cell_type": "code",
   "execution_count": 13,
   "metadata": {
    "colab": {},
    "colab_type": "code",
    "id": "Kp7xvuSrq5-3"
   },
   "outputs": [],
   "source": [
    "orders = orders.merge(uids, on='uid')"
   ]
  },
  {
   "cell_type": "markdown",
   "metadata": {
    "colab_type": "text",
    "id": "OeABIu71yl1H"
   },
   "source": [
    "## 2 Построение отчетов и метрик"
   ]
  },
  {
   "cell_type": "markdown",
   "metadata": {
    "colab_type": "text",
    "id": "pohzd7_TIIQj"
   },
   "source": [
    "## Смотрим, что сразу можно увидеть в данных"
   ]
  },
  {
   "cell_type": "code",
   "execution_count": 14,
   "metadata": {
    "colab": {
     "base_uri": "https://localhost:8080/",
     "height": 269
    },
    "colab_type": "code",
    "id": "aMmDp-_NywF3",
    "outputId": "72a043b7-77e5-4126-fccf-b7ee61d4c070"
   },
   "outputs": [
    {
     "name": "stdout",
     "output_type": "stream",
     "text": [
      "Количество визитов за период 359400\n",
      "Количество уникальных пользователей за период 228169\n",
      "\n",
      "Распределение визитов по устройствам\n"
     ]
    },
    {
     "data": {
      "text/plain": [
       "desktop    0.73057\n",
       "touch      0.26943\n",
       "Name: device, dtype: float64"
      ]
     },
     "metadata": {},
     "output_type": "display_data"
    },
    {
     "name": "stdout",
     "output_type": "stream",
     "text": [
      "\n",
      "Колиество визитов по источникам рекламы\n"
     ]
    },
    {
     "data": {
      "text/plain": [
       "4     101794\n",
       "3      85610\n",
       "5      66905\n",
       "2      47626\n",
       "1      34121\n",
       "9      13277\n",
       "10     10025\n",
       "7         36\n",
       "6          6\n",
       "Name: source_id, dtype: int64"
      ]
     },
     "metadata": {},
     "output_type": "display_data"
    }
   ],
   "source": [
    "\n",
    "print(f'Количество визитов за период {visits[\"uid\"].count()}')\n",
    "print(f'Количество уникальных пользователей за период {visits[\"uid\"].nunique()}')\n",
    "print()\n",
    "print('Распределение визитов по устройствам')\n",
    "display(visits['device'].value_counts(normalize=True))\n",
    "print()\n",
    "print('Колиество визитов по источникам рекламы')\n",
    "display(visits['source_id'].value_counts())"
   ]
  },
  {
   "cell_type": "code",
   "execution_count": 15,
   "metadata": {
    "colab": {
     "base_uri": "https://localhost:8080/",
     "height": 134
    },
    "colab_type": "code",
    "id": "pfJq4Jrf0qgd",
    "outputId": "8d8f8c40-0a7a-4c89-ea5f-08ba3786220a"
   },
   "outputs": [
    {
     "name": "stdout",
     "output_type": "stream",
     "text": [
      "Диапазон дат визитов\n"
     ]
    },
    {
     "data": {
      "text/plain": [
       "count                  359400\n",
       "unique                 224303\n",
       "top       2017-11-24 16:06:00\n",
       "freq                       19\n",
       "first     2017-06-01 00:01:00\n",
       "last      2018-05-31 23:59:00\n",
       "Name: start_ts, dtype: object"
      ]
     },
     "execution_count": 15,
     "metadata": {},
     "output_type": "execute_result"
    }
   ],
   "source": [
    "print('Диапазон дат визитов')\n",
    "visits['start_ts'].describe()"
   ]
  },
  {
   "cell_type": "markdown",
   "metadata": {
    "colab_type": "text",
    "id": "6oIWjqDiIQ8J"
   },
   "source": [
    "<div style=\"border:solid grey 2px; padding: 30px\">В период с июня 2017 г. по май 2018 г. 228 тыс. уникальных пользователей сгенерировали 359 тыс. сессий. Большая часть визитов (73%) c десктопа. Из источников 7, 6 почти нет переходов."
   ]
  },
  {
   "cell_type": "code",
   "execution_count": 16,
   "metadata": {
    "colab": {
     "base_uri": "https://localhost:8080/",
     "height": 420
    },
    "colab_type": "code",
    "id": "WvZ4KkKW-1cQ",
    "outputId": "093e9e4c-400a-4916-b951-bb51ca81d9ce"
   },
   "outputs": [
    {
     "name": "stdout",
     "output_type": "stream",
     "text": [
      "Количество заказов за период 50415\n",
      "Количество пользователей, совершивших заказ за период 36523\n",
      "\n",
      "Диапазон дат заказов\n"
     ]
    },
    {
     "data": {
      "text/plain": [
       "count                   50415\n",
       "unique                  45991\n",
       "top       2018-05-31 10:13:00\n",
       "freq                        9\n",
       "first     2017-06-01 00:10:00\n",
       "last      2018-06-01 00:02:00\n",
       "Name: buy_ts, dtype: object"
      ]
     },
     "metadata": {},
     "output_type": "display_data"
    },
    {
     "name": "stdout",
     "output_type": "stream",
     "text": [
      "\n",
      "Общая сумма заказов 252057.2\n",
      "\n",
      "Распеределение выручки по устройствам\n"
     ]
    },
    {
     "data": {
      "text/plain": [
       "device\n",
       "desktop    211329.77\n",
       "touch       40727.43\n",
       "Name: revenue, dtype: float64"
      ]
     },
     "metadata": {},
     "output_type": "display_data"
    },
    {
     "name": "stdout",
     "output_type": "stream",
     "text": [
      "\n",
      "Распеределение выручки по источникам рекламы\n"
     ]
    },
    {
     "data": {
      "text/plain": [
       "source_id\n",
       "1     31090.55\n",
       "2     46923.61\n",
       "3     54511.24\n",
       "4     56696.83\n",
       "5     52624.02\n",
       "7         1.22\n",
       "9      5759.40\n",
       "10     4450.33\n",
       "Name: revenue, dtype: float64"
      ]
     },
     "metadata": {},
     "output_type": "display_data"
    }
   ],
   "source": [
    "print(f'Количество заказов за период {orders[\"uid\"].count()}')\n",
    "print(f'Количество пользователей, совершивших заказ за период {orders[\"uid\"].nunique()}')\n",
    "print()\n",
    "print('Диапазон дат заказов')\n",
    "display(orders['buy_ts'].describe())\n",
    "print()\n",
    "print(f'Общая сумма заказов {orders[\"revenue\"].sum()}')\n",
    "print()\n",
    "print('Распеределение выручки по устройствам')\n",
    "display(orders.groupby('device')['revenue'].sum())\n",
    "print()\n",
    "print('Распеределение выручки по источникам рекламы')\n",
    "display(orders.groupby('source_id')['revenue'].sum())"
   ]
  },
  {
   "cell_type": "markdown",
   "metadata": {
    "colab_type": "text",
    "id": "aXuKAnuVyvv5"
   },
   "source": [
    "<div style=\"border:solid grey 2px; padding: 30px\">\n",
    "За этот же период 37 тыс. пользователей было сделано 50 тыс. заказов, выручка Яндекс.Афиши по которым составила 252 млн руб. <br>\n",
    "Большая часть покупок была сделана пользователям с десктопа. Выручка примерно равномерно распределена по источникам рекламы 1-5. <br>\n",
    "(Здесь и далее отнесение заказов к источнику рекламы производится на основании источника первого перехода пользователя, совершившего заказ)."
   ]
  },
  {
   "cell_type": "code",
   "execution_count": 17,
   "metadata": {
    "colab": {
     "base_uri": "https://localhost:8080/",
     "height": 185
    },
    "colab_type": "code",
    "id": "mmMRUo7OL6oi",
    "outputId": "df372112-b1b8-4ccc-d825-85fba128eecc"
   },
   "outputs": [
    {
     "name": "stdout",
     "output_type": "stream",
     "text": [
      "Сумма затрат за период 329131.62\n",
      "\n",
      "Распределение затрат по источникам\n"
     ]
    },
    {
     "data": {
      "text/plain": [
       "source_id\n",
       "1      20833.27\n",
       "2      42806.04\n",
       "3     141321.63\n",
       "4      61073.60\n",
       "5      51757.10\n",
       "9       5517.49\n",
       "10      5822.49\n",
       "Name: costs, dtype: float64"
      ]
     },
     "metadata": {},
     "output_type": "display_data"
    }
   ],
   "source": [
    "print(f'Сумма затрат за период {costs[\"costs\"].sum()}')\n",
    "print()\n",
    "print('Распределение затрат по источникам')\n",
    "display(costs.groupby('source_id')['costs'].sum())"
   ]
  },
  {
   "cell_type": "markdown",
   "metadata": {
    "colab_type": "text",
    "id": "Sc5tedNkOUm-"
   },
   "source": [
    "<div style=\"border:solid grey 2px; padding: 30px\">\n",
    "Маркетинговые затраты составили 329 млн. руб. В основном они были распределены аналогично выручке между источникми рекламы 1-5, но наибольшие затраты (141 млн руб.) были на источник 3, наименьшие (из этих 5 источников) на источник 1 (20 млн руб.).\n"
   ]
  },
  {
   "cell_type": "markdown",
   "metadata": {
    "colab_type": "text",
    "id": "Yk17BFzoPXYQ"
   },
   "source": [
    "## Считаем метрики"
   ]
  },
  {
   "cell_type": "markdown",
   "metadata": {
    "colab_type": "text",
    "id": "68VLDHy4PdUx"
   },
   "source": [
    "### Пользовательская активность"
   ]
  },
  {
   "cell_type": "code",
   "execution_count": 18,
   "metadata": {
    "colab": {},
    "colab_type": "code",
    "id": "Ttw0nWdPkd-p"
   },
   "outputs": [],
   "source": [
    "def get_au(df):\n",
    "  dau = df.groupby('session_date').agg({'uid': 'nunique'}).mean()\n",
    "  wau = df.groupby(['session_year', 'session_week']).agg({'uid': 'nunique'}).mean()\n",
    "  mau = df.groupby(['session_year', 'session_month']).agg({'uid': 'nunique'}).mean()\n",
    "  print('DAU', dau)\n",
    "  print('WAU', wau)\n",
    "  print('MAU', mau)"
   ]
  },
  {
   "cell_type": "markdown",
   "metadata": {
    "colab_type": "text",
    "id": "7cupc9hSaj6c"
   },
   "source": [
    "За весь период"
   ]
  },
  {
   "cell_type": "code",
   "execution_count": 19,
   "metadata": {
    "colab": {
     "base_uri": "https://localhost:8080/",
     "height": 118
    },
    "colab_type": "code",
    "id": "DuG_59yrkr-b",
    "outputId": "a1f36ffa-d1b4-4390-a4eb-4421e18498a0"
   },
   "outputs": [
    {
     "name": "stdout",
     "output_type": "stream",
     "text": [
      "DAU uid    907.991758\n",
      "dtype: float64\n",
      "WAU uid    5716.245283\n",
      "dtype: float64\n",
      "MAU uid    23228.416667\n",
      "dtype: float64\n"
     ]
    }
   ],
   "source": [
    "get_au(visits)"
   ]
  },
  {
   "cell_type": "code",
   "execution_count": 20,
   "metadata": {
    "colab": {
     "base_uri": "https://localhost:8080/",
     "height": 84
    },
    "colab_type": "code",
    "id": "3uXglWpwdohC",
    "outputId": "3e2ed58f-207c-48e0-d0ea-e8fe2fe54ae6"
   },
   "outputs": [
    {
     "data": {
      "text/plain": [
       "uid    0.158844\n",
       "dtype: float64"
      ]
     },
     "metadata": {},
     "output_type": "display_data"
    },
    {
     "data": {
      "text/plain": [
       "uid    0.03909\n",
       "dtype: float64"
      ]
     },
     "metadata": {},
     "output_type": "display_data"
    }
   ],
   "source": [
    "dau = visits.groupby('session_date').agg({'uid': 'nunique'}).mean()\n",
    "wau = visits.groupby(['session_year', 'session_week']).agg({'uid': 'nunique'}).mean()\n",
    "mau = visits.groupby(['session_year', 'session_month']).agg({'uid': 'nunique'}).mean()\n",
    "display(dau / wau)\n",
    "display(dau / mau)"
   ]
  },
  {
   "cell_type": "markdown",
   "metadata": {
    "colab_type": "text",
    "id": "9JOVPIgGanJ3"
   },
   "source": [
    "За 2018 год"
   ]
  },
  {
   "cell_type": "code",
   "execution_count": 21,
   "metadata": {
    "colab": {
     "base_uri": "https://localhost:8080/",
     "height": 118
    },
    "colab_type": "code",
    "id": "6zehv1dFkzAa",
    "outputId": "4988f0bb-d112-4a4e-f0ae-cda73db696e6"
   },
   "outputs": [
    {
     "name": "stdout",
     "output_type": "stream",
     "text": [
      "DAU uid    997.46\n",
      "dtype: float64\n",
      "WAU uid    6244.181818\n",
      "dtype: float64\n",
      "MAU uid    25329.4\n",
      "dtype: float64\n"
     ]
    }
   ],
   "source": [
    "get_au(visits[visits['session_year']==2018])"
   ]
  },
  {
   "cell_type": "markdown",
   "metadata": {
    "colab_type": "text",
    "id": "6hCi9xB2avgP"
   },
   "source": [
    "За 2017 год"
   ]
  },
  {
   "cell_type": "code",
   "execution_count": 22,
   "metadata": {
    "colab": {
     "base_uri": "https://localhost:8080/",
     "height": 118
    },
    "colab_type": "code",
    "id": "2AEWTCtAatF5",
    "outputId": "3fea95c1-8de5-4fbe-a3b0-81622435bfce"
   },
   "outputs": [
    {
     "name": "stdout",
     "output_type": "stream",
     "text": [
      "DAU uid    845.280374\n",
      "dtype: float64\n",
      "WAU uid    5341.580645\n",
      "dtype: float64\n",
      "MAU uid    21727.714286\n",
      "dtype: float64\n"
     ]
    }
   ],
   "source": [
    "get_au(visits[visits['session_year']==2017])"
   ]
  },
  {
   "cell_type": "markdown",
   "metadata": {
    "colab_type": "text",
    "id": "xf5fE26keuHv"
   },
   "source": [
    "По платформам весь период"
   ]
  },
  {
   "cell_type": "code",
   "execution_count": 23,
   "metadata": {
    "colab": {
     "base_uri": "https://localhost:8080/",
     "height": 235
    },
    "colab_type": "code",
    "id": "NrTObgI8lEFo",
    "outputId": "93df7c09-20f4-4507-8842-d190403e91ff"
   },
   "outputs": [
    {
     "name": "stdout",
     "output_type": "stream",
     "text": [
      "DAU uid    659.244505\n",
      "dtype: float64\n",
      "WAU uid    4129.509434\n",
      "dtype: float64\n",
      "MAU uid    16724.916667\n",
      "dtype: float64\n",
      "\n",
      "DAU uid    252.873278\n",
      "dtype: float64\n",
      "WAU uid    1634.924528\n",
      "dtype: float64\n",
      "MAU uid    6825.916667\n",
      "dtype: float64\n"
     ]
    }
   ],
   "source": [
    "get_au(visits[visits['device']=='desktop'])\n",
    "print()\n",
    "get_au(visits[visits['device']=='touch'])"
   ]
  },
  {
   "cell_type": "markdown",
   "metadata": {
    "colab_type": "text",
    "id": "SUYCf1y4exH5"
   },
   "source": [
    "По платформам 2017 год"
   ]
  },
  {
   "cell_type": "code",
   "execution_count": 24,
   "metadata": {
    "colab": {
     "base_uri": "https://localhost:8080/",
     "height": 235
    },
    "colab_type": "code",
    "id": "xFPxtgrcla3X",
    "outputId": "112846db-26f5-4a44-83cb-44c24835bee3"
   },
   "outputs": [
    {
     "name": "stdout",
     "output_type": "stream",
     "text": [
      "DAU uid    621.046729\n",
      "dtype: float64\n",
      "WAU uid    3910.483871\n",
      "dtype: float64\n",
      "MAU uid    15863.571429\n",
      "dtype: float64\n",
      "\n",
      "DAU uid    227.602804\n",
      "dtype: float64\n",
      "WAU uid    1479.225806\n",
      "dtype: float64\n",
      "MAU uid    6177.571429\n",
      "dtype: float64\n"
     ]
    }
   ],
   "source": [
    "get_au(visits[(visits['session_year']==2017) & (visits['device']=='desktop')])\n",
    "print()\n",
    "get_au(visits[(visits['session_year']==2017) & (visits['device']=='touch')])"
   ]
  },
  {
   "cell_type": "markdown",
   "metadata": {
    "colab_type": "text",
    "id": "YgF5EHVQfB3Z"
   },
   "source": [
    "По платформам 2018 год"
   ]
  },
  {
   "cell_type": "code",
   "execution_count": 25,
   "metadata": {
    "colab": {
     "base_uri": "https://localhost:8080/",
     "height": 235
    },
    "colab_type": "code",
    "id": "VbIVOsyLfeOw",
    "outputId": "9c025a90-c3e5-4473-e1da-3801917b60e5"
   },
   "outputs": [
    {
     "name": "stdout",
     "output_type": "stream",
     "text": [
      "DAU uid    713.74\n",
      "dtype: float64\n",
      "WAU uid    4438.136364\n",
      "dtype: float64\n",
      "MAU uid    17930.8\n",
      "dtype: float64\n",
      "\n",
      "DAU uid    289.167785\n",
      "dtype: float64\n",
      "WAU uid    1854.318182\n",
      "dtype: float64\n",
      "MAU uid    7733.6\n",
      "dtype: float64\n"
     ]
    }
   ],
   "source": [
    "get_au(visits[(visits['session_year']==2018) & (visits['device']=='desktop')])\n",
    "print()\n",
    "get_au(visits[(visits['session_year']==2018) & (visits['device']=='touch')])"
   ]
  },
  {
   "cell_type": "markdown",
   "metadata": {
    "colab_type": "text",
    "id": "WhMIOYfGkZvs"
   },
   "source": [
    "Количество и продолжительность сессий"
   ]
  },
  {
   "cell_type": "code",
   "execution_count": 26,
   "metadata": {
    "colab": {
     "base_uri": "https://localhost:8080/",
     "height": 50
    },
    "colab_type": "code",
    "id": "v6Bk_NeshkEq",
    "outputId": "5b2f9180-98d2-40c3-e0a9-2562bd7e7bcd"
   },
   "outputs": [
    {
     "data": {
      "text/plain": [
       "1.0874136559064957"
      ]
     },
     "metadata": {},
     "output_type": "display_data"
    },
    {
     "data": {
      "text/plain": [
       "10.717094787608978"
      ]
     },
     "execution_count": 26,
     "metadata": {},
     "output_type": "execute_result"
    }
   ],
   "source": [
    "display(visits.groupby(['session_date', 'uid']).agg({'start_ts': 'count'}).reset_index()['start_ts'].mean())\n",
    "#visits['session_dur'] = (visits['end_ts'] - visits['start_ts']).dt.seconds/60\n",
    "visits['session_dur'] = (visits['end_ts'] - visits['start_ts']).dt.total_seconds()/60\n",
    "visits['session_dur'].mean()"
   ]
  },
  {
   "cell_type": "code",
   "execution_count": 27,
   "metadata": {},
   "outputs": [
    {
     "data": {
      "text/plain": [
       "<matplotlib.axes._subplots.AxesSubplot at 0x7f460d1b0490>"
      ]
     },
     "execution_count": 27,
     "metadata": {},
     "output_type": "execute_result"
    },
    {
     "data": {
      "image/png": "[encoded data removed]",
      "text/plain": [
       "<Figure size 432x288 with 1 Axes>"
      ]
     },
     "metadata": {
      "needs_background": "light"
     },
     "output_type": "display_data"
    }
   ],
   "source": [
    "visits['session_dur'].hist(range=(0,60))"
   ]
  },
  {
   "cell_type": "code",
   "execution_count": 28,
   "metadata": {},
   "outputs": [
    {
     "data": {
      "text/plain": [
       "11.90282526379979"
      ]
     },
     "execution_count": 28,
     "metadata": {},
     "output_type": "execute_result"
    }
   ],
   "source": [
    "#Если выкинуть самые короткие сессии\n",
    "visits[visits['session_dur']>0.1]['session_dur'].mean()"
   ]
  },
  {
   "cell_type": "markdown",
   "metadata": {
    "colab_type": "text",
    "id": "4w31JXdSWjwO"
   },
   "source": [
    "<div style=\"border:solid grey 2px; padding: 30px\">\n",
    "    Среднее за анализируемый период дневное количество активных пользователей - 0,9 тыс., недельное - 5,7 тыс., месячное - 23 тыс. \n",
    "Частота захода на сайт активного пользователя в среднем составляет от 1 раз в месяц до 1 раза в неделю.<br>\n",
    "В 2018 году удалось заметно улучшить ползовательскую активность по сравнению с 2017 годом. При этом, как и ожидалось в соответствии с общим трендом, количество активных пользоватателей мобильных девайсов растет значительно быстрее, чем десктопных. Но даже при этом доля дневного количества пользователей мобильных девайсов за 2018 года составила 29% от общего количества.<br>\n",
    "В среднем пользователи делают одну сессию в день длительностью 10 минут. (если не учитывать сессии короче 0,1 минуты, то 12 минут)\n"
   ]
  },
  {
   "cell_type": "markdown",
   "metadata": {},
   "source": [
    "## <span style=\"color:orange\">Что можно улучшить<span>\n",
    "Используемый тобой метод `seconds` отлично работает, если есть уверенность, что даты правильные (дата окончания больше даты начала), в противном случае метод возвращает кол-во секунд в одном дне.\n",
    "\n",
    "Посмотри на метод `total_seconds()` - он в любом случаем возвращает кол-во секунд. Попробуй сравнить оба метода, думаю, найдется интересная информация о данных.\n",
    "    \n",
    "Чтобы понять релевантна ли оценка средним, предлагаю построить распределение длительности сессий"
   ]
  },
  {
   "cell_type": "markdown",
   "metadata": {},
   "source": [
    "#### Retention Rate"
   ]
  },
  {
   "cell_type": "code",
   "execution_count": 29,
   "metadata": {},
   "outputs": [
    {
     "data": {
      "text/html": [
       "<div>\n",
       "<style scoped>\n",
       "    .dataframe tbody tr th:only-of-type {\n",
       "        vertical-align: middle;\n",
       "    }\n",
       "\n",
       "    .dataframe tbody tr th {\n",
       "        vertical-align: top;\n",
       "    }\n",
       "\n",
       "    .dataframe thead th {\n",
       "        text-align: right;\n",
       "    }\n",
       "</style>\n",
       "<table border=\"1\" class=\"dataframe\">\n",
       "  <thead>\n",
       "    <tr style=\"text-align: right;\">\n",
       "      <th></th>\n",
       "      <th>uid</th>\n",
       "      <th>activation_date</th>\n",
       "    </tr>\n",
       "  </thead>\n",
       "  <tbody>\n",
       "    <tr>\n",
       "      <td>0</td>\n",
       "      <td>11863502262781</td>\n",
       "      <td>2018-03-01 17:27:00</td>\n",
       "    </tr>\n",
       "    <tr>\n",
       "      <td>1</td>\n",
       "      <td>49537067089222</td>\n",
       "      <td>2018-02-06 15:55:00</td>\n",
       "    </tr>\n",
       "    <tr>\n",
       "      <td>2</td>\n",
       "      <td>297729379853735</td>\n",
       "      <td>2017-06-07 18:47:00</td>\n",
       "    </tr>\n",
       "    <tr>\n",
       "      <td>3</td>\n",
       "      <td>313578113262317</td>\n",
       "      <td>2017-09-18 22:49:00</td>\n",
       "    </tr>\n",
       "    <tr>\n",
       "      <td>4</td>\n",
       "      <td>325320750514679</td>\n",
       "      <td>2017-09-30 14:29:00</td>\n",
       "    </tr>\n",
       "    <tr>\n",
       "      <td>...</td>\n",
       "      <td>...</td>\n",
       "      <td>...</td>\n",
       "    </tr>\n",
       "    <tr>\n",
       "      <td>228164</td>\n",
       "      <td>18446403737806311543</td>\n",
       "      <td>2017-11-30 03:36:00</td>\n",
       "    </tr>\n",
       "    <tr>\n",
       "      <td>228165</td>\n",
       "      <td>18446424184725333426</td>\n",
       "      <td>2017-12-06 20:32:00</td>\n",
       "    </tr>\n",
       "    <tr>\n",
       "      <td>228166</td>\n",
       "      <td>18446556406699109058</td>\n",
       "      <td>2018-01-01 16:29:00</td>\n",
       "    </tr>\n",
       "    <tr>\n",
       "      <td>228167</td>\n",
       "      <td>18446621818809592527</td>\n",
       "      <td>2017-12-27 13:27:00</td>\n",
       "    </tr>\n",
       "    <tr>\n",
       "      <td>228168</td>\n",
       "      <td>18446676030785672386</td>\n",
       "      <td>2017-10-04 16:01:00</td>\n",
       "    </tr>\n",
       "  </tbody>\n",
       "</table>\n",
       "<p>228169 rows × 2 columns</p>\n",
       "</div>"
      ],
      "text/plain": [
       "                         uid     activation_date\n",
       "0             11863502262781 2018-03-01 17:27:00\n",
       "1             49537067089222 2018-02-06 15:55:00\n",
       "2            297729379853735 2017-06-07 18:47:00\n",
       "3            313578113262317 2017-09-18 22:49:00\n",
       "4            325320750514679 2017-09-30 14:29:00\n",
       "...                      ...                 ...\n",
       "228164  18446403737806311543 2017-11-30 03:36:00\n",
       "228165  18446424184725333426 2017-12-06 20:32:00\n",
       "228166  18446556406699109058 2018-01-01 16:29:00\n",
       "228167  18446621818809592527 2017-12-27 13:27:00\n",
       "228168  18446676030785672386 2017-10-04 16:01:00\n",
       "\n",
       "[228169 rows x 2 columns]"
      ]
     },
     "execution_count": 29,
     "metadata": {},
     "output_type": "execute_result"
    }
   ],
   "source": [
    "activation_date = visits.groupby('uid')['start_ts'].min().reset_index()\n",
    "activation_date.columns=['uid', 'activation_date']\n",
    "activation_date"
   ]
  },
  {
   "cell_type": "code",
   "execution_count": 30,
   "metadata": {},
   "outputs": [],
   "source": [
    "visits = visits.merge(activation_date,on='uid')"
   ]
  },
  {
   "cell_type": "code",
   "execution_count": 31,
   "metadata": {},
   "outputs": [
    {
     "data": {
      "text/html": [
       "<div>\n",
       "<style scoped>\n",
       "    .dataframe tbody tr th:only-of-type {\n",
       "        vertical-align: middle;\n",
       "    }\n",
       "\n",
       "    .dataframe tbody tr th {\n",
       "        vertical-align: top;\n",
       "    }\n",
       "\n",
       "    .dataframe thead th {\n",
       "        text-align: right;\n",
       "    }\n",
       "</style>\n",
       "<table border=\"1\" class=\"dataframe\">\n",
       "  <thead>\n",
       "    <tr style=\"text-align: right;\">\n",
       "      <th></th>\n",
       "      <th>device</th>\n",
       "      <th>end_ts</th>\n",
       "      <th>source_id</th>\n",
       "      <th>start_ts</th>\n",
       "      <th>uid</th>\n",
       "      <th>session_year</th>\n",
       "      <th>session_month</th>\n",
       "      <th>session_week</th>\n",
       "      <th>session_date</th>\n",
       "      <th>session_dur</th>\n",
       "      <th>activation_date</th>\n",
       "      <th>lifetime</th>\n",
       "      <th>activation_YM</th>\n",
       "    </tr>\n",
       "  </thead>\n",
       "  <tbody>\n",
       "    <tr>\n",
       "      <td>67520</td>\n",
       "      <td>desktop</td>\n",
       "      <td>2017-07-18 17:23:00</td>\n",
       "      <td>3</td>\n",
       "      <td>2017-07-18 16:24:00</td>\n",
       "      <td>3062555734001600152</td>\n",
       "      <td>2017</td>\n",
       "      <td>7</td>\n",
       "      <td>29</td>\n",
       "      <td>2017-07-18</td>\n",
       "      <td>59.0</td>\n",
       "      <td>2017-07-18 16:24:00</td>\n",
       "      <td>0</td>\n",
       "      <td>2017-07-01</td>\n",
       "    </tr>\n",
       "    <tr>\n",
       "      <td>32009</td>\n",
       "      <td>desktop</td>\n",
       "      <td>2018-03-07 12:26:00</td>\n",
       "      <td>5</td>\n",
       "      <td>2018-03-07 11:53:00</td>\n",
       "      <td>5101409291528370710</td>\n",
       "      <td>2018</td>\n",
       "      <td>3</td>\n",
       "      <td>10</td>\n",
       "      <td>2018-03-07</td>\n",
       "      <td>33.0</td>\n",
       "      <td>2017-06-02 00:35:00</td>\n",
       "      <td>9</td>\n",
       "      <td>2017-06-01</td>\n",
       "    </tr>\n",
       "    <tr>\n",
       "      <td>304284</td>\n",
       "      <td>touch</td>\n",
       "      <td>2018-04-23 12:20:00</td>\n",
       "      <td>2</td>\n",
       "      <td>2018-04-23 11:52:00</td>\n",
       "      <td>11073204800773217114</td>\n",
       "      <td>2018</td>\n",
       "      <td>4</td>\n",
       "      <td>17</td>\n",
       "      <td>2018-04-23</td>\n",
       "      <td>28.0</td>\n",
       "      <td>2018-04-03 12:56:00</td>\n",
       "      <td>0</td>\n",
       "      <td>2018-04-01</td>\n",
       "    </tr>\n",
       "    <tr>\n",
       "      <td>353433</td>\n",
       "      <td>desktop</td>\n",
       "      <td>2018-02-07 21:30:00</td>\n",
       "      <td>4</td>\n",
       "      <td>2018-02-07 21:29:00</td>\n",
       "      <td>11047629026204942562</td>\n",
       "      <td>2018</td>\n",
       "      <td>2</td>\n",
       "      <td>6</td>\n",
       "      <td>2018-02-07</td>\n",
       "      <td>1.0</td>\n",
       "      <td>2018-02-07 21:29:00</td>\n",
       "      <td>0</td>\n",
       "      <td>2018-02-01</td>\n",
       "    </tr>\n",
       "    <tr>\n",
       "      <td>91139</td>\n",
       "      <td>touch</td>\n",
       "      <td>2017-10-24 00:41:00</td>\n",
       "      <td>1</td>\n",
       "      <td>2017-10-24 00:41:00</td>\n",
       "      <td>6434495750856029650</td>\n",
       "      <td>2017</td>\n",
       "      <td>10</td>\n",
       "      <td>43</td>\n",
       "      <td>2017-10-24</td>\n",
       "      <td>0.0</td>\n",
       "      <td>2017-10-22 09:17:00</td>\n",
       "      <td>0</td>\n",
       "      <td>2017-10-01</td>\n",
       "    </tr>\n",
       "    <tr>\n",
       "      <td>162918</td>\n",
       "      <td>desktop</td>\n",
       "      <td>2017-10-01 14:51:00</td>\n",
       "      <td>4</td>\n",
       "      <td>2017-10-01 14:49:00</td>\n",
       "      <td>14627582027053719626</td>\n",
       "      <td>2017</td>\n",
       "      <td>10</td>\n",
       "      <td>39</td>\n",
       "      <td>2017-10-01</td>\n",
       "      <td>2.0</td>\n",
       "      <td>2017-10-01 14:49:00</td>\n",
       "      <td>0</td>\n",
       "      <td>2017-10-01</td>\n",
       "    </tr>\n",
       "    <tr>\n",
       "      <td>65201</td>\n",
       "      <td>touch</td>\n",
       "      <td>2017-07-09 22:45:00</td>\n",
       "      <td>5</td>\n",
       "      <td>2017-07-09 22:29:00</td>\n",
       "      <td>6581298000271672269</td>\n",
       "      <td>2017</td>\n",
       "      <td>7</td>\n",
       "      <td>27</td>\n",
       "      <td>2017-07-09</td>\n",
       "      <td>16.0</td>\n",
       "      <td>2017-07-09 22:29:00</td>\n",
       "      <td>0</td>\n",
       "      <td>2017-07-01</td>\n",
       "    </tr>\n",
       "    <tr>\n",
       "      <td>4983</td>\n",
       "      <td>desktop</td>\n",
       "      <td>2017-08-16 15:18:00</td>\n",
       "      <td>1</td>\n",
       "      <td>2017-08-16 14:20:00</td>\n",
       "      <td>14435995954877181653</td>\n",
       "      <td>2017</td>\n",
       "      <td>8</td>\n",
       "      <td>33</td>\n",
       "      <td>2017-08-16</td>\n",
       "      <td>58.0</td>\n",
       "      <td>2017-06-01 10:57:00</td>\n",
       "      <td>2</td>\n",
       "      <td>2017-06-01</td>\n",
       "    </tr>\n",
       "    <tr>\n",
       "      <td>1529</td>\n",
       "      <td>desktop</td>\n",
       "      <td>2017-07-13 09:54:00</td>\n",
       "      <td>1</td>\n",
       "      <td>2017-07-13 09:45:00</td>\n",
       "      <td>3263486045884611639</td>\n",
       "      <td>2017</td>\n",
       "      <td>7</td>\n",
       "      <td>28</td>\n",
       "      <td>2017-07-13</td>\n",
       "      <td>9.0</td>\n",
       "      <td>2017-06-01 08:51:00</td>\n",
       "      <td>1</td>\n",
       "      <td>2017-06-01</td>\n",
       "    </tr>\n",
       "    <tr>\n",
       "      <td>255885</td>\n",
       "      <td>touch</td>\n",
       "      <td>2017-10-05 14:45:00</td>\n",
       "      <td>4</td>\n",
       "      <td>2017-10-05 14:42:00</td>\n",
       "      <td>7878063567929319498</td>\n",
       "      <td>2017</td>\n",
       "      <td>10</td>\n",
       "      <td>40</td>\n",
       "      <td>2017-10-05</td>\n",
       "      <td>3.0</td>\n",
       "      <td>2017-10-05 14:42:00</td>\n",
       "      <td>0</td>\n",
       "      <td>2017-10-01</td>\n",
       "    </tr>\n",
       "  </tbody>\n",
       "</table>\n",
       "</div>"
      ],
      "text/plain": [
       "         device              end_ts  source_id            start_ts  \\\n",
       "67520   desktop 2017-07-18 17:23:00          3 2017-07-18 16:24:00   \n",
       "32009   desktop 2018-03-07 12:26:00          5 2018-03-07 11:53:00   \n",
       "304284    touch 2018-04-23 12:20:00          2 2018-04-23 11:52:00   \n",
       "353433  desktop 2018-02-07 21:30:00          4 2018-02-07 21:29:00   \n",
       "91139     touch 2017-10-24 00:41:00          1 2017-10-24 00:41:00   \n",
       "162918  desktop 2017-10-01 14:51:00          4 2017-10-01 14:49:00   \n",
       "65201     touch 2017-07-09 22:45:00          5 2017-07-09 22:29:00   \n",
       "4983    desktop 2017-08-16 15:18:00          1 2017-08-16 14:20:00   \n",
       "1529    desktop 2017-07-13 09:54:00          1 2017-07-13 09:45:00   \n",
       "255885    touch 2017-10-05 14:45:00          4 2017-10-05 14:42:00   \n",
       "\n",
       "                         uid  session_year  session_month  session_week  \\\n",
       "67520    3062555734001600152          2017              7            29   \n",
       "32009    5101409291528370710          2018              3            10   \n",
       "304284  11073204800773217114          2018              4            17   \n",
       "353433  11047629026204942562          2018              2             6   \n",
       "91139    6434495750856029650          2017             10            43   \n",
       "162918  14627582027053719626          2017             10            39   \n",
       "65201    6581298000271672269          2017              7            27   \n",
       "4983    14435995954877181653          2017              8            33   \n",
       "1529     3263486045884611639          2017              7            28   \n",
       "255885   7878063567929319498          2017             10            40   \n",
       "\n",
       "       session_date  session_dur     activation_date  lifetime activation_YM  \n",
       "67520    2017-07-18         59.0 2017-07-18 16:24:00         0    2017-07-01  \n",
       "32009    2018-03-07         33.0 2017-06-02 00:35:00         9    2017-06-01  \n",
       "304284   2018-04-23         28.0 2018-04-03 12:56:00         0    2018-04-01  \n",
       "353433   2018-02-07          1.0 2018-02-07 21:29:00         0    2018-02-01  \n",
       "91139    2017-10-24          0.0 2017-10-22 09:17:00         0    2017-10-01  \n",
       "162918   2017-10-01          2.0 2017-10-01 14:49:00         0    2017-10-01  \n",
       "65201    2017-07-09         16.0 2017-07-09 22:29:00         0    2017-07-01  \n",
       "4983     2017-08-16         58.0 2017-06-01 10:57:00         2    2017-06-01  \n",
       "1529     2017-07-13          9.0 2017-06-01 08:51:00         1    2017-06-01  \n",
       "255885   2017-10-05          3.0 2017-10-05 14:42:00         0    2017-10-01  "
      ]
     },
     "execution_count": 31,
     "metadata": {},
     "output_type": "execute_result"
    }
   ],
   "source": [
    "visits['lifetime'] = (visits['start_ts'].astype('datetime64[M]') - visits['activation_date'].astype('datetime64[M]')) / np.timedelta64(1, 'M')\n",
    "visits['lifetime'] = visits['lifetime'].round().astype('int')\n",
    "visits['activation_YM'] = visits['activation_date'].astype('datetime64[M]')\n",
    "visits.sample(10)"
   ]
  },
  {
   "cell_type": "code",
   "execution_count": 32,
   "metadata": {},
   "outputs": [
    {
     "data": {
      "text/html": [
       "<div>\n",
       "<style scoped>\n",
       "    .dataframe tbody tr th:only-of-type {\n",
       "        vertical-align: middle;\n",
       "    }\n",
       "\n",
       "    .dataframe tbody tr th {\n",
       "        vertical-align: top;\n",
       "    }\n",
       "\n",
       "    .dataframe thead th {\n",
       "        text-align: right;\n",
       "    }\n",
       "</style>\n",
       "<table border=\"1\" class=\"dataframe\">\n",
       "  <thead>\n",
       "    <tr style=\"text-align: right;\">\n",
       "      <th></th>\n",
       "      <th>activation_YM</th>\n",
       "      <th>lifetime</th>\n",
       "      <th>uid</th>\n",
       "    </tr>\n",
       "  </thead>\n",
       "  <tbody>\n",
       "    <tr>\n",
       "      <td>0</td>\n",
       "      <td>2017-06-01</td>\n",
       "      <td>0</td>\n",
       "      <td>13259</td>\n",
       "    </tr>\n",
       "    <tr>\n",
       "      <td>1</td>\n",
       "      <td>2017-06-01</td>\n",
       "      <td>1</td>\n",
       "      <td>1043</td>\n",
       "    </tr>\n",
       "    <tr>\n",
       "      <td>2</td>\n",
       "      <td>2017-06-01</td>\n",
       "      <td>2</td>\n",
       "      <td>713</td>\n",
       "    </tr>\n",
       "    <tr>\n",
       "      <td>3</td>\n",
       "      <td>2017-06-01</td>\n",
       "      <td>3</td>\n",
       "      <td>814</td>\n",
       "    </tr>\n",
       "    <tr>\n",
       "      <td>4</td>\n",
       "      <td>2017-06-01</td>\n",
       "      <td>4</td>\n",
       "      <td>909</td>\n",
       "    </tr>\n",
       "    <tr>\n",
       "      <td>...</td>\n",
       "      <td>...</td>\n",
       "      <td>...</td>\n",
       "      <td>...</td>\n",
       "    </tr>\n",
       "    <tr>\n",
       "      <td>73</td>\n",
       "      <td>2018-03-01</td>\n",
       "      <td>1</td>\n",
       "      <td>861</td>\n",
       "    </tr>\n",
       "    <tr>\n",
       "      <td>74</td>\n",
       "      <td>2018-03-01</td>\n",
       "      <td>2</td>\n",
       "      <td>557</td>\n",
       "    </tr>\n",
       "    <tr>\n",
       "      <td>75</td>\n",
       "      <td>2018-04-01</td>\n",
       "      <td>0</td>\n",
       "      <td>15709</td>\n",
       "    </tr>\n",
       "    <tr>\n",
       "      <td>76</td>\n",
       "      <td>2018-04-01</td>\n",
       "      <td>1</td>\n",
       "      <td>760</td>\n",
       "    </tr>\n",
       "    <tr>\n",
       "      <td>77</td>\n",
       "      <td>2018-05-01</td>\n",
       "      <td>0</td>\n",
       "      <td>15273</td>\n",
       "    </tr>\n",
       "  </tbody>\n",
       "</table>\n",
       "<p>78 rows × 3 columns</p>\n",
       "</div>"
      ],
      "text/plain": [
       "   activation_YM  lifetime    uid\n",
       "0     2017-06-01         0  13259\n",
       "1     2017-06-01         1   1043\n",
       "2     2017-06-01         2    713\n",
       "3     2017-06-01         3    814\n",
       "4     2017-06-01         4    909\n",
       "..           ...       ...    ...\n",
       "73    2018-03-01         1    861\n",
       "74    2018-03-01         2    557\n",
       "75    2018-04-01         0  15709\n",
       "76    2018-04-01         1    760\n",
       "77    2018-05-01         0  15273\n",
       "\n",
       "[78 rows x 3 columns]"
      ]
     },
     "execution_count": 32,
     "metadata": {},
     "output_type": "execute_result"
    }
   ],
   "source": [
    "cohorts = visits.groupby(['activation_YM','lifetime']).agg({'uid':'nunique'}).reset_index()\n",
    "cohorts"
   ]
  },
  {
   "cell_type": "code",
   "execution_count": 33,
   "metadata": {},
   "outputs": [
    {
     "data": {
      "text/html": [
       "<div>\n",
       "<style scoped>\n",
       "    .dataframe tbody tr th:only-of-type {\n",
       "        vertical-align: middle;\n",
       "    }\n",
       "\n",
       "    .dataframe tbody tr th {\n",
       "        vertical-align: top;\n",
       "    }\n",
       "\n",
       "    .dataframe thead th {\n",
       "        text-align: right;\n",
       "    }\n",
       "</style>\n",
       "<table border=\"1\" class=\"dataframe\">\n",
       "  <thead>\n",
       "    <tr style=\"text-align: right;\">\n",
       "      <th></th>\n",
       "      <th>activation_YM</th>\n",
       "      <th>cohort_users</th>\n",
       "    </tr>\n",
       "  </thead>\n",
       "  <tbody>\n",
       "    <tr>\n",
       "      <td>0</td>\n",
       "      <td>2017-06-01</td>\n",
       "      <td>13259</td>\n",
       "    </tr>\n",
       "    <tr>\n",
       "      <td>12</td>\n",
       "      <td>2017-07-01</td>\n",
       "      <td>13140</td>\n",
       "    </tr>\n",
       "    <tr>\n",
       "      <td>23</td>\n",
       "      <td>2017-08-01</td>\n",
       "      <td>10181</td>\n",
       "    </tr>\n",
       "    <tr>\n",
       "      <td>33</td>\n",
       "      <td>2017-09-01</td>\n",
       "      <td>16704</td>\n",
       "    </tr>\n",
       "    <tr>\n",
       "      <td>42</td>\n",
       "      <td>2017-10-01</td>\n",
       "      <td>25977</td>\n",
       "    </tr>\n",
       "    <tr>\n",
       "      <td>50</td>\n",
       "      <td>2017-11-01</td>\n",
       "      <td>27248</td>\n",
       "    </tr>\n",
       "    <tr>\n",
       "      <td>57</td>\n",
       "      <td>2017-12-01</td>\n",
       "      <td>25268</td>\n",
       "    </tr>\n",
       "    <tr>\n",
       "      <td>63</td>\n",
       "      <td>2018-01-01</td>\n",
       "      <td>22624</td>\n",
       "    </tr>\n",
       "    <tr>\n",
       "      <td>68</td>\n",
       "      <td>2018-02-01</td>\n",
       "      <td>22197</td>\n",
       "    </tr>\n",
       "    <tr>\n",
       "      <td>72</td>\n",
       "      <td>2018-03-01</td>\n",
       "      <td>20589</td>\n",
       "    </tr>\n",
       "    <tr>\n",
       "      <td>75</td>\n",
       "      <td>2018-04-01</td>\n",
       "      <td>15709</td>\n",
       "    </tr>\n",
       "    <tr>\n",
       "      <td>77</td>\n",
       "      <td>2018-05-01</td>\n",
       "      <td>15273</td>\n",
       "    </tr>\n",
       "  </tbody>\n",
       "</table>\n",
       "</div>"
      ],
      "text/plain": [
       "   activation_YM  cohort_users\n",
       "0     2017-06-01         13259\n",
       "12    2017-07-01         13140\n",
       "23    2017-08-01         10181\n",
       "33    2017-09-01         16704\n",
       "42    2017-10-01         25977\n",
       "50    2017-11-01         27248\n",
       "57    2017-12-01         25268\n",
       "63    2018-01-01         22624\n",
       "68    2018-02-01         22197\n",
       "72    2018-03-01         20589\n",
       "75    2018-04-01         15709\n",
       "77    2018-05-01         15273"
      ]
     },
     "execution_count": 33,
     "metadata": {},
     "output_type": "execute_result"
    }
   ],
   "source": [
    "initial_users_count = cohorts[cohorts['lifetime'] == 0][['activation_YM','uid']].rename(columns={'uid':'cohort_users'})\n",
    "initial_users_count"
   ]
  },
  {
   "cell_type": "code",
   "execution_count": 34,
   "metadata": {},
   "outputs": [],
   "source": [
    "cohorts = cohorts.merge(initial_users_count,on='activation_YM')\n"
   ]
  },
  {
   "cell_type": "code",
   "execution_count": 35,
   "metadata": {},
   "outputs": [
    {
     "data": {
      "text/html": [
       "<div>\n",
       "<style scoped>\n",
       "    .dataframe tbody tr th:only-of-type {\n",
       "        vertical-align: middle;\n",
       "    }\n",
       "\n",
       "    .dataframe tbody tr th {\n",
       "        vertical-align: top;\n",
       "    }\n",
       "\n",
       "    .dataframe thead th {\n",
       "        text-align: right;\n",
       "    }\n",
       "</style>\n",
       "<table border=\"1\" class=\"dataframe\">\n",
       "  <thead>\n",
       "    <tr style=\"text-align: right;\">\n",
       "      <th></th>\n",
       "      <th>activation_YM</th>\n",
       "      <th>lifetime</th>\n",
       "      <th>uid</th>\n",
       "      <th>cohort_users</th>\n",
       "    </tr>\n",
       "  </thead>\n",
       "  <tbody>\n",
       "    <tr>\n",
       "      <td>0</td>\n",
       "      <td>2017-06-01</td>\n",
       "      <td>0</td>\n",
       "      <td>13259</td>\n",
       "      <td>13259</td>\n",
       "    </tr>\n",
       "    <tr>\n",
       "      <td>1</td>\n",
       "      <td>2017-06-01</td>\n",
       "      <td>1</td>\n",
       "      <td>1043</td>\n",
       "      <td>13259</td>\n",
       "    </tr>\n",
       "    <tr>\n",
       "      <td>2</td>\n",
       "      <td>2017-06-01</td>\n",
       "      <td>2</td>\n",
       "      <td>713</td>\n",
       "      <td>13259</td>\n",
       "    </tr>\n",
       "    <tr>\n",
       "      <td>3</td>\n",
       "      <td>2017-06-01</td>\n",
       "      <td>3</td>\n",
       "      <td>814</td>\n",
       "      <td>13259</td>\n",
       "    </tr>\n",
       "    <tr>\n",
       "      <td>4</td>\n",
       "      <td>2017-06-01</td>\n",
       "      <td>4</td>\n",
       "      <td>909</td>\n",
       "      <td>13259</td>\n",
       "    </tr>\n",
       "    <tr>\n",
       "      <td>...</td>\n",
       "      <td>...</td>\n",
       "      <td>...</td>\n",
       "      <td>...</td>\n",
       "      <td>...</td>\n",
       "    </tr>\n",
       "    <tr>\n",
       "      <td>73</td>\n",
       "      <td>2018-03-01</td>\n",
       "      <td>1</td>\n",
       "      <td>861</td>\n",
       "      <td>20589</td>\n",
       "    </tr>\n",
       "    <tr>\n",
       "      <td>74</td>\n",
       "      <td>2018-03-01</td>\n",
       "      <td>2</td>\n",
       "      <td>557</td>\n",
       "      <td>20589</td>\n",
       "    </tr>\n",
       "    <tr>\n",
       "      <td>75</td>\n",
       "      <td>2018-04-01</td>\n",
       "      <td>0</td>\n",
       "      <td>15709</td>\n",
       "      <td>15709</td>\n",
       "    </tr>\n",
       "    <tr>\n",
       "      <td>76</td>\n",
       "      <td>2018-04-01</td>\n",
       "      <td>1</td>\n",
       "      <td>760</td>\n",
       "      <td>15709</td>\n",
       "    </tr>\n",
       "    <tr>\n",
       "      <td>77</td>\n",
       "      <td>2018-05-01</td>\n",
       "      <td>0</td>\n",
       "      <td>15273</td>\n",
       "      <td>15273</td>\n",
       "    </tr>\n",
       "  </tbody>\n",
       "</table>\n",
       "<p>78 rows × 4 columns</p>\n",
       "</div>"
      ],
      "text/plain": [
       "   activation_YM  lifetime    uid  cohort_users\n",
       "0     2017-06-01         0  13259         13259\n",
       "1     2017-06-01         1   1043         13259\n",
       "2     2017-06-01         2    713         13259\n",
       "3     2017-06-01         3    814         13259\n",
       "4     2017-06-01         4    909         13259\n",
       "..           ...       ...    ...           ...\n",
       "73    2018-03-01         1    861         20589\n",
       "74    2018-03-01         2    557         20589\n",
       "75    2018-04-01         0  15709         15709\n",
       "76    2018-04-01         1    760         15709\n",
       "77    2018-05-01         0  15273         15273\n",
       "\n",
       "[78 rows x 4 columns]"
      ]
     },
     "execution_count": 35,
     "metadata": {},
     "output_type": "execute_result"
    }
   ],
   "source": [
    "cohorts"
   ]
  },
  {
   "cell_type": "code",
   "execution_count": 36,
   "metadata": {},
   "outputs": [],
   "source": [
    "cohorts['retention'] = cohorts['uid']/cohorts['cohort_users']\n",
    "retention_pivot = cohorts.pivot_table(index='activation_YM',columns='lifetime',values='retention',aggfunc='sum')"
   ]
  },
  {
   "cell_type": "code",
   "execution_count": 37,
   "metadata": {},
   "outputs": [
    {
     "data": {
      "image/png": "[encoded data removed]",
      "text/plain": [
       "<Figure size 936x648 with 2 Axes>"
      ]
     },
     "metadata": {},
     "output_type": "display_data"
    }
   ],
   "source": [
    "sns.set(style='white')\n",
    "plt.figure(figsize=(13, 9))\n",
    "plt.title('Cohorts: User Retention')\n",
    "sns.heatmap(retention_pivot, annot=True, fmt='.1%', linewidths=1, linecolor='gray', vmax=0.1);"
   ]
  },
  {
   "cell_type": "markdown",
   "metadata": {},
   "source": [
    "<div style=\"border:solid grey 2px; padding: 30px\">\n",
    "После первого месяца в сервисе остается только около 8% процентов от изначального колиечства пользователей."
   ]
  },
  {
   "cell_type": "markdown",
   "metadata": {
    "colab_type": "text",
    "id": "CJ3xKaGwmG4P"
   },
   "source": [
    "### Продажи"
   ]
  },
  {
   "cell_type": "markdown",
   "metadata": {
    "colab_type": "text",
    "id": "Fuww90kqzUFb"
   },
   "source": [
    "#### Когда пользователь делает первую покупку?"
   ]
  },
  {
   "cell_type": "code",
   "execution_count": 38,
   "metadata": {
    "colab": {},
    "colab_type": "code",
    "id": "R-Bk5938fOzP"
   },
   "outputs": [],
   "source": [
    "orders = orders.merge(activation_date, on='uid')"
   ]
  },
  {
   "cell_type": "code",
   "execution_count": 39,
   "metadata": {
    "colab": {
     "base_uri": "https://localhost:8080/",
     "height": 281
    },
    "colab_type": "code",
    "id": "I80OsBrkfuza",
    "outputId": "364e8d33-3031-4a1b-da75-ae8130106d56"
   },
   "outputs": [
    {
     "data": {
      "image/png": "[encoded data removed]",
      "text/plain": [
       "<Figure size 432x288 with 1 Axes>"
      ]
     },
     "metadata": {},
     "output_type": "display_data"
    }
   ],
   "source": [
    "orders['buy_time'] = (orders['buy_ts'] - orders['activation_date']).dt.days\n",
    "orders['buy_time'].hist(bins=100)\n",
    "plt.title('Распределение времени от старта первой сессии пользователя до покупки, дней')\n",
    "plt.show()"
   ]
  },
  {
   "cell_type": "code",
   "execution_count": 40,
   "metadata": {
    "colab": {
     "base_uri": "https://localhost:8080/",
     "height": 281
    },
    "colab_type": "code",
    "id": "XMla-Bn3ljup",
    "outputId": "0cdce8e4-fdc7-45c3-a3e7-34475dd88617"
   },
   "outputs": [
    {
     "data": {
      "image/png": "[encoded data removed]",
      "text/plain": [
       "<Figure size 432x288 with 1 Axes>"
      ]
     },
     "metadata": {},
     "output_type": "display_data"
    }
   ],
   "source": [
    "orders['buy_time'] = (orders['buy_ts'] - orders['activation_date']).dt.seconds/3600\n",
    "orders['buy_time'].hist()\n",
    "plt.title('Распределение времени от старта первой сессии пользователя до покупки, часов')\n",
    "plt.show()"
   ]
  },
  {
   "cell_type": "markdown",
   "metadata": {
    "colab_type": "text",
    "id": "wHjQnLfgnO_u"
   },
   "source": [
    "Подавляющее большинство пользователей совершают покупку в первый час с начала первой сессии."
   ]
  },
  {
   "cell_type": "markdown",
   "metadata": {
    "colab_type": "text",
    "id": "7wDwdrHIznq1"
   },
   "source": [
    "#### Количество и частота продаж"
   ]
  },
  {
   "cell_type": "code",
   "execution_count": 41,
   "metadata": {
    "colab": {
     "base_uri": "https://localhost:8080/",
     "height": 123
    },
    "colab_type": "code",
    "id": "8YddNo-cw2UA",
    "outputId": "8e163281-1793-429f-e7c1-7afcc04efbdb"
   },
   "outputs": [
    {
     "name": "stdout",
     "output_type": "stream",
     "text": [
      "\u001b[1mСреднее количество продаж по годам (7 мес. 2017 г. и 5 мес. 2018 г.)\n"
     ]
    },
    {
     "data": {
      "text/html": [
       "<div>\n",
       "<style scoped>\n",
       "    .dataframe tbody tr th:only-of-type {\n",
       "        vertical-align: middle;\n",
       "    }\n",
       "\n",
       "    .dataframe tbody tr th {\n",
       "        vertical-align: top;\n",
       "    }\n",
       "\n",
       "    .dataframe thead th {\n",
       "        text-align: right;\n",
       "    }\n",
       "</style>\n",
       "<table border=\"1\" class=\"dataframe\">\n",
       "  <thead>\n",
       "    <tr style=\"text-align: right;\">\n",
       "      <th></th>\n",
       "      <th>buy_year</th>\n",
       "      <th>buy_ts</th>\n",
       "    </tr>\n",
       "  </thead>\n",
       "  <tbody>\n",
       "    <tr>\n",
       "      <td>0</td>\n",
       "      <td>2017</td>\n",
       "      <td>27467</td>\n",
       "    </tr>\n",
       "    <tr>\n",
       "      <td>1</td>\n",
       "      <td>2018</td>\n",
       "      <td>22948</td>\n",
       "    </tr>\n",
       "  </tbody>\n",
       "</table>\n",
       "</div>"
      ],
      "text/plain": [
       "   buy_year  buy_ts\n",
       "0      2017   27467\n",
       "1      2018   22948"
      ]
     },
     "execution_count": 41,
     "metadata": {},
     "output_type": "execute_result"
    }
   ],
   "source": [
    "\n",
    "print('\\033[1m' + 'Среднее количество продаж по годам (7 мес. 2017 г. и 5 мес. 2018 г.)')\n",
    "orders.groupby('buy_year')['buy_ts'].count().reset_index()"
   ]
  },
  {
   "cell_type": "code",
   "execution_count": 42,
   "metadata": {
    "colab": {
     "base_uri": "https://localhost:8080/",
     "height": 690
    },
    "colab_type": "code",
    "id": "e8I_DQLCxB8i",
    "outputId": "e8a8bdce-d1e9-491c-c6b1-d37ac567ab26"
   },
   "outputs": [
    {
     "name": "stdout",
     "output_type": "stream",
     "text": [
      "\u001b[1m    Среднее количество продаж по месяцам\n"
     ]
    },
    {
     "data": {
      "text/html": [
       "<div>\n",
       "<style scoped>\n",
       "    .dataframe tbody tr th:only-of-type {\n",
       "        vertical-align: middle;\n",
       "    }\n",
       "\n",
       "    .dataframe tbody tr th {\n",
       "        vertical-align: top;\n",
       "    }\n",
       "\n",
       "    .dataframe thead th {\n",
       "        text-align: right;\n",
       "    }\n",
       "</style>\n",
       "<table border=\"1\" class=\"dataframe\">\n",
       "  <thead>\n",
       "    <tr style=\"text-align: right;\">\n",
       "      <th></th>\n",
       "      <th>buy_year</th>\n",
       "      <th>buy_month</th>\n",
       "      <th>buy_ts</th>\n",
       "      <th>y_m</th>\n",
       "    </tr>\n",
       "  </thead>\n",
       "  <tbody>\n",
       "    <tr>\n",
       "      <td>0</td>\n",
       "      <td>2017</td>\n",
       "      <td>6</td>\n",
       "      <td>2354</td>\n",
       "      <td>2017-6</td>\n",
       "    </tr>\n",
       "    <tr>\n",
       "      <td>1</td>\n",
       "      <td>2017</td>\n",
       "      <td>7</td>\n",
       "      <td>2363</td>\n",
       "      <td>2017-7</td>\n",
       "    </tr>\n",
       "    <tr>\n",
       "      <td>2</td>\n",
       "      <td>2017</td>\n",
       "      <td>8</td>\n",
       "      <td>1807</td>\n",
       "      <td>2017-8</td>\n",
       "    </tr>\n",
       "    <tr>\n",
       "      <td>3</td>\n",
       "      <td>2017</td>\n",
       "      <td>9</td>\n",
       "      <td>3387</td>\n",
       "      <td>2017-9</td>\n",
       "    </tr>\n",
       "    <tr>\n",
       "      <td>4</td>\n",
       "      <td>2017</td>\n",
       "      <td>10</td>\n",
       "      <td>5679</td>\n",
       "      <td>2017-10</td>\n",
       "    </tr>\n",
       "    <tr>\n",
       "      <td>5</td>\n",
       "      <td>2017</td>\n",
       "      <td>11</td>\n",
       "      <td>5659</td>\n",
       "      <td>2017-11</td>\n",
       "    </tr>\n",
       "    <tr>\n",
       "      <td>6</td>\n",
       "      <td>2017</td>\n",
       "      <td>12</td>\n",
       "      <td>6218</td>\n",
       "      <td>2017-12</td>\n",
       "    </tr>\n",
       "    <tr>\n",
       "      <td>7</td>\n",
       "      <td>2018</td>\n",
       "      <td>1</td>\n",
       "      <td>4721</td>\n",
       "      <td>2018-1</td>\n",
       "    </tr>\n",
       "    <tr>\n",
       "      <td>8</td>\n",
       "      <td>2018</td>\n",
       "      <td>2</td>\n",
       "      <td>5281</td>\n",
       "      <td>2018-2</td>\n",
       "    </tr>\n",
       "    <tr>\n",
       "      <td>9</td>\n",
       "      <td>2018</td>\n",
       "      <td>3</td>\n",
       "      <td>5326</td>\n",
       "      <td>2018-3</td>\n",
       "    </tr>\n",
       "    <tr>\n",
       "      <td>10</td>\n",
       "      <td>2018</td>\n",
       "      <td>4</td>\n",
       "      <td>3273</td>\n",
       "      <td>2018-4</td>\n",
       "    </tr>\n",
       "    <tr>\n",
       "      <td>11</td>\n",
       "      <td>2018</td>\n",
       "      <td>5</td>\n",
       "      <td>4346</td>\n",
       "      <td>2018-5</td>\n",
       "    </tr>\n",
       "    <tr>\n",
       "      <td>12</td>\n",
       "      <td>2018</td>\n",
       "      <td>6</td>\n",
       "      <td>1</td>\n",
       "      <td>2018-6</td>\n",
       "    </tr>\n",
       "  </tbody>\n",
       "</table>\n",
       "</div>"
      ],
      "text/plain": [
       "    buy_year  buy_month  buy_ts      y_m\n",
       "0       2017          6    2354   2017-6\n",
       "1       2017          7    2363   2017-7\n",
       "2       2017          8    1807   2017-8\n",
       "3       2017          9    3387   2017-9\n",
       "4       2017         10    5679  2017-10\n",
       "5       2017         11    5659  2017-11\n",
       "6       2017         12    6218  2017-12\n",
       "7       2018          1    4721   2018-1\n",
       "8       2018          2    5281   2018-2\n",
       "9       2018          3    5326   2018-3\n",
       "10      2018          4    3273   2018-4\n",
       "11      2018          5    4346   2018-5\n",
       "12      2018          6       1   2018-6"
      ]
     },
     "metadata": {},
     "output_type": "display_data"
    },
    {
     "data": {
      "text/plain": [
       "3878.076923076923"
      ]
     },
     "metadata": {},
     "output_type": "display_data"
    },
    {
     "data": {
      "image/png": "[encoded data removed]",
      "text/plain": [
       "<Figure size 720x216 with 1 Axes>"
      ]
     },
     "metadata": {},
     "output_type": "display_data"
    }
   ],
   "source": [
    "print('\\033[1m' + '    Среднее количество продаж по месяцам')\n",
    "buy_month_count = orders.groupby(['buy_year', 'buy_month'])['buy_ts'].count().reset_index()\n",
    "buy_month_count['y_m'] = buy_month_count['buy_year'].astype('str') + '-' + buy_month_count['buy_month'].astype('str')\n",
    "display(buy_month_count)\n",
    "display(buy_month_count['buy_ts'].mean())\n",
    "\n",
    "sns.barplot(data = buy_month_count\n",
    "            ,x = 'y_m'\n",
    "            ,y = 'buy_ts')\n",
    "fig = plt.gcf()\n",
    "plt.title('Среднее количество продаж по месяцам')\n",
    "fig.set_size_inches(10, 3)\n",
    "plt.show()"
   ]
  },
  {
   "cell_type": "markdown",
   "metadata": {
    "colab_type": "text",
    "id": "9idF05Zvrszo"
   },
   "source": [
    "<div style=\"border:solid grey 2px; padding: 30px\">\n",
    "В месяц совершается в среднем около 4 тыс. покупок. В рамках анализируемого периода тренд данной величины непонятен."
   ]
  },
  {
   "cell_type": "code",
   "execution_count": 43,
   "metadata": {
    "colab": {
     "base_uri": "https://localhost:8080/",
     "height": 1000
    },
    "colab_type": "code",
    "id": "GR0KJcKaxFYi",
    "outputId": "15c1d13f-641f-462b-a7ad-a8b0382be01e"
   },
   "outputs": [
    {
     "name": "stdout",
     "output_type": "stream",
     "text": [
      "\u001b[1m    Среднее количество продаж по неделям\n"
     ]
    },
    {
     "data": {
      "text/html": [
       "<div>\n",
       "<style scoped>\n",
       "    .dataframe tbody tr th:only-of-type {\n",
       "        vertical-align: middle;\n",
       "    }\n",
       "\n",
       "    .dataframe tbody tr th {\n",
       "        vertical-align: top;\n",
       "    }\n",
       "\n",
       "    .dataframe thead th {\n",
       "        text-align: right;\n",
       "    }\n",
       "</style>\n",
       "<table border=\"1\" class=\"dataframe\">\n",
       "  <thead>\n",
       "    <tr style=\"text-align: right;\">\n",
       "      <th></th>\n",
       "      <th>buy_year</th>\n",
       "      <th>buy_week</th>\n",
       "      <th>buy_ts</th>\n",
       "      <th>y_w</th>\n",
       "    </tr>\n",
       "  </thead>\n",
       "  <tbody>\n",
       "    <tr>\n",
       "      <td>0</td>\n",
       "      <td>2017</td>\n",
       "      <td>22</td>\n",
       "      <td>340</td>\n",
       "      <td>2017-22</td>\n",
       "    </tr>\n",
       "    <tr>\n",
       "      <td>1</td>\n",
       "      <td>2017</td>\n",
       "      <td>23</td>\n",
       "      <td>938</td>\n",
       "      <td>2017-23</td>\n",
       "    </tr>\n",
       "    <tr>\n",
       "      <td>2</td>\n",
       "      <td>2017</td>\n",
       "      <td>24</td>\n",
       "      <td>343</td>\n",
       "      <td>2017-24</td>\n",
       "    </tr>\n",
       "    <tr>\n",
       "      <td>3</td>\n",
       "      <td>2017</td>\n",
       "      <td>25</td>\n",
       "      <td>371</td>\n",
       "      <td>2017-25</td>\n",
       "    </tr>\n",
       "    <tr>\n",
       "      <td>4</td>\n",
       "      <td>2017</td>\n",
       "      <td>26</td>\n",
       "      <td>460</td>\n",
       "      <td>2017-26</td>\n",
       "    </tr>\n",
       "    <tr>\n",
       "      <td>5</td>\n",
       "      <td>2017</td>\n",
       "      <td>27</td>\n",
       "      <td>477</td>\n",
       "      <td>2017-27</td>\n",
       "    </tr>\n",
       "    <tr>\n",
       "      <td>6</td>\n",
       "      <td>2017</td>\n",
       "      <td>28</td>\n",
       "      <td>636</td>\n",
       "      <td>2017-28</td>\n",
       "    </tr>\n",
       "    <tr>\n",
       "      <td>7</td>\n",
       "      <td>2017</td>\n",
       "      <td>29</td>\n",
       "      <td>716</td>\n",
       "      <td>2017-29</td>\n",
       "    </tr>\n",
       "    <tr>\n",
       "      <td>8</td>\n",
       "      <td>2017</td>\n",
       "      <td>30</td>\n",
       "      <td>381</td>\n",
       "      <td>2017-30</td>\n",
       "    </tr>\n",
       "    <tr>\n",
       "      <td>9</td>\n",
       "      <td>2017</td>\n",
       "      <td>31</td>\n",
       "      <td>314</td>\n",
       "      <td>2017-31</td>\n",
       "    </tr>\n",
       "    <tr>\n",
       "      <td>10</td>\n",
       "      <td>2017</td>\n",
       "      <td>32</td>\n",
       "      <td>325</td>\n",
       "      <td>2017-32</td>\n",
       "    </tr>\n",
       "    <tr>\n",
       "      <td>11</td>\n",
       "      <td>2017</td>\n",
       "      <td>33</td>\n",
       "      <td>392</td>\n",
       "      <td>2017-33</td>\n",
       "    </tr>\n",
       "    <tr>\n",
       "      <td>12</td>\n",
       "      <td>2017</td>\n",
       "      <td>34</td>\n",
       "      <td>480</td>\n",
       "      <td>2017-34</td>\n",
       "    </tr>\n",
       "    <tr>\n",
       "      <td>13</td>\n",
       "      <td>2017</td>\n",
       "      <td>35</td>\n",
       "      <td>588</td>\n",
       "      <td>2017-35</td>\n",
       "    </tr>\n",
       "    <tr>\n",
       "      <td>14</td>\n",
       "      <td>2017</td>\n",
       "      <td>36</td>\n",
       "      <td>666</td>\n",
       "      <td>2017-36</td>\n",
       "    </tr>\n",
       "    <tr>\n",
       "      <td>15</td>\n",
       "      <td>2017</td>\n",
       "      <td>37</td>\n",
       "      <td>668</td>\n",
       "      <td>2017-37</td>\n",
       "    </tr>\n",
       "    <tr>\n",
       "      <td>16</td>\n",
       "      <td>2017</td>\n",
       "      <td>38</td>\n",
       "      <td>826</td>\n",
       "      <td>2017-38</td>\n",
       "    </tr>\n",
       "    <tr>\n",
       "      <td>17</td>\n",
       "      <td>2017</td>\n",
       "      <td>39</td>\n",
       "      <td>1110</td>\n",
       "      <td>2017-39</td>\n",
       "    </tr>\n",
       "    <tr>\n",
       "      <td>18</td>\n",
       "      <td>2017</td>\n",
       "      <td>40</td>\n",
       "      <td>1666</td>\n",
       "      <td>2017-40</td>\n",
       "    </tr>\n",
       "    <tr>\n",
       "      <td>19</td>\n",
       "      <td>2017</td>\n",
       "      <td>41</td>\n",
       "      <td>1270</td>\n",
       "      <td>2017-41</td>\n",
       "    </tr>\n",
       "    <tr>\n",
       "      <td>20</td>\n",
       "      <td>2017</td>\n",
       "      <td>42</td>\n",
       "      <td>1140</td>\n",
       "      <td>2017-42</td>\n",
       "    </tr>\n",
       "    <tr>\n",
       "      <td>21</td>\n",
       "      <td>2017</td>\n",
       "      <td>43</td>\n",
       "      <td>1132</td>\n",
       "      <td>2017-43</td>\n",
       "    </tr>\n",
       "    <tr>\n",
       "      <td>22</td>\n",
       "      <td>2017</td>\n",
       "      <td>44</td>\n",
       "      <td>1059</td>\n",
       "      <td>2017-44</td>\n",
       "    </tr>\n",
       "    <tr>\n",
       "      <td>23</td>\n",
       "      <td>2017</td>\n",
       "      <td>45</td>\n",
       "      <td>919</td>\n",
       "      <td>2017-45</td>\n",
       "    </tr>\n",
       "    <tr>\n",
       "      <td>24</td>\n",
       "      <td>2017</td>\n",
       "      <td>46</td>\n",
       "      <td>1257</td>\n",
       "      <td>2017-46</td>\n",
       "    </tr>\n",
       "    <tr>\n",
       "      <td>25</td>\n",
       "      <td>2017</td>\n",
       "      <td>47</td>\n",
       "      <td>1894</td>\n",
       "      <td>2017-47</td>\n",
       "    </tr>\n",
       "    <tr>\n",
       "      <td>26</td>\n",
       "      <td>2017</td>\n",
       "      <td>48</td>\n",
       "      <td>1387</td>\n",
       "      <td>2017-48</td>\n",
       "    </tr>\n",
       "    <tr>\n",
       "      <td>27</td>\n",
       "      <td>2017</td>\n",
       "      <td>49</td>\n",
       "      <td>1520</td>\n",
       "      <td>2017-49</td>\n",
       "    </tr>\n",
       "    <tr>\n",
       "      <td>28</td>\n",
       "      <td>2017</td>\n",
       "      <td>50</td>\n",
       "      <td>1388</td>\n",
       "      <td>2017-50</td>\n",
       "    </tr>\n",
       "    <tr>\n",
       "      <td>29</td>\n",
       "      <td>2017</td>\n",
       "      <td>51</td>\n",
       "      <td>1184</td>\n",
       "      <td>2017-51</td>\n",
       "    </tr>\n",
       "    <tr>\n",
       "      <td>30</td>\n",
       "      <td>2017</td>\n",
       "      <td>52</td>\n",
       "      <td>1620</td>\n",
       "      <td>2017-52</td>\n",
       "    </tr>\n",
       "    <tr>\n",
       "      <td>31</td>\n",
       "      <td>2018</td>\n",
       "      <td>1</td>\n",
       "      <td>1006</td>\n",
       "      <td>2018-1</td>\n",
       "    </tr>\n",
       "    <tr>\n",
       "      <td>32</td>\n",
       "      <td>2018</td>\n",
       "      <td>2</td>\n",
       "      <td>942</td>\n",
       "      <td>2018-2</td>\n",
       "    </tr>\n",
       "    <tr>\n",
       "      <td>33</td>\n",
       "      <td>2018</td>\n",
       "      <td>3</td>\n",
       "      <td>991</td>\n",
       "      <td>2018-3</td>\n",
       "    </tr>\n",
       "    <tr>\n",
       "      <td>34</td>\n",
       "      <td>2018</td>\n",
       "      <td>4</td>\n",
       "      <td>1128</td>\n",
       "      <td>2018-4</td>\n",
       "    </tr>\n",
       "    <tr>\n",
       "      <td>35</td>\n",
       "      <td>2018</td>\n",
       "      <td>5</td>\n",
       "      <td>1442</td>\n",
       "      <td>2018-5</td>\n",
       "    </tr>\n",
       "    <tr>\n",
       "      <td>36</td>\n",
       "      <td>2018</td>\n",
       "      <td>6</td>\n",
       "      <td>1272</td>\n",
       "      <td>2018-6</td>\n",
       "    </tr>\n",
       "    <tr>\n",
       "      <td>37</td>\n",
       "      <td>2018</td>\n",
       "      <td>7</td>\n",
       "      <td>1368</td>\n",
       "      <td>2018-7</td>\n",
       "    </tr>\n",
       "    <tr>\n",
       "      <td>38</td>\n",
       "      <td>2018</td>\n",
       "      <td>8</td>\n",
       "      <td>1347</td>\n",
       "      <td>2018-8</td>\n",
       "    </tr>\n",
       "    <tr>\n",
       "      <td>39</td>\n",
       "      <td>2018</td>\n",
       "      <td>9</td>\n",
       "      <td>1252</td>\n",
       "      <td>2018-9</td>\n",
       "    </tr>\n",
       "    <tr>\n",
       "      <td>40</td>\n",
       "      <td>2018</td>\n",
       "      <td>10</td>\n",
       "      <td>1293</td>\n",
       "      <td>2018-10</td>\n",
       "    </tr>\n",
       "    <tr>\n",
       "      <td>41</td>\n",
       "      <td>2018</td>\n",
       "      <td>11</td>\n",
       "      <td>1007</td>\n",
       "      <td>2018-11</td>\n",
       "    </tr>\n",
       "    <tr>\n",
       "      <td>42</td>\n",
       "      <td>2018</td>\n",
       "      <td>12</td>\n",
       "      <td>1418</td>\n",
       "      <td>2018-12</td>\n",
       "    </tr>\n",
       "    <tr>\n",
       "      <td>43</td>\n",
       "      <td>2018</td>\n",
       "      <td>13</td>\n",
       "      <td>862</td>\n",
       "      <td>2018-13</td>\n",
       "    </tr>\n",
       "    <tr>\n",
       "      <td>44</td>\n",
       "      <td>2018</td>\n",
       "      <td>14</td>\n",
       "      <td>733</td>\n",
       "      <td>2018-14</td>\n",
       "    </tr>\n",
       "    <tr>\n",
       "      <td>45</td>\n",
       "      <td>2018</td>\n",
       "      <td>15</td>\n",
       "      <td>698</td>\n",
       "      <td>2018-15</td>\n",
       "    </tr>\n",
       "    <tr>\n",
       "      <td>46</td>\n",
       "      <td>2018</td>\n",
       "      <td>16</td>\n",
       "      <td>890</td>\n",
       "      <td>2018-16</td>\n",
       "    </tr>\n",
       "    <tr>\n",
       "      <td>47</td>\n",
       "      <td>2018</td>\n",
       "      <td>17</td>\n",
       "      <td>890</td>\n",
       "      <td>2018-17</td>\n",
       "    </tr>\n",
       "    <tr>\n",
       "      <td>48</td>\n",
       "      <td>2018</td>\n",
       "      <td>18</td>\n",
       "      <td>547</td>\n",
       "      <td>2018-18</td>\n",
       "    </tr>\n",
       "    <tr>\n",
       "      <td>49</td>\n",
       "      <td>2018</td>\n",
       "      <td>19</td>\n",
       "      <td>635</td>\n",
       "      <td>2018-19</td>\n",
       "    </tr>\n",
       "    <tr>\n",
       "      <td>50</td>\n",
       "      <td>2018</td>\n",
       "      <td>20</td>\n",
       "      <td>1004</td>\n",
       "      <td>2018-20</td>\n",
       "    </tr>\n",
       "    <tr>\n",
       "      <td>51</td>\n",
       "      <td>2018</td>\n",
       "      <td>21</td>\n",
       "      <td>1027</td>\n",
       "      <td>2018-21</td>\n",
       "    </tr>\n",
       "    <tr>\n",
       "      <td>52</td>\n",
       "      <td>2018</td>\n",
       "      <td>22</td>\n",
       "      <td>1196</td>\n",
       "      <td>2018-22</td>\n",
       "    </tr>\n",
       "  </tbody>\n",
       "</table>\n",
       "</div>"
      ],
      "text/plain": [
       "    buy_year  buy_week  buy_ts      y_w\n",
       "0       2017        22     340  2017-22\n",
       "1       2017        23     938  2017-23\n",
       "2       2017        24     343  2017-24\n",
       "3       2017        25     371  2017-25\n",
       "4       2017        26     460  2017-26\n",
       "5       2017        27     477  2017-27\n",
       "6       2017        28     636  2017-28\n",
       "7       2017        29     716  2017-29\n",
       "8       2017        30     381  2017-30\n",
       "9       2017        31     314  2017-31\n",
       "10      2017        32     325  2017-32\n",
       "11      2017        33     392  2017-33\n",
       "12      2017        34     480  2017-34\n",
       "13      2017        35     588  2017-35\n",
       "14      2017        36     666  2017-36\n",
       "15      2017        37     668  2017-37\n",
       "16      2017        38     826  2017-38\n",
       "17      2017        39    1110  2017-39\n",
       "18      2017        40    1666  2017-40\n",
       "19      2017        41    1270  2017-41\n",
       "20      2017        42    1140  2017-42\n",
       "21      2017        43    1132  2017-43\n",
       "22      2017        44    1059  2017-44\n",
       "23      2017        45     919  2017-45\n",
       "24      2017        46    1257  2017-46\n",
       "25      2017        47    1894  2017-47\n",
       "26      2017        48    1387  2017-48\n",
       "27      2017        49    1520  2017-49\n",
       "28      2017        50    1388  2017-50\n",
       "29      2017        51    1184  2017-51\n",
       "30      2017        52    1620  2017-52\n",
       "31      2018         1    1006   2018-1\n",
       "32      2018         2     942   2018-2\n",
       "33      2018         3     991   2018-3\n",
       "34      2018         4    1128   2018-4\n",
       "35      2018         5    1442   2018-5\n",
       "36      2018         6    1272   2018-6\n",
       "37      2018         7    1368   2018-7\n",
       "38      2018         8    1347   2018-8\n",
       "39      2018         9    1252   2018-9\n",
       "40      2018        10    1293  2018-10\n",
       "41      2018        11    1007  2018-11\n",
       "42      2018        12    1418  2018-12\n",
       "43      2018        13     862  2018-13\n",
       "44      2018        14     733  2018-14\n",
       "45      2018        15     698  2018-15\n",
       "46      2018        16     890  2018-16\n",
       "47      2018        17     890  2018-17\n",
       "48      2018        18     547  2018-18\n",
       "49      2018        19     635  2018-19\n",
       "50      2018        20    1004  2018-20\n",
       "51      2018        21    1027  2018-21\n",
       "52      2018        22    1196  2018-22"
      ]
     },
     "metadata": {},
     "output_type": "display_data"
    },
    {
     "data": {
      "text/plain": [
       "951.2264150943396"
      ]
     },
     "metadata": {},
     "output_type": "display_data"
    },
    {
     "data": {
      "image/png": "[encoded data removed]",
      "text/plain": [
       "<Figure size 1440x216 with 1 Axes>"
      ]
     },
     "metadata": {},
     "output_type": "display_data"
    }
   ],
   "source": [
    "print('\\033[1m' + '    Среднее количество продаж по неделям')\n",
    "buy_week_count = orders.groupby(['buy_year', 'buy_week'])['buy_ts'].count().reset_index()\n",
    "buy_week_count['y_w'] = buy_week_count['buy_year'].astype('str') + '-' + buy_week_count['buy_week'].astype('str')\n",
    "display(buy_week_count)\n",
    "display(buy_week_count['buy_ts'].mean())\n",
    "\n",
    "ax = sns.barplot(data = buy_week_count\n",
    "            ,x = 'y_w'\n",
    "            ,y = 'buy_ts')\n",
    "fig = plt.gcf()\n",
    "plt.title('Среднее количество продаж по неделям')\n",
    "fig.set_size_inches(20, 3)\n",
    "ax.set_xticklabels(ax.get_xticklabels(), rotation=90)\n",
    "plt.show()"
   ]
  },
  {
   "cell_type": "markdown",
   "metadata": {
    "colab_type": "text",
    "id": "IYVuqsI8uloE"
   },
   "source": [
    "Картинка по неделям ничего нового не дала. Видим, что количество недельных продаж колеблиться в районе 950."
   ]
  },
  {
   "cell_type": "code",
   "execution_count": 44,
   "metadata": {
    "colab": {
     "base_uri": "https://localhost:8080/",
     "height": 288
    },
    "colab_type": "code",
    "id": "FsxXA2KG5Yp9",
    "outputId": "04238189-d1c3-4b08-a54f-23beed7ff06b"
   },
   "outputs": [
    {
     "name": "stdout",
     "output_type": "stream",
     "text": [
      "\u001b[1m    Среднее количество продаж по месяцам\n"
     ]
    },
    {
     "data": {
      "text/html": [
       "<div>\n",
       "<style scoped>\n",
       "    .dataframe tbody tr th:only-of-type {\n",
       "        vertical-align: middle;\n",
       "    }\n",
       "\n",
       "    .dataframe tbody tr th {\n",
       "        vertical-align: top;\n",
       "    }\n",
       "\n",
       "    .dataframe thead th {\n",
       "        text-align: right;\n",
       "    }\n",
       "</style>\n",
       "<table border=\"1\" class=\"dataframe\">\n",
       "  <thead>\n",
       "    <tr style=\"text-align: right;\">\n",
       "      <th></th>\n",
       "      <th>buy_year</th>\n",
       "      <th>buy_month</th>\n",
       "      <th>buy_ts</th>\n",
       "      <th>y_m</th>\n",
       "    </tr>\n",
       "  </thead>\n",
       "  <tbody>\n",
       "    <tr>\n",
       "      <td>0</td>\n",
       "      <td>2017</td>\n",
       "      <td>6</td>\n",
       "      <td>2354</td>\n",
       "      <td>2017-6</td>\n",
       "    </tr>\n",
       "    <tr>\n",
       "      <td>1</td>\n",
       "      <td>2017</td>\n",
       "      <td>7</td>\n",
       "      <td>2363</td>\n",
       "      <td>2017-7</td>\n",
       "    </tr>\n",
       "    <tr>\n",
       "      <td>2</td>\n",
       "      <td>2017</td>\n",
       "      <td>8</td>\n",
       "      <td>1807</td>\n",
       "      <td>2017-8</td>\n",
       "    </tr>\n",
       "    <tr>\n",
       "      <td>3</td>\n",
       "      <td>2017</td>\n",
       "      <td>9</td>\n",
       "      <td>3387</td>\n",
       "      <td>2017-9</td>\n",
       "    </tr>\n",
       "    <tr>\n",
       "      <td>4</td>\n",
       "      <td>2017</td>\n",
       "      <td>10</td>\n",
       "      <td>5679</td>\n",
       "      <td>2017-10</td>\n",
       "    </tr>\n",
       "    <tr>\n",
       "      <td>5</td>\n",
       "      <td>2017</td>\n",
       "      <td>11</td>\n",
       "      <td>5659</td>\n",
       "      <td>2017-11</td>\n",
       "    </tr>\n",
       "    <tr>\n",
       "      <td>6</td>\n",
       "      <td>2017</td>\n",
       "      <td>12</td>\n",
       "      <td>6218</td>\n",
       "      <td>2017-12</td>\n",
       "    </tr>\n",
       "  </tbody>\n",
       "</table>\n",
       "</div>"
      ],
      "text/plain": [
       "   buy_year  buy_month  buy_ts      y_m\n",
       "0      2017          6    2354   2017-6\n",
       "1      2017          7    2363   2017-7\n",
       "2      2017          8    1807   2017-8\n",
       "3      2017          9    3387   2017-9\n",
       "4      2017         10    5679  2017-10\n",
       "5      2017         11    5659  2017-11\n",
       "6      2017         12    6218  2017-12"
      ]
     },
     "metadata": {},
     "output_type": "display_data"
    },
    {
     "data": {
      "text/plain": [
       "3923.8571428571427"
      ]
     },
     "metadata": {},
     "output_type": "display_data"
    }
   ],
   "source": [
    "print('\\033[1m' + '    Среднее количество продаж по месяцам')\n",
    "buy_month_count = orders[orders['buy_year']==2017].groupby(['buy_year', 'buy_month'])['buy_ts'].count().reset_index()\n",
    "buy_month_count['y_m'] = buy_month_count['buy_year'].astype('str') + '-' + buy_month_count['buy_month'].astype('str')\n",
    "display(buy_month_count)\n",
    "display(buy_month_count['buy_ts'].mean())"
   ]
  },
  {
   "cell_type": "code",
   "execution_count": 45,
   "metadata": {
    "colab": {
     "base_uri": "https://localhost:8080/",
     "height": 660
    },
    "colab_type": "code",
    "id": "3XCQINZ_vD1z",
    "outputId": "04af7c60-f05d-457c-a270-b65988d4ede6"
   },
   "outputs": [
    {
     "name": "stdout",
     "output_type": "stream",
     "text": [
      "\u001b[1mСреднее количество продаж по месяцам на мобильных устройствах\n"
     ]
    },
    {
     "data": {
      "text/html": [
       "<div>\n",
       "<style scoped>\n",
       "    .dataframe tbody tr th:only-of-type {\n",
       "        vertical-align: middle;\n",
       "    }\n",
       "\n",
       "    .dataframe tbody tr th {\n",
       "        vertical-align: top;\n",
       "    }\n",
       "\n",
       "    .dataframe thead th {\n",
       "        text-align: right;\n",
       "    }\n",
       "</style>\n",
       "<table border=\"1\" class=\"dataframe\">\n",
       "  <thead>\n",
       "    <tr style=\"text-align: right;\">\n",
       "      <th></th>\n",
       "      <th>buy_year</th>\n",
       "      <th>buy_month</th>\n",
       "      <th>buy_ts</th>\n",
       "      <th>y_m</th>\n",
       "    </tr>\n",
       "  </thead>\n",
       "  <tbody>\n",
       "    <tr>\n",
       "      <td>0</td>\n",
       "      <td>2017</td>\n",
       "      <td>6</td>\n",
       "      <td>360</td>\n",
       "      <td>2017-6</td>\n",
       "    </tr>\n",
       "    <tr>\n",
       "      <td>1</td>\n",
       "      <td>2017</td>\n",
       "      <td>7</td>\n",
       "      <td>474</td>\n",
       "      <td>2017-7</td>\n",
       "    </tr>\n",
       "    <tr>\n",
       "      <td>2</td>\n",
       "      <td>2017</td>\n",
       "      <td>8</td>\n",
       "      <td>313</td>\n",
       "      <td>2017-8</td>\n",
       "    </tr>\n",
       "    <tr>\n",
       "      <td>3</td>\n",
       "      <td>2017</td>\n",
       "      <td>9</td>\n",
       "      <td>626</td>\n",
       "      <td>2017-9</td>\n",
       "    </tr>\n",
       "    <tr>\n",
       "      <td>4</td>\n",
       "      <td>2017</td>\n",
       "      <td>10</td>\n",
       "      <td>1055</td>\n",
       "      <td>2017-10</td>\n",
       "    </tr>\n",
       "    <tr>\n",
       "      <td>5</td>\n",
       "      <td>2017</td>\n",
       "      <td>11</td>\n",
       "      <td>1057</td>\n",
       "      <td>2017-11</td>\n",
       "    </tr>\n",
       "    <tr>\n",
       "      <td>6</td>\n",
       "      <td>2017</td>\n",
       "      <td>12</td>\n",
       "      <td>1185</td>\n",
       "      <td>2017-12</td>\n",
       "    </tr>\n",
       "    <tr>\n",
       "      <td>7</td>\n",
       "      <td>2018</td>\n",
       "      <td>1</td>\n",
       "      <td>898</td>\n",
       "      <td>2018-1</td>\n",
       "    </tr>\n",
       "    <tr>\n",
       "      <td>8</td>\n",
       "      <td>2018</td>\n",
       "      <td>2</td>\n",
       "      <td>1096</td>\n",
       "      <td>2018-2</td>\n",
       "    </tr>\n",
       "    <tr>\n",
       "      <td>9</td>\n",
       "      <td>2018</td>\n",
       "      <td>3</td>\n",
       "      <td>1061</td>\n",
       "      <td>2018-3</td>\n",
       "    </tr>\n",
       "    <tr>\n",
       "      <td>10</td>\n",
       "      <td>2018</td>\n",
       "      <td>4</td>\n",
       "      <td>560</td>\n",
       "      <td>2018-4</td>\n",
       "    </tr>\n",
       "    <tr>\n",
       "      <td>11</td>\n",
       "      <td>2018</td>\n",
       "      <td>5</td>\n",
       "      <td>803</td>\n",
       "      <td>2018-5</td>\n",
       "    </tr>\n",
       "  </tbody>\n",
       "</table>\n",
       "</div>"
      ],
      "text/plain": [
       "    buy_year  buy_month  buy_ts      y_m\n",
       "0       2017          6     360   2017-6\n",
       "1       2017          7     474   2017-7\n",
       "2       2017          8     313   2017-8\n",
       "3       2017          9     626   2017-9\n",
       "4       2017         10    1055  2017-10\n",
       "5       2017         11    1057  2017-11\n",
       "6       2017         12    1185  2017-12\n",
       "7       2018          1     898   2018-1\n",
       "8       2018          2    1096   2018-2\n",
       "9       2018          3    1061   2018-3\n",
       "10      2018          4     560   2018-4\n",
       "11      2018          5     803   2018-5"
      ]
     },
     "metadata": {},
     "output_type": "display_data"
    },
    {
     "data": {
      "text/plain": [
       "790.6666666666666"
      ]
     },
     "metadata": {},
     "output_type": "display_data"
    },
    {
     "data": {
      "image/png": "[encoded data removed]",
      "text/plain": [
       "<Figure size 720x216 with 1 Axes>"
      ]
     },
     "metadata": {},
     "output_type": "display_data"
    }
   ],
   "source": [
    "print('\\033[1m' + 'Среднее количество продаж по месяцам на мобильных устройствах')\n",
    "buy_month_count_touch = orders[orders['device']=='touch'].groupby(['buy_year', 'buy_month'])['buy_ts'].count().reset_index()\n",
    "buy_month_count_touch['y_m'] = buy_month_count_touch['buy_year'].astype('str') + '-' + buy_month_count_touch['buy_month'].astype('str')\n",
    "display(buy_month_count_touch)\n",
    "display(buy_month_count_touch['buy_ts'].mean())\n",
    "\n",
    "sns.barplot(data = buy_month_count_touch\n",
    "            ,x = 'y_m'\n",
    "            ,y = 'buy_ts')\n",
    "fig = plt.gcf()\n",
    "plt.title('Среднее количество продаж по месяцам на мобильных устройствах')\n",
    "fig.set_size_inches(10, 3)\n",
    "plt.show()"
   ]
  },
  {
   "cell_type": "markdown",
   "metadata": {
    "colab_type": "text",
    "id": "VX876piOnMSz"
   },
   "source": [
    "По продажам с мобильных устройств тренд такой же как и общий."
   ]
  },
  {
   "cell_type": "code",
   "execution_count": 46,
   "metadata": {
    "colab": {
     "base_uri": "https://localhost:8080/",
     "height": 318
    },
    "colab_type": "code",
    "id": "NHOcHMLYh7Ea",
    "outputId": "347921db-5fd1-4965-9216-5ea9794ab449"
   },
   "outputs": [
    {
     "name": "stdout",
     "output_type": "stream",
     "text": [
      "\u001b[1m    Среднее количество продаж по источникам рекламы\n"
     ]
    },
    {
     "data": {
      "text/html": [
       "<div>\n",
       "<style scoped>\n",
       "    .dataframe tbody tr th:only-of-type {\n",
       "        vertical-align: middle;\n",
       "    }\n",
       "\n",
       "    .dataframe tbody tr th {\n",
       "        vertical-align: top;\n",
       "    }\n",
       "\n",
       "    .dataframe thead th {\n",
       "        text-align: right;\n",
       "    }\n",
       "</style>\n",
       "<table border=\"1\" class=\"dataframe\">\n",
       "  <thead>\n",
       "    <tr style=\"text-align: right;\">\n",
       "      <th></th>\n",
       "      <th>source_id</th>\n",
       "      <th>buy_ts</th>\n",
       "      <th>uid</th>\n",
       "      <th>buyers_pct</th>\n",
       "    </tr>\n",
       "  </thead>\n",
       "  <tbody>\n",
       "    <tr>\n",
       "      <td>0</td>\n",
       "      <td>1</td>\n",
       "      <td>5223</td>\n",
       "      <td>9469</td>\n",
       "      <td>0.551589</td>\n",
       "    </tr>\n",
       "    <tr>\n",
       "      <td>1</td>\n",
       "      <td>2</td>\n",
       "      <td>6392</td>\n",
       "      <td>17616</td>\n",
       "      <td>0.362852</td>\n",
       "    </tr>\n",
       "    <tr>\n",
       "      <td>6</td>\n",
       "      <td>9</td>\n",
       "      <td>1647</td>\n",
       "      <td>6448</td>\n",
       "      <td>0.255428</td>\n",
       "    </tr>\n",
       "    <tr>\n",
       "      <td>7</td>\n",
       "      <td>10</td>\n",
       "      <td>1562</td>\n",
       "      <td>6903</td>\n",
       "      <td>0.226278</td>\n",
       "    </tr>\n",
       "    <tr>\n",
       "      <td>2</td>\n",
       "      <td>3</td>\n",
       "      <td>13289</td>\n",
       "      <td>66116</td>\n",
       "      <td>0.200995</td>\n",
       "    </tr>\n",
       "    <tr>\n",
       "      <td>4</td>\n",
       "      <td>5</td>\n",
       "      <td>9406</td>\n",
       "      <td>49237</td>\n",
       "      <td>0.191035</td>\n",
       "    </tr>\n",
       "    <tr>\n",
       "      <td>3</td>\n",
       "      <td>4</td>\n",
       "      <td>12895</td>\n",
       "      <td>72346</td>\n",
       "      <td>0.178241</td>\n",
       "    </tr>\n",
       "    <tr>\n",
       "      <td>5</td>\n",
       "      <td>7</td>\n",
       "      <td>1</td>\n",
       "      <td>32</td>\n",
       "      <td>0.031250</td>\n",
       "    </tr>\n",
       "  </tbody>\n",
       "</table>\n",
       "</div>"
      ],
      "text/plain": [
       "   source_id  buy_ts    uid  buyers_pct\n",
       "0          1    5223   9469    0.551589\n",
       "1          2    6392  17616    0.362852\n",
       "6          9    1647   6448    0.255428\n",
       "7         10    1562   6903    0.226278\n",
       "2          3   13289  66116    0.200995\n",
       "4          5    9406  49237    0.191035\n",
       "3          4   12895  72346    0.178241\n",
       "5          7       1     32    0.031250"
      ]
     },
     "metadata": {},
     "output_type": "display_data"
    },
    {
     "data": {
      "text/plain": [
       "6301.875"
      ]
     },
     "metadata": {},
     "output_type": "display_data"
    }
   ],
   "source": [
    "print('\\033[1m' + '    Среднее количество продаж по источникам рекламы')\n",
    "buy_source_count = orders.groupby(['source_id'])['buy_ts'].count().reset_index()\n",
    "\n",
    "buy_source_count = buy_source_count.merge(sources_count, on=\"source_id\")\n",
    "buy_source_count['buyers_pct'] = buy_source_count['buy_ts'] / buy_source_count['uid']\n",
    "\n",
    "display(buy_source_count.sort_values('buyers_pct', ascending=False))\n",
    "display(buy_source_count['buy_ts'].mean())\n"
   ]
  },
  {
   "cell_type": "code",
   "execution_count": 47,
   "metadata": {
    "colab": {
     "base_uri": "https://localhost:8080/",
     "height": 106
    },
    "colab_type": "code",
    "id": "tepywmCYiztq",
    "outputId": "9dcadc0b-3a92-47dd-c689-1a9197db8566"
   },
   "outputs": [
    {
     "data": {
      "text/html": [
       "<div>\n",
       "<style scoped>\n",
       "    .dataframe tbody tr th:only-of-type {\n",
       "        vertical-align: middle;\n",
       "    }\n",
       "\n",
       "    .dataframe tbody tr th {\n",
       "        vertical-align: top;\n",
       "    }\n",
       "\n",
       "    .dataframe thead th {\n",
       "        text-align: right;\n",
       "    }\n",
       "</style>\n",
       "<table border=\"1\" class=\"dataframe\">\n",
       "  <thead>\n",
       "    <tr style=\"text-align: right;\">\n",
       "      <th></th>\n",
       "      <th>device</th>\n",
       "      <th>buy_ts</th>\n",
       "    </tr>\n",
       "  </thead>\n",
       "  <tbody>\n",
       "    <tr>\n",
       "      <td>0</td>\n",
       "      <td>desktop</td>\n",
       "      <td>40927</td>\n",
       "    </tr>\n",
       "    <tr>\n",
       "      <td>1</td>\n",
       "      <td>touch</td>\n",
       "      <td>9488</td>\n",
       "    </tr>\n",
       "  </tbody>\n",
       "</table>\n",
       "</div>"
      ],
      "text/plain": [
       "    device  buy_ts\n",
       "0  desktop   40927\n",
       "1    touch    9488"
      ]
     },
     "execution_count": 47,
     "metadata": {},
     "output_type": "execute_result"
    }
   ],
   "source": [
    "orders.groupby('device')['buy_ts'].count().reset_index()"
   ]
  },
  {
   "cell_type": "markdown",
   "metadata": {
    "colab_type": "text",
    "id": "b5pjWnxS1Q3K"
   },
   "source": [
    "<div style=\"border:solid grey 2px; padding: 30px\">\n",
    "В итоге: продажи не растут, даже при росте количества активных пользоватлей, и даже на мобильных устройствах.<br>\n",
    "Самая платящие пользователи из источника рекламы 1, наименее платящие из источников 3,4,5."
   ]
  },
  {
   "cell_type": "markdown",
   "metadata": {
    "colab_type": "text",
    "id": "xtZOBBSn1iTu"
   },
   "source": [
    "#### Смотрим средний чек"
   ]
  },
  {
   "cell_type": "code",
   "execution_count": 48,
   "metadata": {
    "colab": {
     "base_uri": "https://localhost:8080/",
     "height": 402
    },
    "colab_type": "code",
    "id": "GvHJ0M191_GI",
    "outputId": "27eb0e16-bb09-4713-d875-a417a77fcb3b"
   },
   "outputs": [
    {
     "data": {
      "text/html": [
       "<div>\n",
       "<style scoped>\n",
       "    .dataframe tbody tr th:only-of-type {\n",
       "        vertical-align: middle;\n",
       "    }\n",
       "\n",
       "    .dataframe tbody tr th {\n",
       "        vertical-align: top;\n",
       "    }\n",
       "\n",
       "    .dataframe thead th {\n",
       "        text-align: right;\n",
       "    }\n",
       "</style>\n",
       "<table border=\"1\" class=\"dataframe\">\n",
       "  <thead>\n",
       "    <tr style=\"text-align: right;\">\n",
       "      <th></th>\n",
       "      <th>buy_year</th>\n",
       "      <th>buy_month</th>\n",
       "      <th>count</th>\n",
       "      <th>sum</th>\n",
       "      <th>AOV</th>\n",
       "      <th>y_m</th>\n",
       "    </tr>\n",
       "  </thead>\n",
       "  <tbody>\n",
       "    <tr>\n",
       "      <td>0</td>\n",
       "      <td>2017</td>\n",
       "      <td>6</td>\n",
       "      <td>2354</td>\n",
       "      <td>9557.49</td>\n",
       "      <td>4.1</td>\n",
       "      <td>2017-6</td>\n",
       "    </tr>\n",
       "    <tr>\n",
       "      <td>1</td>\n",
       "      <td>2017</td>\n",
       "      <td>7</td>\n",
       "      <td>2363</td>\n",
       "      <td>12539.47</td>\n",
       "      <td>5.3</td>\n",
       "      <td>2017-7</td>\n",
       "    </tr>\n",
       "    <tr>\n",
       "      <td>2</td>\n",
       "      <td>2017</td>\n",
       "      <td>8</td>\n",
       "      <td>1807</td>\n",
       "      <td>8758.78</td>\n",
       "      <td>4.8</td>\n",
       "      <td>2017-8</td>\n",
       "    </tr>\n",
       "    <tr>\n",
       "      <td>3</td>\n",
       "      <td>2017</td>\n",
       "      <td>9</td>\n",
       "      <td>3387</td>\n",
       "      <td>18345.51</td>\n",
       "      <td>5.4</td>\n",
       "      <td>2017-9</td>\n",
       "    </tr>\n",
       "    <tr>\n",
       "      <td>4</td>\n",
       "      <td>2017</td>\n",
       "      <td>10</td>\n",
       "      <td>5679</td>\n",
       "      <td>27987.70</td>\n",
       "      <td>4.9</td>\n",
       "      <td>2017-10</td>\n",
       "    </tr>\n",
       "    <tr>\n",
       "      <td>5</td>\n",
       "      <td>2017</td>\n",
       "      <td>11</td>\n",
       "      <td>5659</td>\n",
       "      <td>27069.93</td>\n",
       "      <td>4.8</td>\n",
       "      <td>2017-11</td>\n",
       "    </tr>\n",
       "    <tr>\n",
       "      <td>6</td>\n",
       "      <td>2017</td>\n",
       "      <td>12</td>\n",
       "      <td>6218</td>\n",
       "      <td>36388.60</td>\n",
       "      <td>5.9</td>\n",
       "      <td>2017-12</td>\n",
       "    </tr>\n",
       "    <tr>\n",
       "      <td>7</td>\n",
       "      <td>2018</td>\n",
       "      <td>1</td>\n",
       "      <td>4721</td>\n",
       "      <td>19417.13</td>\n",
       "      <td>4.1</td>\n",
       "      <td>2018-1</td>\n",
       "    </tr>\n",
       "    <tr>\n",
       "      <td>8</td>\n",
       "      <td>2018</td>\n",
       "      <td>2</td>\n",
       "      <td>5281</td>\n",
       "      <td>25560.54</td>\n",
       "      <td>4.8</td>\n",
       "      <td>2018-2</td>\n",
       "    </tr>\n",
       "    <tr>\n",
       "      <td>9</td>\n",
       "      <td>2018</td>\n",
       "      <td>3</td>\n",
       "      <td>5326</td>\n",
       "      <td>28834.59</td>\n",
       "      <td>5.4</td>\n",
       "      <td>2018-3</td>\n",
       "    </tr>\n",
       "    <tr>\n",
       "      <td>10</td>\n",
       "      <td>2018</td>\n",
       "      <td>4</td>\n",
       "      <td>3273</td>\n",
       "      <td>16858.06</td>\n",
       "      <td>5.2</td>\n",
       "      <td>2018-4</td>\n",
       "    </tr>\n",
       "    <tr>\n",
       "      <td>11</td>\n",
       "      <td>2018</td>\n",
       "      <td>5</td>\n",
       "      <td>4346</td>\n",
       "      <td>20735.98</td>\n",
       "      <td>4.8</td>\n",
       "      <td>2018-5</td>\n",
       "    </tr>\n",
       "  </tbody>\n",
       "</table>\n",
       "</div>"
      ],
      "text/plain": [
       "    buy_year  buy_month  count       sum  AOV      y_m\n",
       "0       2017          6   2354   9557.49  4.1   2017-6\n",
       "1       2017          7   2363  12539.47  5.3   2017-7\n",
       "2       2017          8   1807   8758.78  4.8   2017-8\n",
       "3       2017          9   3387  18345.51  5.4   2017-9\n",
       "4       2017         10   5679  27987.70  4.9  2017-10\n",
       "5       2017         11   5659  27069.93  4.8  2017-11\n",
       "6       2017         12   6218  36388.60  5.9  2017-12\n",
       "7       2018          1   4721  19417.13  4.1   2018-1\n",
       "8       2018          2   5281  25560.54  4.8   2018-2\n",
       "9       2018          3   5326  28834.59  5.4   2018-3\n",
       "10      2018          4   3273  16858.06  5.2   2018-4\n",
       "11      2018          5   4346  20735.98  4.8   2018-5"
      ]
     },
     "execution_count": 48,
     "metadata": {},
     "output_type": "execute_result"
    }
   ],
   "source": [
    "AOV = orders.groupby(['buy_year', 'buy_month'])['revenue'].agg(['count', 'sum']).reset_index().head(12)\n",
    "AOV['AOV'] = round((AOV['sum'] / AOV['count']), 1)\n",
    "AOV['y_m'] = AOV['buy_year'].astype('str') + '-' + AOV['buy_month'].astype('str')\n",
    "AOV"
   ]
  },
  {
   "cell_type": "code",
   "execution_count": 49,
   "metadata": {
    "colab": {
     "base_uri": "https://localhost:8080/",
     "height": 67
    },
    "colab_type": "code",
    "id": "Le_RxjscxYjA",
    "outputId": "efaa9214-99e9-40eb-ff73-096a6e3e1f6b"
   },
   "outputs": [
    {
     "name": "stdout",
     "output_type": "stream",
     "text": [
      "\u001b[1mСредний чек за весь период составил 5.0 тыс. руб.\n",
      "\u001b[1mСредний чек за 2017 год составил 5.1 тыс. руб.\n",
      "\u001b[1mСредний чек за 2018 год составил 4.9 тыс. руб.\n"
     ]
    }
   ],
   "source": [
    "s = round(orders['revenue'].mean(), 1 )\n",
    "s17 = round(orders[orders['buy_year']==2017]['revenue'].mean(), 1 )\n",
    "s18 = round(orders[orders['buy_year']==2018]['revenue'].mean(), 1 )\n",
    "print(f'\\033[1m' + f'Средний чек за весь период составил {s} тыс. руб.')\n",
    "print(f'\\033[1m' + f'Средний чек за 2017 год составил {s17} тыс. руб.')\n",
    "print(f'\\033[1m' + f'Средний чек за 2018 год составил {s18} тыс. руб.')"
   ]
  },
  {
   "cell_type": "code",
   "execution_count": 50,
   "metadata": {
    "colab": {
     "base_uri": "https://localhost:8080/",
     "height": 284
    },
    "colab_type": "code",
    "id": "FtcalDIr65lI",
    "outputId": "5a489b49-3652-41f8-baf7-67e65e9f9a93"
   },
   "outputs": [
    {
     "data": {
      "text/html": [
       "<div>\n",
       "<style scoped>\n",
       "    .dataframe tbody tr th:only-of-type {\n",
       "        vertical-align: middle;\n",
       "    }\n",
       "\n",
       "    .dataframe tbody tr th {\n",
       "        vertical-align: top;\n",
       "    }\n",
       "\n",
       "    .dataframe thead th {\n",
       "        text-align: right;\n",
       "    }\n",
       "</style>\n",
       "<table border=\"1\" class=\"dataframe\">\n",
       "  <thead>\n",
       "    <tr style=\"text-align: right;\">\n",
       "      <th></th>\n",
       "      <th>source_id</th>\n",
       "      <th>count</th>\n",
       "      <th>sum</th>\n",
       "      <th>AOV</th>\n",
       "    </tr>\n",
       "  </thead>\n",
       "  <tbody>\n",
       "    <tr>\n",
       "      <td>1</td>\n",
       "      <td>2</td>\n",
       "      <td>6392</td>\n",
       "      <td>46923.61</td>\n",
       "      <td>7.3</td>\n",
       "    </tr>\n",
       "    <tr>\n",
       "      <td>0</td>\n",
       "      <td>1</td>\n",
       "      <td>5223</td>\n",
       "      <td>31090.55</td>\n",
       "      <td>6.0</td>\n",
       "    </tr>\n",
       "    <tr>\n",
       "      <td>4</td>\n",
       "      <td>5</td>\n",
       "      <td>9406</td>\n",
       "      <td>52624.02</td>\n",
       "      <td>5.6</td>\n",
       "    </tr>\n",
       "    <tr>\n",
       "      <td>3</td>\n",
       "      <td>4</td>\n",
       "      <td>12895</td>\n",
       "      <td>56696.83</td>\n",
       "      <td>4.4</td>\n",
       "    </tr>\n",
       "    <tr>\n",
       "      <td>2</td>\n",
       "      <td>3</td>\n",
       "      <td>13289</td>\n",
       "      <td>54511.24</td>\n",
       "      <td>4.1</td>\n",
       "    </tr>\n",
       "    <tr>\n",
       "      <td>6</td>\n",
       "      <td>9</td>\n",
       "      <td>1647</td>\n",
       "      <td>5759.40</td>\n",
       "      <td>3.5</td>\n",
       "    </tr>\n",
       "    <tr>\n",
       "      <td>7</td>\n",
       "      <td>10</td>\n",
       "      <td>1562</td>\n",
       "      <td>4450.33</td>\n",
       "      <td>2.8</td>\n",
       "    </tr>\n",
       "    <tr>\n",
       "      <td>5</td>\n",
       "      <td>7</td>\n",
       "      <td>1</td>\n",
       "      <td>1.22</td>\n",
       "      <td>1.2</td>\n",
       "    </tr>\n",
       "  </tbody>\n",
       "</table>\n",
       "</div>"
      ],
      "text/plain": [
       "   source_id  count       sum  AOV\n",
       "1          2   6392  46923.61  7.3\n",
       "0          1   5223  31090.55  6.0\n",
       "4          5   9406  52624.02  5.6\n",
       "3          4  12895  56696.83  4.4\n",
       "2          3  13289  54511.24  4.1\n",
       "6          9   1647   5759.40  3.5\n",
       "7         10   1562   4450.33  2.8\n",
       "5          7      1      1.22  1.2"
      ]
     },
     "execution_count": 50,
     "metadata": {},
     "output_type": "execute_result"
    }
   ],
   "source": [
    "AOV2 = orders.groupby('source_id')['revenue'].agg(['count', 'sum']).reset_index()\n",
    "AOV2['AOV'] = round((AOV2['sum'] / AOV2['count']), 1)\n",
    "AOV2.sort_values('AOV', ascending=False)"
   ]
  },
  {
   "cell_type": "code",
   "execution_count": 51,
   "metadata": {
    "colab": {
     "base_uri": "https://localhost:8080/",
     "height": 106
    },
    "colab_type": "code",
    "id": "CL6FnpOviyoa",
    "outputId": "9082bcf4-83a3-4058-bfb8-205c3ccaa65c"
   },
   "outputs": [
    {
     "data": {
      "text/html": [
       "<div>\n",
       "<style scoped>\n",
       "    .dataframe tbody tr th:only-of-type {\n",
       "        vertical-align: middle;\n",
       "    }\n",
       "\n",
       "    .dataframe tbody tr th {\n",
       "        vertical-align: top;\n",
       "    }\n",
       "\n",
       "    .dataframe thead th {\n",
       "        text-align: right;\n",
       "    }\n",
       "</style>\n",
       "<table border=\"1\" class=\"dataframe\">\n",
       "  <thead>\n",
       "    <tr style=\"text-align: right;\">\n",
       "      <th></th>\n",
       "      <th>device</th>\n",
       "      <th>count_x</th>\n",
       "      <th>sum_x</th>\n",
       "      <th>AOV</th>\n",
       "      <th>count_y</th>\n",
       "      <th>sum_y</th>\n",
       "      <th>AOV_17</th>\n",
       "      <th>count</th>\n",
       "      <th>sum</th>\n",
       "      <th>AOV_18</th>\n",
       "    </tr>\n",
       "  </thead>\n",
       "  <tbody>\n",
       "    <tr>\n",
       "      <td>0</td>\n",
       "      <td>desktop</td>\n",
       "      <td>40927</td>\n",
       "      <td>211329.77</td>\n",
       "      <td>5.2</td>\n",
       "      <td>22397</td>\n",
       "      <td>118357.05</td>\n",
       "      <td>5.3</td>\n",
       "      <td>18530</td>\n",
       "      <td>92972.72</td>\n",
       "      <td>5.0</td>\n",
       "    </tr>\n",
       "    <tr>\n",
       "      <td>1</td>\n",
       "      <td>touch</td>\n",
       "      <td>9488</td>\n",
       "      <td>40727.43</td>\n",
       "      <td>4.3</td>\n",
       "      <td>5070</td>\n",
       "      <td>22290.43</td>\n",
       "      <td>4.4</td>\n",
       "      <td>4418</td>\n",
       "      <td>18437.00</td>\n",
       "      <td>4.2</td>\n",
       "    </tr>\n",
       "  </tbody>\n",
       "</table>\n",
       "</div>"
      ],
      "text/plain": [
       "    device  count_x      sum_x  AOV  count_y      sum_y  AOV_17  count  \\\n",
       "0  desktop    40927  211329.77  5.2    22397  118357.05     5.3  18530   \n",
       "1    touch     9488   40727.43  4.3     5070   22290.43     4.4   4418   \n",
       "\n",
       "        sum  AOV_18  \n",
       "0  92972.72     5.0  \n",
       "1  18437.00     4.2  "
      ]
     },
     "execution_count": 51,
     "metadata": {},
     "output_type": "execute_result"
    }
   ],
   "source": [
    "AOV3 = orders.groupby('device')['revenue'].agg(['count', 'sum']).reset_index()\n",
    "AOV3['AOV'] = round((AOV3['sum'] / AOV3['count']), 1)\n",
    "\n",
    "AOV3_17 = orders[orders['buy_year']==2017].groupby('device')['revenue'].agg(['count', 'sum']).reset_index()\n",
    "AOV3_17['AOV_17'] = round((AOV3_17['sum'] / AOV3_17['count']), 1)\n",
    "\n",
    "AOV3_18 = orders[orders['buy_year']==2018].groupby('device')['revenue'].agg(['count', 'sum']).reset_index()\n",
    "AOV3_18['AOV_18'] = round((AOV3_18['sum'] / AOV3_18['count']), 1)\n",
    "AOV3 = AOV3.merge(AOV3_17, on='device').merge(AOV3_18, on='device')\n",
    "AOV3\n",
    "AOV3.sort_values('AOV', ascending=False)"
   ]
  },
  {
   "cell_type": "markdown",
   "metadata": {
    "colab_type": "text",
    "id": "WGHsy_sd--Qu"
   },
   "source": [
    "Средний чек, так же как и продажи, почти не изменился год к году. <br>\n",
    "Средний чек довольно сильно различается по источникам рекламы (от 4,1 тыс. руб. по источнику 3, до 7,3 ытс. руб. по источнику 2).<br>\n",
    "Также видно, что средний чек по дестктопным устройствам на 21% выше, чем по мобильным устройствам."
   ]
  },
  {
   "cell_type": "markdown",
   "metadata": {},
   "source": [
    "## <span style=\"color:green\">Отличная работа<span>\n",
    "В разделе все верно!\n",
    "\n",
    "Здорово, что ты рассмотрел метрики в разрезе года"
   ]
  },
  {
   "cell_type": "markdown",
   "metadata": {
    "colab_type": "text",
    "id": "HyPrQyWthezd"
   },
   "source": [
    "#### LTV"
   ]
  },
  {
   "cell_type": "code",
   "execution_count": 52,
   "metadata": {
    "colab": {
     "base_uri": "https://localhost:8080/",
     "height": 34
    },
    "colab_type": "code",
    "id": "ooNUzA172gIS",
    "outputId": "b0493995-e9c8-4ff2-cc68-84ddf663dd0f"
   },
   "outputs": [
    {
     "data": {
      "text/plain": [
       "6.9"
      ]
     },
     "execution_count": 52,
     "metadata": {},
     "output_type": "execute_result"
    }
   ],
   "source": [
    "round(orders.groupby('uid')['revenue'].sum().reset_index()['revenue'].mean(), 1)\n"
   ]
  },
  {
   "cell_type": "code",
   "execution_count": 53,
   "metadata": {
    "colab": {
     "base_uri": "https://localhost:8080/",
     "height": 284
    },
    "colab_type": "code",
    "id": "vgn1240IwxS9",
    "outputId": "2d25c657-5944-4e2d-8a9d-df21c016c90f"
   },
   "outputs": [
    {
     "data": {
      "text/html": [
       "<div>\n",
       "<style scoped>\n",
       "    .dataframe tbody tr th:only-of-type {\n",
       "        vertical-align: middle;\n",
       "    }\n",
       "\n",
       "    .dataframe tbody tr th {\n",
       "        vertical-align: top;\n",
       "    }\n",
       "\n",
       "    .dataframe thead th {\n",
       "        text-align: right;\n",
       "    }\n",
       "</style>\n",
       "<table border=\"1\" class=\"dataframe\">\n",
       "  <thead>\n",
       "    <tr style=\"text-align: right;\">\n",
       "      <th></th>\n",
       "      <th>source_id</th>\n",
       "      <th>sum</th>\n",
       "      <th>count</th>\n",
       "      <th>LTV</th>\n",
       "    </tr>\n",
       "  </thead>\n",
       "  <tbody>\n",
       "    <tr>\n",
       "      <td>1</td>\n",
       "      <td>2</td>\n",
       "      <td>46923.61</td>\n",
       "      <td>3506</td>\n",
       "      <td>13.4</td>\n",
       "    </tr>\n",
       "    <tr>\n",
       "      <td>0</td>\n",
       "      <td>1</td>\n",
       "      <td>31090.55</td>\n",
       "      <td>2899</td>\n",
       "      <td>10.7</td>\n",
       "    </tr>\n",
       "    <tr>\n",
       "      <td>4</td>\n",
       "      <td>5</td>\n",
       "      <td>52624.02</td>\n",
       "      <td>6931</td>\n",
       "      <td>7.6</td>\n",
       "    </tr>\n",
       "    <tr>\n",
       "      <td>3</td>\n",
       "      <td>4</td>\n",
       "      <td>56696.83</td>\n",
       "      <td>10296</td>\n",
       "      <td>5.5</td>\n",
       "    </tr>\n",
       "    <tr>\n",
       "      <td>6</td>\n",
       "      <td>9</td>\n",
       "      <td>5759.40</td>\n",
       "      <td>1088</td>\n",
       "      <td>5.3</td>\n",
       "    </tr>\n",
       "    <tr>\n",
       "      <td>2</td>\n",
       "      <td>3</td>\n",
       "      <td>54511.24</td>\n",
       "      <td>10473</td>\n",
       "      <td>5.2</td>\n",
       "    </tr>\n",
       "    <tr>\n",
       "      <td>7</td>\n",
       "      <td>10</td>\n",
       "      <td>4450.33</td>\n",
       "      <td>1329</td>\n",
       "      <td>3.3</td>\n",
       "    </tr>\n",
       "    <tr>\n",
       "      <td>5</td>\n",
       "      <td>7</td>\n",
       "      <td>1.22</td>\n",
       "      <td>1</td>\n",
       "      <td>1.2</td>\n",
       "    </tr>\n",
       "  </tbody>\n",
       "</table>\n",
       "</div>"
      ],
      "text/plain": [
       "   source_id       sum  count   LTV\n",
       "1          2  46923.61   3506  13.4\n",
       "0          1  31090.55   2899  10.7\n",
       "4          5  52624.02   6931   7.6\n",
       "3          4  56696.83  10296   5.5\n",
       "6          9   5759.40   1088   5.3\n",
       "2          3  54511.24  10473   5.2\n",
       "7         10   4450.33   1329   3.3\n",
       "5          7      1.22      1   1.2"
      ]
     },
     "execution_count": 53,
     "metadata": {},
     "output_type": "execute_result"
    }
   ],
   "source": [
    "a = orders.groupby('uid').agg({'revenue': 'sum','source_id': 'first'}).reset_index().groupby('source_id')['revenue'].agg(['sum', 'count']).reset_index()\n",
    "a['LTV'] = round((a['sum'] / a['count']), 1)\n",
    "a.sort_values('LTV', ascending=False)"
   ]
  },
  {
   "cell_type": "code",
   "execution_count": 54,
   "metadata": {
    "colab": {
     "base_uri": "https://localhost:8080/",
     "height": 34
    },
    "colab_type": "code",
    "id": "sZIN7wFNhW5t",
    "outputId": "d4a75d27-8356-48ae-d855-534501660c00"
   },
   "outputs": [
    {
     "data": {
      "text/plain": [
       "5.6"
      ]
     },
     "execution_count": 54,
     "metadata": {},
     "output_type": "execute_result"
    }
   ],
   "source": [
    "round(orders[orders['device']=='touch'].groupby('uid')['revenue'].sum().reset_index()['revenue'].mean(), 1)"
   ]
  },
  {
   "cell_type": "code",
   "execution_count": 55,
   "metadata": {
    "colab": {
     "base_uri": "https://localhost:8080/",
     "height": 34
    },
    "colab_type": "code",
    "id": "PpGSSRhAh3yq",
    "outputId": "4edfc1eb-cf94-4cb7-ace7-e2a3572642db"
   },
   "outputs": [
    {
     "data": {
      "text/plain": [
       "7.2"
      ]
     },
     "execution_count": 55,
     "metadata": {},
     "output_type": "execute_result"
    }
   ],
   "source": [
    "round(orders[orders['device']=='desktop'].groupby('uid')['revenue'].sum().reset_index()['revenue'].mean(), 1)"
   ]
  },
  {
   "cell_type": "markdown",
   "metadata": {
    "colab_type": "text",
    "id": "hiQPUJnNhuh2"
   },
   "source": [
    "<div style=\"border:solid grey 2px; padding: 30px\">\n",
    "    Средний LTV составляет 6,9 тыс руб. При этом значение LTV довольно сильно отчличается источникам рекламы, наибольшее LTV у пользователей из источников 2, 1, наименьшее - из исчтоников 10, 4, 9 ,3.<br>\n",
    "По устройствам картина с LTV такая же как и со средним чеком: LTV клиентов с дектопа больше на 29% процентов, чем с мобильных устройств.\n"
   ]
  },
  {
   "cell_type": "code",
   "execution_count": 56,
   "metadata": {},
   "outputs": [
    {
     "data": {
      "text/html": [
       "<div>\n",
       "<style scoped>\n",
       "    .dataframe tbody tr th:only-of-type {\n",
       "        vertical-align: middle;\n",
       "    }\n",
       "\n",
       "    .dataframe tbody tr th {\n",
       "        vertical-align: top;\n",
       "    }\n",
       "\n",
       "    .dataframe thead th {\n",
       "        text-align: right;\n",
       "    }\n",
       "</style>\n",
       "<table border=\"1\" class=\"dataframe\">\n",
       "  <thead>\n",
       "    <tr style=\"text-align: right;\">\n",
       "      <th></th>\n",
       "      <th>uid</th>\n",
       "      <th>first_order_month</th>\n",
       "    </tr>\n",
       "  </thead>\n",
       "  <tbody>\n",
       "    <tr>\n",
       "      <td>0</td>\n",
       "      <td>313578113262317</td>\n",
       "      <td>2018-01-01</td>\n",
       "    </tr>\n",
       "    <tr>\n",
       "      <td>1</td>\n",
       "      <td>1575281904278712</td>\n",
       "      <td>2017-06-01</td>\n",
       "    </tr>\n",
       "    <tr>\n",
       "      <td>2</td>\n",
       "      <td>2429014661409475</td>\n",
       "      <td>2017-10-01</td>\n",
       "    </tr>\n",
       "    <tr>\n",
       "      <td>3</td>\n",
       "      <td>2464366381792757</td>\n",
       "      <td>2018-01-01</td>\n",
       "    </tr>\n",
       "    <tr>\n",
       "      <td>4</td>\n",
       "      <td>2551852515556206</td>\n",
       "      <td>2017-11-01</td>\n",
       "    </tr>\n",
       "    <tr>\n",
       "      <td>...</td>\n",
       "      <td>...</td>\n",
       "      <td>...</td>\n",
       "    </tr>\n",
       "    <tr>\n",
       "      <td>36518</td>\n",
       "      <td>18445147675727495770</td>\n",
       "      <td>2017-11-01</td>\n",
       "    </tr>\n",
       "    <tr>\n",
       "      <td>36519</td>\n",
       "      <td>18445407535914413204</td>\n",
       "      <td>2017-09-01</td>\n",
       "    </tr>\n",
       "    <tr>\n",
       "      <td>36520</td>\n",
       "      <td>18445601152732270159</td>\n",
       "      <td>2018-03-01</td>\n",
       "    </tr>\n",
       "    <tr>\n",
       "      <td>36521</td>\n",
       "      <td>18446156210226471712</td>\n",
       "      <td>2018-02-01</td>\n",
       "    </tr>\n",
       "    <tr>\n",
       "      <td>36522</td>\n",
       "      <td>18446167067214817906</td>\n",
       "      <td>2017-10-01</td>\n",
       "    </tr>\n",
       "  </tbody>\n",
       "</table>\n",
       "<p>36523 rows × 2 columns</p>\n",
       "</div>"
      ],
      "text/plain": [
       "                        uid first_order_month\n",
       "0           313578113262317        2018-01-01\n",
       "1          1575281904278712        2017-06-01\n",
       "2          2429014661409475        2017-10-01\n",
       "3          2464366381792757        2018-01-01\n",
       "4          2551852515556206        2017-11-01\n",
       "...                     ...               ...\n",
       "36518  18445147675727495770        2017-11-01\n",
       "36519  18445407535914413204        2017-09-01\n",
       "36520  18445601152732270159        2018-03-01\n",
       "36521  18446156210226471712        2018-02-01\n",
       "36522  18446167067214817906        2017-10-01\n",
       "\n",
       "[36523 rows x 2 columns]"
      ]
     },
     "execution_count": 56,
     "metadata": {},
     "output_type": "execute_result"
    }
   ],
   "source": [
    "first_orders = orders.groupby('uid').agg({'buy_ts': 'min'}).reset_index()\n",
    "first_orders.columns = ['uid', 'first_order_month']\n",
    "first_orders['first_order_month'] = first_orders['first_order_month'].astype('datetime64[M]')\n",
    "first_orders"
   ]
  },
  {
   "cell_type": "code",
   "execution_count": 57,
   "metadata": {},
   "outputs": [],
   "source": [
    "cohort_sizes = first_orders.groupby('first_order_month').agg({'uid': 'nunique'}).reset_index()\n",
    "orders = pd.merge(orders,first_orders, on='uid')"
   ]
  },
  {
   "cell_type": "code",
   "execution_count": 58,
   "metadata": {},
   "outputs": [
    {
     "data": {
      "text/html": [
       "<div>\n",
       "<style scoped>\n",
       "    .dataframe tbody tr th:only-of-type {\n",
       "        vertical-align: middle;\n",
       "    }\n",
       "\n",
       "    .dataframe tbody tr th {\n",
       "        vertical-align: top;\n",
       "    }\n",
       "\n",
       "    .dataframe thead th {\n",
       "        text-align: right;\n",
       "    }\n",
       "</style>\n",
       "<table border=\"1\" class=\"dataframe\">\n",
       "  <thead>\n",
       "    <tr style=\"text-align: right;\">\n",
       "      <th></th>\n",
       "      <th>buy_ts</th>\n",
       "      <th>revenue</th>\n",
       "      <th>uid</th>\n",
       "      <th>buy_year</th>\n",
       "      <th>buy_month</th>\n",
       "      <th>buy_week</th>\n",
       "      <th>source_id</th>\n",
       "      <th>device</th>\n",
       "      <th>activation_date</th>\n",
       "      <th>buy_time</th>\n",
       "      <th>first_order_month</th>\n",
       "      <th>lifetime</th>\n",
       "    </tr>\n",
       "  </thead>\n",
       "  <tbody>\n",
       "    <tr>\n",
       "      <td>46787</td>\n",
       "      <td>2018-04-26 15:00:00</td>\n",
       "      <td>2.44</td>\n",
       "      <td>9736532120699723408</td>\n",
       "      <td>2018</td>\n",
       "      <td>4</td>\n",
       "      <td>17</td>\n",
       "      <td>3</td>\n",
       "      <td>touch</td>\n",
       "      <td>2018-04-26 14:52:00</td>\n",
       "      <td>0.133333</td>\n",
       "      <td>2018-04-01</td>\n",
       "      <td>0</td>\n",
       "    </tr>\n",
       "    <tr>\n",
       "      <td>33910</td>\n",
       "      <td>2018-01-22 13:49:00</td>\n",
       "      <td>0.73</td>\n",
       "      <td>9330346763462714639</td>\n",
       "      <td>2018</td>\n",
       "      <td>1</td>\n",
       "      <td>4</td>\n",
       "      <td>2</td>\n",
       "      <td>desktop</td>\n",
       "      <td>2018-01-22 12:37:00</td>\n",
       "      <td>1.200000</td>\n",
       "      <td>2018-01-01</td>\n",
       "      <td>0</td>\n",
       "    </tr>\n",
       "    <tr>\n",
       "      <td>33239</td>\n",
       "      <td>2018-01-16 17:17:00</td>\n",
       "      <td>1.71</td>\n",
       "      <td>14395979335061332647</td>\n",
       "      <td>2018</td>\n",
       "      <td>1</td>\n",
       "      <td>3</td>\n",
       "      <td>3</td>\n",
       "      <td>touch</td>\n",
       "      <td>2018-01-16 17:17:00</td>\n",
       "      <td>0.000000</td>\n",
       "      <td>2018-01-01</td>\n",
       "      <td>0</td>\n",
       "    </tr>\n",
       "    <tr>\n",
       "      <td>29753</td>\n",
       "      <td>2017-12-24 21:45:00</td>\n",
       "      <td>7.78</td>\n",
       "      <td>10250267764213849985</td>\n",
       "      <td>2017</td>\n",
       "      <td>12</td>\n",
       "      <td>51</td>\n",
       "      <td>3</td>\n",
       "      <td>touch</td>\n",
       "      <td>2017-12-24 21:35:00</td>\n",
       "      <td>0.166667</td>\n",
       "      <td>2017-12-01</td>\n",
       "      <td>0</td>\n",
       "    </tr>\n",
       "    <tr>\n",
       "      <td>18782</td>\n",
       "      <td>2018-04-04 17:07:00</td>\n",
       "      <td>17.35</td>\n",
       "      <td>11787127951829387860</td>\n",
       "      <td>2018</td>\n",
       "      <td>4</td>\n",
       "      <td>14</td>\n",
       "      <td>4</td>\n",
       "      <td>desktop</td>\n",
       "      <td>2017-10-27 22:44:00</td>\n",
       "      <td>18.383333</td>\n",
       "      <td>2017-10-01</td>\n",
       "      <td>6</td>\n",
       "    </tr>\n",
       "    <tr>\n",
       "      <td>29840</td>\n",
       "      <td>2017-12-25 14:47:00</td>\n",
       "      <td>3.67</td>\n",
       "      <td>16090199336781843203</td>\n",
       "      <td>2017</td>\n",
       "      <td>12</td>\n",
       "      <td>52</td>\n",
       "      <td>4</td>\n",
       "      <td>desktop</td>\n",
       "      <td>2017-12-20 12:48:00</td>\n",
       "      <td>1.983333</td>\n",
       "      <td>2017-12-01</td>\n",
       "      <td>0</td>\n",
       "    </tr>\n",
       "    <tr>\n",
       "      <td>12772</td>\n",
       "      <td>2017-09-27 18:56:00</td>\n",
       "      <td>4.89</td>\n",
       "      <td>8106704914757275229</td>\n",
       "      <td>2017</td>\n",
       "      <td>9</td>\n",
       "      <td>39</td>\n",
       "      <td>5</td>\n",
       "      <td>touch</td>\n",
       "      <td>2017-08-10 16:42:00</td>\n",
       "      <td>2.233333</td>\n",
       "      <td>2017-09-01</td>\n",
       "      <td>0</td>\n",
       "    </tr>\n",
       "    <tr>\n",
       "      <td>22709</td>\n",
       "      <td>2017-12-15 12:28:00</td>\n",
       "      <td>9.78</td>\n",
       "      <td>11680900754697023979</td>\n",
       "      <td>2017</td>\n",
       "      <td>12</td>\n",
       "      <td>50</td>\n",
       "      <td>1</td>\n",
       "      <td>desktop</td>\n",
       "      <td>2017-06-03 10:01:00</td>\n",
       "      <td>2.450000</td>\n",
       "      <td>2017-11-01</td>\n",
       "      <td>1</td>\n",
       "    </tr>\n",
       "    <tr>\n",
       "      <td>34040</td>\n",
       "      <td>2018-01-23 07:36:00</td>\n",
       "      <td>11.08</td>\n",
       "      <td>6921387353630298346</td>\n",
       "      <td>2018</td>\n",
       "      <td>1</td>\n",
       "      <td>4</td>\n",
       "      <td>5</td>\n",
       "      <td>desktop</td>\n",
       "      <td>2018-01-23 07:34:00</td>\n",
       "      <td>0.033333</td>\n",
       "      <td>2018-01-01</td>\n",
       "      <td>0</td>\n",
       "    </tr>\n",
       "    <tr>\n",
       "      <td>1300</td>\n",
       "      <td>2017-08-18 11:52:00</td>\n",
       "      <td>2.75</td>\n",
       "      <td>13888745432979765063</td>\n",
       "      <td>2017</td>\n",
       "      <td>8</td>\n",
       "      <td>33</td>\n",
       "      <td>1</td>\n",
       "      <td>desktop</td>\n",
       "      <td>2017-06-05 11:22:00</td>\n",
       "      <td>0.500000</td>\n",
       "      <td>2017-06-01</td>\n",
       "      <td>2</td>\n",
       "    </tr>\n",
       "  </tbody>\n",
       "</table>\n",
       "</div>"
      ],
      "text/plain": [
       "                   buy_ts  revenue                   uid  buy_year  buy_month  \\\n",
       "46787 2018-04-26 15:00:00     2.44   9736532120699723408      2018          4   \n",
       "33910 2018-01-22 13:49:00     0.73   9330346763462714639      2018          1   \n",
       "33239 2018-01-16 17:17:00     1.71  14395979335061332647      2018          1   \n",
       "29753 2017-12-24 21:45:00     7.78  10250267764213849985      2017         12   \n",
       "18782 2018-04-04 17:07:00    17.35  11787127951829387860      2018          4   \n",
       "29840 2017-12-25 14:47:00     3.67  16090199336781843203      2017         12   \n",
       "12772 2017-09-27 18:56:00     4.89   8106704914757275229      2017          9   \n",
       "22709 2017-12-15 12:28:00     9.78  11680900754697023979      2017         12   \n",
       "34040 2018-01-23 07:36:00    11.08   6921387353630298346      2018          1   \n",
       "1300  2017-08-18 11:52:00     2.75  13888745432979765063      2017          8   \n",
       "\n",
       "       buy_week  source_id   device     activation_date   buy_time  \\\n",
       "46787        17          3    touch 2018-04-26 14:52:00   0.133333   \n",
       "33910         4          2  desktop 2018-01-22 12:37:00   1.200000   \n",
       "33239         3          3    touch 2018-01-16 17:17:00   0.000000   \n",
       "29753        51          3    touch 2017-12-24 21:35:00   0.166667   \n",
       "18782        14          4  desktop 2017-10-27 22:44:00  18.383333   \n",
       "29840        52          4  desktop 2017-12-20 12:48:00   1.983333   \n",
       "12772        39          5    touch 2017-08-10 16:42:00   2.233333   \n",
       "22709        50          1  desktop 2017-06-03 10:01:00   2.450000   \n",
       "34040         4          5  desktop 2018-01-23 07:34:00   0.033333   \n",
       "1300         33          1  desktop 2017-06-05 11:22:00   0.500000   \n",
       "\n",
       "      first_order_month  lifetime  \n",
       "46787        2018-04-01         0  \n",
       "33910        2018-01-01         0  \n",
       "33239        2018-01-01         0  \n",
       "29753        2017-12-01         0  \n",
       "18782        2017-10-01         6  \n",
       "29840        2017-12-01         0  \n",
       "12772        2017-09-01         0  \n",
       "22709        2017-11-01         1  \n",
       "34040        2018-01-01         0  \n",
       "1300         2017-06-01         2  "
      ]
     },
     "execution_count": 58,
     "metadata": {},
     "output_type": "execute_result"
    }
   ],
   "source": [
    "orders['lifetime'] = (orders['buy_ts'].astype('datetime64[M]') - orders['first_order_month']) / np.timedelta64(1, 'M')\n",
    "orders['lifetime'] = orders['lifetime'].round().astype('int')\n",
    "orders.sample(10)"
   ]
  },
  {
   "cell_type": "code",
   "execution_count": 59,
   "metadata": {},
   "outputs": [],
   "source": [
    "cohorts = orders.groupby(['first_order_month','lifetime']).agg({'revenue': 'sum'}).reset_index()\n",
    "report = pd.merge(cohort_sizes, cohorts, on='first_order_month')\n"
   ]
  },
  {
   "cell_type": "code",
   "execution_count": 60,
   "metadata": {},
   "outputs": [
    {
     "data": {
      "text/html": [
       "<div>\n",
       "<style scoped>\n",
       "    .dataframe tbody tr th:only-of-type {\n",
       "        vertical-align: middle;\n",
       "    }\n",
       "\n",
       "    .dataframe tbody tr th {\n",
       "        vertical-align: top;\n",
       "    }\n",
       "\n",
       "    .dataframe thead th {\n",
       "        text-align: right;\n",
       "    }\n",
       "</style>\n",
       "<table border=\"1\" class=\"dataframe\">\n",
       "  <thead>\n",
       "    <tr style=\"text-align: right;\">\n",
       "      <th></th>\n",
       "      <th>first_order_month</th>\n",
       "      <th>uid</th>\n",
       "      <th>lifetime</th>\n",
       "      <th>revenue</th>\n",
       "    </tr>\n",
       "  </thead>\n",
       "  <tbody>\n",
       "    <tr>\n",
       "      <td>0</td>\n",
       "      <td>2017-06-01</td>\n",
       "      <td>2023</td>\n",
       "      <td>0</td>\n",
       "      <td>9557.49</td>\n",
       "    </tr>\n",
       "    <tr>\n",
       "      <td>1</td>\n",
       "      <td>2017-06-01</td>\n",
       "      <td>2023</td>\n",
       "      <td>1</td>\n",
       "      <td>981.82</td>\n",
       "    </tr>\n",
       "    <tr>\n",
       "      <td>2</td>\n",
       "      <td>2017-06-01</td>\n",
       "      <td>2023</td>\n",
       "      <td>2</td>\n",
       "      <td>885.34</td>\n",
       "    </tr>\n",
       "    <tr>\n",
       "      <td>3</td>\n",
       "      <td>2017-06-01</td>\n",
       "      <td>2023</td>\n",
       "      <td>3</td>\n",
       "      <td>1931.30</td>\n",
       "    </tr>\n",
       "    <tr>\n",
       "      <td>4</td>\n",
       "      <td>2017-06-01</td>\n",
       "      <td>2023</td>\n",
       "      <td>4</td>\n",
       "      <td>2068.58</td>\n",
       "    </tr>\n",
       "    <tr>\n",
       "      <td>...</td>\n",
       "      <td>...</td>\n",
       "      <td>...</td>\n",
       "      <td>...</td>\n",
       "      <td>...</td>\n",
       "    </tr>\n",
       "    <tr>\n",
       "      <td>74</td>\n",
       "      <td>2018-03-01</td>\n",
       "      <td>3533</td>\n",
       "      <td>2</td>\n",
       "      <td>1114.87</td>\n",
       "    </tr>\n",
       "    <tr>\n",
       "      <td>75</td>\n",
       "      <td>2018-04-01</td>\n",
       "      <td>2276</td>\n",
       "      <td>0</td>\n",
       "      <td>10600.69</td>\n",
       "    </tr>\n",
       "    <tr>\n",
       "      <td>76</td>\n",
       "      <td>2018-04-01</td>\n",
       "      <td>2276</td>\n",
       "      <td>1</td>\n",
       "      <td>1209.92</td>\n",
       "    </tr>\n",
       "    <tr>\n",
       "      <td>77</td>\n",
       "      <td>2018-05-01</td>\n",
       "      <td>2988</td>\n",
       "      <td>0</td>\n",
       "      <td>13925.76</td>\n",
       "    </tr>\n",
       "    <tr>\n",
       "      <td>78</td>\n",
       "      <td>2018-06-01</td>\n",
       "      <td>1</td>\n",
       "      <td>0</td>\n",
       "      <td>3.42</td>\n",
       "    </tr>\n",
       "  </tbody>\n",
       "</table>\n",
       "<p>79 rows × 4 columns</p>\n",
       "</div>"
      ],
      "text/plain": [
       "   first_order_month   uid  lifetime   revenue\n",
       "0         2017-06-01  2023         0   9557.49\n",
       "1         2017-06-01  2023         1    981.82\n",
       "2         2017-06-01  2023         2    885.34\n",
       "3         2017-06-01  2023         3   1931.30\n",
       "4         2017-06-01  2023         4   2068.58\n",
       "..               ...   ...       ...       ...\n",
       "74        2018-03-01  3533         2   1114.87\n",
       "75        2018-04-01  2276         0  10600.69\n",
       "76        2018-04-01  2276         1   1209.92\n",
       "77        2018-05-01  2988         0  13925.76\n",
       "78        2018-06-01     1         0      3.42\n",
       "\n",
       "[79 rows x 4 columns]"
      ]
     },
     "execution_count": 60,
     "metadata": {},
     "output_type": "execute_result"
    }
   ],
   "source": [
    "report"
   ]
  },
  {
   "cell_type": "code",
   "execution_count": 61,
   "metadata": {},
   "outputs": [
    {
     "data": {
      "text/html": [
       "<div>\n",
       "<style scoped>\n",
       "    .dataframe tbody tr th:only-of-type {\n",
       "        vertical-align: middle;\n",
       "    }\n",
       "\n",
       "    .dataframe tbody tr th {\n",
       "        vertical-align: top;\n",
       "    }\n",
       "\n",
       "    .dataframe thead th {\n",
       "        text-align: right;\n",
       "    }\n",
       "</style>\n",
       "<table border=\"1\" class=\"dataframe\">\n",
       "  <thead>\n",
       "    <tr style=\"text-align: right;\">\n",
       "      <th>lifetime</th>\n",
       "      <th>0</th>\n",
       "      <th>1</th>\n",
       "      <th>2</th>\n",
       "      <th>3</th>\n",
       "      <th>4</th>\n",
       "      <th>5</th>\n",
       "      <th>6</th>\n",
       "      <th>7</th>\n",
       "      <th>8</th>\n",
       "      <th>9</th>\n",
       "      <th>10</th>\n",
       "      <th>11</th>\n",
       "    </tr>\n",
       "    <tr>\n",
       "      <th>first_order_month</th>\n",
       "      <th></th>\n",
       "      <th></th>\n",
       "      <th></th>\n",
       "      <th></th>\n",
       "      <th></th>\n",
       "      <th></th>\n",
       "      <th></th>\n",
       "      <th></th>\n",
       "      <th></th>\n",
       "      <th></th>\n",
       "      <th></th>\n",
       "      <th></th>\n",
       "    </tr>\n",
       "  </thead>\n",
       "  <tbody>\n",
       "    <tr>\n",
       "      <td>2017-06-01</td>\n",
       "      <td>4.7</td>\n",
       "      <td>5.2</td>\n",
       "      <td>5.6</td>\n",
       "      <td>6.6</td>\n",
       "      <td>7.6</td>\n",
       "      <td>8.3</td>\n",
       "      <td>9.3</td>\n",
       "      <td>9.9</td>\n",
       "      <td>10.5</td>\n",
       "      <td>11.1</td>\n",
       "      <td>11.7</td>\n",
       "      <td>12</td>\n",
       "    </tr>\n",
       "    <tr>\n",
       "      <td>2017-07-01</td>\n",
       "      <td>6.0</td>\n",
       "      <td>6.3</td>\n",
       "      <td>6.9</td>\n",
       "      <td>7.3</td>\n",
       "      <td>7.5</td>\n",
       "      <td>7.7</td>\n",
       "      <td>7.8</td>\n",
       "      <td>7.9</td>\n",
       "      <td>8.1</td>\n",
       "      <td>8.2</td>\n",
       "      <td>8.4</td>\n",
       "      <td></td>\n",
       "    </tr>\n",
       "    <tr>\n",
       "      <td>2017-08-01</td>\n",
       "      <td>5.3</td>\n",
       "      <td>5.8</td>\n",
       "      <td>6.3</td>\n",
       "      <td>6.7</td>\n",
       "      <td>7.2</td>\n",
       "      <td>7.5</td>\n",
       "      <td>7.7</td>\n",
       "      <td>8.1</td>\n",
       "      <td>8.4</td>\n",
       "      <td>8.6</td>\n",
       "      <td></td>\n",
       "      <td></td>\n",
       "    </tr>\n",
       "    <tr>\n",
       "      <td>2017-09-01</td>\n",
       "      <td>5.6</td>\n",
       "      <td>6.7</td>\n",
       "      <td>7.2</td>\n",
       "      <td>11.2</td>\n",
       "      <td>11.6</td>\n",
       "      <td>12.2</td>\n",
       "      <td>12.9</td>\n",
       "      <td>13.1</td>\n",
       "      <td>13.3</td>\n",
       "      <td></td>\n",
       "      <td></td>\n",
       "      <td></td>\n",
       "    </tr>\n",
       "    <tr>\n",
       "      <td>2017-10-01</td>\n",
       "      <td>5.0</td>\n",
       "      <td>5.5</td>\n",
       "      <td>5.7</td>\n",
       "      <td>5.9</td>\n",
       "      <td>6.1</td>\n",
       "      <td>6.2</td>\n",
       "      <td>6.3</td>\n",
       "      <td>6.4</td>\n",
       "      <td></td>\n",
       "      <td></td>\n",
       "      <td></td>\n",
       "      <td></td>\n",
       "    </tr>\n",
       "    <tr>\n",
       "      <td>2017-11-01</td>\n",
       "      <td>5.2</td>\n",
       "      <td>5.6</td>\n",
       "      <td>5.8</td>\n",
       "      <td>6.1</td>\n",
       "      <td>6.2</td>\n",
       "      <td>6.3</td>\n",
       "      <td>6.4</td>\n",
       "      <td></td>\n",
       "      <td></td>\n",
       "      <td></td>\n",
       "      <td></td>\n",
       "      <td></td>\n",
       "    </tr>\n",
       "    <tr>\n",
       "      <td>2017-12-01</td>\n",
       "      <td>4.7</td>\n",
       "      <td>5</td>\n",
       "      <td>5.9</td>\n",
       "      <td>7</td>\n",
       "      <td>7.3</td>\n",
       "      <td>7.6</td>\n",
       "      <td></td>\n",
       "      <td></td>\n",
       "      <td></td>\n",
       "      <td></td>\n",
       "      <td></td>\n",
       "      <td></td>\n",
       "    </tr>\n",
       "    <tr>\n",
       "      <td>2018-01-01</td>\n",
       "      <td>4.1</td>\n",
       "      <td>4.4</td>\n",
       "      <td>4.7</td>\n",
       "      <td>4.8</td>\n",
       "      <td>4.9</td>\n",
       "      <td></td>\n",
       "      <td></td>\n",
       "      <td></td>\n",
       "      <td></td>\n",
       "      <td></td>\n",
       "      <td></td>\n",
       "      <td></td>\n",
       "    </tr>\n",
       "    <tr>\n",
       "      <td>2018-02-01</td>\n",
       "      <td>4.2</td>\n",
       "      <td>4.5</td>\n",
       "      <td>4.6</td>\n",
       "      <td>4.7</td>\n",
       "      <td></td>\n",
       "      <td></td>\n",
       "      <td></td>\n",
       "      <td></td>\n",
       "      <td></td>\n",
       "      <td></td>\n",
       "      <td></td>\n",
       "      <td></td>\n",
       "    </tr>\n",
       "    <tr>\n",
       "      <td>2018-03-01</td>\n",
       "      <td>4.8</td>\n",
       "      <td>5.1</td>\n",
       "      <td>5.4</td>\n",
       "      <td></td>\n",
       "      <td></td>\n",
       "      <td></td>\n",
       "      <td></td>\n",
       "      <td></td>\n",
       "      <td></td>\n",
       "      <td></td>\n",
       "      <td></td>\n",
       "      <td></td>\n",
       "    </tr>\n",
       "    <tr>\n",
       "      <td>2018-04-01</td>\n",
       "      <td>4.7</td>\n",
       "      <td>5.2</td>\n",
       "      <td></td>\n",
       "      <td></td>\n",
       "      <td></td>\n",
       "      <td></td>\n",
       "      <td></td>\n",
       "      <td></td>\n",
       "      <td></td>\n",
       "      <td></td>\n",
       "      <td></td>\n",
       "      <td></td>\n",
       "    </tr>\n",
       "    <tr>\n",
       "      <td>2018-05-01</td>\n",
       "      <td>4.7</td>\n",
       "      <td></td>\n",
       "      <td></td>\n",
       "      <td></td>\n",
       "      <td></td>\n",
       "      <td></td>\n",
       "      <td></td>\n",
       "      <td></td>\n",
       "      <td></td>\n",
       "      <td></td>\n",
       "      <td></td>\n",
       "      <td></td>\n",
       "    </tr>\n",
       "    <tr>\n",
       "      <td>2018-06-01</td>\n",
       "      <td>3.4</td>\n",
       "      <td></td>\n",
       "      <td></td>\n",
       "      <td></td>\n",
       "      <td></td>\n",
       "      <td></td>\n",
       "      <td></td>\n",
       "      <td></td>\n",
       "      <td></td>\n",
       "      <td></td>\n",
       "      <td></td>\n",
       "      <td></td>\n",
       "    </tr>\n",
       "  </tbody>\n",
       "</table>\n",
       "</div>"
      ],
      "text/plain": [
       "lifetime            0    1    2     3     4     5     6     7     8     9   \\\n",
       "first_order_month                                                            \n",
       "2017-06-01         4.7  5.2  5.6   6.6   7.6   8.3   9.3   9.9  10.5  11.1   \n",
       "2017-07-01         6.0  6.3  6.9   7.3   7.5   7.7   7.8   7.9   8.1   8.2   \n",
       "2017-08-01         5.3  5.8  6.3   6.7   7.2   7.5   7.7   8.1   8.4   8.6   \n",
       "2017-09-01         5.6  6.7  7.2  11.2  11.6  12.2  12.9  13.1  13.3         \n",
       "2017-10-01         5.0  5.5  5.7   5.9   6.1   6.2   6.3   6.4               \n",
       "2017-11-01         5.2  5.6  5.8   6.1   6.2   6.3   6.4                     \n",
       "2017-12-01         4.7    5  5.9     7   7.3   7.6                           \n",
       "2018-01-01         4.1  4.4  4.7   4.8   4.9                                 \n",
       "2018-02-01         4.2  4.5  4.6   4.7                                       \n",
       "2018-03-01         4.8  5.1  5.4                                             \n",
       "2018-04-01         4.7  5.2                                                  \n",
       "2018-05-01         4.7                                                       \n",
       "2018-06-01         3.4                                                       \n",
       "\n",
       "lifetime             10  11  \n",
       "first_order_month            \n",
       "2017-06-01         11.7  12  \n",
       "2017-07-01          8.4      \n",
       "2017-08-01                   \n",
       "2017-09-01                   \n",
       "2017-10-01                   \n",
       "2017-11-01                   \n",
       "2017-12-01                   \n",
       "2018-01-01                   \n",
       "2018-02-01                   \n",
       "2018-03-01                   \n",
       "2018-04-01                   \n",
       "2018-05-01                   \n",
       "2018-06-01                   "
      ]
     },
     "execution_count": 61,
     "metadata": {},
     "output_type": "execute_result"
    }
   ],
   "source": [
    "report['ltv'] = report['revenue'] / report['uid']\n",
    "    \n",
    "output = report.pivot_table(\n",
    "        index='first_order_month', \n",
    "        columns='lifetime', \n",
    "        values='ltv', \n",
    "        aggfunc='mean').round(1)\n",
    "output = output.cumsum(axis=1).round(2)\n",
    "output = output.fillna('')\n",
    "output"
   ]
  },
  {
   "cell_type": "code",
   "execution_count": 62,
   "metadata": {},
   "outputs": [
    {
     "data": {
      "image/png": "[encoded data removed]",
      "text/plain": [
       "<Figure size 936x648 with 2 Axes>"
      ]
     },
     "metadata": {},
     "output_type": "display_data"
    }
   ],
   "source": [
    "output = report.pivot_table(\n",
    "        index='first_order_month', \n",
    "        columns='lifetime', \n",
    "        values='ltv', \n",
    "        aggfunc='mean').round(1)\n",
    "output = output.cumsum(axis=1).round(1)\n",
    "sns.set(style='white')\n",
    "plt.figure(figsize=(13, 9))\n",
    "plt.title('Cohorts:LTV')\n",
    "sns.heatmap(output, annot=True, fmt='g', linewidths=1, linecolor='gray');"
   ]
  },
  {
   "cell_type": "markdown",
   "metadata": {},
   "source": [
    "<div style=\"border:solid grey 2px; padding: 30px\">\n",
    "В основном, большая часть LTV - первая покупка. <br>\n",
    "Наиболее \"удачная\" когорта, в которой были повторные покупки - 09-2017 - нужно выяснить причину. Послее нее идет первая - 2017-6."
   ]
  },
  {
   "cell_type": "markdown",
   "metadata": {
    "colab_type": "text",
    "id": "HCPg1d8Sw58L"
   },
   "source": [
    "#### Смотрим затраты на маркетинг"
   ]
  },
  {
   "cell_type": "code",
   "execution_count": 63,
   "metadata": {
    "colab": {
     "base_uri": "https://localhost:8080/",
     "height": 34
    },
    "colab_type": "code",
    "id": "P5rF9p0HClg5",
    "outputId": "287d0f95-75b4-4e56-ed25-10bd12dc2917"
   },
   "outputs": [
    {
     "data": {
      "text/plain": [
       "329131.62"
      ]
     },
     "execution_count": 63,
     "metadata": {},
     "output_type": "execute_result"
    }
   ],
   "source": [
    "costs['costs'].sum()"
   ]
  },
  {
   "cell_type": "code",
   "execution_count": 64,
   "metadata": {
    "colab": {
     "base_uri": "https://localhost:8080/",
     "height": 402
    },
    "colab_type": "code",
    "id": "0ATHEFfaN6Ev",
    "outputId": "6f4ca581-90f4-4878-b4ec-cd3048938ba2"
   },
   "outputs": [
    {
     "data": {
      "text/html": [
       "<div>\n",
       "<style scoped>\n",
       "    .dataframe tbody tr th:only-of-type {\n",
       "        vertical-align: middle;\n",
       "    }\n",
       "\n",
       "    .dataframe tbody tr th {\n",
       "        vertical-align: top;\n",
       "    }\n",
       "\n",
       "    .dataframe thead th {\n",
       "        text-align: right;\n",
       "    }\n",
       "</style>\n",
       "<table border=\"1\" class=\"dataframe\">\n",
       "  <thead>\n",
       "    <tr style=\"text-align: right;\">\n",
       "      <th></th>\n",
       "      <th>cost_year</th>\n",
       "      <th>cost_month</th>\n",
       "      <th>costs</th>\n",
       "      <th>y_m</th>\n",
       "    </tr>\n",
       "  </thead>\n",
       "  <tbody>\n",
       "    <tr>\n",
       "      <td>0</td>\n",
       "      <td>2017</td>\n",
       "      <td>6</td>\n",
       "      <td>18015.00</td>\n",
       "      <td>2017-6</td>\n",
       "    </tr>\n",
       "    <tr>\n",
       "      <td>1</td>\n",
       "      <td>2017</td>\n",
       "      <td>7</td>\n",
       "      <td>18240.59</td>\n",
       "      <td>2017-7</td>\n",
       "    </tr>\n",
       "    <tr>\n",
       "      <td>2</td>\n",
       "      <td>2017</td>\n",
       "      <td>8</td>\n",
       "      <td>14790.54</td>\n",
       "      <td>2017-8</td>\n",
       "    </tr>\n",
       "    <tr>\n",
       "      <td>3</td>\n",
       "      <td>2017</td>\n",
       "      <td>9</td>\n",
       "      <td>24368.91</td>\n",
       "      <td>2017-9</td>\n",
       "    </tr>\n",
       "    <tr>\n",
       "      <td>4</td>\n",
       "      <td>2017</td>\n",
       "      <td>10</td>\n",
       "      <td>36322.88</td>\n",
       "      <td>2017-10</td>\n",
       "    </tr>\n",
       "    <tr>\n",
       "      <td>5</td>\n",
       "      <td>2017</td>\n",
       "      <td>11</td>\n",
       "      <td>37907.88</td>\n",
       "      <td>2017-11</td>\n",
       "    </tr>\n",
       "    <tr>\n",
       "      <td>6</td>\n",
       "      <td>2017</td>\n",
       "      <td>12</td>\n",
       "      <td>38315.35</td>\n",
       "      <td>2017-12</td>\n",
       "    </tr>\n",
       "    <tr>\n",
       "      <td>7</td>\n",
       "      <td>2018</td>\n",
       "      <td>1</td>\n",
       "      <td>33518.52</td>\n",
       "      <td>2018-1</td>\n",
       "    </tr>\n",
       "    <tr>\n",
       "      <td>8</td>\n",
       "      <td>2018</td>\n",
       "      <td>2</td>\n",
       "      <td>32723.03</td>\n",
       "      <td>2018-2</td>\n",
       "    </tr>\n",
       "    <tr>\n",
       "      <td>9</td>\n",
       "      <td>2018</td>\n",
       "      <td>3</td>\n",
       "      <td>30415.27</td>\n",
       "      <td>2018-3</td>\n",
       "    </tr>\n",
       "    <tr>\n",
       "      <td>10</td>\n",
       "      <td>2018</td>\n",
       "      <td>4</td>\n",
       "      <td>22289.38</td>\n",
       "      <td>2018-4</td>\n",
       "    </tr>\n",
       "    <tr>\n",
       "      <td>11</td>\n",
       "      <td>2018</td>\n",
       "      <td>5</td>\n",
       "      <td>22224.27</td>\n",
       "      <td>2018-5</td>\n",
       "    </tr>\n",
       "  </tbody>\n",
       "</table>\n",
       "</div>"
      ],
      "text/plain": [
       "    cost_year  cost_month     costs      y_m\n",
       "0        2017           6  18015.00   2017-6\n",
       "1        2017           7  18240.59   2017-7\n",
       "2        2017           8  14790.54   2017-8\n",
       "3        2017           9  24368.91   2017-9\n",
       "4        2017          10  36322.88  2017-10\n",
       "5        2017          11  37907.88  2017-11\n",
       "6        2017          12  38315.35  2017-12\n",
       "7        2018           1  33518.52   2018-1\n",
       "8        2018           2  32723.03   2018-2\n",
       "9        2018           3  30415.27   2018-3\n",
       "10       2018           4  22289.38   2018-4\n",
       "11       2018           5  22224.27   2018-5"
      ]
     },
     "execution_count": 64,
     "metadata": {},
     "output_type": "execute_result"
    }
   ],
   "source": [
    "cost_buy_month = costs.groupby(['cost_year', 'cost_month'])['costs'].sum().reset_index()\n",
    "cost_buy_month['y_m'] = cost_buy_month['cost_year'].astype('str') + '-' + cost_buy_month['cost_month'].astype('str')\n",
    "cost_buy_month"
   ]
  },
  {
   "cell_type": "code",
   "execution_count": 65,
   "metadata": {
    "colab": {
     "base_uri": "https://localhost:8080/",
     "height": 241
    },
    "colab_type": "code",
    "id": "82zF00uxGWh5",
    "outputId": "8e58d437-49b3-4a27-d664-4f427bfaf776"
   },
   "outputs": [
    {
     "data": {
      "image/png": "[encoded data removed]",
      "text/plain": [
       "<Figure size 720x216 with 1 Axes>"
      ]
     },
     "metadata": {},
     "output_type": "display_data"
    }
   ],
   "source": [
    "sns.barplot(data = cost_buy_month\n",
    "            ,x = 'y_m'\n",
    "            ,y = 'costs')\n",
    "fig = plt.gcf()\n",
    "plt.title('Затраты на маркетинг по месяцам')\n",
    "fig.set_size_inches(10, 3)\n",
    "plt.show()"
   ]
  },
  {
   "cell_type": "markdown",
   "metadata": {
    "colab_type": "text",
    "id": "T8fT0auEHGMS"
   },
   "source": [
    "<div style=\"border:solid grey 2px; padding: 30px\">Динамика по маркетингу коррелирует с количеством продаж. Из этого можно сделать качественный вывод о том, что маркетинговые кампании работают. И вновь привлеченные пользователи сразу же конвертируются в продажи (график средних месячных продаж \"не отстает\" от графика затрат)."
   ]
  },
  {
   "cell_type": "code",
   "execution_count": 66,
   "metadata": {
    "colab": {
     "base_uri": "https://localhost:8080/",
     "height": 254
    },
    "colab_type": "code",
    "id": "f99de2IWQ9mk",
    "outputId": "8e284b29-cead-4c1e-950b-f904fc91efbc"
   },
   "outputs": [
    {
     "data": {
      "text/html": [
       "<div>\n",
       "<style scoped>\n",
       "    .dataframe tbody tr th:only-of-type {\n",
       "        vertical-align: middle;\n",
       "    }\n",
       "\n",
       "    .dataframe tbody tr th {\n",
       "        vertical-align: top;\n",
       "    }\n",
       "\n",
       "    .dataframe thead th {\n",
       "        text-align: right;\n",
       "    }\n",
       "</style>\n",
       "<table border=\"1\" class=\"dataframe\">\n",
       "  <thead>\n",
       "    <tr style=\"text-align: right;\">\n",
       "      <th></th>\n",
       "      <th>source_id</th>\n",
       "      <th>costs</th>\n",
       "      <th>costs2017</th>\n",
       "      <th>costs2018</th>\n",
       "    </tr>\n",
       "  </thead>\n",
       "  <tbody>\n",
       "    <tr>\n",
       "      <td>2</td>\n",
       "      <td>3</td>\n",
       "      <td>141321.63</td>\n",
       "      <td>80495.21</td>\n",
       "      <td>60826.42</td>\n",
       "    </tr>\n",
       "    <tr>\n",
       "      <td>3</td>\n",
       "      <td>4</td>\n",
       "      <td>61073.60</td>\n",
       "      <td>34944.28</td>\n",
       "      <td>26129.32</td>\n",
       "    </tr>\n",
       "    <tr>\n",
       "      <td>4</td>\n",
       "      <td>5</td>\n",
       "      <td>51757.10</td>\n",
       "      <td>29613.94</td>\n",
       "      <td>22143.16</td>\n",
       "    </tr>\n",
       "    <tr>\n",
       "      <td>1</td>\n",
       "      <td>2</td>\n",
       "      <td>42806.04</td>\n",
       "      <td>24547.68</td>\n",
       "      <td>18258.36</td>\n",
       "    </tr>\n",
       "    <tr>\n",
       "      <td>0</td>\n",
       "      <td>1</td>\n",
       "      <td>20833.27</td>\n",
       "      <td>11754.42</td>\n",
       "      <td>9078.85</td>\n",
       "    </tr>\n",
       "    <tr>\n",
       "      <td>6</td>\n",
       "      <td>10</td>\n",
       "      <td>5822.49</td>\n",
       "      <td>3402.74</td>\n",
       "      <td>2419.75</td>\n",
       "    </tr>\n",
       "    <tr>\n",
       "      <td>5</td>\n",
       "      <td>9</td>\n",
       "      <td>5517.49</td>\n",
       "      <td>3202.88</td>\n",
       "      <td>2314.61</td>\n",
       "    </tr>\n",
       "  </tbody>\n",
       "</table>\n",
       "</div>"
      ],
      "text/plain": [
       "   source_id      costs  costs2017  costs2018\n",
       "2          3  141321.63   80495.21   60826.42\n",
       "3          4   61073.60   34944.28   26129.32\n",
       "4          5   51757.10   29613.94   22143.16\n",
       "1          2   42806.04   24547.68   18258.36\n",
       "0          1   20833.27   11754.42    9078.85\n",
       "6         10    5822.49    3402.74    2419.75\n",
       "5          9    5517.49    3202.88    2314.61"
      ]
     },
     "execution_count": 66,
     "metadata": {},
     "output_type": "execute_result"
    }
   ],
   "source": [
    "source_costs = costs.groupby('source_id')['costs'].sum().reset_index()\n",
    "source_costs_2017 = costs[costs['cost_year']==2017].groupby('source_id')['costs'].sum().reset_index()\n",
    "source_costs_2017.columns=['source_id', 'costs2017']\n",
    "source_costs_2018 = costs[costs['cost_year']==2018].groupby('source_id')['costs'].sum().reset_index()\n",
    "source_costs_2018.columns=['source_id', 'costs2018']\n",
    "source_costs = source_costs.merge(source_costs_2017, on='source_id').merge(source_costs_2018, on='source_id')\n",
    "source_costs.sort_values('costs', ascending=False)"
   ]
  },
  {
   "cell_type": "markdown",
   "metadata": {
    "colab_type": "text",
    "id": "yDxQfYTrRjke"
   },
   "source": [
    "<div style=\"border:solid grey 2px; padding: 30px\">Наибольшие затраты были произведены на истоник 3, далее - на источники 5,2,1. <br>\n",
    "Также в 2018 году сумма затрат была снижена со 188 млн руб. до 141 млн руб."
   ]
  },
  {
   "cell_type": "code",
   "execution_count": 67,
   "metadata": {
    "colab": {},
    "colab_type": "code",
    "id": "LC_h_g8dWA5m"
   },
   "outputs": [],
   "source": [
    "source_costs = source_costs.merge(sources_count, on='source_id')\n",
    "\n",
    "source_costs = source_costs.merge(a, on='source_id')\n",
    "source_costs['CAC'] = source_costs['costs'] / source_costs['count']\n"
   ]
  },
  {
   "cell_type": "code",
   "execution_count": 68,
   "metadata": {
    "colab": {
     "base_uri": "https://localhost:8080/",
     "height": 84
    },
    "colab_type": "code",
    "id": "EDLSCwLWhrOs",
    "outputId": "f30a074e-f0b5-4d29-f0dc-f032f92100b4"
   },
   "outputs": [
    {
     "data": {
      "text/plain": [
       "cost_year\n",
       "2017    187961.15\n",
       "2018    141170.47\n",
       "Name: costs, dtype: float64"
      ]
     },
     "execution_count": 68,
     "metadata": {},
     "output_type": "execute_result"
    }
   ],
   "source": [
    "costs.groupby('cost_year')['costs'].sum()"
   ]
  },
  {
   "cell_type": "markdown",
   "metadata": {
    "colab_type": "text",
    "id": "CAr6WxOxP9WD"
   },
   "source": [
    "#### Считаем эффективность затрат"
   ]
  },
  {
   "cell_type": "code",
   "execution_count": 69,
   "metadata": {
    "colab": {
     "base_uri": "https://localhost:8080/",
     "height": 254
    },
    "colab_type": "code",
    "id": "VCFkWK1EISAS",
    "outputId": "a2fe255e-cfe2-4cd3-91be-c4cecb859bdf"
   },
   "outputs": [
    {
     "data": {
      "text/html": [
       "<div>\n",
       "<style scoped>\n",
       "    .dataframe tbody tr th:only-of-type {\n",
       "        vertical-align: middle;\n",
       "    }\n",
       "\n",
       "    .dataframe tbody tr th {\n",
       "        vertical-align: top;\n",
       "    }\n",
       "\n",
       "    .dataframe thead th {\n",
       "        text-align: right;\n",
       "    }\n",
       "</style>\n",
       "<table border=\"1\" class=\"dataframe\">\n",
       "  <thead>\n",
       "    <tr style=\"text-align: right;\">\n",
       "      <th></th>\n",
       "      <th>source_id</th>\n",
       "      <th>costs</th>\n",
       "      <th>costs2017</th>\n",
       "      <th>costs2018</th>\n",
       "      <th>uid</th>\n",
       "      <th>sum</th>\n",
       "      <th>count</th>\n",
       "      <th>LTV</th>\n",
       "      <th>CAC</th>\n",
       "      <th>ROI</th>\n",
       "    </tr>\n",
       "  </thead>\n",
       "  <tbody>\n",
       "    <tr>\n",
       "      <td>0</td>\n",
       "      <td>1</td>\n",
       "      <td>20833.27</td>\n",
       "      <td>11754.42</td>\n",
       "      <td>9078.85</td>\n",
       "      <td>9469</td>\n",
       "      <td>31090.55</td>\n",
       "      <td>2899</td>\n",
       "      <td>10.7</td>\n",
       "      <td>7.186364</td>\n",
       "      <td>0.488931</td>\n",
       "    </tr>\n",
       "    <tr>\n",
       "      <td>1</td>\n",
       "      <td>2</td>\n",
       "      <td>42806.04</td>\n",
       "      <td>24547.68</td>\n",
       "      <td>18258.36</td>\n",
       "      <td>17616</td>\n",
       "      <td>46923.61</td>\n",
       "      <td>3506</td>\n",
       "      <td>13.4</td>\n",
       "      <td>12.209367</td>\n",
       "      <td>0.097518</td>\n",
       "    </tr>\n",
       "    <tr>\n",
       "      <td>5</td>\n",
       "      <td>9</td>\n",
       "      <td>5517.49</td>\n",
       "      <td>3202.88</td>\n",
       "      <td>2314.61</td>\n",
       "      <td>6448</td>\n",
       "      <td>5759.40</td>\n",
       "      <td>1088</td>\n",
       "      <td>5.3</td>\n",
       "      <td>5.071222</td>\n",
       "      <td>0.045113</td>\n",
       "    </tr>\n",
       "    <tr>\n",
       "      <td>4</td>\n",
       "      <td>5</td>\n",
       "      <td>51757.10</td>\n",
       "      <td>29613.94</td>\n",
       "      <td>22143.16</td>\n",
       "      <td>49237</td>\n",
       "      <td>52624.02</td>\n",
       "      <td>6931</td>\n",
       "      <td>7.6</td>\n",
       "      <td>7.467479</td>\n",
       "      <td>0.017746</td>\n",
       "    </tr>\n",
       "    <tr>\n",
       "      <td>3</td>\n",
       "      <td>4</td>\n",
       "      <td>61073.60</td>\n",
       "      <td>34944.28</td>\n",
       "      <td>26129.32</td>\n",
       "      <td>72346</td>\n",
       "      <td>56696.83</td>\n",
       "      <td>10296</td>\n",
       "      <td>5.5</td>\n",
       "      <td>5.931779</td>\n",
       "      <td>-0.072791</td>\n",
       "    </tr>\n",
       "    <tr>\n",
       "      <td>6</td>\n",
       "      <td>10</td>\n",
       "      <td>5822.49</td>\n",
       "      <td>3402.74</td>\n",
       "      <td>2419.75</td>\n",
       "      <td>6903</td>\n",
       "      <td>4450.33</td>\n",
       "      <td>1329</td>\n",
       "      <td>3.3</td>\n",
       "      <td>4.381106</td>\n",
       "      <td>-0.246766</td>\n",
       "    </tr>\n",
       "    <tr>\n",
       "      <td>2</td>\n",
       "      <td>3</td>\n",
       "      <td>141321.63</td>\n",
       "      <td>80495.21</td>\n",
       "      <td>60826.42</td>\n",
       "      <td>66116</td>\n",
       "      <td>54511.24</td>\n",
       "      <td>10473</td>\n",
       "      <td>5.2</td>\n",
       "      <td>13.493901</td>\n",
       "      <td>-0.614641</td>\n",
       "    </tr>\n",
       "  </tbody>\n",
       "</table>\n",
       "</div>"
      ],
      "text/plain": [
       "   source_id      costs  costs2017  costs2018    uid       sum  count   LTV  \\\n",
       "0          1   20833.27   11754.42    9078.85   9469  31090.55   2899  10.7   \n",
       "1          2   42806.04   24547.68   18258.36  17616  46923.61   3506  13.4   \n",
       "5          9    5517.49    3202.88    2314.61   6448   5759.40   1088   5.3   \n",
       "4          5   51757.10   29613.94   22143.16  49237  52624.02   6931   7.6   \n",
       "3          4   61073.60   34944.28   26129.32  72346  56696.83  10296   5.5   \n",
       "6         10    5822.49    3402.74    2419.75   6903   4450.33   1329   3.3   \n",
       "2          3  141321.63   80495.21   60826.42  66116  54511.24  10473   5.2   \n",
       "\n",
       "         CAC       ROI  \n",
       "0   7.186364  0.488931  \n",
       "1  12.209367  0.097518  \n",
       "5   5.071222  0.045113  \n",
       "4   7.467479  0.017746  \n",
       "3   5.931779 -0.072791  \n",
       "6   4.381106 -0.246766  \n",
       "2  13.493901 -0.614641  "
      ]
     },
     "execution_count": 69,
     "metadata": {},
     "output_type": "execute_result"
    }
   ],
   "source": [
    "source_costs['ROI'] = (source_costs['LTV'] - source_costs['CAC']) / source_costs['CAC']\n",
    "source_costs.sort_values(\"ROI\",ascending=False)"
   ]
  },
  {
   "cell_type": "code",
   "execution_count": 70,
   "metadata": {
    "colab": {
     "base_uri": "https://localhost:8080/",
     "height": 34
    },
    "colab_type": "code",
    "id": "728baLMJWk1g",
    "outputId": "c90a9970-b244-463e-e02f-18f991aaa92a"
   },
   "outputs": [
    {
     "data": {
      "text/plain": [
       "-0.2341750695360111"
      ]
     },
     "execution_count": 70,
     "metadata": {},
     "output_type": "execute_result"
    }
   ],
   "source": [
    "roi = ( orders['revenue'].sum() - costs['costs'].sum() ) / costs['costs'].sum()\n",
    "roi"
   ]
  },
  {
   "cell_type": "code",
   "execution_count": 71,
   "metadata": {},
   "outputs": [
    {
     "data": {
      "text/html": [
       "<div>\n",
       "<style scoped>\n",
       "    .dataframe tbody tr th:only-of-type {\n",
       "        vertical-align: middle;\n",
       "    }\n",
       "\n",
       "    .dataframe tbody tr th {\n",
       "        vertical-align: top;\n",
       "    }\n",
       "\n",
       "    .dataframe thead th {\n",
       "        text-align: right;\n",
       "    }\n",
       "</style>\n",
       "<table border=\"1\" class=\"dataframe\">\n",
       "  <thead>\n",
       "    <tr style=\"text-align: right;\">\n",
       "      <th></th>\n",
       "      <th>source_id</th>\n",
       "      <th>costs</th>\n",
       "      <th>cost_year</th>\n",
       "      <th>cost_month</th>\n",
       "      <th>cost_week</th>\n",
       "    </tr>\n",
       "    <tr>\n",
       "      <th>YM</th>\n",
       "      <th></th>\n",
       "      <th></th>\n",
       "      <th></th>\n",
       "      <th></th>\n",
       "      <th></th>\n",
       "    </tr>\n",
       "  </thead>\n",
       "  <tbody>\n",
       "    <tr>\n",
       "      <td>2017-06-01</td>\n",
       "      <td>1020</td>\n",
       "      <td>18015.00</td>\n",
       "      <td>423570</td>\n",
       "      <td>1260</td>\n",
       "      <td>5054</td>\n",
       "    </tr>\n",
       "    <tr>\n",
       "      <td>2017-07-01</td>\n",
       "      <td>1054</td>\n",
       "      <td>18240.59</td>\n",
       "      <td>437689</td>\n",
       "      <td>1519</td>\n",
       "      <td>6167</td>\n",
       "    </tr>\n",
       "    <tr>\n",
       "      <td>2017-08-01</td>\n",
       "      <td>1054</td>\n",
       "      <td>14790.54</td>\n",
       "      <td>437689</td>\n",
       "      <td>1736</td>\n",
       "      <td>7133</td>\n",
       "    </tr>\n",
       "    <tr>\n",
       "      <td>2017-09-01</td>\n",
       "      <td>1020</td>\n",
       "      <td>24368.91</td>\n",
       "      <td>423570</td>\n",
       "      <td>1890</td>\n",
       "      <td>7812</td>\n",
       "    </tr>\n",
       "    <tr>\n",
       "      <td>2017-10-01</td>\n",
       "      <td>1054</td>\n",
       "      <td>36322.88</td>\n",
       "      <td>437689</td>\n",
       "      <td>2170</td>\n",
       "      <td>9023</td>\n",
       "    </tr>\n",
       "    <tr>\n",
       "      <td>2017-11-01</td>\n",
       "      <td>1020</td>\n",
       "      <td>37907.88</td>\n",
       "      <td>423570</td>\n",
       "      <td>2310</td>\n",
       "      <td>9646</td>\n",
       "    </tr>\n",
       "    <tr>\n",
       "      <td>2017-12-01</td>\n",
       "      <td>1054</td>\n",
       "      <td>38315.35</td>\n",
       "      <td>437689</td>\n",
       "      <td>2604</td>\n",
       "      <td>10906</td>\n",
       "    </tr>\n",
       "    <tr>\n",
       "      <td>2018-01-01</td>\n",
       "      <td>1054</td>\n",
       "      <td>33518.52</td>\n",
       "      <td>437906</td>\n",
       "      <td>217</td>\n",
       "      <td>595</td>\n",
       "    </tr>\n",
       "    <tr>\n",
       "      <td>2018-02-01</td>\n",
       "      <td>952</td>\n",
       "      <td>32723.03</td>\n",
       "      <td>395528</td>\n",
       "      <td>392</td>\n",
       "      <td>1358</td>\n",
       "    </tr>\n",
       "    <tr>\n",
       "      <td>2018-03-01</td>\n",
       "      <td>1025</td>\n",
       "      <td>30415.27</td>\n",
       "      <td>425798</td>\n",
       "      <td>633</td>\n",
       "      <td>2337</td>\n",
       "    </tr>\n",
       "    <tr>\n",
       "      <td>2018-04-01</td>\n",
       "      <td>986</td>\n",
       "      <td>22289.38</td>\n",
       "      <td>409654</td>\n",
       "      <td>812</td>\n",
       "      <td>3164</td>\n",
       "    </tr>\n",
       "    <tr>\n",
       "      <td>2018-05-01</td>\n",
       "      <td>1054</td>\n",
       "      <td>22224.27</td>\n",
       "      <td>437906</td>\n",
       "      <td>1085</td>\n",
       "      <td>4312</td>\n",
       "    </tr>\n",
       "  </tbody>\n",
       "</table>\n",
       "</div>"
      ],
      "text/plain": [
       "            source_id     costs  cost_year  cost_month  cost_week\n",
       "YM                                                               \n",
       "2017-06-01       1020  18015.00     423570        1260       5054\n",
       "2017-07-01       1054  18240.59     437689        1519       6167\n",
       "2017-08-01       1054  14790.54     437689        1736       7133\n",
       "2017-09-01       1020  24368.91     423570        1890       7812\n",
       "2017-10-01       1054  36322.88     437689        2170       9023\n",
       "2017-11-01       1020  37907.88     423570        2310       9646\n",
       "2017-12-01       1054  38315.35     437689        2604      10906\n",
       "2018-01-01       1054  33518.52     437906         217        595\n",
       "2018-02-01        952  32723.03     395528         392       1358\n",
       "2018-03-01       1025  30415.27     425798         633       2337\n",
       "2018-04-01        986  22289.38     409654         812       3164\n",
       "2018-05-01       1054  22224.27     437906        1085       4312"
      ]
     },
     "execution_count": 71,
     "metadata": {},
     "output_type": "execute_result"
    }
   ],
   "source": [
    "costs['YM'] = costs['dt'].astype('datetime64[M]')\n",
    "monthly_costs = costs.groupby('YM').sum()\n",
    "monthly_costs"
   ]
  },
  {
   "cell_type": "code",
   "execution_count": 72,
   "metadata": {},
   "outputs": [
    {
     "data": {
      "text/html": [
       "<div>\n",
       "<style scoped>\n",
       "    .dataframe tbody tr th:only-of-type {\n",
       "        vertical-align: middle;\n",
       "    }\n",
       "\n",
       "    .dataframe tbody tr th {\n",
       "        vertical-align: top;\n",
       "    }\n",
       "\n",
       "    .dataframe thead th {\n",
       "        text-align: right;\n",
       "    }\n",
       "</style>\n",
       "<table border=\"1\" class=\"dataframe\">\n",
       "  <thead>\n",
       "    <tr style=\"text-align: right;\">\n",
       "      <th></th>\n",
       "      <th>first_order_month</th>\n",
       "      <th>uid</th>\n",
       "      <th>lifetime</th>\n",
       "      <th>revenue</th>\n",
       "      <th>ltv</th>\n",
       "      <th>source_id</th>\n",
       "      <th>costs</th>\n",
       "      <th>cost_year</th>\n",
       "      <th>cost_month</th>\n",
       "      <th>cost_week</th>\n",
       "      <th>cac</th>\n",
       "    </tr>\n",
       "  </thead>\n",
       "  <tbody>\n",
       "    <tr>\n",
       "      <td>0</td>\n",
       "      <td>2017-06-01</td>\n",
       "      <td>2023</td>\n",
       "      <td>0</td>\n",
       "      <td>9557.49</td>\n",
       "      <td>4.724414</td>\n",
       "      <td>1020</td>\n",
       "      <td>18015.0</td>\n",
       "      <td>423570</td>\n",
       "      <td>1260</td>\n",
       "      <td>5054</td>\n",
       "      <td>8.905091</td>\n",
       "    </tr>\n",
       "    <tr>\n",
       "      <td>1</td>\n",
       "      <td>2017-06-01</td>\n",
       "      <td>2023</td>\n",
       "      <td>1</td>\n",
       "      <td>981.82</td>\n",
       "      <td>0.485329</td>\n",
       "      <td>1020</td>\n",
       "      <td>18015.0</td>\n",
       "      <td>423570</td>\n",
       "      <td>1260</td>\n",
       "      <td>5054</td>\n",
       "      <td>8.905091</td>\n",
       "    </tr>\n",
       "    <tr>\n",
       "      <td>2</td>\n",
       "      <td>2017-06-01</td>\n",
       "      <td>2023</td>\n",
       "      <td>2</td>\n",
       "      <td>885.34</td>\n",
       "      <td>0.437637</td>\n",
       "      <td>1020</td>\n",
       "      <td>18015.0</td>\n",
       "      <td>423570</td>\n",
       "      <td>1260</td>\n",
       "      <td>5054</td>\n",
       "      <td>8.905091</td>\n",
       "    </tr>\n",
       "    <tr>\n",
       "      <td>3</td>\n",
       "      <td>2017-06-01</td>\n",
       "      <td>2023</td>\n",
       "      <td>3</td>\n",
       "      <td>1931.30</td>\n",
       "      <td>0.954671</td>\n",
       "      <td>1020</td>\n",
       "      <td>18015.0</td>\n",
       "      <td>423570</td>\n",
       "      <td>1260</td>\n",
       "      <td>5054</td>\n",
       "      <td>8.905091</td>\n",
       "    </tr>\n",
       "    <tr>\n",
       "      <td>4</td>\n",
       "      <td>2017-06-01</td>\n",
       "      <td>2023</td>\n",
       "      <td>4</td>\n",
       "      <td>2068.58</td>\n",
       "      <td>1.022531</td>\n",
       "      <td>1020</td>\n",
       "      <td>18015.0</td>\n",
       "      <td>423570</td>\n",
       "      <td>1260</td>\n",
       "      <td>5054</td>\n",
       "      <td>8.905091</td>\n",
       "    </tr>\n",
       "  </tbody>\n",
       "</table>\n",
       "</div>"
      ],
      "text/plain": [
       "  first_order_month   uid  lifetime  revenue       ltv  source_id    costs  \\\n",
       "0        2017-06-01  2023         0  9557.49  4.724414       1020  18015.0   \n",
       "1        2017-06-01  2023         1   981.82  0.485329       1020  18015.0   \n",
       "2        2017-06-01  2023         2   885.34  0.437637       1020  18015.0   \n",
       "3        2017-06-01  2023         3  1931.30  0.954671       1020  18015.0   \n",
       "4        2017-06-01  2023         4  2068.58  1.022531       1020  18015.0   \n",
       "\n",
       "   cost_year  cost_month  cost_week       cac  \n",
       "0     423570        1260       5054  8.905091  \n",
       "1     423570        1260       5054  8.905091  \n",
       "2     423570        1260       5054  8.905091  \n",
       "3     423570        1260       5054  8.905091  \n",
       "4     423570        1260       5054  8.905091  "
      ]
     },
     "execution_count": 72,
     "metadata": {},
     "output_type": "execute_result"
    }
   ],
   "source": [
    "report_new = pd.merge(report, monthly_costs, left_on='first_order_month', right_on='YM')\n",
    "report_new['cac'] = report_new['costs'] / report_new['uid']\n",
    "report_new.head()"
   ]
  },
  {
   "cell_type": "code",
   "execution_count": 73,
   "metadata": {},
   "outputs": [
    {
     "data": {
      "text/html": [
       "<div>\n",
       "<style scoped>\n",
       "    .dataframe tbody tr th:only-of-type {\n",
       "        vertical-align: middle;\n",
       "    }\n",
       "\n",
       "    .dataframe tbody tr th {\n",
       "        vertical-align: top;\n",
       "    }\n",
       "\n",
       "    .dataframe thead th {\n",
       "        text-align: right;\n",
       "    }\n",
       "</style>\n",
       "<table border=\"1\" class=\"dataframe\">\n",
       "  <thead>\n",
       "    <tr style=\"text-align: right;\">\n",
       "      <th>lifetime</th>\n",
       "      <th>0</th>\n",
       "      <th>1</th>\n",
       "      <th>2</th>\n",
       "      <th>3</th>\n",
       "      <th>4</th>\n",
       "      <th>5</th>\n",
       "      <th>6</th>\n",
       "      <th>7</th>\n",
       "      <th>8</th>\n",
       "      <th>9</th>\n",
       "      <th>10</th>\n",
       "      <th>11</th>\n",
       "    </tr>\n",
       "    <tr>\n",
       "      <th>first_order_month</th>\n",
       "      <th></th>\n",
       "      <th></th>\n",
       "      <th></th>\n",
       "      <th></th>\n",
       "      <th></th>\n",
       "      <th></th>\n",
       "      <th></th>\n",
       "      <th></th>\n",
       "      <th></th>\n",
       "      <th></th>\n",
       "      <th></th>\n",
       "      <th></th>\n",
       "    </tr>\n",
       "  </thead>\n",
       "  <tbody>\n",
       "    <tr>\n",
       "      <td>2017-06-01</td>\n",
       "      <td>0.53</td>\n",
       "      <td>0.59</td>\n",
       "      <td>0.63</td>\n",
       "      <td>0.74</td>\n",
       "      <td>0.86</td>\n",
       "      <td>0.94</td>\n",
       "      <td>1.05</td>\n",
       "      <td>1.11</td>\n",
       "      <td>1.17</td>\n",
       "      <td>1.24</td>\n",
       "      <td>1.31</td>\n",
       "      <td>1.33</td>\n",
       "    </tr>\n",
       "    <tr>\n",
       "      <td>2017-07-01</td>\n",
       "      <td>0.63</td>\n",
       "      <td>0.67</td>\n",
       "      <td>0.73</td>\n",
       "      <td>0.77</td>\n",
       "      <td>0.79</td>\n",
       "      <td>0.81</td>\n",
       "      <td>0.82</td>\n",
       "      <td>0.84</td>\n",
       "      <td>0.85</td>\n",
       "      <td>0.87</td>\n",
       "      <td>0.88</td>\n",
       "      <td>NaN</td>\n",
       "    </tr>\n",
       "    <tr>\n",
       "      <td>2017-08-01</td>\n",
       "      <td>0.49</td>\n",
       "      <td>0.53</td>\n",
       "      <td>0.57</td>\n",
       "      <td>0.61</td>\n",
       "      <td>0.66</td>\n",
       "      <td>0.68</td>\n",
       "      <td>0.70</td>\n",
       "      <td>0.74</td>\n",
       "      <td>0.77</td>\n",
       "      <td>0.78</td>\n",
       "      <td>NaN</td>\n",
       "      <td>NaN</td>\n",
       "    </tr>\n",
       "    <tr>\n",
       "      <td>2017-09-01</td>\n",
       "      <td>0.60</td>\n",
       "      <td>0.72</td>\n",
       "      <td>0.77</td>\n",
       "      <td>1.19</td>\n",
       "      <td>1.23</td>\n",
       "      <td>1.30</td>\n",
       "      <td>1.38</td>\n",
       "      <td>1.40</td>\n",
       "      <td>1.42</td>\n",
       "      <td>NaN</td>\n",
       "      <td>NaN</td>\n",
       "      <td>NaN</td>\n",
       "    </tr>\n",
       "    <tr>\n",
       "      <td>2017-10-01</td>\n",
       "      <td>0.60</td>\n",
       "      <td>0.66</td>\n",
       "      <td>0.68</td>\n",
       "      <td>0.70</td>\n",
       "      <td>0.72</td>\n",
       "      <td>0.74</td>\n",
       "      <td>0.75</td>\n",
       "      <td>0.76</td>\n",
       "      <td>NaN</td>\n",
       "      <td>NaN</td>\n",
       "      <td>NaN</td>\n",
       "      <td>NaN</td>\n",
       "    </tr>\n",
       "    <tr>\n",
       "      <td>2017-11-01</td>\n",
       "      <td>0.55</td>\n",
       "      <td>0.60</td>\n",
       "      <td>0.62</td>\n",
       "      <td>0.65</td>\n",
       "      <td>0.67</td>\n",
       "      <td>0.68</td>\n",
       "      <td>0.69</td>\n",
       "      <td>NaN</td>\n",
       "      <td>NaN</td>\n",
       "      <td>NaN</td>\n",
       "      <td>NaN</td>\n",
       "      <td>NaN</td>\n",
       "    </tr>\n",
       "    <tr>\n",
       "      <td>2017-12-01</td>\n",
       "      <td>0.54</td>\n",
       "      <td>0.57</td>\n",
       "      <td>0.68</td>\n",
       "      <td>0.80</td>\n",
       "      <td>0.84</td>\n",
       "      <td>0.87</td>\n",
       "      <td>NaN</td>\n",
       "      <td>NaN</td>\n",
       "      <td>NaN</td>\n",
       "      <td>NaN</td>\n",
       "      <td>NaN</td>\n",
       "      <td>NaN</td>\n",
       "    </tr>\n",
       "    <tr>\n",
       "      <td>2018-01-01</td>\n",
       "      <td>0.42</td>\n",
       "      <td>0.45</td>\n",
       "      <td>0.48</td>\n",
       "      <td>0.49</td>\n",
       "      <td>0.50</td>\n",
       "      <td>NaN</td>\n",
       "      <td>NaN</td>\n",
       "      <td>NaN</td>\n",
       "      <td>NaN</td>\n",
       "      <td>NaN</td>\n",
       "      <td>NaN</td>\n",
       "      <td>NaN</td>\n",
       "    </tr>\n",
       "    <tr>\n",
       "      <td>2018-02-01</td>\n",
       "      <td>0.46</td>\n",
       "      <td>0.49</td>\n",
       "      <td>0.50</td>\n",
       "      <td>0.51</td>\n",
       "      <td>NaN</td>\n",
       "      <td>NaN</td>\n",
       "      <td>NaN</td>\n",
       "      <td>NaN</td>\n",
       "      <td>NaN</td>\n",
       "      <td>NaN</td>\n",
       "      <td>NaN</td>\n",
       "      <td>NaN</td>\n",
       "    </tr>\n",
       "    <tr>\n",
       "      <td>2018-03-01</td>\n",
       "      <td>0.56</td>\n",
       "      <td>0.60</td>\n",
       "      <td>0.63</td>\n",
       "      <td>NaN</td>\n",
       "      <td>NaN</td>\n",
       "      <td>NaN</td>\n",
       "      <td>NaN</td>\n",
       "      <td>NaN</td>\n",
       "      <td>NaN</td>\n",
       "      <td>NaN</td>\n",
       "      <td>NaN</td>\n",
       "      <td>NaN</td>\n",
       "    </tr>\n",
       "    <tr>\n",
       "      <td>2018-04-01</td>\n",
       "      <td>0.48</td>\n",
       "      <td>0.53</td>\n",
       "      <td>NaN</td>\n",
       "      <td>NaN</td>\n",
       "      <td>NaN</td>\n",
       "      <td>NaN</td>\n",
       "      <td>NaN</td>\n",
       "      <td>NaN</td>\n",
       "      <td>NaN</td>\n",
       "      <td>NaN</td>\n",
       "      <td>NaN</td>\n",
       "      <td>NaN</td>\n",
       "    </tr>\n",
       "    <tr>\n",
       "      <td>2018-05-01</td>\n",
       "      <td>0.63</td>\n",
       "      <td>NaN</td>\n",
       "      <td>NaN</td>\n",
       "      <td>NaN</td>\n",
       "      <td>NaN</td>\n",
       "      <td>NaN</td>\n",
       "      <td>NaN</td>\n",
       "      <td>NaN</td>\n",
       "      <td>NaN</td>\n",
       "      <td>NaN</td>\n",
       "      <td>NaN</td>\n",
       "      <td>NaN</td>\n",
       "    </tr>\n",
       "  </tbody>\n",
       "</table>\n",
       "</div>"
      ],
      "text/plain": [
       "lifetime             0     1     2     3     4     5     6     7     8     9   \\\n",
       "first_order_month                                                               \n",
       "2017-06-01         0.53  0.59  0.63  0.74  0.86  0.94  1.05  1.11  1.17  1.24   \n",
       "2017-07-01         0.63  0.67  0.73  0.77  0.79  0.81  0.82  0.84  0.85  0.87   \n",
       "2017-08-01         0.49  0.53  0.57  0.61  0.66  0.68  0.70  0.74  0.77  0.78   \n",
       "2017-09-01         0.60  0.72  0.77  1.19  1.23  1.30  1.38  1.40  1.42   NaN   \n",
       "2017-10-01         0.60  0.66  0.68  0.70  0.72  0.74  0.75  0.76   NaN   NaN   \n",
       "2017-11-01         0.55  0.60  0.62  0.65  0.67  0.68  0.69   NaN   NaN   NaN   \n",
       "2017-12-01         0.54  0.57  0.68  0.80  0.84  0.87   NaN   NaN   NaN   NaN   \n",
       "2018-01-01         0.42  0.45  0.48  0.49  0.50   NaN   NaN   NaN   NaN   NaN   \n",
       "2018-02-01         0.46  0.49  0.50  0.51   NaN   NaN   NaN   NaN   NaN   NaN   \n",
       "2018-03-01         0.56  0.60  0.63   NaN   NaN   NaN   NaN   NaN   NaN   NaN   \n",
       "2018-04-01         0.48  0.53   NaN   NaN   NaN   NaN   NaN   NaN   NaN   NaN   \n",
       "2018-05-01         0.63   NaN   NaN   NaN   NaN   NaN   NaN   NaN   NaN   NaN   \n",
       "\n",
       "lifetime             10    11  \n",
       "first_order_month              \n",
       "2017-06-01         1.31  1.33  \n",
       "2017-07-01         0.88   NaN  \n",
       "2017-08-01          NaN   NaN  \n",
       "2017-09-01          NaN   NaN  \n",
       "2017-10-01          NaN   NaN  \n",
       "2017-11-01          NaN   NaN  \n",
       "2017-12-01          NaN   NaN  \n",
       "2018-01-01          NaN   NaN  \n",
       "2018-02-01          NaN   NaN  \n",
       "2018-03-01          NaN   NaN  \n",
       "2018-04-01          NaN   NaN  \n",
       "2018-05-01          NaN   NaN  "
      ]
     },
     "execution_count": 73,
     "metadata": {},
     "output_type": "execute_result"
    }
   ],
   "source": [
    "report_new['romi'] = report_new['ltv'] / report_new['cac']\n",
    "output2 = report_new.pivot_table(\n",
    "        index='first_order_month', \n",
    "        columns='lifetime', \n",
    "        values='romi', \n",
    "        aggfunc='mean')\n",
    "output2 = output2.cumsum(axis=1).round(2)\n",
    "output2"
   ]
  },
  {
   "cell_type": "code",
   "execution_count": 74,
   "metadata": {},
   "outputs": [
    {
     "data": {
      "image/png": "[encoded data removed]",
      "text/plain": [
       "<Figure size 936x648 with 2 Axes>"
      ]
     },
     "metadata": {},
     "output_type": "display_data"
    }
   ],
   "source": [
    "\n",
    "\n",
    "sns.set(style='white')\n",
    "plt.figure(figsize=(13, 9))\n",
    "plt.title('Cohorts:ROMI')\n",
    "sns.heatmap(output2, annot=True, fmt='g', linewidths=1, linecolor='gray');"
   ]
  },
  {
   "cell_type": "markdown",
   "metadata": {
    "colab_type": "text",
    "id": "HsPU08EsS3YS"
   },
   "source": [
    "<div style=\"border:solid grey 2px; padding: 30px\">Наибольшие затраты были произведены на истоник 3, далее - на источники 5,2,1. <br>Совокупный показатель ROI составляет -23%. <br>Основной фактор, за счет которого формируется отрицательное значение - затраты на исчтоник рекламы 3. За анализируемый период финансовый результат по клиентам из источника 3 составил -87 млн руб.<br>\n",
    "Наиболее эффективные затраты были в источник 1.<br>\n",
    "По когортам и лайфтайму распределение аналогично распределению LTV."
   ]
  },
  {
   "cell_type": "markdown",
   "metadata": {
    "colab_type": "text",
    "id": "5NaQWEZYU9-v"
   },
   "source": [
    "## Общий вывод"
   ]
  },
  {
   "cell_type": "markdown",
   "metadata": {
    "colab_type": "text",
    "id": "-q4EF436VGKc"
   },
   "source": [
    "<br>Целью исследования было дать рекоменации по оптимизации маркетинговых затрат (выбор оптимального рекламного источника и др.) для Яндекс.Афиши на основании анализа данных за 2017 - 2018 гг. (7 мес. и 5 мес., соответственно).<BR><BR>\n",
    "За отчетный период проект получил отрицательынй фин. результат в размере -77 млн руб. При этом выручка составила 252 млн руб. <BR>\n",
    "Выручка была сформирвоана за счет 50 тыс. заказов 37 тыс. уникальных пользователей. Общая посещаемость сайта за анализируемый пеирод составила 359 тыс. сессий и 228 тыс. уникальных пользователей.<br>\n",
    "Затраты  в размере 359 млн руб. были осущетсвлены на привлечение пользователей из 8 источников (1-5, 9, 10), небольшое число визитов было получено из исчтоников, на которые затраты не осуществлялись (6, 7). <br>\n",
    "Количество активных пользователей за анализируемый период составило: DAU - 908, WAU - 5 716, MAU - 23 228. Большая часть активных пользователей используют платформу desktop, но количество пользователей платофрмы touch растет быстрее.  <br>\n",
    "Частота захода на сайт активного пользователя в среднем составляет от 1 раз в месяц до 1 раза в неделю на 1 сессию в день длительностью до 10 минут. После первого месяца теряется примерно 92% процентов пользователей.<BR>\n",
    "Среднее в месяц количество покупок, совершаемых пользователями, составляет около 4 тыс. Большая часть (>80%) была совершена пользователями с платформы desktop. Подавляющее большинство пользователей совершило первую покупку в течение часа с начала первой сессии. Количество покупок полностью управляется величиной затрат на привлечение пользователей. Наиболе покупающие пользователи приходят из источника 1, наименее - из источников 3,4,5.<br>\n",
    "Средний чек за анализируемый период составил 5 тыс. руб. (и почти не изменился год к году.) При этом средний чек довольно сильно различается по источникам рекламы (от 4,1 тыс. руб. по источнику 3, до 7,3 ытс. руб. по источнику 2).\n",
    "Также видно, что средний чек по дестктопным устройствам на 21% выше, чем по мобильным устройствам.<br>\n",
    "Средний LTV составляет 6,9 тыс руб. При этом значение LTV довольно сильно отчличается источникам рекламы, наибольшее LTV у пользователей из источников 2, 1, наименьшее - из исчтоников 10, 4, 9 ,3. По устройствам картина с LTV такая же как и со средним чеком: LTV клиентов с дектопа больше на 29% процентов, чем с мобильных устройств.В основном, большая часть LTV - первая покупка. \n",
    "Наиболее \"удачная\" когорта, в которой были повторные покупки - 09-2017 - нужно выяснить причину. Послее нее идет первая - 2017-6.<br>\n",
    "Затраты на привлечение в 2018 году были снижены по сравнению с 2017 на 25% до 141 млн руб. Наибольшие затраты были произведены на истоник 3, далее - на источники 5,2,1.<br>\n",
    "По кключевому показателю эффективности затрат (ROI) наиболее эффективными являются затраты в источник 1 (ROI 49%), затраты в источники 3, 4, 10 являются контрэффективными (ROI меньше 0). Отрицательный фин. результат был в основном обеспечен, избыточными затратами в источник 3 с ROI -60%.<br>\n",
    "По когортам и лайфтайму распределение ROMI аналогично распределению LTV."
   ]
  },
  {
   "cell_type": "markdown",
   "metadata": {
    "colab_type": "text",
    "id": "TWUgDDpUoxE8"
   },
   "source": [
    "Рекомендации по проекту оптимизации затрат:\n",
    "1. Отметить, что эффективность затрат на привлечение клиентов имеет сильную неравномерность по источнику. **Провести повторный анализ эффективности маркетинговых затрарт после получения отчетных данных за август 2018 года.**\n",
    "2. **Значительно увеличить затраты на привлечение по источнику 1** (наибольший ROI, высокая конверсия).\n",
    "3. **Значительно снизить затраты на привлечение по источнику 3 за счет экономии по п.2** (сильно отрицательный ROI, большая сумма затрат).\n",
    "4. **Распределение затрат по другим источникам оставить без имзенений до получения результатов по п.1**"
   ]
  },
  {
   "cell_type": "markdown",
   "metadata": {
    "colab_type": "text",
    "id": "3O1SWvWaqf12"
   },
   "source": [
    "Величину прогнозных маркетинговых затрат за 2018 год сохранить на уровне 2017 года с возможным их увеличением после проведения оптимизации их по исчтоникам и выхода на положительынй финанасовый результат.\n",
    "<br>В части выбора платформы рекомендуется на текущий момент в фокусе оставить десктопную платформу, как наиболее доходную. Однако следует принять во внимание потенциальный росто пользователей мобильной платформы.<br><br>"
   ]
  }
 ],
 "metadata": {
  "colab": {
   "collapsed_sections": [],
   "name": "Project6.ipynb",
   "provenance": []
  },
  "kernelspec": {
   "display_name": "Python 3",
   "language": "python",
   "name": "python3"
  },
  "language_info": {
   "codemirror_mode": {
    "name": "ipython",
    "version": 3
   },
   "file_extension": ".py",
   "mimetype": "text/x-python",
   "name": "python",
   "nbconvert_exporter": "python",
   "pygments_lexer": "ipython3",
   "version": "3.7.6"
  }
 },
 "nbformat": 4,
 "nbformat_minor": 1
}
