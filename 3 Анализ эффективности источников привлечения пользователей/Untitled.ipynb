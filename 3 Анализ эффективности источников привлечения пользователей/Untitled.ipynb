{
 "cells": [
  {
   "cell_type": "markdown",
   "metadata": {},
   "source": [
    "# Аналитика в Яндекс.Афише"
   ]
  },
  {
   "cell_type": "markdown",
   "metadata": {},
   "source": [
    "Цель исследования: оптимизировать маркетинговые затраты.<br>\n",
    "Оптимизацию возможно провести путем выбора оптимальных рекламного источника, размера затрат и платформы. <br>\n",
    "Для анализа будут использоваться данные за 2017-2018 гг. по визитам на сайт, заказам и маркетинговым затратам.<br>"
   ]
  },
  {
   "cell_type": "markdown",
   "metadata": {},
   "source": [
    "План: <br>\n",
    "1 Загрузка и подготовка данных<br>\n",
    "2 Посторение отчетов и расчет метрик<br>\n",
    "3 Общий вывод<br>"
   ]
  },
  {
   "cell_type": "markdown",
   "metadata": {},
   "source": [
    "## 1 Загрузка и подготовка данных"
   ]
  },
  {
   "cell_type": "code",
   "execution_count": null,
   "metadata": {},
   "outputs": [],
   "source": [
    "import pandas as pd\n",
    "import numpy as np\n",
    "import matplotlib.pyplot as plt\n",
    "import seaborn as sns"
   ]
  },
  {
   "cell_type": "code",
   "execution_count": null,
   "metadata": {},
   "outputs": [],
   "source": [
    "visits = pd.read_csv('https://code.s3.yandex.net/datasets/visits_log.csv')\n",
    "orders = pd.read_csv('https://code.s3.yandex.net/datasets/orders_log.csv')\n",
    "costs = pd.read_csv('https://code.s3.yandex.net/datasets/costs.csv')"
   ]
  },
  {
   "cell_type": "code",
   "execution_count": null,
   "metadata": {},
   "outputs": [],
   "source": [
    "visits"
   ]
  },
  {
   "cell_type": "code",
   "execution_count": null,
   "metadata": {},
   "outputs": [],
   "source": [
    "visits.info()"
   ]
  },
  {
   "cell_type": "code",
   "execution_count": null,
   "metadata": {},
   "outputs": [],
   "source": [
    "orders"
   ]
  },
  {
   "cell_type": "code",
   "execution_count": null,
   "metadata": {},
   "outputs": [],
   "source": [
    "orders.info()"
   ]
  },
  {
   "cell_type": "code",
   "execution_count": null,
   "metadata": {},
   "outputs": [],
   "source": [
    "costs"
   ]
  },
  {
   "cell_type": "code",
   "execution_count": null,
   "metadata": {},
   "outputs": [],
   "source": [
    "costs.info()"
   ]
  },
  {
   "cell_type": "code",
   "execution_count": null,
   "metadata": {},
   "outputs": [],
   "source": [
    "visits.columns=['device', 'end_ts', 'source_id', 'start_ts', 'uid']\n",
    "orders.columns=['buy_ts', 'revenue', 'uid']"
   ]
  },
  {
   "cell_type": "code",
   "execution_count": null,
   "metadata": {},
   "outputs": [],
   "source": [
    "visits['end_ts'] = pd.to_datetime(visits['end_ts'], format=\"%Y-%m-%d %H:%M\")\n",
    "visits['start_ts'] = pd.to_datetime(visits['start_ts'], format=\"%Y-%m-%d %H:%M\")\n",
    "orders['buy_ts'] = pd.to_datetime(orders['buy_ts'], format=\"%Y-%m-%d %H:%M\")\n",
    "costs['dt'] = pd.to_datetime(costs['dt'], format=\"%Y-%m-%d %H:%M\")"
   ]
  },
  {
   "cell_type": "code",
   "execution_count": null,
   "metadata": {},
   "outputs": [],
   "source": [
    "visits['session_year']  = visits['start_ts'].dt.year\n",
    "visits['session_month'] = visits['start_ts'].dt.month\n",
    "visits['session_week']  = visits['start_ts'].dt.week\n",
    "visits['session_date'] = visits['start_ts'].dt.date\n",
    "\n",
    "orders['buy_year']  = orders['buy_ts'].dt.year\n",
    "orders['buy_month'] = orders['buy_ts'].dt.month\n",
    "orders['buy_week']  = orders['buy_ts'].dt.week\n",
    "\n",
    "costs['cost_year']  = costs['dt'].dt.year\n",
    "costs['cost_month'] = costs['dt'].dt.month\n",
    "costs['cost_week']  = costs['dt'].dt.week"
   ]
  },
  {
   "cell_type": "markdown",
   "metadata": {},
   "source": [
    "<div style=\"border:solid grey 2px; padding: 30px\">\n",
    "В таблицах переименовали поля. Перевели дату в dt. Выделили из нее недели, месяцы, года."
   ]
  },
  {
   "cell_type": "markdown",
   "metadata": {},
   "source": [
    "Соединяем нужные таблицы"
   ]
  },
  {
   "cell_type": "code",
   "execution_count": null,
   "metadata": {},
   "outputs": [],
   "source": [
    "#sources_uids\n",
    "uids = visits.sort_values('start_ts').groupby('uid')[['source_id', 'device']].agg('first').reset_index()\n",
    "sources_count = uids.groupby('source_id')['uid'].count().reset_index()"
   ]
  },
  {
   "cell_type": "code",
   "execution_count": null,
   "metadata": {},
   "outputs": [],
   "source": [
    "orders = orders.merge(uids, on='uid')"
   ]
  },
  {
   "cell_type": "markdown",
   "metadata": {},
   "source": [
    "## 2 Построение отчетов и метрик"
   ]
  },
  {
   "cell_type": "markdown",
   "metadata": {},
   "source": [
    "## Смотрим, что сразу можно увидеть в данных"
   ]
  },
  {
   "cell_type": "code",
   "execution_count": null,
   "metadata": {},
   "outputs": [],
   "source": [
    "print(f'Количество визитов за период {visits[\"uid\"].count()}')\n",
    "print(f'Количество уникальных пользователей за период {visits[\"uid\"].nunique()}')\n",
    "print()\n",
    "print('Распределение визитов по устройствам')\n",
    "display(visits['device'].value_counts(normalize=True))\n",
    "print()\n",
    "print('Колиество визитов по источникам рекламы')\n",
    "display(visits['source_id'].value_counts())"
   ]
  },
  {
   "cell_type": "code",
   "execution_count": null,
   "metadata": {},
   "outputs": [],
   "source": [
    "print('Диапазон дат визитов')\n",
    "visits['start_ts'].describe()"
   ]
  },
  {
   "cell_type": "markdown",
   "metadata": {},
   "source": [
    "<div style=\"border:solid grey 2px; padding: 30px\">В период с июня 2017 г. по май 2018 г. 228 тыс. уникальных пользователей сгенерировали 359 тыс. сессий. Большая часть визитов (73%) c десктопа. Из источников 7, 6 почти нет переходов."
   ]
  },
  {
   "cell_type": "code",
   "execution_count": null,
   "metadata": {},
   "outputs": [],
   "source": [
    "print(f'Количество заказов за период {orders[\"uid\"].count()}')\n",
    "print(f'Количество пользователей, совершивших заказ за период {orders[\"uid\"].nunique()}')\n",
    "print()\n",
    "print('Диапазон дат заказов')\n",
    "display(orders['buy_ts'].describe())\n",
    "print()\n",
    "print(f'Общая сумма заказов {orders[\"revenue\"].sum()}')\n",
    "print()\n",
    "print('Распеределение выручки по устройствам')\n",
    "display(orders.groupby('device')['revenue'].sum())\n",
    "print()\n",
    "print('Распеределение выручки по источникам рекламы')\n",
    "display(orders.groupby('source_id')['revenue'].sum())"
   ]
  },
  {
   "cell_type": "markdown",
   "metadata": {},
   "source": [
    "<div style=\"border:solid grey 2px; padding: 30px\">\n",
    "За этот же период 37 тыс. пользователей было сделано 50 тыс. заказов, выручка Яндекс.Афиши по которым составила 252 млн руб. <br>\n",
    "Большая часть покупок была сделана пользователям с десктопа. Выручка примерно равномерно распределена по источникам рекламы 1-5. <br>\n",
    "(Здесь и далее отнесение заказов к источнику рекламы производится на основании источника первого перехода пользователя, совершившего заказ)."
   ]
  },
  {
   "cell_type": "code",
   "execution_count": null,
   "metadata": {},
   "outputs": [],
   "source": [
    "print(f'Сумма затрат за период {costs[\"costs\"].sum()}')\n",
    "print()\n",
    "print('Распределение затрат по источникам')\n",
    "display(costs.groupby('source_id')['costs'].sum())"
   ]
  },
  {
   "cell_type": "markdown",
   "metadata": {},
   "source": [
    "<div style=\"border:solid grey 2px; padding: 30px\">\n",
    "Маркетинговые затраты составили 329 млн. руб. В основном они были распределены аналогично выручке между источникми рекламы 1-5, но наибольшие затраты (141 млн руб.) были на источник 3, наименьшие (из этих 5 источников) на источник 1 (20 млн руб.).\n"
   ]
  },
  {
   "cell_type": "code",
   "execution_count": null,
   "metadata": {},
   "outputs": [],
   "source": []
  }
 ],
 "metadata": {
  "kernelspec": {
   "display_name": "Python 3",
   "language": "python",
   "name": "python3"
  },
  "language_info": {
   "codemirror_mode": {
    "name": "ipython",
    "version": 3
   },
   "file_extension": ".py",
   "mimetype": "text/x-python",
   "name": "python",
   "nbconvert_exporter": "python",
   "pygments_lexer": "ipython3",
   "version": "3.7.6"
  }
 },
 "nbformat": 4,
 "nbformat_minor": 4
}
