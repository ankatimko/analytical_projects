{
 "cells": [
  {
   "cell_type": "markdown",
   "metadata": {
    "colab_type": "text",
    "id": "fF57v31LHW6V"
   },
   "source": [
    "# Оптимизация частоты клиентских рассылок"
   ]
  },
  {
   "cell_type": "markdown",
   "metadata": {
    "colab_type": "text",
    "id": "vIGhVwSTth4z"
   },
   "source": [
    "Заказчик: отдел маркетинга ритейлера одежды и обуви <br>\n",
    "Цель: персонализация частоты рассылок<br>\n",
    "Ожидаемый бизнес-результат: клиенты с превышением лимита по отправкам будут изыматься и таргета.<br>\n",
    "Со временем в него возвращаться. При этом они не будут терять интерес к рассылкам , меньше будут отписываться, будут дольше оставаться в программе."
   ]
  },
  {
   "cell_type": "markdown",
   "metadata": {
    "colab_type": "text",
    "id": "dVd2b4BIuGyy"
   },
   "source": [
    "Задачи: <br>\n",
    "\n",
    "\n",
    "1. Определить оптимальную частоту рассылок на уровне клиента для минимизации рисков по оттоку, в т.ч. пассивному оттоку, без снижения моментального траффика/продаж. Второе в приоритете.\n",
    "2. Проверить гипотезы <br>\n",
    "\n",
    "\n",
    "> 1. Гипотеза о “пассивной отписке”: когда человеку показалось, что ему пишут слишком много, и он просто перестает открывать рассылки, хоть и не готов отписываться<br>\n",
    "> 2. Клиент совершает покупку и какое-то время теряет интерес к новостным рассылкам, во всяком\n",
    "случае рассылки на пользователя не генерят продажи"
   ]
  },
  {
   "cell_type": "markdown",
   "metadata": {
    "colab_type": "text",
    "id": "-OQp6D8-_nMG"
   },
   "source": [
    "## Загрузка"
   ]
  },
  {
   "cell_type": "code",
   "execution_count": 2,
   "metadata": {
    "colab": {
     "base_uri": "https://localhost:8080/",
     "height": 71
    },
    "colab_type": "code",
    "id": "78qDa0UrWYTi",
    "outputId": "35960c9d-1ec4-4f85-ff64-293a149e37e3"
   },
   "outputs": [],
   "source": [
    "import pandas as pd\n",
    "import numpy as np\n",
    "import matplotlib.pyplot as plt\n",
    "import seaborn as sns"
   ]
  },
  {
   "cell_type": "code",
   "execution_count": 3,
   "metadata": {
    "colab": {},
    "colab_type": "code",
    "id": "wqcGOkJBZeiF"
   },
   "outputs": [],
   "source": [
    "transactions = pd.read_csv('https://drive.google.com/uc?export=download&id=12914HqgudWBPi1Xg-tO7coX21fcJYDGM', sep=';', encoding='windows-1251', low_memory=False, header=2)\n",
    "members = pd.read_csv('https://drive.google.com/uc?export=download&id=1OfZwvqZ1-imjBIXj9dnJUj3157UKDQnk', sep=';', encoding='windows-1251', low_memory=False, header=2)\n",
    "campaings = pd.read_csv('https://drive.google.com/uc?export=download&id=1YAJqqu_LYjS3EUwmJsDr6PFGd9dlRMTl', sep=';', encoding='windows-1251', low_memory=False, header=2)\n",
    "engagements = pd.read_csv('https://drive.google.com/uc?export=download&id=1S17InJ1cU_jb5Bqfc4EQDbsKWtkgRYea', sep=';', encoding='windows-1251', low_memory=False, header=2)"
   ]
  },
  {
   "cell_type": "code",
   "execution_count": 4,
   "metadata": {},
   "outputs": [
    {
     "data": {
      "text/html": [
       "<div>\n",
       "<style scoped>\n",
       "    .dataframe tbody tr th:only-of-type {\n",
       "        vertical-align: middle;\n",
       "    }\n",
       "\n",
       "    .dataframe tbody tr th {\n",
       "        vertical-align: top;\n",
       "    }\n",
       "\n",
       "    .dataframe thead th {\n",
       "        text-align: right;\n",
       "    }\n",
       "</style>\n",
       "<table border=\"1\" class=\"dataframe\">\n",
       "  <thead>\n",
       "    <tr style=\"text-align: right;\">\n",
       "      <th></th>\n",
       "      <th>Consumer SEUCI ID</th>\n",
       "      <th>Order Date ID</th>\n",
       "      <th>Nr of Transactions</th>\n",
       "    </tr>\n",
       "  </thead>\n",
       "  <tbody>\n",
       "    <tr>\n",
       "      <th>0</th>\n",
       "      <td>0049U5ZF5M0KFYTZ</td>\n",
       "      <td>02.07.2019</td>\n",
       "      <td>1</td>\n",
       "    </tr>\n",
       "    <tr>\n",
       "      <th>1</th>\n",
       "      <td>006ZYWZO9M7FS9BT</td>\n",
       "      <td>01.07.2019</td>\n",
       "      <td>1</td>\n",
       "    </tr>\n",
       "    <tr>\n",
       "      <th>2</th>\n",
       "      <td>006ZYWZO9M7FS9BT</td>\n",
       "      <td>29.01.2020</td>\n",
       "      <td>1</td>\n",
       "    </tr>\n",
       "    <tr>\n",
       "      <th>3</th>\n",
       "      <td>00SC6AIM4AZ0RL4N</td>\n",
       "      <td>24.07.2019</td>\n",
       "      <td>1</td>\n",
       "    </tr>\n",
       "    <tr>\n",
       "      <th>4</th>\n",
       "      <td>00UFVL6NWLOKB7S5</td>\n",
       "      <td>19.09.2019</td>\n",
       "      <td>1</td>\n",
       "    </tr>\n",
       "  </tbody>\n",
       "</table>\n",
       "</div>"
      ],
      "text/plain": [
       "  Consumer SEUCI ID Order Date ID  Nr of Transactions\n",
       "0  0049U5ZF5M0KFYTZ    02.07.2019                   1\n",
       "1  006ZYWZO9M7FS9BT    01.07.2019                   1\n",
       "2  006ZYWZO9M7FS9BT    29.01.2020                   1\n",
       "3  00SC6AIM4AZ0RL4N    24.07.2019                   1\n",
       "4  00UFVL6NWLOKB7S5    19.09.2019                   1"
      ]
     },
     "execution_count": 4,
     "metadata": {},
     "output_type": "execute_result"
    }
   ],
   "source": [
    "transactions.head()"
   ]
  },
  {
   "cell_type": "markdown",
   "metadata": {},
   "source": [
    "***Таблица заказов***<br>\n",
    "Id клиента<br>\n",
    "Дата транзакции<br>\n",
    "Кол-во транзакций<br>"
   ]
  },
  {
   "cell_type": "code",
   "execution_count": 68,
   "metadata": {},
   "outputs": [
    {
     "data": {
      "text/html": [
       "<div>\n",
       "<style scoped>\n",
       "    .dataframe tbody tr th:only-of-type {\n",
       "        vertical-align: middle;\n",
       "    }\n",
       "\n",
       "    .dataframe tbody tr th {\n",
       "        vertical-align: top;\n",
       "    }\n",
       "\n",
       "    .dataframe thead th {\n",
       "        text-align: right;\n",
       "    }\n",
       "</style>\n",
       "<table border=\"1\" class=\"dataframe\">\n",
       "  <thead>\n",
       "    <tr style=\"text-align: right;\">\n",
       "      <th></th>\n",
       "      <th>consumer_seuci_id</th>\n",
       "      <th>age_id</th>\n",
       "      <th>gender_desc</th>\n",
       "      <th>first_signup_date_id</th>\n",
       "      <th>sent</th>\n",
       "      <th>first_signup_month</th>\n",
       "      <th>transactions</th>\n",
       "      <th>first_tr_month</th>\n",
       "      <th>first_sent_month</th>\n",
       "      <th>age_group</th>\n",
       "    </tr>\n",
       "  </thead>\n",
       "  <tbody>\n",
       "    <tr>\n",
       "      <th>0</th>\n",
       "      <td>003GH1K9GPLAB0WG</td>\n",
       "      <td>NaN</td>\n",
       "      <td>Not Set</td>\n",
       "      <td>2019-07-01</td>\n",
       "      <td>51</td>\n",
       "      <td>2019-07</td>\n",
       "      <td>NaN</td>\n",
       "      <td>NaT</td>\n",
       "      <td>NaT</td>\n",
       "      <td>no_age_group</td>\n",
       "    </tr>\n",
       "    <tr>\n",
       "      <th>1</th>\n",
       "      <td>0049U5ZF5M0KFYTZ</td>\n",
       "      <td>39.0</td>\n",
       "      <td>Male</td>\n",
       "      <td>2019-07-02</td>\n",
       "      <td>104</td>\n",
       "      <td>2019-07</td>\n",
       "      <td>1.0</td>\n",
       "      <td>2019-07</td>\n",
       "      <td>2019-07</td>\n",
       "      <td>36-45</td>\n",
       "    </tr>\n",
       "    <tr>\n",
       "      <th>2</th>\n",
       "      <td>006ZYWZO9M7FS9BT</td>\n",
       "      <td>33.0</td>\n",
       "      <td>Male</td>\n",
       "      <td>2019-07-01</td>\n",
       "      <td>149</td>\n",
       "      <td>2019-07</td>\n",
       "      <td>2.0</td>\n",
       "      <td>2019-07</td>\n",
       "      <td>2019-07</td>\n",
       "      <td>26-35</td>\n",
       "    </tr>\n",
       "    <tr>\n",
       "      <th>3</th>\n",
       "      <td>00720YKABZ6J9ZJ1</td>\n",
       "      <td>NaN</td>\n",
       "      <td>Female</td>\n",
       "      <td>2019-07-01</td>\n",
       "      <td>47</td>\n",
       "      <td>2019-07</td>\n",
       "      <td>NaN</td>\n",
       "      <td>NaT</td>\n",
       "      <td>NaT</td>\n",
       "      <td>no_age_group</td>\n",
       "    </tr>\n",
       "    <tr>\n",
       "      <th>4</th>\n",
       "      <td>009LQ66BFK5BIS1S</td>\n",
       "      <td>26.0</td>\n",
       "      <td>Male</td>\n",
       "      <td>2019-07-01</td>\n",
       "      <td>2</td>\n",
       "      <td>2019-07</td>\n",
       "      <td>NaN</td>\n",
       "      <td>NaT</td>\n",
       "      <td>NaT</td>\n",
       "      <td>26-35</td>\n",
       "    </tr>\n",
       "  </tbody>\n",
       "</table>\n",
       "</div>"
      ],
      "text/plain": [
       "  consumer_seuci_id  age_id gender_desc first_signup_date_id  sent  \\\n",
       "0  003GH1K9GPLAB0WG     NaN     Not Set           2019-07-01    51   \n",
       "1  0049U5ZF5M0KFYTZ    39.0        Male           2019-07-02   104   \n",
       "2  006ZYWZO9M7FS9BT    33.0        Male           2019-07-01   149   \n",
       "3  00720YKABZ6J9ZJ1     NaN      Female           2019-07-01    47   \n",
       "4  009LQ66BFK5BIS1S    26.0        Male           2019-07-01     2   \n",
       "\n",
       "  first_signup_month  transactions first_tr_month first_sent_month  \\\n",
       "0            2019-07           NaN            NaT              NaT   \n",
       "1            2019-07           1.0        2019-07          2019-07   \n",
       "2            2019-07           2.0        2019-07          2019-07   \n",
       "3            2019-07           NaN            NaT              NaT   \n",
       "4            2019-07           NaN            NaT              NaT   \n",
       "\n",
       "      age_group  \n",
       "0  no_age_group  \n",
       "1         36-45  \n",
       "2         26-35  \n",
       "3  no_age_group  \n",
       "4         26-35  "
      ]
     },
     "execution_count": 68,
     "metadata": {},
     "output_type": "execute_result"
    }
   ],
   "source": [
    "members.head()"
   ]
  },
  {
   "cell_type": "markdown",
   "metadata": {},
   "source": [
    "***Таблица клиентов***<br>\n",
    "Id клиента<br>\n",
    "Пол (не всегда указан)<br>\n",
    "Возраст (не всегда указан)<br>\n",
    "Дата регистрации<br>"
   ]
  },
  {
   "cell_type": "code",
   "execution_count": 69,
   "metadata": {},
   "outputs": [
    {
     "data": {
      "text/html": [
       "<div>\n",
       "<style scoped>\n",
       "    .dataframe tbody tr th:only-of-type {\n",
       "        vertical-align: middle;\n",
       "    }\n",
       "\n",
       "    .dataframe tbody tr th {\n",
       "        vertical-align: top;\n",
       "    }\n",
       "\n",
       "    .dataframe thead th {\n",
       "        text-align: right;\n",
       "    }\n",
       "</style>\n",
       "<table border=\"1\" class=\"dataframe\">\n",
       "  <thead>\n",
       "    <tr style=\"text-align: right;\">\n",
       "      <th></th>\n",
       "      <th>campaign_delivery_id</th>\n",
       "      <th>sent_date_hour_id</th>\n",
       "      <th>sent</th>\n",
       "    </tr>\n",
       "  </thead>\n",
       "  <tbody>\n",
       "    <tr>\n",
       "      <th>0</th>\n",
       "      <td>643100000215092</td>\n",
       "      <td>2019-07-21</td>\n",
       "      <td>274</td>\n",
       "    </tr>\n",
       "    <tr>\n",
       "      <th>1</th>\n",
       "      <td>643100000248888</td>\n",
       "      <td>2019-08-06</td>\n",
       "      <td>2 473</td>\n",
       "    </tr>\n",
       "    <tr>\n",
       "      <th>2</th>\n",
       "      <td>643100000248888</td>\n",
       "      <td>2019-08-09</td>\n",
       "      <td>6</td>\n",
       "    </tr>\n",
       "    <tr>\n",
       "      <th>3</th>\n",
       "      <td>643100000248888</td>\n",
       "      <td>2019-08-21</td>\n",
       "      <td>13</td>\n",
       "    </tr>\n",
       "    <tr>\n",
       "      <th>4</th>\n",
       "      <td>643100000248888</td>\n",
       "      <td>2019-08-30</td>\n",
       "      <td>23</td>\n",
       "    </tr>\n",
       "  </tbody>\n",
       "</table>\n",
       "</div>"
      ],
      "text/plain": [
       "   campaign_delivery_id sent_date_hour_id    sent\n",
       "0       643100000215092        2019-07-21    274 \n",
       "1       643100000248888        2019-08-06  2 473 \n",
       "2       643100000248888        2019-08-09      6 \n",
       "3       643100000248888        2019-08-21     13 \n",
       "4       643100000248888        2019-08-30     23 "
      ]
     },
     "execution_count": 69,
     "metadata": {},
     "output_type": "execute_result"
    }
   ],
   "source": [
    "campaings.head()"
   ]
  },
  {
   "cell_type": "markdown",
   "metadata": {},
   "source": [
    "***Таблица кампаний***<br>\n",
    "Id кампании<br>\n",
    "Дата и время отправки<br>"
   ]
  },
  {
   "cell_type": "code",
   "execution_count": 70,
   "metadata": {},
   "outputs": [
    {
     "data": {
      "text/html": [
       "<div>\n",
       "<style scoped>\n",
       "    .dataframe tbody tr th:only-of-type {\n",
       "        vertical-align: middle;\n",
       "    }\n",
       "\n",
       "    .dataframe tbody tr th {\n",
       "        vertical-align: top;\n",
       "    }\n",
       "\n",
       "    .dataframe thead th {\n",
       "        text-align: right;\n",
       "    }\n",
       "</style>\n",
       "<table border=\"1\" class=\"dataframe\">\n",
       "  <thead>\n",
       "    <tr style=\"text-align: right;\">\n",
       "      <th></th>\n",
       "      <th>consumer_seuci_id</th>\n",
       "      <th>campaign_delivery_id</th>\n",
       "      <th>opened_date_hour_id</th>\n",
       "      <th>sent</th>\n",
       "      <th>delivered</th>\n",
       "      <th>opened</th>\n",
       "      <th>clicked</th>\n",
       "      <th>unsubscribed</th>\n",
       "      <th>sent_date_hour_id</th>\n",
       "      <th>month_sent</th>\n",
       "    </tr>\n",
       "  </thead>\n",
       "  <tbody>\n",
       "    <tr>\n",
       "      <th>0</th>\n",
       "      <td>003GH1K9GPLAB0WG</td>\n",
       "      <td>643100000258617</td>\n",
       "      <td>NaT</td>\n",
       "      <td>1</td>\n",
       "      <td>1</td>\n",
       "      <td>NaN</td>\n",
       "      <td>NaN</td>\n",
       "      <td>NaN</td>\n",
       "      <td>2019-08-15</td>\n",
       "      <td>2019-08</td>\n",
       "    </tr>\n",
       "    <tr>\n",
       "      <th>1</th>\n",
       "      <td>003GH1K9GPLAB0WG</td>\n",
       "      <td>643100000258617</td>\n",
       "      <td>NaT</td>\n",
       "      <td>1</td>\n",
       "      <td>1</td>\n",
       "      <td>NaN</td>\n",
       "      <td>NaN</td>\n",
       "      <td>NaN</td>\n",
       "      <td>2019-08-15</td>\n",
       "      <td>2019-08</td>\n",
       "    </tr>\n",
       "    <tr>\n",
       "      <th>2</th>\n",
       "      <td>003GH1K9GPLAB0WG</td>\n",
       "      <td>643100000258617</td>\n",
       "      <td>NaT</td>\n",
       "      <td>1</td>\n",
       "      <td>1</td>\n",
       "      <td>NaN</td>\n",
       "      <td>NaN</td>\n",
       "      <td>NaN</td>\n",
       "      <td>2019-08-18</td>\n",
       "      <td>2019-08</td>\n",
       "    </tr>\n",
       "    <tr>\n",
       "      <th>3</th>\n",
       "      <td>003GH1K9GPLAB0WG</td>\n",
       "      <td>643100000258617</td>\n",
       "      <td>NaT</td>\n",
       "      <td>1</td>\n",
       "      <td>1</td>\n",
       "      <td>NaN</td>\n",
       "      <td>NaN</td>\n",
       "      <td>NaN</td>\n",
       "      <td>2019-08-21</td>\n",
       "      <td>2019-08</td>\n",
       "    </tr>\n",
       "    <tr>\n",
       "      <th>4</th>\n",
       "      <td>003GH1K9GPLAB0WG</td>\n",
       "      <td>643100000258617</td>\n",
       "      <td>NaT</td>\n",
       "      <td>1</td>\n",
       "      <td>1</td>\n",
       "      <td>NaN</td>\n",
       "      <td>NaN</td>\n",
       "      <td>NaN</td>\n",
       "      <td>2019-08-30</td>\n",
       "      <td>2019-08</td>\n",
       "    </tr>\n",
       "  </tbody>\n",
       "</table>\n",
       "</div>"
      ],
      "text/plain": [
       "  consumer_seuci_id  campaign_delivery_id opened_date_hour_id  sent  \\\n",
       "0  003GH1K9GPLAB0WG       643100000258617                 NaT     1   \n",
       "1  003GH1K9GPLAB0WG       643100000258617                 NaT     1   \n",
       "2  003GH1K9GPLAB0WG       643100000258617                 NaT     1   \n",
       "3  003GH1K9GPLAB0WG       643100000258617                 NaT     1   \n",
       "4  003GH1K9GPLAB0WG       643100000258617                 NaT     1   \n",
       "\n",
       "   delivered  opened  clicked  unsubscribed sent_date_hour_id month_sent  \n",
       "0          1     NaN      NaN           NaN        2019-08-15    2019-08  \n",
       "1          1     NaN      NaN           NaN        2019-08-15    2019-08  \n",
       "2          1     NaN      NaN           NaN        2019-08-18    2019-08  \n",
       "3          1     NaN      NaN           NaN        2019-08-21    2019-08  \n",
       "4          1     NaN      NaN           NaN        2019-08-30    2019-08  "
      ]
     },
     "execution_count": 70,
     "metadata": {},
     "output_type": "execute_result"
    }
   ],
   "source": [
    "engagements.head()"
   ]
  },
  {
   "cell_type": "markdown",
   "metadata": {},
   "source": [
    "***Таблица взаимодействий***<br>\n",
    "Id клиента<br>\n",
    "Id кампании (если клиент попал в таргет)<br>\n",
    "Дата и время открытия письма<br>\n",
    "Клиент открыл письмо (0/1)<br>\n",
    "Клиент кликнул по контенту письма = перешел на сайт/app (0/1)<br>\n",
    "Клиент отписался от рассылки с этого письма (0/1)<br>"
   ]
  },
  {
   "cell_type": "markdown",
   "metadata": {
    "colab_type": "text",
    "id": "vyWc39F6_rhq"
   },
   "source": [
    "## Подготовка таблиц"
   ]
  },
  {
   "cell_type": "markdown",
   "metadata": {
    "colab_type": "text",
    "id": "WrBsIaRy3P_f"
   },
   "source": [
    "Для дальнейшего анализа сгруппируем все данные по месяцу-пользователю в таблицу `report`. В нее подтянем данные по количеству отправленных / прочитанных сообщений, данные по клиентам (пол, возраст) и т.д."
   ]
  },
  {
   "cell_type": "code",
   "execution_count": 5,
   "metadata": {
    "colab": {},
    "colab_type": "code",
    "id": "r5H5g86Hjqvf"
   },
   "outputs": [],
   "source": [
    "for df in [transactions, members, campaings, engagements]:\n",
    "  df.columns = map(str.lower, df.columns)\n",
    "  df.columns = df.columns.str.replace(' ', '_')\n",
    "\n",
    "transactions['order_date_id'] = pd.to_datetime(transactions['order_date_id'], format='%d.%m.%Y').values.astype('<M8[D]')\n",
    "campaings['sent_date_hour_id'] = pd.to_datetime(campaings['sent_date_hour_id'], format='%d.%m.%Y %H:%M:%S').values.astype('<M8[D]')\n",
    "engagements['opened_date_hour_id'] = pd.to_datetime(engagements['opened_date_hour_id'], format='%d.%m.%Y %H:%M:%S').values.astype('<M8[D]')\n",
    "members['first_signup_date_id'] = pd.to_datetime(members['first_signup_date_id'], format='%d.%m.%Y').values.astype('<M8[D]')\n",
    "\n",
    "engagements = engagements.merge(campaings[['campaign_delivery_id', 'sent_date_hour_id']], on='campaign_delivery_id')\n",
    "\n",
    "transactions['transaction_month'] = pd.to_datetime(transactions['order_date_id']).dt.to_period('M')\n",
    "#transactions['transaction_month'] = pd.to_datetime(transactions['transaction_month']).dt.to_period('M').dt.to_timestamp()\n",
    "engagements['month_sent'] = pd.to_datetime(engagements['sent_date_hour_id']).dt.to_period('M')\n",
    "members['first_signup_month'] =  pd.to_datetime(members['first_signup_date_id']).dt.to_period('M') "
   ]
  },
  {
   "cell_type": "code",
   "execution_count": 6,
   "metadata": {
    "colab": {},
    "colab_type": "code",
    "id": "9HL1jIxZDrIF"
   },
   "outputs": [],
   "source": [
    "transactions_grouped = transactions.groupby(['transaction_month', 'consumer_seuci_id'])['nr_of_transactions'].sum().reset_index()\n",
    "transactions_by_user = transactions.groupby('consumer_seuci_id').agg({\n",
    "                                                  'nr_of_transactions': 'count',\n",
    "                                                  'transaction_month': 'min'\n",
    "                                                  }).reset_index()\n",
    "transactions_by_user.columns = ['id', 'transactions', 'first_tr_month']"
   ]
  },
  {
   "cell_type": "code",
   "execution_count": 7,
   "metadata": {
    "colab": {},
    "colab_type": "code",
    "id": "_cXnrCIql2Db"
   },
   "outputs": [],
   "source": [
    "engagements_by_user = engagements.groupby('consumer_seuci_id').agg({\n",
    "                                                  'sent':'count', \n",
    "                                                   'delivered':'count', \n",
    "                                                   'opened':'count',\n",
    "                                                   'clicked':'count',\n",
    "                                                   'unsubscribed':'count',\n",
    "                                                   'sent_date_hour_id':['min', 'max']}).reset_index()\n",
    "\n",
    "engagements_by_user.columns = engagements_by_user.columns.droplevel()\n",
    "engagements_by_user.columns = ['id', 'sent', 'delivered', 'opened', 'clicked', 'unsubscribed','first_sent', 'last_sent']\n",
    "engagements_by_user['pc_o'] = engagements_by_user['opened']/engagements_by_user['delivered']\n",
    "engagements_by_user['pc_c'] = engagements_by_user['clicked']/engagements_by_user['delivered']\n",
    "\n",
    "engagements_by_user = engagements_by_user.merge(transactions_by_user, left_on='id', right_on='id')\n",
    "engagements_by_user['sent_period'] = (engagements_by_user['last_sent'] - engagements_by_user['first_sent'] ) / np.timedelta64(1, 'D')\n",
    "engagements_by_user['sent_fq'] = engagements_by_user['sent'] / engagements_by_user['sent_period']\n",
    "engagements_by_user['first_sent_month'] = pd.to_datetime(members['first_signup_date_id']).dt.to_period('M') \n"
   ]
  },
  {
   "cell_type": "code",
   "execution_count": 8,
   "metadata": {
    "colab": {},
    "colab_type": "code",
    "id": "W7Ixn5nuD-Nt"
   },
   "outputs": [],
   "source": [
    "members = members.merge(transactions_by_user, how='left', left_on='consumer_seuci_id', right_on='id')\n",
    "members = members.drop(['id'], axis=1)\n",
    "members = members.merge(engagements_by_user[['id', 'first_sent_month']], how='left', left_on='consumer_seuci_id', right_on='id')\n",
    "members = members.drop(['id'], axis=1)"
   ]
  },
  {
   "cell_type": "code",
   "execution_count": 9,
   "metadata": {
    "colab": {},
    "colab_type": "code",
    "id": "UXMRKFmUxedG"
   },
   "outputs": [],
   "source": [
    "def get_age_group( row):  \n",
    "    if row['age_id'] <= 14.0:\n",
    "        return '<14'\n",
    "    elif 14<row['age_id'] <= 20:\n",
    "        return '15-20'\n",
    "    elif 20<row['age_id'] <= 25:\n",
    "        return '21-25'\n",
    "    elif 25<row['age_id'] <= 35:\n",
    "        return '26-35'\n",
    "    elif 35.0<row['age_id'] <= 45.0:\n",
    "        return '36-45'\n",
    "    elif 45<row['age_id'] <= 55.0:\n",
    "        return '46-55'\n",
    "    elif 55.0<row['age_id']:\n",
    "        return '55+'\n",
    "    else:\n",
    "        return 'no_age_group'\n",
    "members['age_group'] =members.apply(get_age_group, axis=1)"
   ]
  },
  {
   "cell_type": "code",
   "execution_count": 10,
   "metadata": {
    "colab": {},
    "colab_type": "code",
    "id": "pUMzR4G2QAly"
   },
   "outputs": [],
   "source": [
    "engagements_grouped = engagements.groupby(['consumer_seuci_id', 'month_sent']).agg({\n",
    "                                                  'sent':'count', \n",
    "                                                   'delivered':'count', \n",
    "                                                   'opened':'count',\n",
    "                                                   'clicked':'count',\n",
    "                                                   'unsubscribed':'count',\n",
    "                                                   'sent_date_hour_id':['min', 'max']}).reset_index()\n",
    "engagements_grouped['pc_o'] = engagements_grouped['opened']/engagements_grouped['delivered']\n",
    "engagements_grouped['pc_c'] = engagements_grouped['clicked']/engagements_grouped['delivered']\n",
    "engagements_grouped.columns = engagements_grouped.columns.droplevel()\n",
    "engagements_grouped.columns = ['id', 'month_sent', 'sent', 'delivered', 'opened', 'clicked', 'unsubscribed','first_sent', 'last_sent', 'pc_o', 'pc_c']"
   ]
  },
  {
   "cell_type": "code",
   "execution_count": 11,
   "metadata": {
    "colab": {},
    "colab_type": "code",
    "id": "SdauxNg06GOM"
   },
   "outputs": [],
   "source": [
    "d = pd.date_range(start='2019-07-01', end='2020-08-01', freq='MS').to_frame()\n",
    "d = d.reset_index()\n",
    "d['index'] = 1\n",
    "d[0] = pd.to_datetime(d[0]).dt.to_period('M')"
   ]
  },
  {
   "cell_type": "code",
   "execution_count": 12,
   "metadata": {
    "colab": {},
    "colab_type": "code",
    "id": "pInV_ugO8NL1"
   },
   "outputs": [],
   "source": [
    "f = members['consumer_seuci_id'].reset_index()\n",
    "f['index']=1"
   ]
  },
  {
   "cell_type": "code",
   "execution_count": 13,
   "metadata": {
    "colab": {},
    "colab_type": "code",
    "id": "n7H860qgodyE"
   },
   "outputs": [],
   "source": [
    "fish = d.merge(f, on='index')\n",
    "fish = fish[[0, 'consumer_seuci_id']]\n",
    "fish.columns = ['month', 'id']"
   ]
  },
  {
   "cell_type": "code",
   "execution_count": 14,
   "metadata": {
    "colab": {},
    "colab_type": "code",
    "id": "pOpC_zvdo6eM"
   },
   "outputs": [],
   "source": [
    "report = fish.merge(transactions_grouped, left_on=['month', 'id'], right_on=['transaction_month', 'consumer_seuci_id'], how='left')\n",
    "report = report[['month', 'id', 'nr_of_transactions']]\n",
    "report = report.merge(engagements_grouped, left_on=['month', 'id'], right_on=['month_sent', 'id'], how='left')\n",
    "report = report.merge(members[['first_signup_month', 'consumer_seuci_id', 'gender_desc', 'age_id', 'age_group']], right_on='consumer_seuci_id', left_on='id')\n",
    "report = report.drop(['consumer_seuci_id', 'month_sent', 'first_sent', 'last_sent'], axis=1)\n",
    "report['lifetime'] = (( report['month'].dt.to_timestamp() - report['first_signup_month'].dt.to_timestamp()) / np.timedelta64(1,'M')).astype('int64')\n",
    "#for col in['sent', 'delivered', 'opened', 'clicked', 'unsubscribed']:\n",
    "#  report[col] = report[col].astype(pd.Int32Dtype())\n",
    "\n",
    "report['prev_1_buy'] = report['nr_of_transactions'].shift(1)\n",
    "report['prev_2_buy'] = report['nr_of_transactions'].shift(2)"
   ]
  },
  {
   "cell_type": "code",
   "execution_count": 15,
   "metadata": {
    "colab": {
     "base_uri": "https://localhost:8080/",
     "height": 309
    },
    "colab_type": "code",
    "id": "mvxEavE35Cd5",
    "outputId": "df88db87-2d1b-41be-a3e0-b85b9047f6fe"
   },
   "outputs": [
    {
     "data": {
      "text/html": [
       "<div>\n",
       "<style scoped>\n",
       "    .dataframe tbody tr th:only-of-type {\n",
       "        vertical-align: middle;\n",
       "    }\n",
       "\n",
       "    .dataframe tbody tr th {\n",
       "        vertical-align: top;\n",
       "    }\n",
       "\n",
       "    .dataframe thead th {\n",
       "        text-align: right;\n",
       "    }\n",
       "</style>\n",
       "<table border=\"1\" class=\"dataframe\">\n",
       "  <thead>\n",
       "    <tr style=\"text-align: right;\">\n",
       "      <th></th>\n",
       "      <th>month</th>\n",
       "      <th>id</th>\n",
       "      <th>nr_of_transactions</th>\n",
       "      <th>sent</th>\n",
       "      <th>delivered</th>\n",
       "      <th>opened</th>\n",
       "      <th>clicked</th>\n",
       "      <th>unsubscribed</th>\n",
       "      <th>pc_o</th>\n",
       "      <th>pc_c</th>\n",
       "      <th>first_signup_month</th>\n",
       "      <th>gender_desc</th>\n",
       "      <th>age_id</th>\n",
       "      <th>age_group</th>\n",
       "      <th>lifetime</th>\n",
       "      <th>prev_1_buy</th>\n",
       "      <th>prev_2_buy</th>\n",
       "    </tr>\n",
       "  </thead>\n",
       "  <tbody>\n",
       "    <tr>\n",
       "      <th>0</th>\n",
       "      <td>2019-07</td>\n",
       "      <td>003GH1K9GPLAB0WG</td>\n",
       "      <td>NaN</td>\n",
       "      <td>NaN</td>\n",
       "      <td>NaN</td>\n",
       "      <td>NaN</td>\n",
       "      <td>NaN</td>\n",
       "      <td>NaN</td>\n",
       "      <td>NaN</td>\n",
       "      <td>NaN</td>\n",
       "      <td>2019-07</td>\n",
       "      <td>Not Set</td>\n",
       "      <td>NaN</td>\n",
       "      <td>no_age_group</td>\n",
       "      <td>0</td>\n",
       "      <td>NaN</td>\n",
       "      <td>NaN</td>\n",
       "    </tr>\n",
       "    <tr>\n",
       "      <th>1</th>\n",
       "      <td>2019-08</td>\n",
       "      <td>003GH1K9GPLAB0WG</td>\n",
       "      <td>NaN</td>\n",
       "      <td>26.0</td>\n",
       "      <td>26.0</td>\n",
       "      <td>0.0</td>\n",
       "      <td>0.0</td>\n",
       "      <td>0.0</td>\n",
       "      <td>0.0</td>\n",
       "      <td>0.0</td>\n",
       "      <td>2019-07</td>\n",
       "      <td>Not Set</td>\n",
       "      <td>NaN</td>\n",
       "      <td>no_age_group</td>\n",
       "      <td>1</td>\n",
       "      <td>NaN</td>\n",
       "      <td>NaN</td>\n",
       "    </tr>\n",
       "    <tr>\n",
       "      <th>2</th>\n",
       "      <td>2019-09</td>\n",
       "      <td>003GH1K9GPLAB0WG</td>\n",
       "      <td>NaN</td>\n",
       "      <td>22.0</td>\n",
       "      <td>22.0</td>\n",
       "      <td>0.0</td>\n",
       "      <td>0.0</td>\n",
       "      <td>0.0</td>\n",
       "      <td>0.0</td>\n",
       "      <td>0.0</td>\n",
       "      <td>2019-07</td>\n",
       "      <td>Not Set</td>\n",
       "      <td>NaN</td>\n",
       "      <td>no_age_group</td>\n",
       "      <td>2</td>\n",
       "      <td>NaN</td>\n",
       "      <td>NaN</td>\n",
       "    </tr>\n",
       "    <tr>\n",
       "      <th>3</th>\n",
       "      <td>2019-10</td>\n",
       "      <td>003GH1K9GPLAB0WG</td>\n",
       "      <td>NaN</td>\n",
       "      <td>29.0</td>\n",
       "      <td>29.0</td>\n",
       "      <td>0.0</td>\n",
       "      <td>0.0</td>\n",
       "      <td>0.0</td>\n",
       "      <td>0.0</td>\n",
       "      <td>0.0</td>\n",
       "      <td>2019-07</td>\n",
       "      <td>Not Set</td>\n",
       "      <td>NaN</td>\n",
       "      <td>no_age_group</td>\n",
       "      <td>3</td>\n",
       "      <td>NaN</td>\n",
       "      <td>NaN</td>\n",
       "    </tr>\n",
       "    <tr>\n",
       "      <th>4</th>\n",
       "      <td>2019-11</td>\n",
       "      <td>003GH1K9GPLAB0WG</td>\n",
       "      <td>NaN</td>\n",
       "      <td>35.0</td>\n",
       "      <td>35.0</td>\n",
       "      <td>0.0</td>\n",
       "      <td>0.0</td>\n",
       "      <td>0.0</td>\n",
       "      <td>0.0</td>\n",
       "      <td>0.0</td>\n",
       "      <td>2019-07</td>\n",
       "      <td>Not Set</td>\n",
       "      <td>NaN</td>\n",
       "      <td>no_age_group</td>\n",
       "      <td>4</td>\n",
       "      <td>NaN</td>\n",
       "      <td>NaN</td>\n",
       "    </tr>\n",
       "  </tbody>\n",
       "</table>\n",
       "</div>"
      ],
      "text/plain": [
       "     month                id  nr_of_transactions  sent  delivered  opened  \\\n",
       "0  2019-07  003GH1K9GPLAB0WG                 NaN   NaN        NaN     NaN   \n",
       "1  2019-08  003GH1K9GPLAB0WG                 NaN  26.0       26.0     0.0   \n",
       "2  2019-09  003GH1K9GPLAB0WG                 NaN  22.0       22.0     0.0   \n",
       "3  2019-10  003GH1K9GPLAB0WG                 NaN  29.0       29.0     0.0   \n",
       "4  2019-11  003GH1K9GPLAB0WG                 NaN  35.0       35.0     0.0   \n",
       "\n",
       "   clicked  unsubscribed  pc_o  pc_c first_signup_month gender_desc  age_id  \\\n",
       "0      NaN           NaN   NaN   NaN            2019-07     Not Set     NaN   \n",
       "1      0.0           0.0   0.0   0.0            2019-07     Not Set     NaN   \n",
       "2      0.0           0.0   0.0   0.0            2019-07     Not Set     NaN   \n",
       "3      0.0           0.0   0.0   0.0            2019-07     Not Set     NaN   \n",
       "4      0.0           0.0   0.0   0.0            2019-07     Not Set     NaN   \n",
       "\n",
       "      age_group  lifetime  prev_1_buy  prev_2_buy  \n",
       "0  no_age_group         0         NaN         NaN  \n",
       "1  no_age_group         1         NaN         NaN  \n",
       "2  no_age_group         2         NaN         NaN  \n",
       "3  no_age_group         3         NaN         NaN  \n",
       "4  no_age_group         4         NaN         NaN  "
      ]
     },
     "execution_count": 15,
     "metadata": {},
     "output_type": "execute_result"
    }
   ],
   "source": [
    "report.head()"
   ]
  },
  {
   "cell_type": "code",
   "execution_count": 16,
   "metadata": {
    "colab": {},
    "colab_type": "code",
    "id": "Kx5R_pTuOgeB"
   },
   "outputs": [],
   "source": [
    "def get_last_tr_month(row):\n",
    "    return transactions[(transactions['consumer_seuci_id']==row['id']) & (transactions['transaction_month']<row['month'])]['transaction_month'].max()"
   ]
  },
  {
   "cell_type": "code",
   "execution_count": 17,
   "metadata": {
    "colab": {},
    "colab_type": "code",
    "id": "vW-LntPRZoA-"
   },
   "outputs": [],
   "source": [
    "report['last_tr_month'] = report.apply(get_last_tr_month, axis=1)\n",
    "report['tr_lifetime'] = round((report['month'].dt.to_timestamp() - report['last_tr_month'].dt.to_timestamp()) / np.timedelta64(1,'M'), 0)"
   ]
  },
  {
   "cell_type": "markdown",
   "metadata": {
    "colab_type": "text",
    "id": "H_PG4XZgyfFg"
   },
   "source": [
    "## Обзор данных"
   ]
  },
  {
   "cell_type": "code",
   "execution_count": 18,
   "metadata": {
    "colab": {
     "base_uri": "https://localhost:8080/"
    },
    "colab_type": "code",
    "id": "5u4g8wLFykqq",
    "outputId": "e0312611-5333-4686-ac87-3820b8e2dd44"
   },
   "outputs": [
    {
     "data": {
      "text/plain": [
       "'Анализируемые периоды'"
      ]
     },
     "metadata": {},
     "output_type": "display_data"
    },
    {
     "data": {
      "text/plain": [
       "(count                   13997\n",
       " unique                    368\n",
       " top       2019-07-02 00:00:00\n",
       " freq                     3640\n",
       " first     2019-07-01 00:00:00\n",
       " last      2020-07-02 00:00:00\n",
       " Name: order_date_id, dtype: object,\n",
       " count                  225390\n",
       " unique                    369\n",
       " top       2019-08-20 00:00:00\n",
       " freq                     6613\n",
       " first     2019-07-21 00:00:00\n",
       " last      2020-08-01 00:00:00\n",
       " Name: opened_date_hour_id, dtype: object,\n",
       " count                     505\n",
       " unique                    246\n",
       " top       2019-08-30 00:00:00\n",
       " freq                       14\n",
       " first     2019-07-21 00:00:00\n",
       " last      2020-06-30 00:00:00\n",
       " Name: sent_date_hour_id, dtype: object)"
      ]
     },
     "execution_count": 18,
     "metadata": {},
     "output_type": "execute_result"
    }
   ],
   "source": [
    "display('Анализируемые периоды')\n",
    "transactions['order_date_id'].describe(), engagements['opened_date_hour_id'].describe(), campaings['sent_date_hour_id'].describe()"
   ]
  },
  {
   "cell_type": "code",
   "execution_count": 19,
   "metadata": {
    "colab": {
     "base_uri": "https://localhost:8080/"
    },
    "colab_type": "code",
    "id": "aZ-I_sh1tIOB",
    "outputId": "765126bf-737d-47c0-a3fc-7c41ae72ef42"
   },
   "outputs": [
    {
     "name": "stdout",
     "output_type": "stream",
     "text": [
      "Количество пользователей: 14065\n"
     ]
    }
   ],
   "source": [
    "print('Количество пользователей:', report['id'].nunique())"
   ]
  },
  {
   "cell_type": "code",
   "execution_count": 20,
   "metadata": {
    "colab": {
     "base_uri": "https://localhost:8080/"
    },
    "colab_type": "code",
    "id": "qbM47IyxtPwi",
    "outputId": "c058d58e-2a3d-4d89-8fea-cfd234ca852a"
   },
   "outputs": [
    {
     "name": "stdout",
     "output_type": "stream",
     "text": [
      "Количество покупающих пользователей: 7773\n"
     ]
    }
   ],
   "source": [
    "print('Количество покупающих пользователей:', report[report['nr_of_transactions']>0]['id'].nunique())"
   ]
  },
  {
   "cell_type": "code",
   "execution_count": 21,
   "metadata": {
    "colab": {
     "base_uri": "https://localhost:8080/"
    },
    "colab_type": "code",
    "id": "WZf0CY-bj3v4",
    "outputId": "43fa7f41-8e0a-44b4-fc53-8b340aa97e09"
   },
   "outputs": [
    {
     "data": {
      "text/plain": [
       "'Количество рассылок:'"
      ]
     },
     "metadata": {},
     "output_type": "display_data"
    },
    {
     "data": {
      "text/plain": [
       "count    92489.000000\n",
       "mean        25.602288\n",
       "std         11.091045\n",
       "min          1.000000\n",
       "25%         22.000000\n",
       "50%         27.000000\n",
       "75%         31.000000\n",
       "max         55.000000\n",
       "Name: sent, dtype: float64"
      ]
     },
     "execution_count": 21,
     "metadata": {},
     "output_type": "execute_result"
    }
   ],
   "source": [
    "display('Количество рассылок:')\n",
    "report['sent'].describe()"
   ]
  },
  {
   "cell_type": "code",
   "execution_count": 22,
   "metadata": {
    "colab": {
     "base_uri": "https://localhost:8080/"
    },
    "colab_type": "code",
    "id": "P04T_LvnZALa",
    "outputId": "556cc40e-a741-4ed9-d262-10d153266c22"
   },
   "outputs": [
    {
     "data": {
      "text/plain": [
       "'Доля открытых рассылок'"
      ]
     },
     "metadata": {},
     "output_type": "display_data"
    },
    {
     "data": {
      "text/plain": [
       "count    92489.000000\n",
       "mean         0.093865\n",
       "std          0.218502\n",
       "min          0.000000\n",
       "25%          0.000000\n",
       "50%          0.000000\n",
       "75%          0.068182\n",
       "max          1.000000\n",
       "Name: pc_o, dtype: float64"
      ]
     },
     "metadata": {},
     "output_type": "display_data"
    },
    {
     "data": {
      "text/plain": [
       "0.0"
      ]
     },
     "execution_count": 22,
     "metadata": {},
     "output_type": "execute_result"
    }
   ],
   "source": [
    "display('Доля открытых рассылок')\n",
    "display(report['pc_o'].describe())\n",
    "report['pc_o'].quantile(0.7)"
   ]
  },
  {
   "cell_type": "code",
   "execution_count": 23,
   "metadata": {
    "colab": {
     "base_uri": "https://localhost:8080/"
    },
    "colab_type": "code",
    "id": "4WyxfoQkwC_j",
    "outputId": "704036fa-b357-4862-fe02-1ea1cc226a6f"
   },
   "outputs": [
    {
     "data": {
      "text/plain": [
       "'Доля переходов из рассылок'"
      ]
     },
     "metadata": {},
     "output_type": "display_data"
    },
    {
     "data": {
      "text/plain": [
       "count    92489.000000\n",
       "mean         0.015078\n",
       "std          0.062458\n",
       "min          0.000000\n",
       "25%          0.000000\n",
       "50%          0.000000\n",
       "75%          0.000000\n",
       "max          1.000000\n",
       "Name: pc_c, dtype: float64"
      ]
     },
     "metadata": {},
     "output_type": "display_data"
    },
    {
     "data": {
      "text/plain": [
       "0.0"
      ]
     },
     "execution_count": 23,
     "metadata": {},
     "output_type": "execute_result"
    }
   ],
   "source": [
    "display('Доля переходов из рассылок')\n",
    "display(report['pc_c'].describe())\n",
    "report['pc_c'].quantile(0.89)"
   ]
  },
  {
   "cell_type": "markdown",
   "metadata": {
    "colab_type": "text",
    "id": "l6hGpey5hY4z"
   },
   "source": [
    "Анализируемый период: с июля 2019 года по июль 2020 года.<br>\n",
    "Данные по взаимодейтсвиям представлены по 14 тыс. пользователям, 7,8 тыс. из которых совершили покупки. <br>\n",
    "Количество рассылок в месяц: от 1 до 55, среднее - 26.<br>\n",
    "Средняя доля открытия рассылок в каждом пользователь-месяце составляет 9%, при этом в большей доле пользователь-месяцев (70%) они вообще не открываются.<br>\n",
    "Средняя доля клика из рассылоки в каждом пользователь-месяце составляет 1,5%, при этом в большей доле пользователь-месяцев (89%) переходы вообще не осущетсвляются.<br>"
   ]
  },
  {
   "cell_type": "markdown",
   "metadata": {
    "colab_type": "text",
    "id": "mvAMoDWPBEqk"
   },
   "source": [
    "## Задача 1"
   ]
  },
  {
   "cell_type": "markdown",
   "metadata": {
    "colab_type": "text",
    "id": "a748d31YMYqU"
   },
   "source": [
    "Оптимальное количество рассылок будем определять, как количество рассылок, при котором клиент проявляет наибольшую заинтересованность (доля открытых писем максимальная).<br>\n",
    "Оптимальное количество рассылок будем определять по группам клиентов, сформированным по следующим признакам:<br>\n",
    "1. Пол клиента\n",
    "2. Возраст (возрастная группа) клиента\n",
    "3. Время жизни клиента от последней покупки"
   ]
  },
  {
   "cell_type": "markdown",
   "metadata": {
    "colab_type": "text",
    "id": "KdeqxsRs07rr"
   },
   "source": [
    "### Пол клиента\n"
   ]
  },
  {
   "cell_type": "markdown",
   "metadata": {
    "colab_type": "text",
    "id": "Al0UecCDy_jb"
   },
   "source": [
    "Таблицу `report` перепивотим по полу и количеству отправленных сообщений."
   ]
  },
  {
   "cell_type": "code",
   "execution_count": 24,
   "metadata": {
    "colab": {},
    "colab_type": "code",
    "id": "h_Rv344HLMia"
   },
   "outputs": [],
   "source": [
    "report_by_gender = report.query('gender_desc == \"Male\" or gender_desc == \"Female\"').groupby(['gender_desc', 'sent']).agg({'delivered': 'sum', 'opened': 'sum', 'clicked': 'sum'}).reset_index()\n",
    "report_by_gender_pivot = report_by_gender.pivot_table(index='sent', columns='gender_desc', values=['delivered', 'opened', 'clicked'], aggfunc='sum')"
   ]
  },
  {
   "cell_type": "code",
   "execution_count": 25,
   "metadata": {
    "colab": {},
    "colab_type": "code",
    "id": "s4jIyjWmQAoQ"
   },
   "outputs": [],
   "source": [
    "report_by_gender_pivot['pc_o', 'Female'] = report_by_gender_pivot['opened']['Female'] / report_by_gender_pivot['delivered']['Female']\n",
    "report_by_gender_pivot['pc_o', 'Male'] = report_by_gender_pivot['opened']['Male'] / report_by_gender_pivot['delivered']['Male']\n",
    "report_by_gender_pivot['pc_c', 'Female'] = report_by_gender_pivot['clicked']['Female'] / report_by_gender_pivot['delivered']['Female']\n",
    "report_by_gender_pivot['pc_c', 'Male'] = report_by_gender_pivot['clicked']['Male'] / report_by_gender_pivot['delivered']['Male']\n",
    "report_by_gender_pivot = report_by_gender_pivot.reset_index()"
   ]
  },
  {
   "cell_type": "code",
   "execution_count": 26,
   "metadata": {
    "colab": {
     "base_uri": "https://localhost:8080/",
     "height": 235
    },
    "colab_type": "code",
    "id": "MYldgtEF5PLK",
    "outputId": "d7344a64-0688-45db-d4a9-fc6c3de4b60a"
   },
   "outputs": [
    {
     "data": {
      "text/html": [
       "<div>\n",
       "<style scoped>\n",
       "    .dataframe tbody tr th:only-of-type {\n",
       "        vertical-align: middle;\n",
       "    }\n",
       "\n",
       "    .dataframe tbody tr th {\n",
       "        vertical-align: top;\n",
       "    }\n",
       "\n",
       "    .dataframe thead tr th {\n",
       "        text-align: left;\n",
       "    }\n",
       "</style>\n",
       "<table border=\"1\" class=\"dataframe\">\n",
       "  <thead>\n",
       "    <tr>\n",
       "      <th></th>\n",
       "      <th>sent</th>\n",
       "      <th colspan=\"2\" halign=\"left\">clicked</th>\n",
       "      <th colspan=\"2\" halign=\"left\">delivered</th>\n",
       "      <th colspan=\"2\" halign=\"left\">opened</th>\n",
       "      <th colspan=\"2\" halign=\"left\">pc_o</th>\n",
       "      <th colspan=\"2\" halign=\"left\">pc_c</th>\n",
       "    </tr>\n",
       "    <tr>\n",
       "      <th>gender_desc</th>\n",
       "      <th></th>\n",
       "      <th>Female</th>\n",
       "      <th>Male</th>\n",
       "      <th>Female</th>\n",
       "      <th>Male</th>\n",
       "      <th>Female</th>\n",
       "      <th>Male</th>\n",
       "      <th>Female</th>\n",
       "      <th>Male</th>\n",
       "      <th>Female</th>\n",
       "      <th>Male</th>\n",
       "    </tr>\n",
       "  </thead>\n",
       "  <tbody>\n",
       "    <tr>\n",
       "      <th>0</th>\n",
       "      <td>1.0</td>\n",
       "      <td>7.0</td>\n",
       "      <td>8.0</td>\n",
       "      <td>266.0</td>\n",
       "      <td>296.0</td>\n",
       "      <td>37.0</td>\n",
       "      <td>44.0</td>\n",
       "      <td>0.139098</td>\n",
       "      <td>0.148649</td>\n",
       "      <td>0.026316</td>\n",
       "      <td>0.027027</td>\n",
       "    </tr>\n",
       "    <tr>\n",
       "      <th>1</th>\n",
       "      <td>2.0</td>\n",
       "      <td>2.0</td>\n",
       "      <td>2.0</td>\n",
       "      <td>1204.0</td>\n",
       "      <td>2204.0</td>\n",
       "      <td>47.0</td>\n",
       "      <td>66.0</td>\n",
       "      <td>0.039037</td>\n",
       "      <td>0.029946</td>\n",
       "      <td>0.001661</td>\n",
       "      <td>0.000907</td>\n",
       "    </tr>\n",
       "    <tr>\n",
       "      <th>2</th>\n",
       "      <td>3.0</td>\n",
       "      <td>38.0</td>\n",
       "      <td>56.0</td>\n",
       "      <td>978.0</td>\n",
       "      <td>1152.0</td>\n",
       "      <td>537.0</td>\n",
       "      <td>528.0</td>\n",
       "      <td>0.549080</td>\n",
       "      <td>0.458333</td>\n",
       "      <td>0.038855</td>\n",
       "      <td>0.048611</td>\n",
       "    </tr>\n",
       "    <tr>\n",
       "      <th>3</th>\n",
       "      <td>4.0</td>\n",
       "      <td>6.0</td>\n",
       "      <td>5.0</td>\n",
       "      <td>744.0</td>\n",
       "      <td>1040.0</td>\n",
       "      <td>48.0</td>\n",
       "      <td>64.0</td>\n",
       "      <td>0.064516</td>\n",
       "      <td>0.061538</td>\n",
       "      <td>0.008065</td>\n",
       "      <td>0.004808</td>\n",
       "    </tr>\n",
       "    <tr>\n",
       "      <th>4</th>\n",
       "      <td>5.0</td>\n",
       "      <td>3.0</td>\n",
       "      <td>12.0</td>\n",
       "      <td>3940.0</td>\n",
       "      <td>6715.0</td>\n",
       "      <td>71.0</td>\n",
       "      <td>112.0</td>\n",
       "      <td>0.018020</td>\n",
       "      <td>0.016679</td>\n",
       "      <td>0.000761</td>\n",
       "      <td>0.001787</td>\n",
       "    </tr>\n",
       "  </tbody>\n",
       "</table>\n",
       "</div>"
      ],
      "text/plain": [
       "            sent clicked       delivered         opened             pc_o  \\\n",
       "gender_desc       Female  Male    Female    Male Female   Male    Female   \n",
       "0            1.0     7.0   8.0     266.0   296.0   37.0   44.0  0.139098   \n",
       "1            2.0     2.0   2.0    1204.0  2204.0   47.0   66.0  0.039037   \n",
       "2            3.0    38.0  56.0     978.0  1152.0  537.0  528.0  0.549080   \n",
       "3            4.0     6.0   5.0     744.0  1040.0   48.0   64.0  0.064516   \n",
       "4            5.0     3.0  12.0    3940.0  6715.0   71.0  112.0  0.018020   \n",
       "\n",
       "                           pc_c            \n",
       "gender_desc      Male    Female      Male  \n",
       "0            0.148649  0.026316  0.027027  \n",
       "1            0.029946  0.001661  0.000907  \n",
       "2            0.458333  0.038855  0.048611  \n",
       "3            0.061538  0.008065  0.004808  \n",
       "4            0.016679  0.000761  0.001787  "
      ]
     },
     "execution_count": 26,
     "metadata": {},
     "output_type": "execute_result"
    }
   ],
   "source": [
    "report_by_gender_pivot.head()"
   ]
  },
  {
   "cell_type": "markdown",
   "metadata": {
    "colab_type": "text",
    "id": "lKOHTqyZ5btv"
   },
   "source": [
    "Визуально посмотрим, есть ли разница между клиентами разного пола."
   ]
  },
  {
   "cell_type": "code",
   "execution_count": 27,
   "metadata": {
    "colab": {
     "base_uri": "https://localhost:8080/",
     "height": 295
    },
    "colab_type": "code",
    "id": "UPUkDgV_BWL0",
    "outputId": "6d961c21-1714-4e24-85b2-df5b0d1755d9"
   },
   "outputs": [
    {
     "data": {
      "image/png": "[encoded data removed]",
      "text/plain": [
       "<Figure size 432x288 with 1 Axes>"
      ]
     },
     "metadata": {
      "needs_background": "light"
     },
     "output_type": "display_data"
    }
   ],
   "source": [
    "ax= report_by_gender_pivot[report_by_gender_pivot['pc_o']['Male']>0].plot(kind='scatter', y=('pc_o', 'Male'), x='sent', alpha=0.5, label='Male', color='magenta')\n",
    "report_by_gender_pivot[report_by_gender_pivot['pc_o']['Female']>0].plot(ax=ax,x='sent', y=('pc_o', 'Female'), kind='scatter', color='springgreen', alpha=0.5, label='Female')\n",
    "plt.title('Распределение доли открытых рассылок и количества отправленных сообщений')\n",
    "plt.xlabel(\"Количество отправленных сообщений в мес.\")\n",
    "plt.ylabel(\"Доля открытых рассылок\")\n",
    "ax.legend(['Male', 'Female'])\n",
    "plt.show()"
   ]
  },
  {
   "cell_type": "code",
   "execution_count": 28,
   "metadata": {
    "colab": {
     "base_uri": "https://localhost:8080/",
     "height": 295
    },
    "colab_type": "code",
    "id": "VJkWfIXXfBxh",
    "outputId": "897c55b8-6992-4692-a486-6d587533cf95"
   },
   "outputs": [
    {
     "data": {
      "image/png": "[encoded data removed]",
      "text/plain": [
       "<Figure size 432x288 with 1 Axes>"
      ]
     },
     "metadata": {
      "needs_background": "light"
     },
     "output_type": "display_data"
    }
   ],
   "source": [
    "ax= report_by_gender_pivot[report_by_gender_pivot['pc_c']['Male']>0].plot(kind='scatter', y=('pc_c', 'Male'), x='sent', alpha=0.5)\n",
    "report_by_gender_pivot[report_by_gender_pivot['pc_c']['Female']>0].plot(ax=ax,x='sent', y=('pc_c', 'Female'), kind='scatter', color='red', alpha=0.5)\n",
    "plt.title('Распределение доли переходов из рассылок и количества отправленных сообщений')\n",
    "plt.xlabel(\"Количество отправленных сообщений в мес. на клиента\")\n",
    "plt.ylabel('Доля переходов из рассылок')\n",
    "ax.legend(['Male', 'Female'])\n",
    "plt.show()"
   ]
  },
  {
   "cell_type": "markdown",
   "metadata": {
    "colab_type": "text",
    "id": "7B4u7w1c5nb0"
   },
   "source": [
    "Визуально автор не видит различий в зависимости доли открытых рассылок (доли переходов из рассылок) для клиентов разного пола. Для дальнейшего анализа принимаем, что их нет."
   ]
  },
  {
   "cell_type": "markdown",
   "metadata": {
    "colab_type": "text",
    "id": "PXGmrUE1O6Lu"
   },
   "source": [
    "### Возраст"
   ]
  },
  {
   "cell_type": "markdown",
   "metadata": {
    "colab_type": "text",
    "id": "ipb8MJiK7w7H"
   },
   "source": [
    "Уберем некорректные данные по возрасту."
   ]
  },
  {
   "cell_type": "code",
   "execution_count": 29,
   "metadata": {
    "colab": {},
    "colab_type": "code",
    "id": "sl9GYJHAO5hG"
   },
   "outputs": [],
   "source": [
    "members.loc[members['age_id']>65, 'age_id'] = 0"
   ]
  },
  {
   "cell_type": "code",
   "execution_count": 30,
   "metadata": {
    "colab": {
     "base_uri": "https://localhost:8080/",
     "height": 297
    },
    "colab_type": "code",
    "id": "cmubfMOMxBzL",
    "outputId": "e22b7267-54ac-4c0b-b5f1-95f834cdec9a"
   },
   "outputs": [
    {
     "data": {
      "text/html": [
       "<div>\n",
       "<style scoped>\n",
       "    .dataframe tbody tr th:only-of-type {\n",
       "        vertical-align: middle;\n",
       "    }\n",
       "\n",
       "    .dataframe tbody tr th {\n",
       "        vertical-align: top;\n",
       "    }\n",
       "\n",
       "    .dataframe thead th {\n",
       "        text-align: right;\n",
       "    }\n",
       "</style>\n",
       "<table border=\"1\" class=\"dataframe\">\n",
       "  <thead>\n",
       "    <tr style=\"text-align: right;\">\n",
       "      <th></th>\n",
       "      <th>age_id</th>\n",
       "      <th>sent</th>\n",
       "      <th>transactions</th>\n",
       "    </tr>\n",
       "  </thead>\n",
       "  <tbody>\n",
       "    <tr>\n",
       "      <th>count</th>\n",
       "      <td>10918.000000</td>\n",
       "      <td>10918.000000</td>\n",
       "      <td>6651.000000</td>\n",
       "    </tr>\n",
       "    <tr>\n",
       "      <th>mean</th>\n",
       "      <td>30.136380</td>\n",
       "      <td>61.344569</td>\n",
       "      <td>1.745753</td>\n",
       "    </tr>\n",
       "    <tr>\n",
       "      <th>std</th>\n",
       "      <td>10.966293</td>\n",
       "      <td>57.189970</td>\n",
       "      <td>2.158984</td>\n",
       "    </tr>\n",
       "    <tr>\n",
       "      <th>min</th>\n",
       "      <td>14.000000</td>\n",
       "      <td>1.000000</td>\n",
       "      <td>1.000000</td>\n",
       "    </tr>\n",
       "    <tr>\n",
       "      <th>25%</th>\n",
       "      <td>21.000000</td>\n",
       "      <td>2.000000</td>\n",
       "      <td>1.000000</td>\n",
       "    </tr>\n",
       "    <tr>\n",
       "      <th>50%</th>\n",
       "      <td>28.000000</td>\n",
       "      <td>52.000000</td>\n",
       "      <td>1.000000</td>\n",
       "    </tr>\n",
       "    <tr>\n",
       "      <th>75%</th>\n",
       "      <td>37.000000</td>\n",
       "      <td>126.000000</td>\n",
       "      <td>2.000000</td>\n",
       "    </tr>\n",
       "    <tr>\n",
       "      <th>max</th>\n",
       "      <td>65.000000</td>\n",
       "      <td>177.000000</td>\n",
       "      <td>79.000000</td>\n",
       "    </tr>\n",
       "  </tbody>\n",
       "</table>\n",
       "</div>"
      ],
      "text/plain": [
       "             age_id          sent  transactions\n",
       "count  10918.000000  10918.000000   6651.000000\n",
       "mean      30.136380     61.344569      1.745753\n",
       "std       10.966293     57.189970      2.158984\n",
       "min       14.000000      1.000000      1.000000\n",
       "25%       21.000000      2.000000      1.000000\n",
       "50%       28.000000     52.000000      1.000000\n",
       "75%       37.000000    126.000000      2.000000\n",
       "max       65.000000    177.000000     79.000000"
      ]
     },
     "execution_count": 30,
     "metadata": {},
     "output_type": "execute_result"
    }
   ],
   "source": [
    "members[members['age_id']>0].describe()"
   ]
  },
  {
   "cell_type": "markdown",
   "metadata": {
    "colab_type": "text",
    "id": "zAR6cX_t8Nf9"
   },
   "source": [
    "Таблицу `report` сгруппируем по количеству отправленных сообщений в мес. на пользователя и возрастной группе."
   ]
  },
  {
   "cell_type": "code",
   "execution_count": 31,
   "metadata": {},
   "outputs": [],
   "source": [
    "report_by_age = report[report['age_group']!='no_age_group'].groupby(['age_group', 'sent']).agg({'delivered': 'sum', 'opened': 'sum', 'clicked': 'sum'}).reset_index()\n",
    "report_by_age['pc_o'] = report_by_age['opened']/ report_by_age['delivered']\n",
    "report_by_age['pc_c'] = report_by_age['clicked'] / report_by_age['delivered']\n",
    "report_by_age_pivot = report_by_age.pivot_table(index='sent', columns='age_group', values=['pc_o', 'pc_c'], aggfunc='mean')\n",
    "report_by_age_pivot = report_by_age_pivot.reset_index()\n"
   ]
  },
  {
   "cell_type": "code",
   "execution_count": 32,
   "metadata": {
    "colab": {
     "base_uri": "https://localhost:8080/",
     "height": 272
    },
    "colab_type": "code",
    "id": "9akQ6dqt754H",
    "outputId": "5fd15b5e-9293-4868-bc75-a4f6a873f11b"
   },
   "outputs": [
    {
     "data": {
      "text/html": [
       "<div>\n",
       "<style scoped>\n",
       "    .dataframe tbody tr th:only-of-type {\n",
       "        vertical-align: middle;\n",
       "    }\n",
       "\n",
       "    .dataframe tbody tr th {\n",
       "        vertical-align: top;\n",
       "    }\n",
       "\n",
       "    .dataframe thead tr th {\n",
       "        text-align: left;\n",
       "    }\n",
       "</style>\n",
       "<table border=\"1\" class=\"dataframe\">\n",
       "  <thead>\n",
       "    <tr>\n",
       "      <th></th>\n",
       "      <th>sent</th>\n",
       "      <th colspan=\"7\" halign=\"left\">pc_c</th>\n",
       "      <th colspan=\"7\" halign=\"left\">pc_o</th>\n",
       "    </tr>\n",
       "    <tr>\n",
       "      <th>age_group</th>\n",
       "      <th></th>\n",
       "      <th>15-20</th>\n",
       "      <th>21-25</th>\n",
       "      <th>26-35</th>\n",
       "      <th>36-45</th>\n",
       "      <th>46-55</th>\n",
       "      <th>55+</th>\n",
       "      <th>&lt;14</th>\n",
       "      <th>15-20</th>\n",
       "      <th>21-25</th>\n",
       "      <th>26-35</th>\n",
       "      <th>36-45</th>\n",
       "      <th>46-55</th>\n",
       "      <th>55+</th>\n",
       "      <th>&lt;14</th>\n",
       "    </tr>\n",
       "  </thead>\n",
       "  <tbody>\n",
       "    <tr>\n",
       "      <th>0</th>\n",
       "      <td>1.0</td>\n",
       "      <td>0.000000</td>\n",
       "      <td>0.000000</td>\n",
       "      <td>0.033557</td>\n",
       "      <td>0.045045</td>\n",
       "      <td>0.061224</td>\n",
       "      <td>0.058824</td>\n",
       "      <td>NaN</td>\n",
       "      <td>0.064220</td>\n",
       "      <td>0.138614</td>\n",
       "      <td>0.127517</td>\n",
       "      <td>0.153153</td>\n",
       "      <td>0.306122</td>\n",
       "      <td>0.117647</td>\n",
       "      <td>NaN</td>\n",
       "    </tr>\n",
       "    <tr>\n",
       "      <th>1</th>\n",
       "      <td>2.0</td>\n",
       "      <td>0.001672</td>\n",
       "      <td>0.000000</td>\n",
       "      <td>0.000000</td>\n",
       "      <td>0.000000</td>\n",
       "      <td>0.016949</td>\n",
       "      <td>0.000000</td>\n",
       "      <td>0.0</td>\n",
       "      <td>0.021739</td>\n",
       "      <td>0.044393</td>\n",
       "      <td>0.048936</td>\n",
       "      <td>0.059748</td>\n",
       "      <td>0.050847</td>\n",
       "      <td>0.083333</td>\n",
       "      <td>0.0</td>\n",
       "    </tr>\n",
       "    <tr>\n",
       "      <th>2</th>\n",
       "      <td>3.0</td>\n",
       "      <td>0.017544</td>\n",
       "      <td>0.025000</td>\n",
       "      <td>0.063333</td>\n",
       "      <td>0.058974</td>\n",
       "      <td>0.098039</td>\n",
       "      <td>0.058824</td>\n",
       "      <td>0.0</td>\n",
       "      <td>0.273183</td>\n",
       "      <td>0.480556</td>\n",
       "      <td>0.615000</td>\n",
       "      <td>0.705128</td>\n",
       "      <td>0.699346</td>\n",
       "      <td>0.647059</td>\n",
       "      <td>0.0</td>\n",
       "    </tr>\n",
       "    <tr>\n",
       "      <th>3</th>\n",
       "      <td>4.0</td>\n",
       "      <td>0.009524</td>\n",
       "      <td>0.005618</td>\n",
       "      <td>0.005769</td>\n",
       "      <td>0.000000</td>\n",
       "      <td>0.016667</td>\n",
       "      <td>0.000000</td>\n",
       "      <td>NaN</td>\n",
       "      <td>0.059524</td>\n",
       "      <td>0.053371</td>\n",
       "      <td>0.082692</td>\n",
       "      <td>0.052239</td>\n",
       "      <td>0.033333</td>\n",
       "      <td>0.019231</td>\n",
       "      <td>NaN</td>\n",
       "    </tr>\n",
       "    <tr>\n",
       "      <th>4</th>\n",
       "      <td>5.0</td>\n",
       "      <td>0.000000</td>\n",
       "      <td>0.001418</td>\n",
       "      <td>0.002395</td>\n",
       "      <td>0.000962</td>\n",
       "      <td>0.000000</td>\n",
       "      <td>0.000000</td>\n",
       "      <td>0.1</td>\n",
       "      <td>0.003384</td>\n",
       "      <td>0.022695</td>\n",
       "      <td>0.041916</td>\n",
       "      <td>0.027885</td>\n",
       "      <td>0.026667</td>\n",
       "      <td>0.021818</td>\n",
       "      <td>0.1</td>\n",
       "    </tr>\n",
       "  </tbody>\n",
       "</table>\n",
       "</div>"
      ],
      "text/plain": [
       "          sent      pc_c                                                    \\\n",
       "age_group          15-20     21-25     26-35     36-45     46-55       55+   \n",
       "0          1.0  0.000000  0.000000  0.033557  0.045045  0.061224  0.058824   \n",
       "1          2.0  0.001672  0.000000  0.000000  0.000000  0.016949  0.000000   \n",
       "2          3.0  0.017544  0.025000  0.063333  0.058974  0.098039  0.058824   \n",
       "3          4.0  0.009524  0.005618  0.005769  0.000000  0.016667  0.000000   \n",
       "4          5.0  0.000000  0.001418  0.002395  0.000962  0.000000  0.000000   \n",
       "\n",
       "                    pc_o                                                    \\\n",
       "age_group  <14     15-20     21-25     26-35     36-45     46-55       55+   \n",
       "0          NaN  0.064220  0.138614  0.127517  0.153153  0.306122  0.117647   \n",
       "1          0.0  0.021739  0.044393  0.048936  0.059748  0.050847  0.083333   \n",
       "2          0.0  0.273183  0.480556  0.615000  0.705128  0.699346  0.647059   \n",
       "3          NaN  0.059524  0.053371  0.082692  0.052239  0.033333  0.019231   \n",
       "4          0.1  0.003384  0.022695  0.041916  0.027885  0.026667  0.021818   \n",
       "\n",
       "                \n",
       "age_group  <14  \n",
       "0          NaN  \n",
       "1          0.0  \n",
       "2          0.0  \n",
       "3          NaN  \n",
       "4          0.1  "
      ]
     },
     "execution_count": 32,
     "metadata": {},
     "output_type": "execute_result"
    }
   ],
   "source": [
    "report_by_age_pivot.head()"
   ]
  },
  {
   "cell_type": "markdown",
   "metadata": {
    "colab_type": "text",
    "id": "0l4F4J5N91_m"
   },
   "source": [
    "Также как с полом будем изучать графики."
   ]
  },
  {
   "cell_type": "code",
   "execution_count": 33,
   "metadata": {},
   "outputs": [
    {
     "data": {
      "image/png": "[encoded data removed]",
      "text/plain": [
       "<Figure size 504x1800 with 7 Axes>"
      ]
     },
     "metadata": {
      "needs_background": "light"
     },
     "output_type": "display_data"
    }
   ],
   "source": [
    "nrow = 7\n",
    "ncol = 1\n",
    "\n",
    "fig, axs = plt.subplots(nrow, ncol, figsize=(7,25))\n",
    "cats = ['<14', '15-20','21-25', '26-35', '36-45', '46-55', '55+']\n",
    "for i, ax in enumerate(fig.axes):\n",
    "    if i ==0:\n",
    "        ax.set_title('Распределения доли открытых рассылок и количества отправленных сообщений')\n",
    "    report_by_age_pivot.plot(ax=ax, kind='scatter', y=('pc_o', cats[i]), x='sent', color='blue', alpha=0.5, label=cats[i])\n",
    "    ax.set_xlabel(\"Количество отправленных сообщений в мес. на клиента\")\n",
    "    ax.set_ylabel('Доля открытых рассылок')"
   ]
  },
  {
   "cell_type": "code",
   "execution_count": 34,
   "metadata": {
    "colab": {
     "base_uri": "https://localhost:8080/",
     "height": 34
    },
    "colab_type": "code",
    "id": "k7pTPxPFGvVx",
    "outputId": "69e30e04-56ee-4801-fb43-2ef9b6eaa6d0"
   },
   "outputs": [
    {
     "name": "stdout",
     "output_type": "stream",
     "text": [
      "Количество людей, с возрастом <14: 18\n"
     ]
    }
   ],
   "source": [
    "print('Количество людей, с возрастом <14:', members[members['age_group']=='<14']['consumer_seuci_id'].nunique())"
   ]
  },
  {
   "cell_type": "markdown",
   "metadata": {
    "colab_type": "text",
    "id": "4UQnwdHx-SNA"
   },
   "source": [
    "Различий также не видно, за исключением группы школьников (<14). Их всего 18, поэтому вычеркиваем возраст из признаков, влияющих на оптимальную частоту рассылок."
   ]
  },
  {
   "cell_type": "markdown",
   "metadata": {
    "colab_type": "text",
    "id": "bunFT96ZLpFa"
   },
   "source": [
    "### Время жизни клиента от последней покупки"
   ]
  },
  {
   "cell_type": "markdown",
   "metadata": {
    "colab_type": "text",
    "id": "_Q6dOy_MLoe5"
   },
   "source": [
    "В `report` ранее подтянули на каждый месяц-пользователь дату последней покупки, от нее посчитали текущий лайфтайм. Посмотрим как ведут себя клиенты в зависмости от него."
   ]
  },
  {
   "cell_type": "code",
   "execution_count": 35,
   "metadata": {
    "colab": {},
    "colab_type": "code",
    "id": "A7Te2J6UOVzx"
   },
   "outputs": [],
   "source": [
    "report_by_tr_lt = report[(report['tr_lifetime']>0) & (report['tr_lifetime']<12)].groupby('tr_lifetime').agg({'delivered': 'sum', 'opened': 'sum', 'clicked': 'sum'}).reset_index()\n",
    "report_by_tr_lt['pc_o'] = report_by_tr_lt['opened'] / report_by_tr_lt['delivered']\n",
    "report_by_tr_lt['pc_c'] = report_by_tr_lt['clicked'] / report_by_tr_lt['delivered']\n"
   ]
  },
  {
   "cell_type": "code",
   "execution_count": 36,
   "metadata": {
    "colab": {},
    "colab_type": "code",
    "id": "gDu0-VT5Q7eP"
   },
   "outputs": [],
   "source": [
    "zero_part = []\n",
    "ones_part= []\n",
    "count = []\n",
    "for lt in range(1, 12):\n",
    "\n",
    "    zero_part.append(report[(report['tr_lifetime']==lt) & (report['pc_o']==0)]['sent'].count() / report[(report['tr_lifetime']==lt)]['sent'].count())\n",
    "    ones_part.append(report[(report['tr_lifetime']==lt) & (report['pc_o']==1)]['sent'].count() / report[(report['tr_lifetime']==lt)]['sent'].count())\n",
    "  \n",
    "    count.append(report[(report['tr_lifetime']==lt)]['pc_o'].count())\n",
    "df = pd.DataFrame({'zero_part':zero_part, 'ones_part':ones_part, 'count':count, 'lt':range(1,12)})"
   ]
  },
  {
   "cell_type": "code",
   "execution_count": 37,
   "metadata": {
    "colab": {
     "base_uri": "https://localhost:8080/",
     "height": 295
    },
    "colab_type": "code",
    "id": "zBckoZjqPU6K",
    "outputId": "1b2c3f71-2dbd-4646-b9d2-78a5789d6862"
   },
   "outputs": [
    {
     "data": {
      "image/png": "[encoded data removed]",
      "text/plain": [
       "<Figure size 432x288 with 1 Axes>"
      ]
     },
     "metadata": {
      "needs_background": "light"
     },
     "output_type": "display_data"
    }
   ],
   "source": [
    "ax = report_by_tr_lt.plot(x='tr_lifetime', y='pc_o', label = 'Доля открытых рассылок')\n",
    "report_by_tr_lt.plot(ax=ax, x='tr_lifetime', y='pc_c', label = 'Доля переходов из рассылок')\n",
    "df.plot(ax=ax, x='lt', y='zero_part', label = 'Доля тех, кто ничего не открыл за месяц')\n",
    "df.plot(ax=ax, x='lt', y='ones_part', label = 'Доля тех, кто все открыл за месяц')\n",
    "plt.title('Показатели рассылок')\n",
    "plt.xlabel(\"Лайфтайм от покупки\")\n",
    "plt.ylabel('Доля')\n",
    "plt.legend(bbox_to_anchor=(1.6, 0.6),\n",
    "           bbox_transform=plt.gcf().transFigure)\n",
    "plt.show()"
   ]
  },
  {
   "cell_type": "markdown",
   "metadata": {
    "colab_type": "text",
    "id": "nO67hYtxUAWn"
   },
   "source": [
    " **Видим, что \n",
    "поведение пользователей зависит от времени, прошедшего с их последней покупки.**<br>Будем использовать его как признак для определения оптимального количества рассылок."
   ]
  },
  {
   "cell_type": "markdown",
   "metadata": {
    "colab_type": "text",
    "id": "5xjapsnRcq5e"
   },
   "source": [
    "### Расчет оптимального количества рассылок"
   ]
  },
  {
   "cell_type": "markdown",
   "metadata": {
    "colab_type": "text",
    "id": "QZ9_uvwWXbkJ"
   },
   "source": [
    "Построим графики распределения доли открытия рассылок от количества отправляемых писем в месяц для каждого периода лайфтайма."
   ]
  },
  {
   "cell_type": "code",
   "execution_count": 38,
   "metadata": {
    "colab": {
     "base_uri": "https://localhost:8080/",
     "height": 1000
    },
    "colab_type": "code",
    "id": "0buP06jx5q7W",
    "outputId": "dd2ae24c-578b-4c1e-e9a6-6f0ec8846e6b"
   },
   "outputs": [
    {
     "name": "stdout",
     "output_type": "stream",
     "text": [
      "\u001b[1m Период 1\n"
     ]
    },
    {
     "data": {
      "image/png": "[encoded data removed]",
      "text/plain": [
       "<Figure size 432x432 with 3 Axes>"
      ]
     },
     "metadata": {
      "needs_background": "light"
     },
     "output_type": "display_data"
    },
    {
     "name": "stdout",
     "output_type": "stream",
     "text": [
      "\u001b[1m Период 2\n"
     ]
    },
    {
     "data": {
      "image/png": "[encoded data removed]",
      "text/plain": [
       "<Figure size 432x432 with 3 Axes>"
      ]
     },
     "metadata": {
      "needs_background": "light"
     },
     "output_type": "display_data"
    },
    {
     "name": "stdout",
     "output_type": "stream",
     "text": [
      "\u001b[1m Период 3\n"
     ]
    },
    {
     "data": {
      "image/png": "[encoded data removed]",
      "text/plain": [
       "<Figure size 432x432 with 3 Axes>"
      ]
     },
     "metadata": {
      "needs_background": "light"
     },
     "output_type": "display_data"
    },
    {
     "name": "stdout",
     "output_type": "stream",
     "text": [
      "\u001b[1m Период 4\n"
     ]
    },
    {
     "data": {
      "image/png": "[encoded data removed]",
      "text/plain": [
       "<Figure size 432x432 with 3 Axes>"
      ]
     },
     "metadata": {
      "needs_background": "light"
     },
     "output_type": "display_data"
    },
    {
     "name": "stdout",
     "output_type": "stream",
     "text": [
      "\u001b[1m Период 5\n"
     ]
    },
    {
     "data": {
      "image/png": "[encoded data removed]",
      "text/plain": [
       "<Figure size 432x432 with 3 Axes>"
      ]
     },
     "metadata": {
      "needs_background": "light"
     },
     "output_type": "display_data"
    },
    {
     "name": "stdout",
     "output_type": "stream",
     "text": [
      "\u001b[1m Период 6\n"
     ]
    },
    {
     "data": {
      "image/png": "[encoded data removed]",
      "text/plain": [
       "<Figure size 432x432 with 3 Axes>"
      ]
     },
     "metadata": {
      "needs_background": "light"
     },
     "output_type": "display_data"
    },
    {
     "name": "stdout",
     "output_type": "stream",
     "text": [
      "\u001b[1m Период 7\n"
     ]
    },
    {
     "data": {
      "image/png": "[encoded data removed]",
      "text/plain": [
       "<Figure size 432x432 with 3 Axes>"
      ]
     },
     "metadata": {
      "needs_background": "light"
     },
     "output_type": "display_data"
    },
    {
     "name": "stdout",
     "output_type": "stream",
     "text": [
      "\u001b[1m Период 8\n"
     ]
    },
    {
     "data": {
      "image/png": "[encoded data removed]",
      "text/plain": [
       "<Figure size 432x432 with 3 Axes>"
      ]
     },
     "metadata": {
      "needs_background": "light"
     },
     "output_type": "display_data"
    },
    {
     "name": "stdout",
     "output_type": "stream",
     "text": [
      "\u001b[1m Период 9\n"
     ]
    },
    {
     "data": {
      "image/png": "[encoded data removed]",
      "text/plain": [
       "<Figure size 432x432 with 3 Axes>"
      ]
     },
     "metadata": {
      "needs_background": "light"
     },
     "output_type": "display_data"
    },
    {
     "name": "stdout",
     "output_type": "stream",
     "text": [
      "\u001b[1m Период 10\n"
     ]
    },
    {
     "data": {
      "image/png": "[encoded data removed]",
      "text/plain": [
       "<Figure size 432x432 with 3 Axes>"
      ]
     },
     "metadata": {
      "needs_background": "light"
     },
     "output_type": "display_data"
    },
    {
     "name": "stdout",
     "output_type": "stream",
     "text": [
      "\u001b[1m Период 11\n"
     ]
    },
    {
     "data": {
      "image/png": "[encoded data removed]",
      "text/plain": [
       "<Figure size 432x432 with 3 Axes>"
      ]
     },
     "metadata": {
      "needs_background": "light"
     },
     "output_type": "display_data"
    }
   ],
   "source": [
    "for lt in range(1, 12):\n",
    "  print(\"\\033[1m Период\", lt)\n",
    "  #print('zero part:', report[(report['tr_lifetime']==lt) & (report['pc_o']==0)]['month'].count() / report[(report['tr_lifetime']==lt)]['month'].count())\n",
    "  #print('ones part:', report[(report['tr_lifetime']==lt) & (report['pc_o']==1)]['month'].count() / report[(report['tr_lifetime']==lt)]['month'].count())\n",
    "  #print('mean:', report[(report['tr_lifetime']==lt)]['pc_o'].mean())\n",
    "  #print('count:', report[(report['tr_lifetime']==lt)]['pc_o'].count())\n",
    "  #report_w_tr_lt[report_w_tr_lt['tr_lifetime']==lt].plot(kind='scatter', x='sent', y='pc_o', alpha=0.01)\n",
    "  #report_w_tr_lt[(report_w_tr_lt['tr_lifetime']==lt) & (report_w_tr_lt['pc_o']>0)].plot(kind='scatter', x='sent', y='pc_o', alpha=0.05)\n",
    "  #sns.jointplot(x='sent', y='pc_o', data=report_w_tr_lt[(report_w_tr_lt['tr_lifetime']==lt) & (report_w_tr_lt['pc_o']>0)& (report_w_tr_lt['pc_o']<1)], alpha=0.4, color='orangered')\n",
    "  p = sns.jointplot(x='sent', y='pc_o', data=report[(report['tr_lifetime']==lt) & (report['pc_o']>0)& (report['pc_o']<1)], alpha=0.4, color='orangered')\n",
    "  p.fig.suptitle(\"Распределения доли открытых рассылок и количества отправленных сообщений\")\n",
    "  p.set_axis_labels('Количество отправляемых писем в месяц', 'Доля открытых рассылок', fontsize=10)\n",
    "  \n",
    "  plt.show()"
   ]
  },
  {
   "cell_type": "markdown",
   "metadata": {
    "colab_type": "text",
    "id": "n6Y3WDWsczjM"
   },
   "source": [
    "На графиках видно, что в приинципе для каждого периода можно найти область (области), в которой доля открытых рассылок максимальна. Соответствующие значения количества отправляемых писем в месяц возьмем за оптимальные. <br><br>\n",
    "Посмотрим на них в цифрах:<br>\n",
    "(Группы выбирал вручную по критерию равенства количества доставленных писем)"
   ]
  },
  {
   "cell_type": "code",
   "execution_count": 39,
   "metadata": {
    "colab": {},
    "colab_type": "code",
    "id": "h4BjYxGMpA3i"
   },
   "outputs": [],
   "source": [
    "def get_sent_group( row):  \n",
    "    if row['sent'] <= 25.0:\n",
    "        return '<25'\n",
    "    \n",
    "    elif 27.0<row['sent'] <= 35.0:\n",
    "        return '28-35'\n",
    "    elif 35.0<row['sent']:\n",
    "        return '>35'\n",
    "    else:\n",
    "        return row['sent']\n",
    "def table (lt):\n",
    "  print('\\033[1mЗначения показателей взаимодействий с рассылками в периоде',lt)\n",
    "  #a = report[report['lifetime']==lt].groupby('sent').agg({'pc_o': ['mean', 'median']}).reset_index()\n",
    "  a = report[report['tr_lifetime']==lt].groupby('sent').agg({'delivered': 'sum', 'opened': 'sum', 'clicked': 'sum'}).reset_index()\n",
    "  a['pc_o'] = a['opened'] / a['delivered']\n",
    "  a['pc_c'] = a['clicked'] / a['delivered']\n",
    "  a['sent_group'] =a.apply(get_sent_group, axis=1)\n",
    "  b = a.groupby('sent_group').agg({'delivered': 'sum', 'opened': 'sum', 'clicked': 'sum'}).reset_index()\n",
    "  b['pc_o'] = round((b['opened'] / b['delivered'])*100, 1)\n",
    "  b['pc_c'] = round((b['clicked'] / b['delivered'])*100, 1)\n",
    "  #a.columns = a.columns.droplevel()\n",
    "  display(b.sort_values('pc_o', ascending=False))"
   ]
  },
  {
   "cell_type": "code",
   "execution_count": 40,
   "metadata": {
    "colab": {
     "base_uri": "https://localhost:8080/",
     "height": 221
    },
    "colab_type": "code",
    "id": "cDe2xyCClq-x",
    "outputId": "eaa81151-8371-4e19-e690-01bbb1701194"
   },
   "outputs": [
    {
     "name": "stdout",
     "output_type": "stream",
     "text": [
      "\u001b[1mЗначения показателей взаимодействий с рассылками в периоде 1\n"
     ]
    },
    {
     "data": {
      "text/html": [
       "<div>\n",
       "<style scoped>\n",
       "    .dataframe tbody tr th:only-of-type {\n",
       "        vertical-align: middle;\n",
       "    }\n",
       "\n",
       "    .dataframe tbody tr th {\n",
       "        vertical-align: top;\n",
       "    }\n",
       "\n",
       "    .dataframe thead th {\n",
       "        text-align: right;\n",
       "    }\n",
       "</style>\n",
       "<table border=\"1\" class=\"dataframe\">\n",
       "  <thead>\n",
       "    <tr style=\"text-align: right;\">\n",
       "      <th></th>\n",
       "      <th>sent_group</th>\n",
       "      <th>delivered</th>\n",
       "      <th>opened</th>\n",
       "      <th>clicked</th>\n",
       "      <th>pc_o</th>\n",
       "      <th>pc_c</th>\n",
       "    </tr>\n",
       "  </thead>\n",
       "  <tbody>\n",
       "    <tr>\n",
       "      <th>1</th>\n",
       "      <td>27</td>\n",
       "      <td>40149.0</td>\n",
       "      <td>7572.0</td>\n",
       "      <td>1646.0</td>\n",
       "      <td>18.9</td>\n",
       "      <td>4.1</td>\n",
       "    </tr>\n",
       "    <tr>\n",
       "      <th>0</th>\n",
       "      <td>26</td>\n",
       "      <td>37336.0</td>\n",
       "      <td>6649.0</td>\n",
       "      <td>1365.0</td>\n",
       "      <td>17.8</td>\n",
       "      <td>3.7</td>\n",
       "    </tr>\n",
       "    <tr>\n",
       "      <th>3</th>\n",
       "      <td>&lt;25</td>\n",
       "      <td>29556.0</td>\n",
       "      <td>4696.0</td>\n",
       "      <td>1045.0</td>\n",
       "      <td>15.9</td>\n",
       "      <td>3.5</td>\n",
       "    </tr>\n",
       "    <tr>\n",
       "      <th>2</th>\n",
       "      <td>28-35</td>\n",
       "      <td>88868.0</td>\n",
       "      <td>13081.0</td>\n",
       "      <td>2652.0</td>\n",
       "      <td>14.7</td>\n",
       "      <td>3.0</td>\n",
       "    </tr>\n",
       "    <tr>\n",
       "      <th>4</th>\n",
       "      <td>&gt;35</td>\n",
       "      <td>69544.0</td>\n",
       "      <td>9757.0</td>\n",
       "      <td>2187.0</td>\n",
       "      <td>14.0</td>\n",
       "      <td>3.1</td>\n",
       "    </tr>\n",
       "  </tbody>\n",
       "</table>\n",
       "</div>"
      ],
      "text/plain": [
       "  sent_group  delivered   opened  clicked  pc_o  pc_c\n",
       "1         27    40149.0   7572.0   1646.0  18.9   4.1\n",
       "0         26    37336.0   6649.0   1365.0  17.8   3.7\n",
       "3        <25    29556.0   4696.0   1045.0  15.9   3.5\n",
       "2      28-35    88868.0  13081.0   2652.0  14.7   3.0\n",
       "4        >35    69544.0   9757.0   2187.0  14.0   3.1"
      ]
     },
     "metadata": {},
     "output_type": "display_data"
    }
   ],
   "source": [
    "table(1)"
   ]
  },
  {
   "cell_type": "code",
   "execution_count": 41,
   "metadata": {
    "colab": {
     "base_uri": "https://localhost:8080/",
     "height": 221
    },
    "colab_type": "code",
    "id": "c8w8AEfC2c3m",
    "outputId": "9db3b9b4-d93c-4c7b-fecd-69bbf40c2d75"
   },
   "outputs": [
    {
     "name": "stdout",
     "output_type": "stream",
     "text": [
      "\u001b[1mЗначения показателей взаимодействий с рассылками в периоде 2\n"
     ]
    },
    {
     "data": {
      "text/html": [
       "<div>\n",
       "<style scoped>\n",
       "    .dataframe tbody tr th:only-of-type {\n",
       "        vertical-align: middle;\n",
       "    }\n",
       "\n",
       "    .dataframe tbody tr th {\n",
       "        vertical-align: top;\n",
       "    }\n",
       "\n",
       "    .dataframe thead th {\n",
       "        text-align: right;\n",
       "    }\n",
       "</style>\n",
       "<table border=\"1\" class=\"dataframe\">\n",
       "  <thead>\n",
       "    <tr style=\"text-align: right;\">\n",
       "      <th></th>\n",
       "      <th>sent_group</th>\n",
       "      <th>delivered</th>\n",
       "      <th>opened</th>\n",
       "      <th>clicked</th>\n",
       "      <th>pc_o</th>\n",
       "      <th>pc_c</th>\n",
       "    </tr>\n",
       "  </thead>\n",
       "  <tbody>\n",
       "    <tr>\n",
       "      <th>3</th>\n",
       "      <td>0-21</td>\n",
       "      <td>12385.0</td>\n",
       "      <td>2252.0</td>\n",
       "      <td>504.0</td>\n",
       "      <td>18.2</td>\n",
       "      <td>4.1</td>\n",
       "    </tr>\n",
       "    <tr>\n",
       "      <th>0</th>\n",
       "      <td>22</td>\n",
       "      <td>29370.0</td>\n",
       "      <td>4428.0</td>\n",
       "      <td>980.0</td>\n",
       "      <td>15.1</td>\n",
       "      <td>3.3</td>\n",
       "    </tr>\n",
       "    <tr>\n",
       "      <th>1</th>\n",
       "      <td>23</td>\n",
       "      <td>41653.0</td>\n",
       "      <td>6269.0</td>\n",
       "      <td>1363.0</td>\n",
       "      <td>15.1</td>\n",
       "      <td>3.3</td>\n",
       "    </tr>\n",
       "    <tr>\n",
       "      <th>4</th>\n",
       "      <td>&gt;24</td>\n",
       "      <td>77721.0</td>\n",
       "      <td>8388.0</td>\n",
       "      <td>1513.0</td>\n",
       "      <td>10.8</td>\n",
       "      <td>1.9</td>\n",
       "    </tr>\n",
       "    <tr>\n",
       "      <th>2</th>\n",
       "      <td>24</td>\n",
       "      <td>22656.0</td>\n",
       "      <td>2417.0</td>\n",
       "      <td>505.0</td>\n",
       "      <td>10.7</td>\n",
       "      <td>2.2</td>\n",
       "    </tr>\n",
       "  </tbody>\n",
       "</table>\n",
       "</div>"
      ],
      "text/plain": [
       "  sent_group  delivered  opened  clicked  pc_o  pc_c\n",
       "3       0-21    12385.0  2252.0    504.0  18.2   4.1\n",
       "0         22    29370.0  4428.0    980.0  15.1   3.3\n",
       "1         23    41653.0  6269.0   1363.0  15.1   3.3\n",
       "4        >24    77721.0  8388.0   1513.0  10.8   1.9\n",
       "2         24    22656.0  2417.0    505.0  10.7   2.2"
      ]
     },
     "metadata": {},
     "output_type": "display_data"
    }
   ],
   "source": [
    "def get_sent_group( row):  \n",
    "    if row['sent'] <= 21.0:\n",
    "        return '0-21'\n",
    "    elif 24.0<row['sent']:\n",
    "        return '>24'\n",
    "    else:\n",
    "        return row['sent']\n",
    "\n",
    "table(2)"
   ]
  },
  {
   "cell_type": "code",
   "execution_count": 42,
   "metadata": {
    "colab": {
     "base_uri": "https://localhost:8080/",
     "height": 221
    },
    "colab_type": "code",
    "id": "uXxlHCHA3Z2j",
    "outputId": "e977c669-0663-4f3d-b51f-8efaad5a96fe"
   },
   "outputs": [
    {
     "name": "stdout",
     "output_type": "stream",
     "text": [
      "\u001b[1mЗначения показателей взаимодействий с рассылками в периоде 3\n"
     ]
    },
    {
     "data": {
      "text/html": [
       "<div>\n",
       "<style scoped>\n",
       "    .dataframe tbody tr th:only-of-type {\n",
       "        vertical-align: middle;\n",
       "    }\n",
       "\n",
       "    .dataframe tbody tr th {\n",
       "        vertical-align: top;\n",
       "    }\n",
       "\n",
       "    .dataframe thead th {\n",
       "        text-align: right;\n",
       "    }\n",
       "</style>\n",
       "<table border=\"1\" class=\"dataframe\">\n",
       "  <thead>\n",
       "    <tr style=\"text-align: right;\">\n",
       "      <th></th>\n",
       "      <th>sent_group</th>\n",
       "      <th>delivered</th>\n",
       "      <th>opened</th>\n",
       "      <th>clicked</th>\n",
       "      <th>pc_o</th>\n",
       "      <th>pc_c</th>\n",
       "    </tr>\n",
       "  </thead>\n",
       "  <tbody>\n",
       "    <tr>\n",
       "      <th>3</th>\n",
       "      <td>27-28</td>\n",
       "      <td>14124.0</td>\n",
       "      <td>4383.0</td>\n",
       "      <td>707.0</td>\n",
       "      <td>31.0</td>\n",
       "      <td>5.0</td>\n",
       "    </tr>\n",
       "    <tr>\n",
       "      <th>2</th>\n",
       "      <td>0-26</td>\n",
       "      <td>13444.0</td>\n",
       "      <td>3909.0</td>\n",
       "      <td>579.0</td>\n",
       "      <td>29.1</td>\n",
       "      <td>4.3</td>\n",
       "    </tr>\n",
       "    <tr>\n",
       "      <th>4</th>\n",
       "      <td>&gt;30</td>\n",
       "      <td>79958.0</td>\n",
       "      <td>5447.0</td>\n",
       "      <td>991.0</td>\n",
       "      <td>6.8</td>\n",
       "      <td>1.2</td>\n",
       "    </tr>\n",
       "    <tr>\n",
       "      <th>0</th>\n",
       "      <td>29</td>\n",
       "      <td>65250.0</td>\n",
       "      <td>4292.0</td>\n",
       "      <td>878.0</td>\n",
       "      <td>6.6</td>\n",
       "      <td>1.3</td>\n",
       "    </tr>\n",
       "    <tr>\n",
       "      <th>1</th>\n",
       "      <td>30</td>\n",
       "      <td>23160.0</td>\n",
       "      <td>1306.0</td>\n",
       "      <td>229.0</td>\n",
       "      <td>5.6</td>\n",
       "      <td>1.0</td>\n",
       "    </tr>\n",
       "  </tbody>\n",
       "</table>\n",
       "</div>"
      ],
      "text/plain": [
       "  sent_group  delivered  opened  clicked  pc_o  pc_c\n",
       "3      27-28    14124.0  4383.0    707.0  31.0   5.0\n",
       "2       0-26    13444.0  3909.0    579.0  29.1   4.3\n",
       "4        >30    79958.0  5447.0    991.0   6.8   1.2\n",
       "0         29    65250.0  4292.0    878.0   6.6   1.3\n",
       "1         30    23160.0  1306.0    229.0   5.6   1.0"
      ]
     },
     "metadata": {},
     "output_type": "display_data"
    }
   ],
   "source": [
    "def get_sent_group( row):  \n",
    "    if row['sent'] <= 26.0:\n",
    "        return '0-26'\n",
    "    if 26<row['sent'] <= 28.0:\n",
    "        return '27-28'    \n",
    "    elif 30<row['sent']:\n",
    "        return '>30'\n",
    "    else:\n",
    "        return row['sent']\n",
    "\n",
    "table(3)"
   ]
  },
  {
   "cell_type": "code",
   "execution_count": 43,
   "metadata": {
    "colab": {
     "base_uri": "https://localhost:8080/",
     "height": 221
    },
    "colab_type": "code",
    "id": "umnVBVOA7R0w",
    "outputId": "a9b6f08c-b1aa-415b-82fb-6e9c43efa640"
   },
   "outputs": [
    {
     "name": "stdout",
     "output_type": "stream",
     "text": [
      "\u001b[1mЗначения показателей взаимодействий с рассылками в периоде 4\n"
     ]
    },
    {
     "data": {
      "text/html": [
       "<div>\n",
       "<style scoped>\n",
       "    .dataframe tbody tr th:only-of-type {\n",
       "        vertical-align: middle;\n",
       "    }\n",
       "\n",
       "    .dataframe tbody tr th {\n",
       "        vertical-align: top;\n",
       "    }\n",
       "\n",
       "    .dataframe thead th {\n",
       "        text-align: right;\n",
       "    }\n",
       "</style>\n",
       "<table border=\"1\" class=\"dataframe\">\n",
       "  <thead>\n",
       "    <tr style=\"text-align: right;\">\n",
       "      <th></th>\n",
       "      <th>sent_group</th>\n",
       "      <th>delivered</th>\n",
       "      <th>opened</th>\n",
       "      <th>clicked</th>\n",
       "      <th>pc_o</th>\n",
       "      <th>pc_c</th>\n",
       "    </tr>\n",
       "  </thead>\n",
       "  <tbody>\n",
       "    <tr>\n",
       "      <th>1</th>\n",
       "      <td>0-30</td>\n",
       "      <td>29306.0</td>\n",
       "      <td>3079.0</td>\n",
       "      <td>478.0</td>\n",
       "      <td>10.5</td>\n",
       "      <td>1.6</td>\n",
       "    </tr>\n",
       "    <tr>\n",
       "      <th>4</th>\n",
       "      <td>&gt;36</td>\n",
       "      <td>63511.0</td>\n",
       "      <td>6443.0</td>\n",
       "      <td>951.0</td>\n",
       "      <td>10.1</td>\n",
       "      <td>1.5</td>\n",
       "    </tr>\n",
       "    <tr>\n",
       "      <th>3</th>\n",
       "      <td>34-35</td>\n",
       "      <td>26790.0</td>\n",
       "      <td>2673.0</td>\n",
       "      <td>576.0</td>\n",
       "      <td>10.0</td>\n",
       "      <td>2.2</td>\n",
       "    </tr>\n",
       "    <tr>\n",
       "      <th>2</th>\n",
       "      <td>31-33</td>\n",
       "      <td>43960.0</td>\n",
       "      <td>3792.0</td>\n",
       "      <td>572.0</td>\n",
       "      <td>8.6</td>\n",
       "      <td>1.3</td>\n",
       "    </tr>\n",
       "    <tr>\n",
       "      <th>0</th>\n",
       "      <td>36</td>\n",
       "      <td>37764.0</td>\n",
       "      <td>2933.0</td>\n",
       "      <td>424.0</td>\n",
       "      <td>7.8</td>\n",
       "      <td>1.1</td>\n",
       "    </tr>\n",
       "  </tbody>\n",
       "</table>\n",
       "</div>"
      ],
      "text/plain": [
       "  sent_group  delivered  opened  clicked  pc_o  pc_c\n",
       "1       0-30    29306.0  3079.0    478.0  10.5   1.6\n",
       "4        >36    63511.0  6443.0    951.0  10.1   1.5\n",
       "3      34-35    26790.0  2673.0    576.0  10.0   2.2\n",
       "2      31-33    43960.0  3792.0    572.0   8.6   1.3\n",
       "0         36    37764.0  2933.0    424.0   7.8   1.1"
      ]
     },
     "metadata": {},
     "output_type": "display_data"
    }
   ],
   "source": [
    "def get_sent_group( row):  \n",
    "    if row['sent'] <= 30.0:\n",
    "        return '0-30'\n",
    "      \n",
    "    if 30<row['sent'] <= 33.0:\n",
    "        return '31-33'    \n",
    "    if 33<row['sent'] <= 35.0:\n",
    "        return '34-35'    \n",
    "     \n",
    "    elif 36<row['sent']:\n",
    "        return '>36'\n",
    "    else:\n",
    "        return row['sent']\n",
    "\n",
    "table(4)"
   ]
  },
  {
   "cell_type": "code",
   "execution_count": 44,
   "metadata": {
    "colab": {
     "base_uri": "https://localhost:8080/",
     "height": 252
    },
    "colab_type": "code",
    "id": "V_zgpEC98JzP",
    "outputId": "8ed06d1f-784d-4d6b-fb67-6b92969d4eb8"
   },
   "outputs": [
    {
     "name": "stdout",
     "output_type": "stream",
     "text": [
      "\u001b[1mЗначения показателей взаимодействий с рассылками в периоде 5\n"
     ]
    },
    {
     "data": {
      "text/html": [
       "<div>\n",
       "<style scoped>\n",
       "    .dataframe tbody tr th:only-of-type {\n",
       "        vertical-align: middle;\n",
       "    }\n",
       "\n",
       "    .dataframe tbody tr th {\n",
       "        vertical-align: top;\n",
       "    }\n",
       "\n",
       "    .dataframe thead th {\n",
       "        text-align: right;\n",
       "    }\n",
       "</style>\n",
       "<table border=\"1\" class=\"dataframe\">\n",
       "  <thead>\n",
       "    <tr style=\"text-align: right;\">\n",
       "      <th></th>\n",
       "      <th>sent_group</th>\n",
       "      <th>delivered</th>\n",
       "      <th>opened</th>\n",
       "      <th>clicked</th>\n",
       "      <th>pc_o</th>\n",
       "      <th>pc_c</th>\n",
       "    </tr>\n",
       "  </thead>\n",
       "  <tbody>\n",
       "    <tr>\n",
       "      <th>5</th>\n",
       "      <td>&gt;28</td>\n",
       "      <td>33150.0</td>\n",
       "      <td>3495.0</td>\n",
       "      <td>459.0</td>\n",
       "      <td>10.5</td>\n",
       "      <td>1.4</td>\n",
       "    </tr>\n",
       "    <tr>\n",
       "      <th>1</th>\n",
       "      <td>0-20</td>\n",
       "      <td>13478.0</td>\n",
       "      <td>1253.0</td>\n",
       "      <td>151.0</td>\n",
       "      <td>9.3</td>\n",
       "      <td>1.1</td>\n",
       "    </tr>\n",
       "    <tr>\n",
       "      <th>4</th>\n",
       "      <td>27-28</td>\n",
       "      <td>25444.0</td>\n",
       "      <td>2211.0</td>\n",
       "      <td>274.0</td>\n",
       "      <td>8.7</td>\n",
       "      <td>1.1</td>\n",
       "    </tr>\n",
       "    <tr>\n",
       "      <th>2</th>\n",
       "      <td>21-22</td>\n",
       "      <td>26017.0</td>\n",
       "      <td>1936.0</td>\n",
       "      <td>225.0</td>\n",
       "      <td>7.4</td>\n",
       "      <td>0.9</td>\n",
       "    </tr>\n",
       "    <tr>\n",
       "      <th>0</th>\n",
       "      <td>23</td>\n",
       "      <td>21896.0</td>\n",
       "      <td>1573.0</td>\n",
       "      <td>183.0</td>\n",
       "      <td>7.2</td>\n",
       "      <td>0.8</td>\n",
       "    </tr>\n",
       "    <tr>\n",
       "      <th>3</th>\n",
       "      <td>24-26</td>\n",
       "      <td>14034.0</td>\n",
       "      <td>1017.0</td>\n",
       "      <td>172.0</td>\n",
       "      <td>7.2</td>\n",
       "      <td>1.2</td>\n",
       "    </tr>\n",
       "  </tbody>\n",
       "</table>\n",
       "</div>"
      ],
      "text/plain": [
       "  sent_group  delivered  opened  clicked  pc_o  pc_c\n",
       "5        >28    33150.0  3495.0    459.0  10.5   1.4\n",
       "1       0-20    13478.0  1253.0    151.0   9.3   1.1\n",
       "4      27-28    25444.0  2211.0    274.0   8.7   1.1\n",
       "2      21-22    26017.0  1936.0    225.0   7.4   0.9\n",
       "0         23    21896.0  1573.0    183.0   7.2   0.8\n",
       "3      24-26    14034.0  1017.0    172.0   7.2   1.2"
      ]
     },
     "metadata": {},
     "output_type": "display_data"
    }
   ],
   "source": [
    "def get_sent_group( row):  \n",
    "    if row['sent'] <= 20.0:\n",
    "        return '0-20'\n",
    "    if 20<row['sent'] <= 22.0:\n",
    "        return '21-22'    \n",
    "    if 23<row['sent'] <= 26.0:\n",
    "        return '24-26'    \n",
    "    if 26<row['sent'] <= 28.0:\n",
    "        return '27-28'    \n",
    "    elif 28<row['sent']:\n",
    "        return '>28'\n",
    "    else:\n",
    "        return row['sent']\n",
    "\n",
    "table(5)"
   ]
  },
  {
   "cell_type": "code",
   "execution_count": 45,
   "metadata": {
    "colab": {
     "base_uri": "https://localhost:8080/",
     "height": 190
    },
    "colab_type": "code",
    "id": "Luz_FMKN_D0D",
    "outputId": "fb1f1551-726b-4bd5-cb88-82a70d23b341"
   },
   "outputs": [
    {
     "name": "stdout",
     "output_type": "stream",
     "text": [
      "\u001b[1mЗначения показателей взаимодействий с рассылками в периоде 6\n"
     ]
    },
    {
     "data": {
      "text/html": [
       "<div>\n",
       "<style scoped>\n",
       "    .dataframe tbody tr th:only-of-type {\n",
       "        vertical-align: middle;\n",
       "    }\n",
       "\n",
       "    .dataframe tbody tr th {\n",
       "        vertical-align: top;\n",
       "    }\n",
       "\n",
       "    .dataframe thead th {\n",
       "        text-align: right;\n",
       "    }\n",
       "</style>\n",
       "<table border=\"1\" class=\"dataframe\">\n",
       "  <thead>\n",
       "    <tr style=\"text-align: right;\">\n",
       "      <th></th>\n",
       "      <th>sent_group</th>\n",
       "      <th>delivered</th>\n",
       "      <th>opened</th>\n",
       "      <th>clicked</th>\n",
       "      <th>pc_o</th>\n",
       "      <th>pc_c</th>\n",
       "    </tr>\n",
       "  </thead>\n",
       "  <tbody>\n",
       "    <tr>\n",
       "      <th>1</th>\n",
       "      <td>0-18</td>\n",
       "      <td>14983.0</td>\n",
       "      <td>2374.0</td>\n",
       "      <td>284.0</td>\n",
       "      <td>15.8</td>\n",
       "      <td>1.9</td>\n",
       "    </tr>\n",
       "    <tr>\n",
       "      <th>3</th>\n",
       "      <td>&gt;21</td>\n",
       "      <td>34936.0</td>\n",
       "      <td>3109.0</td>\n",
       "      <td>519.0</td>\n",
       "      <td>8.9</td>\n",
       "      <td>1.5</td>\n",
       "    </tr>\n",
       "    <tr>\n",
       "      <th>2</th>\n",
       "      <td>19-20</td>\n",
       "      <td>25347.0</td>\n",
       "      <td>1849.0</td>\n",
       "      <td>320.0</td>\n",
       "      <td>7.3</td>\n",
       "      <td>1.3</td>\n",
       "    </tr>\n",
       "    <tr>\n",
       "      <th>0</th>\n",
       "      <td>21</td>\n",
       "      <td>13797.0</td>\n",
       "      <td>787.0</td>\n",
       "      <td>176.0</td>\n",
       "      <td>5.7</td>\n",
       "      <td>1.3</td>\n",
       "    </tr>\n",
       "  </tbody>\n",
       "</table>\n",
       "</div>"
      ],
      "text/plain": [
       "  sent_group  delivered  opened  clicked  pc_o  pc_c\n",
       "1       0-18    14983.0  2374.0    284.0  15.8   1.9\n",
       "3        >21    34936.0  3109.0    519.0   8.9   1.5\n",
       "2      19-20    25347.0  1849.0    320.0   7.3   1.3\n",
       "0         21    13797.0   787.0    176.0   5.7   1.3"
      ]
     },
     "metadata": {},
     "output_type": "display_data"
    }
   ],
   "source": [
    "def get_sent_group( row):  \n",
    "    if row['sent'] <= 18.0:\n",
    "        return '0-18'\n",
    "    if 18<row['sent'] <= 20.0:\n",
    "        return '19-20'    \n",
    "       \n",
    "    elif 21<row['sent']:\n",
    "        return '>21'\n",
    "    else:\n",
    "        return row['sent']\n",
    "\n",
    "table(6)"
   ]
  },
  {
   "cell_type": "code",
   "execution_count": 46,
   "metadata": {
    "colab": {
     "base_uri": "https://localhost:8080/",
     "height": 221
    },
    "colab_type": "code",
    "id": "qg9oJH00ByV9",
    "outputId": "8d73c28a-9b49-4e7e-ad50-a8bcb625a935"
   },
   "outputs": [
    {
     "name": "stdout",
     "output_type": "stream",
     "text": [
      "\u001b[1mЗначения показателей взаимодействий с рассылками в периоде 7\n"
     ]
    },
    {
     "data": {
      "text/html": [
       "<div>\n",
       "<style scoped>\n",
       "    .dataframe tbody tr th:only-of-type {\n",
       "        vertical-align: middle;\n",
       "    }\n",
       "\n",
       "    .dataframe tbody tr th {\n",
       "        vertical-align: top;\n",
       "    }\n",
       "\n",
       "    .dataframe thead th {\n",
       "        text-align: right;\n",
       "    }\n",
       "</style>\n",
       "<table border=\"1\" class=\"dataframe\">\n",
       "  <thead>\n",
       "    <tr style=\"text-align: right;\">\n",
       "      <th></th>\n",
       "      <th>sent_group</th>\n",
       "      <th>delivered</th>\n",
       "      <th>opened</th>\n",
       "      <th>clicked</th>\n",
       "      <th>pc_o</th>\n",
       "      <th>pc_c</th>\n",
       "    </tr>\n",
       "  </thead>\n",
       "  <tbody>\n",
       "    <tr>\n",
       "      <th>1</th>\n",
       "      <td>29</td>\n",
       "      <td>7134.0</td>\n",
       "      <td>937.0</td>\n",
       "      <td>108.0</td>\n",
       "      <td>13.1</td>\n",
       "      <td>1.5</td>\n",
       "    </tr>\n",
       "    <tr>\n",
       "      <th>4</th>\n",
       "      <td>&gt;29</td>\n",
       "      <td>41132.0</td>\n",
       "      <td>4024.0</td>\n",
       "      <td>553.0</td>\n",
       "      <td>9.8</td>\n",
       "      <td>1.3</td>\n",
       "    </tr>\n",
       "    <tr>\n",
       "      <th>0</th>\n",
       "      <td>28</td>\n",
       "      <td>9268.0</td>\n",
       "      <td>868.0</td>\n",
       "      <td>138.0</td>\n",
       "      <td>9.4</td>\n",
       "      <td>1.5</td>\n",
       "    </tr>\n",
       "    <tr>\n",
       "      <th>3</th>\n",
       "      <td>25-27</td>\n",
       "      <td>24118.0</td>\n",
       "      <td>1943.0</td>\n",
       "      <td>219.0</td>\n",
       "      <td>8.1</td>\n",
       "      <td>0.9</td>\n",
       "    </tr>\n",
       "    <tr>\n",
       "      <th>2</th>\n",
       "      <td>0-24</td>\n",
       "      <td>16565.0</td>\n",
       "      <td>1282.0</td>\n",
       "      <td>129.0</td>\n",
       "      <td>7.7</td>\n",
       "      <td>0.8</td>\n",
       "    </tr>\n",
       "  </tbody>\n",
       "</table>\n",
       "</div>"
      ],
      "text/plain": [
       "  sent_group  delivered  opened  clicked  pc_o  pc_c\n",
       "1         29     7134.0   937.0    108.0  13.1   1.5\n",
       "4        >29    41132.0  4024.0    553.0   9.8   1.3\n",
       "0         28     9268.0   868.0    138.0   9.4   1.5\n",
       "3      25-27    24118.0  1943.0    219.0   8.1   0.9\n",
       "2       0-24    16565.0  1282.0    129.0   7.7   0.8"
      ]
     },
     "metadata": {},
     "output_type": "display_data"
    }
   ],
   "source": [
    "def get_sent_group( row):  \n",
    "    if row['sent'] <= 24.0:\n",
    "        return '0-24'\n",
    "     \n",
    "    if 24<row['sent'] <= 27:\n",
    "        return '25-27'       \n",
    "    elif 29<row['sent']:\n",
    "        return '>29'\n",
    "    else:\n",
    "        return row['sent']\n",
    "\n",
    "table(7)"
   ]
  },
  {
   "cell_type": "code",
   "execution_count": 47,
   "metadata": {
    "colab": {
     "base_uri": "https://localhost:8080/",
     "height": 190
    },
    "colab_type": "code",
    "id": "sJXyE1fnNCiE",
    "outputId": "00396784-f842-444b-8f14-474485c46969"
   },
   "outputs": [
    {
     "name": "stdout",
     "output_type": "stream",
     "text": [
      "\u001b[1mЗначения показателей взаимодействий с рассылками в периоде 8\n"
     ]
    },
    {
     "data": {
      "text/html": [
       "<div>\n",
       "<style scoped>\n",
       "    .dataframe tbody tr th:only-of-type {\n",
       "        vertical-align: middle;\n",
       "    }\n",
       "\n",
       "    .dataframe tbody tr th {\n",
       "        vertical-align: top;\n",
       "    }\n",
       "\n",
       "    .dataframe thead th {\n",
       "        text-align: right;\n",
       "    }\n",
       "</style>\n",
       "<table border=\"1\" class=\"dataframe\">\n",
       "  <thead>\n",
       "    <tr style=\"text-align: right;\">\n",
       "      <th></th>\n",
       "      <th>sent_group</th>\n",
       "      <th>delivered</th>\n",
       "      <th>opened</th>\n",
       "      <th>clicked</th>\n",
       "      <th>pc_o</th>\n",
       "      <th>pc_c</th>\n",
       "    </tr>\n",
       "  </thead>\n",
       "  <tbody>\n",
       "    <tr>\n",
       "      <th>0</th>\n",
       "      <td>0-26</td>\n",
       "      <td>3553.0</td>\n",
       "      <td>662.0</td>\n",
       "      <td>61.0</td>\n",
       "      <td>18.6</td>\n",
       "      <td>1.7</td>\n",
       "    </tr>\n",
       "    <tr>\n",
       "      <th>3</th>\n",
       "      <td>&gt;35</td>\n",
       "      <td>17149.0</td>\n",
       "      <td>1555.0</td>\n",
       "      <td>204.0</td>\n",
       "      <td>9.1</td>\n",
       "      <td>1.2</td>\n",
       "    </tr>\n",
       "    <tr>\n",
       "      <th>2</th>\n",
       "      <td>30-35</td>\n",
       "      <td>54691.0</td>\n",
       "      <td>4707.0</td>\n",
       "      <td>680.0</td>\n",
       "      <td>8.6</td>\n",
       "      <td>1.2</td>\n",
       "    </tr>\n",
       "    <tr>\n",
       "      <th>1</th>\n",
       "      <td>27-29</td>\n",
       "      <td>23157.0</td>\n",
       "      <td>1923.0</td>\n",
       "      <td>198.0</td>\n",
       "      <td>8.3</td>\n",
       "      <td>0.9</td>\n",
       "    </tr>\n",
       "  </tbody>\n",
       "</table>\n",
       "</div>"
      ],
      "text/plain": [
       "  sent_group  delivered  opened  clicked  pc_o  pc_c\n",
       "0       0-26     3553.0   662.0     61.0  18.6   1.7\n",
       "3        >35    17149.0  1555.0    204.0   9.1   1.2\n",
       "2      30-35    54691.0  4707.0    680.0   8.6   1.2\n",
       "1      27-29    23157.0  1923.0    198.0   8.3   0.9"
      ]
     },
     "metadata": {},
     "output_type": "display_data"
    }
   ],
   "source": [
    "def get_sent_group( row):  \n",
    "    if row['sent'] <= 26.0:\n",
    "        return '0-26'\n",
    "    \n",
    "    if 29<row['sent'] <= 35:\n",
    "        return '30-35'   \n",
    "    if 26<row['sent'] <= 29:\n",
    "        return '27-29'          \n",
    "    elif 35<row['sent']:\n",
    "        return '>35'\n",
    "    else:\n",
    "        return row['sent']\n",
    "\n",
    "table(8)"
   ]
  },
  {
   "cell_type": "code",
   "execution_count": 48,
   "metadata": {
    "colab": {
     "base_uri": "https://localhost:8080/",
     "height": 252
    },
    "colab_type": "code",
    "id": "pHcWR-T5O3gQ",
    "outputId": "81f20cbf-8f0d-4e89-c4c4-b571fc70cc69"
   },
   "outputs": [
    {
     "name": "stdout",
     "output_type": "stream",
     "text": [
      "\u001b[1mЗначения показателей взаимодействий с рассылками в периоде 9\n"
     ]
    },
    {
     "data": {
      "text/html": [
       "<div>\n",
       "<style scoped>\n",
       "    .dataframe tbody tr th:only-of-type {\n",
       "        vertical-align: middle;\n",
       "    }\n",
       "\n",
       "    .dataframe tbody tr th {\n",
       "        vertical-align: top;\n",
       "    }\n",
       "\n",
       "    .dataframe thead th {\n",
       "        text-align: right;\n",
       "    }\n",
       "</style>\n",
       "<table border=\"1\" class=\"dataframe\">\n",
       "  <thead>\n",
       "    <tr style=\"text-align: right;\">\n",
       "      <th></th>\n",
       "      <th>sent_group</th>\n",
       "      <th>delivered</th>\n",
       "      <th>opened</th>\n",
       "      <th>clicked</th>\n",
       "      <th>pc_o</th>\n",
       "      <th>pc_c</th>\n",
       "    </tr>\n",
       "  </thead>\n",
       "  <tbody>\n",
       "    <tr>\n",
       "      <th>4</th>\n",
       "      <td>40-43</td>\n",
       "      <td>23163.0</td>\n",
       "      <td>4008.0</td>\n",
       "      <td>386.0</td>\n",
       "      <td>17.3</td>\n",
       "      <td>1.7</td>\n",
       "    </tr>\n",
       "    <tr>\n",
       "      <th>3</th>\n",
       "      <td>22-39</td>\n",
       "      <td>8959.0</td>\n",
       "      <td>1285.0</td>\n",
       "      <td>171.0</td>\n",
       "      <td>14.3</td>\n",
       "      <td>1.9</td>\n",
       "    </tr>\n",
       "    <tr>\n",
       "      <th>0</th>\n",
       "      <td>44</td>\n",
       "      <td>8140.0</td>\n",
       "      <td>790.0</td>\n",
       "      <td>129.0</td>\n",
       "      <td>9.7</td>\n",
       "      <td>1.6</td>\n",
       "    </tr>\n",
       "    <tr>\n",
       "      <th>5</th>\n",
       "      <td>&gt;45</td>\n",
       "      <td>43399.0</td>\n",
       "      <td>2916.0</td>\n",
       "      <td>467.0</td>\n",
       "      <td>6.7</td>\n",
       "      <td>1.1</td>\n",
       "    </tr>\n",
       "    <tr>\n",
       "      <th>2</th>\n",
       "      <td>0-21</td>\n",
       "      <td>8003.0</td>\n",
       "      <td>374.0</td>\n",
       "      <td>43.0</td>\n",
       "      <td>4.7</td>\n",
       "      <td>0.5</td>\n",
       "    </tr>\n",
       "    <tr>\n",
       "      <th>1</th>\n",
       "      <td>45</td>\n",
       "      <td>39780.0</td>\n",
       "      <td>1724.0</td>\n",
       "      <td>210.0</td>\n",
       "      <td>4.3</td>\n",
       "      <td>0.5</td>\n",
       "    </tr>\n",
       "  </tbody>\n",
       "</table>\n",
       "</div>"
      ],
      "text/plain": [
       "  sent_group  delivered  opened  clicked  pc_o  pc_c\n",
       "4      40-43    23163.0  4008.0    386.0  17.3   1.7\n",
       "3      22-39     8959.0  1285.0    171.0  14.3   1.9\n",
       "0         44     8140.0   790.0    129.0   9.7   1.6\n",
       "5        >45    43399.0  2916.0    467.0   6.7   1.1\n",
       "2       0-21     8003.0   374.0     43.0   4.7   0.5\n",
       "1         45    39780.0  1724.0    210.0   4.3   0.5"
      ]
     },
     "metadata": {},
     "output_type": "display_data"
    }
   ],
   "source": [
    "def get_sent_group( row):  \n",
    "    if row['sent'] <= 21.0:\n",
    "        return '0-21'\n",
    "    if 21<row['sent'] <= 39:\n",
    "        return '22-39'  \n",
    "    \n",
    "    if 39<row['sent'] <= 43:\n",
    "        return '40-43'                    \n",
    "    elif 45<row['sent']:\n",
    "        return '>45'\n",
    "    else:\n",
    "        return row['sent']\n",
    "\n",
    "table(9)"
   ]
  },
  {
   "cell_type": "code",
   "execution_count": 49,
   "metadata": {
    "colab": {
     "base_uri": "https://localhost:8080/",
     "height": 221
    },
    "colab_type": "code",
    "id": "gLiEqqM4Rym-",
    "outputId": "2f960e2f-72f8-4442-ac58-b074c39300be"
   },
   "outputs": [
    {
     "name": "stdout",
     "output_type": "stream",
     "text": [
      "\u001b[1mЗначения показателей взаимодействий с рассылками в периоде 10\n"
     ]
    },
    {
     "data": {
      "text/html": [
       "<div>\n",
       "<style scoped>\n",
       "    .dataframe tbody tr th:only-of-type {\n",
       "        vertical-align: middle;\n",
       "    }\n",
       "\n",
       "    .dataframe tbody tr th {\n",
       "        vertical-align: top;\n",
       "    }\n",
       "\n",
       "    .dataframe thead th {\n",
       "        text-align: right;\n",
       "    }\n",
       "</style>\n",
       "<table border=\"1\" class=\"dataframe\">\n",
       "  <thead>\n",
       "    <tr style=\"text-align: right;\">\n",
       "      <th></th>\n",
       "      <th>sent_group</th>\n",
       "      <th>delivered</th>\n",
       "      <th>opened</th>\n",
       "      <th>clicked</th>\n",
       "      <th>pc_o</th>\n",
       "      <th>pc_c</th>\n",
       "    </tr>\n",
       "  </thead>\n",
       "  <tbody>\n",
       "    <tr>\n",
       "      <th>4</th>\n",
       "      <td>&gt;45</td>\n",
       "      <td>19461.0</td>\n",
       "      <td>2956.0</td>\n",
       "      <td>274.0</td>\n",
       "      <td>15.2</td>\n",
       "      <td>1.4</td>\n",
       "    </tr>\n",
       "    <tr>\n",
       "      <th>0</th>\n",
       "      <td>45</td>\n",
       "      <td>9405.0</td>\n",
       "      <td>1060.0</td>\n",
       "      <td>110.0</td>\n",
       "      <td>11.3</td>\n",
       "      <td>1.2</td>\n",
       "    </tr>\n",
       "    <tr>\n",
       "      <th>2</th>\n",
       "      <td>22-39</td>\n",
       "      <td>7977.0</td>\n",
       "      <td>828.0</td>\n",
       "      <td>112.0</td>\n",
       "      <td>10.4</td>\n",
       "      <td>1.4</td>\n",
       "    </tr>\n",
       "    <tr>\n",
       "      <th>1</th>\n",
       "      <td>0-21</td>\n",
       "      <td>2564.0</td>\n",
       "      <td>259.0</td>\n",
       "      <td>15.0</td>\n",
       "      <td>10.1</td>\n",
       "      <td>0.6</td>\n",
       "    </tr>\n",
       "    <tr>\n",
       "      <th>3</th>\n",
       "      <td>40-44</td>\n",
       "      <td>73693.0</td>\n",
       "      <td>4641.0</td>\n",
       "      <td>558.0</td>\n",
       "      <td>6.3</td>\n",
       "      <td>0.8</td>\n",
       "    </tr>\n",
       "  </tbody>\n",
       "</table>\n",
       "</div>"
      ],
      "text/plain": [
       "  sent_group  delivered  opened  clicked  pc_o  pc_c\n",
       "4        >45    19461.0  2956.0    274.0  15.2   1.4\n",
       "0         45     9405.0  1060.0    110.0  11.3   1.2\n",
       "2      22-39     7977.0   828.0    112.0  10.4   1.4\n",
       "1       0-21     2564.0   259.0     15.0  10.1   0.6\n",
       "3      40-44    73693.0  4641.0    558.0   6.3   0.8"
      ]
     },
     "metadata": {},
     "output_type": "display_data"
    }
   ],
   "source": [
    "def get_sent_group( row):  \n",
    "    if row['sent'] <= 21.0:\n",
    "        return '0-21'\n",
    "    if 21<row['sent'] <= 39:\n",
    "        return '22-39'  \n",
    "    if 39<row['sent'] <= 44:\n",
    "        return '40-44'  \n",
    "                        \n",
    "    elif 45<row['sent']:\n",
    "        return '>45'\n",
    "    else:\n",
    "        return row['sent']\n",
    "\n",
    "table(10)"
   ]
  },
  {
   "cell_type": "code",
   "execution_count": 50,
   "metadata": {
    "colab": {
     "base_uri": "https://localhost:8080/",
     "height": 252
    },
    "colab_type": "code",
    "id": "M6EIMPowgJO5",
    "outputId": "f1ad1cbe-1832-4adf-a4b0-90fdc5bd208a"
   },
   "outputs": [
    {
     "name": "stdout",
     "output_type": "stream",
     "text": [
      "\u001b[1mЗначения показателей взаимодействий с рассылками в периоде 11\n"
     ]
    },
    {
     "data": {
      "text/html": [
       "<div>\n",
       "<style scoped>\n",
       "    .dataframe tbody tr th:only-of-type {\n",
       "        vertical-align: middle;\n",
       "    }\n",
       "\n",
       "    .dataframe tbody tr th {\n",
       "        vertical-align: top;\n",
       "    }\n",
       "\n",
       "    .dataframe thead th {\n",
       "        text-align: right;\n",
       "    }\n",
       "</style>\n",
       "<table border=\"1\" class=\"dataframe\">\n",
       "  <thead>\n",
       "    <tr style=\"text-align: right;\">\n",
       "      <th></th>\n",
       "      <th>sent_group</th>\n",
       "      <th>delivered</th>\n",
       "      <th>opened</th>\n",
       "      <th>clicked</th>\n",
       "      <th>pc_o</th>\n",
       "      <th>pc_c</th>\n",
       "    </tr>\n",
       "  </thead>\n",
       "  <tbody>\n",
       "    <tr>\n",
       "      <th>1</th>\n",
       "      <td>0-21</td>\n",
       "      <td>9017.0</td>\n",
       "      <td>1173.0</td>\n",
       "      <td>108.0</td>\n",
       "      <td>13.0</td>\n",
       "      <td>1.2</td>\n",
       "    </tr>\n",
       "    <tr>\n",
       "      <th>4</th>\n",
       "      <td>30-33</td>\n",
       "      <td>14631.0</td>\n",
       "      <td>1176.0</td>\n",
       "      <td>155.0</td>\n",
       "      <td>8.0</td>\n",
       "      <td>1.1</td>\n",
       "    </tr>\n",
       "    <tr>\n",
       "      <th>3</th>\n",
       "      <td>26-29</td>\n",
       "      <td>16595.0</td>\n",
       "      <td>1297.0</td>\n",
       "      <td>203.0</td>\n",
       "      <td>7.8</td>\n",
       "      <td>1.2</td>\n",
       "    </tr>\n",
       "    <tr>\n",
       "      <th>5</th>\n",
       "      <td>&gt;34</td>\n",
       "      <td>6417.0</td>\n",
       "      <td>436.0</td>\n",
       "      <td>62.0</td>\n",
       "      <td>6.8</td>\n",
       "      <td>1.0</td>\n",
       "    </tr>\n",
       "    <tr>\n",
       "      <th>0</th>\n",
       "      <td>34</td>\n",
       "      <td>3604.0</td>\n",
       "      <td>239.0</td>\n",
       "      <td>40.0</td>\n",
       "      <td>6.6</td>\n",
       "      <td>1.1</td>\n",
       "    </tr>\n",
       "    <tr>\n",
       "      <th>2</th>\n",
       "      <td>22-25</td>\n",
       "      <td>14380.0</td>\n",
       "      <td>914.0</td>\n",
       "      <td>113.0</td>\n",
       "      <td>6.4</td>\n",
       "      <td>0.8</td>\n",
       "    </tr>\n",
       "  </tbody>\n",
       "</table>\n",
       "</div>"
      ],
      "text/plain": [
       "  sent_group  delivered  opened  clicked  pc_o  pc_c\n",
       "1       0-21     9017.0  1173.0    108.0  13.0   1.2\n",
       "4      30-33    14631.0  1176.0    155.0   8.0   1.1\n",
       "3      26-29    16595.0  1297.0    203.0   7.8   1.2\n",
       "5        >34     6417.0   436.0     62.0   6.8   1.0\n",
       "0         34     3604.0   239.0     40.0   6.6   1.1\n",
       "2      22-25    14380.0   914.0    113.0   6.4   0.8"
      ]
     },
     "metadata": {},
     "output_type": "display_data"
    }
   ],
   "source": [
    "def get_sent_group( row):  \n",
    "    if row['sent'] <= 21:\n",
    "        return '0-21'\n",
    "    if 21<row['sent'] <= 25:\n",
    "        return '22-25' \n",
    "    if 25<row['sent'] <= 29:\n",
    "        return '26-29'  \n",
    "    if 29<row['sent'] <= 33:\n",
    "        return '30-33'  \n",
    "                        \n",
    "    elif 34<row['sent']:\n",
    "        return '>34'\n",
    "    else:\n",
    "        return row['sent']\n",
    "\n",
    "table(11)"
   ]
  },
  {
   "cell_type": "markdown",
   "metadata": {
    "colab_type": "text",
    "id": "XWVyUaH7hxd8"
   },
   "source": [
    "Цифры подтвердили наблюдения на графиках. <br>\n",
    "Для каждого периода жизни клиента (от покупки) существует оптимальное значение (или группа значений) количества отправляемых сообщений в месяц, при котором доля открытых сообщенйи максимальна. <br>\n",
    "При выборе конечного значения из группы или групп с близкими показателями оптимальности будем выбирать максимальное количество рассылок, руководствуюясь тем, что при условно равной доле открытия сообщений переходов будет тем больше, чем больше отправлено сообщений.<br>\n",
    "Бонусом получаем, что доля переходов корреллирует с долей открытия."
   ]
  },
  {
   "cell_type": "markdown",
   "metadata": {
    "colab_type": "text",
    "id": "g6ULZ46zpBEp"
   },
   "source": [
    "Но у нас остались пользователи, которые пока не совершали покупок и не начали свой лайфтайм. Смотрим распределения по ним."
   ]
  },
  {
   "cell_type": "code",
   "execution_count": 51,
   "metadata": {
    "colab": {
     "base_uri": "https://localhost:8080/",
     "height": 460
    },
    "colab_type": "code",
    "id": "7oR6IbdyzxIl",
    "outputId": "b4655495-d27c-4fc2-8096-92d9029f05b5"
   },
   "outputs": [
    {
     "name": "stdout",
     "output_type": "stream",
     "text": [
      "\u001b[1m Период до покупки\n"
     ]
    },
    {
     "data": {
      "image/png": "[encoded data removed]",
      "text/plain": [
       "<Figure size 432x432 with 3 Axes>"
      ]
     },
     "metadata": {
      "needs_background": "light"
     },
     "output_type": "display_data"
    }
   ],
   "source": [
    "#print('zero part:', report[(report['tr_lifetime'].isna()) & (report['pc_o']==0)]['month'].count() / report[(report['tr_lifetime'].isna())]['month'].count())\n",
    "#print('ones part:', report[(report['tr_lifetime'].isna()) & (report['pc_o']==1)]['month'].count() / report[(report['tr_lifetime'].isna())]['month'].count())\n",
    "##print('mean:', report[(report['tr_lifetime'].isna())]['pc_o'].mean())\n",
    "#print('count:', report[(report['tr_lifetime'].isna())]['pc_o'].count())\n",
    "print(\"\\033[1m Период до покупки\")\n",
    "p =sns.jointplot(x='sent', y='pc_o', data=report[(report['tr_lifetime'].isna()) & (report['pc_o']>0)& (report['pc_o']<1)], alpha=0.4, color='orangered')\n",
    "p.fig.suptitle(\"Распределения доли открытых рассылок и количества отправленных сообщений\")\n",
    "p.set_axis_labels('Количество отправляемых писем в месяц', 'Доля открытых рассылок', fontsize=10)\n",
    "plt.show()"
   ]
  },
  {
   "cell_type": "code",
   "execution_count": 52,
   "metadata": {
    "colab": {
     "base_uri": "https://localhost:8080/",
     "height": 221
    },
    "colab_type": "code",
    "id": "mjbI57uVitPK",
    "outputId": "ac509064-ae87-4dbc-cf7b-6424a93b0aaf"
   },
   "outputs": [
    {
     "name": "stdout",
     "output_type": "stream",
     "text": [
      "\u001b[1mЗначения показателей взаимодействий с рассылками в периоде без покупок\n"
     ]
    },
    {
     "data": {
      "text/html": [
       "<div>\n",
       "<style scoped>\n",
       "    .dataframe tbody tr th:only-of-type {\n",
       "        vertical-align: middle;\n",
       "    }\n",
       "\n",
       "    .dataframe tbody tr th {\n",
       "        vertical-align: top;\n",
       "    }\n",
       "\n",
       "    .dataframe thead th {\n",
       "        text-align: right;\n",
       "    }\n",
       "</style>\n",
       "<table border=\"1\" class=\"dataframe\">\n",
       "  <thead>\n",
       "    <tr style=\"text-align: right;\">\n",
       "      <th></th>\n",
       "      <th>sent_group</th>\n",
       "      <th>delivered</th>\n",
       "      <th>opened</th>\n",
       "      <th>clicked</th>\n",
       "      <th>pc_o</th>\n",
       "      <th>pc_c</th>\n",
       "    </tr>\n",
       "  </thead>\n",
       "  <tbody>\n",
       "    <tr>\n",
       "      <th>0</th>\n",
       "      <td>0-21</td>\n",
       "      <td>109062.0</td>\n",
       "      <td>10466.0</td>\n",
       "      <td>1125.0</td>\n",
       "      <td>9.6</td>\n",
       "      <td>1.0</td>\n",
       "    </tr>\n",
       "    <tr>\n",
       "      <th>1</th>\n",
       "      <td>22-25</td>\n",
       "      <td>144277.0</td>\n",
       "      <td>12049.0</td>\n",
       "      <td>2419.0</td>\n",
       "      <td>8.4</td>\n",
       "      <td>1.7</td>\n",
       "    </tr>\n",
       "    <tr>\n",
       "      <th>4</th>\n",
       "      <td>&gt;32</td>\n",
       "      <td>177423.0</td>\n",
       "      <td>12450.0</td>\n",
       "      <td>1908.0</td>\n",
       "      <td>7.0</td>\n",
       "      <td>1.1</td>\n",
       "    </tr>\n",
       "    <tr>\n",
       "      <th>2</th>\n",
       "      <td>26-29</td>\n",
       "      <td>285883.0</td>\n",
       "      <td>18609.0</td>\n",
       "      <td>2948.0</td>\n",
       "      <td>6.5</td>\n",
       "      <td>1.0</td>\n",
       "    </tr>\n",
       "    <tr>\n",
       "      <th>3</th>\n",
       "      <td>30-32</td>\n",
       "      <td>75743.0</td>\n",
       "      <td>4469.0</td>\n",
       "      <td>712.0</td>\n",
       "      <td>5.9</td>\n",
       "      <td>0.9</td>\n",
       "    </tr>\n",
       "  </tbody>\n",
       "</table>\n",
       "</div>"
      ],
      "text/plain": [
       "  sent_group  delivered   opened  clicked  pc_o  pc_c\n",
       "0       0-21   109062.0  10466.0   1125.0   9.6   1.0\n",
       "1      22-25   144277.0  12049.0   2419.0   8.4   1.7\n",
       "4        >32   177423.0  12450.0   1908.0   7.0   1.1\n",
       "2      26-29   285883.0  18609.0   2948.0   6.5   1.0\n",
       "3      30-32    75743.0   4469.0    712.0   5.9   0.9"
      ]
     },
     "metadata": {},
     "output_type": "display_data"
    }
   ],
   "source": [
    "def get_sent_group( row):  \n",
    "    if row['sent'] <= 21:\n",
    "        return '0-21'\n",
    "    if 21<row['sent'] <= 25:\n",
    "        return '22-25' \n",
    "    if 25<row['sent'] <= 29:\n",
    "        return '26-29'  \n",
    "    if 29<row['sent'] <= 32:\n",
    "        return '30-32'  \n",
    "                        \n",
    "    elif 32<row['sent']:\n",
    "        return '>32'\n",
    "    else:\n",
    "        return row['sent']\n",
    "\n",
    "\n",
    "print('\\033[1mЗначения показателей взаимодействий с рассылками в периоде без покупок')\n",
    "#a = report[report['lifetime']==lt].groupby('sent').agg({'pc_o': ['mean', 'median']}).reset_index()\n",
    "a = report[report['tr_lifetime'].isna()].groupby('sent').agg({'delivered': 'sum', 'opened': 'sum', 'clicked': 'sum'}).reset_index()\n",
    "a['pc_o'] = a['opened'] / a['delivered']\n",
    "a['pc_c'] = a['clicked'] / a['delivered']\n",
    "a['sent_group'] =a.apply(get_sent_group, axis=1)\n",
    "b = a.groupby('sent_group').agg({'delivered': 'sum', 'opened': 'sum', 'clicked': 'sum'}).reset_index()\n",
    "b['pc_o'] = round((b['opened'] / b['delivered'])*100, 1)\n",
    "b['pc_c'] = round((b['clicked'] / b['delivered'])*100, 1)\n",
    "#a.columns = a.columns.droplevel()\n",
    "display(b.sort_values('pc_o', ascending=False))"
   ]
  },
  {
   "cell_type": "markdown",
   "metadata": {
    "colab_type": "text",
    "id": "5WcOMdYMs7sC"
   },
   "source": [
    "Здесь картина не такая четкая, но все равно можно выделить необходимые значения. Тем более, что без покупок у нас пользователи долго оставаться не будут (а те, кто будет, нам не нужны).\n"
   ]
  },
  {
   "cell_type": "markdown",
   "metadata": {
    "colab_type": "text",
    "id": "f6_5EQtFhMn_"
   },
   "source": [
    "Сформируем таблицу с конечными оптимальными значениями количества отправляемых сообщений в месяц по лайфтаймам. <br>"
   ]
  },
  {
   "cell_type": "code",
   "execution_count": 53,
   "metadata": {
    "colab": {
     "base_uri": "https://localhost:8080/",
     "height": 438
    },
    "colab_type": "code",
    "id": "QFgmCKvEiLs6",
    "outputId": "fc42b8b8-77da-4c37-f9b6-83c4c4924a1d"
   },
   "outputs": [
    {
     "name": "stdout",
     "output_type": "stream",
     "text": [
      "\u001b[1mОптимальное количество рассылок в месяц по лайфтайму\n"
     ]
    },
    {
     "data": {
      "text/html": [
       "<div>\n",
       "<style scoped>\n",
       "    .dataframe tbody tr th:only-of-type {\n",
       "        vertical-align: middle;\n",
       "    }\n",
       "\n",
       "    .dataframe tbody tr th {\n",
       "        vertical-align: top;\n",
       "    }\n",
       "\n",
       "    .dataframe thead th {\n",
       "        text-align: right;\n",
       "    }\n",
       "</style>\n",
       "<table border=\"1\" class=\"dataframe\">\n",
       "  <thead>\n",
       "    <tr style=\"text-align: right;\">\n",
       "      <th></th>\n",
       "      <th>Lifetime</th>\n",
       "      <th>result</th>\n",
       "    </tr>\n",
       "  </thead>\n",
       "  <tbody>\n",
       "    <tr>\n",
       "      <th>0</th>\n",
       "      <td>1</td>\n",
       "      <td>27</td>\n",
       "    </tr>\n",
       "    <tr>\n",
       "      <th>1</th>\n",
       "      <td>2</td>\n",
       "      <td>21</td>\n",
       "    </tr>\n",
       "    <tr>\n",
       "      <th>2</th>\n",
       "      <td>3</td>\n",
       "      <td>28</td>\n",
       "    </tr>\n",
       "    <tr>\n",
       "      <th>3</th>\n",
       "      <td>4</td>\n",
       "      <td>36</td>\n",
       "    </tr>\n",
       "    <tr>\n",
       "      <th>4</th>\n",
       "      <td>5</td>\n",
       "      <td>28</td>\n",
       "    </tr>\n",
       "    <tr>\n",
       "      <th>5</th>\n",
       "      <td>6</td>\n",
       "      <td>18</td>\n",
       "    </tr>\n",
       "    <tr>\n",
       "      <th>6</th>\n",
       "      <td>7</td>\n",
       "      <td>29</td>\n",
       "    </tr>\n",
       "    <tr>\n",
       "      <th>7</th>\n",
       "      <td>8</td>\n",
       "      <td>26</td>\n",
       "    </tr>\n",
       "    <tr>\n",
       "      <th>8</th>\n",
       "      <td>9</td>\n",
       "      <td>43</td>\n",
       "    </tr>\n",
       "    <tr>\n",
       "      <th>9</th>\n",
       "      <td>10</td>\n",
       "      <td>45</td>\n",
       "    </tr>\n",
       "    <tr>\n",
       "      <th>10</th>\n",
       "      <td>11</td>\n",
       "      <td>21</td>\n",
       "    </tr>\n",
       "    <tr>\n",
       "      <th>0</th>\n",
       "      <td>без покупок</td>\n",
       "      <td>21</td>\n",
       "    </tr>\n",
       "  </tbody>\n",
       "</table>\n",
       "</div>"
      ],
      "text/plain": [
       "       Lifetime  result\n",
       "0             1      27\n",
       "1             2      21\n",
       "2             3      28\n",
       "3             4      36\n",
       "4             5      28\n",
       "5             6      18\n",
       "6             7      29\n",
       "7             8      26\n",
       "8             9      43\n",
       "9            10      45\n",
       "10           11      21\n",
       "0   без покупок      21"
      ]
     },
     "execution_count": 53,
     "metadata": {},
     "output_type": "execute_result"
    }
   ],
   "source": [
    "result_by_lt = pd.DataFrame({'Lifetime': range(1,12)})\n",
    "a = pd.DataFrame({'Lifetime': ['без покупок']})\n",
    "result_by_lt = result_by_lt.append(a)\n",
    "result_by_lt['result'] = [27,21,28,36,28,18,29,26,43,45,21,21]\n",
    "print('\\033[1mОптимальное количество рассылок в месяц по лайфтайму')\n",
    "result_by_lt"
   ]
  },
  {
   "cell_type": "markdown",
   "metadata": {
    "colab_type": "text",
    "id": "X8Hdx5jzxiuv"
   },
   "source": [
    "Раздаем значения клиентам:"
   ]
  },
  {
   "cell_type": "code",
   "execution_count": 54,
   "metadata": {
    "colab": {
     "base_uri": "https://localhost:8080/",
     "height": 419
    },
    "colab_type": "code",
    "id": "w1CEE8eqlL4Z",
    "outputId": "5a4dd1bf-389b-4a59-c897-d827f06442de"
   },
   "outputs": [
    {
     "data": {
      "text/html": [
       "<div>\n",
       "<style scoped>\n",
       "    .dataframe tbody tr th:only-of-type {\n",
       "        vertical-align: middle;\n",
       "    }\n",
       "\n",
       "    .dataframe tbody tr th {\n",
       "        vertical-align: top;\n",
       "    }\n",
       "\n",
       "    .dataframe thead th {\n",
       "        text-align: right;\n",
       "    }\n",
       "</style>\n",
       "<table border=\"1\" class=\"dataframe\">\n",
       "  <thead>\n",
       "    <tr style=\"text-align: right;\">\n",
       "      <th></th>\n",
       "      <th>id</th>\n",
       "      <th>tr_lifetime</th>\n",
       "      <th>fw_tr_lifetime</th>\n",
       "      <th>fw_tr_lifetime_corr</th>\n",
       "      <th>Lifetime</th>\n",
       "      <th>result</th>\n",
       "    </tr>\n",
       "  </thead>\n",
       "  <tbody>\n",
       "    <tr>\n",
       "      <th>0</th>\n",
       "      <td>003GH1K9GPLAB0WG</td>\n",
       "      <td>без покупок</td>\n",
       "      <td>без покупок</td>\n",
       "      <td>без покупок</td>\n",
       "      <td>без покупок</td>\n",
       "      <td>21</td>\n",
       "    </tr>\n",
       "    <tr>\n",
       "      <th>1</th>\n",
       "      <td>0049U5ZF5M0KFYTZ</td>\n",
       "      <td>13</td>\n",
       "      <td>14</td>\n",
       "      <td>11</td>\n",
       "      <td>11</td>\n",
       "      <td>21</td>\n",
       "    </tr>\n",
       "    <tr>\n",
       "      <th>2</th>\n",
       "      <td>006ZYWZO9M7FS9BT</td>\n",
       "      <td>7</td>\n",
       "      <td>8</td>\n",
       "      <td>8</td>\n",
       "      <td>8</td>\n",
       "      <td>26</td>\n",
       "    </tr>\n",
       "    <tr>\n",
       "      <th>3</th>\n",
       "      <td>00720YKABZ6J9ZJ1</td>\n",
       "      <td>без покупок</td>\n",
       "      <td>без покупок</td>\n",
       "      <td>без покупок</td>\n",
       "      <td>без покупок</td>\n",
       "      <td>21</td>\n",
       "    </tr>\n",
       "    <tr>\n",
       "      <th>4</th>\n",
       "      <td>009LQ66BFK5BIS1S</td>\n",
       "      <td>без покупок</td>\n",
       "      <td>без покупок</td>\n",
       "      <td>без покупок</td>\n",
       "      <td>без покупок</td>\n",
       "      <td>21</td>\n",
       "    </tr>\n",
       "    <tr>\n",
       "      <th>...</th>\n",
       "      <td>...</td>\n",
       "      <td>...</td>\n",
       "      <td>...</td>\n",
       "      <td>...</td>\n",
       "      <td>...</td>\n",
       "      <td>...</td>\n",
       "    </tr>\n",
       "    <tr>\n",
       "      <th>14060</th>\n",
       "      <td>ZZGUEFBYPRPHV4L7</td>\n",
       "      <td>без покупок</td>\n",
       "      <td>без покупок</td>\n",
       "      <td>без покупок</td>\n",
       "      <td>без покупок</td>\n",
       "      <td>21</td>\n",
       "    </tr>\n",
       "    <tr>\n",
       "      <th>14061</th>\n",
       "      <td>ZZIMU0NWLG08HFXH</td>\n",
       "      <td>без покупок</td>\n",
       "      <td>без покупок</td>\n",
       "      <td>без покупок</td>\n",
       "      <td>без покупок</td>\n",
       "      <td>21</td>\n",
       "    </tr>\n",
       "    <tr>\n",
       "      <th>14062</th>\n",
       "      <td>ZZKXJSUCL1TDAXTC</td>\n",
       "      <td>без покупок</td>\n",
       "      <td>без покупок</td>\n",
       "      <td>без покупок</td>\n",
       "      <td>без покупок</td>\n",
       "      <td>21</td>\n",
       "    </tr>\n",
       "    <tr>\n",
       "      <th>14063</th>\n",
       "      <td>ZZPKQZAEI42CGS93</td>\n",
       "      <td>13</td>\n",
       "      <td>14</td>\n",
       "      <td>11</td>\n",
       "      <td>11</td>\n",
       "      <td>21</td>\n",
       "    </tr>\n",
       "    <tr>\n",
       "      <th>14064</th>\n",
       "      <td>ZZZEACTRF1D49SYO</td>\n",
       "      <td>4</td>\n",
       "      <td>5</td>\n",
       "      <td>5</td>\n",
       "      <td>5</td>\n",
       "      <td>28</td>\n",
       "    </tr>\n",
       "  </tbody>\n",
       "</table>\n",
       "<p>14065 rows × 6 columns</p>\n",
       "</div>"
      ],
      "text/plain": [
       "                     id  tr_lifetime fw_tr_lifetime fw_tr_lifetime_corr  \\\n",
       "0      003GH1K9GPLAB0WG  без покупок    без покупок         без покупок   \n",
       "1      0049U5ZF5M0KFYTZ           13             14                  11   \n",
       "2      006ZYWZO9M7FS9BT            7              8                   8   \n",
       "3      00720YKABZ6J9ZJ1  без покупок    без покупок         без покупок   \n",
       "4      009LQ66BFK5BIS1S  без покупок    без покупок         без покупок   \n",
       "...                 ...          ...            ...                 ...   \n",
       "14060  ZZGUEFBYPRPHV4L7  без покупок    без покупок         без покупок   \n",
       "14061  ZZIMU0NWLG08HFXH  без покупок    без покупок         без покупок   \n",
       "14062  ZZKXJSUCL1TDAXTC  без покупок    без покупок         без покупок   \n",
       "14063  ZZPKQZAEI42CGS93           13             14                  11   \n",
       "14064  ZZZEACTRF1D49SYO            4              5                   5   \n",
       "\n",
       "          Lifetime  result  \n",
       "0      без покупок      21  \n",
       "1               11      21  \n",
       "2                8      26  \n",
       "3      без покупок      21  \n",
       "4      без покупок      21  \n",
       "...            ...     ...  \n",
       "14060  без покупок      21  \n",
       "14061  без покупок      21  \n",
       "14062  без покупок      21  \n",
       "14063           11      21  \n",
       "14064            5      28  \n",
       "\n",
       "[14065 rows x 6 columns]"
      ]
     },
     "execution_count": 54,
     "metadata": {},
     "output_type": "execute_result"
    }
   ],
   "source": [
    "#df = report['id'].value_counts().reset_index()['index'].reset_index()\n",
    "#df = df.merge(report[['id', 'tr_lifetime']], how='left', left_on='index', right_on='id')\n",
    "df = report.groupby('id')['tr_lifetime'].max().reset_index()\n",
    "df['fw_tr_lifetime'] = df['tr_lifetime']+1\n",
    "df['fw_tr_lifetime_corr'] = df['fw_tr_lifetime'].where(((df['fw_tr_lifetime']<11) | (df['fw_tr_lifetime'].isna())), 11)\n",
    "df = df.fillna('без покупок')\n",
    "df = df.merge(result_by_lt, how='left', left_on='fw_tr_lifetime_corr', right_on='Lifetime')\n",
    "df"
   ]
  },
  {
   "cell_type": "code",
   "execution_count": 55,
   "metadata": {
    "colab": {},
    "colab_type": "code",
    "id": "MTLxCsCQkPwr"
   },
   "outputs": [],
   "source": [
    "df.to_csv('1.csv')"
   ]
  },
  {
   "cell_type": "markdown",
   "metadata": {
    "colab_type": "text",
    "id": "QM2wLWfl8JhX"
   },
   "source": [
    "К текущему лайфтайму добавили единицу (планируем на следующий). Значения лайфтаймов, которые превышают 11, пришлось заменить на 11, т.к. данные за последующие отсутствуют."
   ]
  },
  {
   "cell_type": "markdown",
   "metadata": {
    "colab_type": "text",
    "id": "BCpvXJxsZkAG"
   },
   "source": [
    "Ссылка на гугл-таблицу: \n",
    "https://docs.google.com/spreadsheets/d/1THf0RXGbJEj7dYHeGjIS6TTjW20LZsWJPE4Z06XAMbo/edit#gid=1745512898"
   ]
  },
  {
   "cell_type": "markdown",
   "metadata": {
    "colab_type": "text",
    "id": "Z5or09Zd292p"
   },
   "source": [
    "## Задача 2.1 Проверить гипотезу о “пассивной отписке”"
   ]
  },
  {
   "cell_type": "markdown",
   "metadata": {
    "colab_type": "text",
    "id": "ewysplZXHXUc"
   },
   "source": [
    "Гипотеза: Когда человеку показалось, что ему пишут слишком много, он просто перестает открывать рассылки, хоть и не готов отписываться"
   ]
  },
  {
   "cell_type": "markdown",
   "metadata": {
    "colab_type": "text",
    "id": "ompodOAeKZ97"
   },
   "source": [
    "Посмотрим сначала на всех пользователей в разбивке по среднему числу отправленных сообщений в месяц"
   ]
  },
  {
   "cell_type": "code",
   "execution_count": 56,
   "metadata": {
    "colab": {
     "base_uri": "https://localhost:8080/",
     "height": 295
    },
    "colab_type": "code",
    "id": "khYIhUx260M-",
    "outputId": "f43dded0-e811-4505-f363-a7467158beea"
   },
   "outputs": [
    {
     "data": {
      "image/png": "[encoded data removed]",
      "text/plain": [
       "<Figure size 432x288 with 1 Axes>"
      ]
     },
     "metadata": {
      "needs_background": "light"
     },
     "output_type": "display_data"
    }
   ],
   "source": [
    "fig, ax = plt.subplots()\n",
    "for s in range (10,50,10):\n",
    "  sent = s  \n",
    "  df = report.groupby('id')['sent'].mean().reset_index()\n",
    "  ids = df.query('sent>@sent')['id'].unique()\n",
    "  report2 = report.query('id in @ids')\n",
    "  report_by_tr_lt = report2.groupby(['lifetime']).agg({'delivered': 'sum', 'opened': 'sum', 'clicked': 'sum'}).reset_index()\n",
    "  report_by_tr_lt['pc_o'] = report_by_tr_lt['opened'] / report_by_tr_lt['delivered']\n",
    "  report_by_tr_lt['pc_c'] = report_by_tr_lt['clicked'] / report_by_tr_lt['delivered']\n",
    "  \n",
    "  report_by_tr_lt.plot(ax=ax, x='lifetime', y='pc_o', label = sent)\n",
    "  plt.title('Доля открытых рассылок')\n",
    "  plt.xlabel(\"Лайфтайм\")\n",
    "  plt.ylabel('Доля')\n",
    "  plt.legend(bbox_to_anchor=(0.8, 0.6),\n",
    "            bbox_transform=plt.gcf().transFigure)\n",
    "plt.show()\n",
    "  \n"
   ]
  },
  {
   "cell_type": "markdown",
   "metadata": {
    "colab_type": "text",
    "id": "bUlgk_PsKseP"
   },
   "source": [
    "Видим, что доля открытия уменьшается одинаково для всего диапазона количества отппавляемых писем."
   ]
  },
  {
   "cell_type": "markdown",
   "metadata": {
    "colab_type": "text",
    "id": "5JdwWeA38BSJ"
   },
   "source": [
    "Однако, как мы выясниили, когда рассматривали время жизни клиента, снижение доли открытых писем связано с его увеличением после покупки. .<br>\n",
    "Поэтому гипотезу будем проверять на клиентах, которые не покупали вообще или делали покупку больше четырех месяцев назад."
   ]
  },
  {
   "cell_type": "markdown",
   "metadata": {
    "colab_type": "text",
    "id": "hX8JeZDH6aof"
   },
   "source": [
    "Для проверки данной гипотезы добавим в `report` дропрейт доли открытых рассылок месяц к месяцу."
   ]
  },
  {
   "cell_type": "code",
   "execution_count": 57,
   "metadata": {
    "colab": {},
    "colab_type": "code",
    "id": "E0HThIP3_7RA"
   },
   "outputs": [],
   "source": [
    "report = report.sort_values(['id', 'month'])\n",
    "report['fw_droprate'] = 1 - report.groupby('id')['pc_o'].shift(-1).div(report['pc_o'])\n",
    "report['droprate'] = np.NaN\n",
    "report.loc[report['pc_o'].shift(1)>0, 'droprate'] = 1 - report.groupby('id')['pc_o'].shift(0).div(report['pc_o'].shift(1))"
   ]
  },
  {
   "cell_type": "markdown",
   "metadata": {
    "colab_type": "text",
    "id": "1IATjfpp-Zk4"
   },
   "source": [
    "Возьмем клиентов, которые читали рассылки (pc_o>0.1) хотя бы два месяца подряд(droprate<0.3), и которые перестали их читать в следующем месяце (fw_droprate>0.5)."
   ]
  },
  {
   "cell_type": "code",
   "execution_count": 58,
   "metadata": {
    "colab": {
     "base_uri": "https://localhost:8080/",
     "height": 34
    },
    "colab_type": "code",
    "id": "TP2h0JPm2923",
    "outputId": "d7b5846a-e7fb-43ef-9df4-0b88d810b9ea"
   },
   "outputs": [
    {
     "name": "stdout",
     "output_type": "stream",
     "text": [
      "Их кол-во получилось 1527\n"
     ]
    }
   ],
   "source": [
    "nan = np.NaN\n",
    "q = report.groupby('id')['nr_of_transactions'].sum().reset_index()\n",
    "no_buy_ids =q[q['nr_of_transactions']==0]['id']\n",
    "print('Их кол-во получилось', report.query('pc_o>0.1 and droprate<0.3 and fw_droprate>0.5 and (tr_lifetime>=4 or id in @no_buy_ids)')['id'].nunique())"
   ]
  },
  {
   "cell_type": "markdown",
   "metadata": {
    "colab_type": "text",
    "id": "ogFV4Bi7_A5s"
   },
   "source": [
    "Теперь посчитаем их средние доли открытия рассылок за первую половину периодов их существования и вторую."
   ]
  },
  {
   "cell_type": "code",
   "execution_count": 59,
   "metadata": {
    "colab": {
     "base_uri": "https://localhost:8080/",
     "height": 51
    },
    "colab_type": "code",
    "id": "0JRx-WyW293K",
    "outputId": "a72fd4f1-f493-472f-d4bb-730855c295ed"
   },
   "outputs": [
    {
     "name": "stderr",
     "output_type": "stream",
     "text": [
      "T:\\Programs\\Anaconda\\lib\\site-packages\\ipykernel_launcher.py:6: RuntimeWarning: invalid value encountered in double_scalars\n",
      "  \n"
     ]
    }
   ],
   "source": [
    "dict_us = {}\n",
    "for i in report.query('pc_o>0.1 and droprate<0.3 and fw_droprate>0.5 and (id in @no_buy_ids or tr_lifetime>=4)')['id'].value_counts().reset_index()['index'].to_list():\n",
    "  dflen = report[report['id'] == i]['pc_o'].count().item() // 2\n",
    "  firstpart_sum = report[report['id'] == i].head(dflen)['pc_o'].sum()\n",
    "  firstpart_count = report[report['id'] == i].head(dflen)['pc_o'].count()\n",
    "  firstpart_mean = firstpart_sum / firstpart_count\n",
    "  secondpart_sum = report[report['id'] == i]['pc_o'].sum() - firstpart_sum\n",
    "  secondpart_count = report[report['id'] == i]['pc_o'].count() - firstpart_count\n",
    "  secondpart_mean = secondpart_sum / secondpart_count\n",
    "  dict_us[i] = [firstpart_mean, secondpart_mean]\n"
   ]
  },
  {
   "cell_type": "code",
   "execution_count": 60,
   "metadata": {
    "colab": {
     "base_uri": "https://localhost:8080/",
     "height": 51
    },
    "colab_type": "code",
    "id": "QNVDiJYA293N",
    "outputId": "51e03388-ead6-43ce-a962-719a09992197"
   },
   "outputs": [
    {
     "name": "stdout",
     "output_type": "stream",
     "text": [
      "средняя доля по выбранным клиентам за первую половину периодов / за вторую\n"
     ]
    },
    {
     "data": {
      "text/plain": [
       "(0.25568871852495134, '/', 0.16011599879888094)"
      ]
     },
     "execution_count": 60,
     "metadata": {},
     "output_type": "execute_result"
    }
   ],
   "source": [
    "df = pd.DataFrame.from_dict(dict_us)\n",
    "df = df.transpose()\n",
    "print('средняя доля по выбранным клиентам за первую половину периодов / за вторую')\n",
    "df[0].mean(), '/', df[1].mean()"
   ]
  },
  {
   "cell_type": "code",
   "execution_count": 61,
   "metadata": {
    "colab": {
     "base_uri": "https://localhost:8080/",
     "height": 241
    },
    "colab_type": "code",
    "id": "O0toxvG9Aruz",
    "outputId": "359281b9-cd28-4cc4-c314-e0e2460a255b"
   },
   "outputs": [
    {
     "data": {
      "image/png": "[encoded data removed]",
      "text/plain": [
       "<Figure size 432x288 with 1 Axes>"
      ]
     },
     "metadata": {
      "needs_background": "light"
     },
     "output_type": "display_data"
    }
   ],
   "source": [
    "fig, ax = plt.subplots()\n",
    "for s in range (10,50,10):\n",
    "  sent = s\n",
    " \n",
    "  \n",
    "  ids= report.query('pc_o>0.1 and droprate<0.3 and fw_droprate>0.5')['id'].value_counts().reset_index()['index'].to_list()\n",
    "  report2 = report.query('id in @ids and (tr_lifetime>=4 or id in @no_buy_ids)')\n",
    "  report_by_tr_lt = report2.groupby(['lifetime']).agg({'delivered': 'sum', 'opened': 'sum', 'clicked': 'sum'}).reset_index()\n",
    "  report_by_tr_lt['pc_o'] = report_by_tr_lt['opened'] / report_by_tr_lt['delivered']\n",
    "  report_by_tr_lt['pc_c'] = report_by_tr_lt['clicked'] / report_by_tr_lt['delivered']\n",
    "  \n",
    "  report_by_tr_lt.plot(ax=ax, x='lifetime', y='pc_o', label = sent)\n",
    "  plt.title('Показатели рассылок')\n",
    "  plt.xlabel(\"Лайфтайм от покупки\")\n",
    "  plt.ylabel('Доля')\n",
    "  plt.legend(bbox_to_anchor=(3, 0.6),\n",
    "            bbox_transform=plt.gcf().transFigure)\n",
    "  \n",
    "plt.show()\n",
    "  \n"
   ]
  },
  {
   "cell_type": "markdown",
   "metadata": {
    "colab_type": "text",
    "id": "07c6RJ0iSMXC"
   },
   "source": [
    "Среднее количество рассылок таким клиентам получилось более 40 - выше среднего."
   ]
  },
  {
   "cell_type": "markdown",
   "metadata": {
    "colab_type": "text",
    "id": "F9Ts0x8p_k52"
   },
   "source": [
    "Видим, что явление описанное в гипотезе имеет место быть, но на относительно небольшой доле клиентов (10%)."
   ]
  },
  {
   "cell_type": "markdown",
   "metadata": {
    "colab_type": "text",
    "id": "EuTxnTqT030W"
   },
   "source": [
    "## Задача 2.2 Проверить гипотезу о потере интереса клиента после покупки"
   ]
  },
  {
   "cell_type": "markdown",
   "metadata": {
    "colab_type": "text",
    "id": "s2-BV5QdHMZY"
   },
   "source": [
    "Клиент совершает покупку и какое-то время теряет интерес к новостным рассылкам, во всяком случае рассылки на пользователя не генерят продажи"
   ]
  },
  {
   "cell_type": "code",
   "execution_count": 62,
   "metadata": {
    "colab": {
     "base_uri": "https://localhost:8080/",
     "height": 85
    },
    "colab_type": "code",
    "id": "qLkQssHuBb1u",
    "outputId": "6908fedc-8eaa-4f60-b0e9-b573739ff516"
   },
   "outputs": [
    {
     "data": {
      "text/plain": [
       "order_date_id         1.722496\n",
       "nr_of_transactions    1.722496\n",
       "transaction_month     1.722496\n",
       "dtype: float64"
      ]
     },
     "execution_count": 62,
     "metadata": {},
     "output_type": "execute_result"
    }
   ],
   "source": [
    "transactions.groupby('consumer_seuci_id').count().mean()\n"
   ]
  },
  {
   "cell_type": "markdown",
   "metadata": {
    "colab_type": "text",
    "id": "jwCyepVrB7_F"
   },
   "source": [
    "В среднем клиент совершает не более двух покупок за год, соответственно после покупки рассылки не будут генерить продажи в течение шести месяцев."
   ]
  },
  {
   "cell_type": "markdown",
   "metadata": {
    "colab_type": "text",
    "id": "QYHQ2975Hg_7"
   },
   "source": [
    "Как выяснили ранее доля просмотренных сообщений в первые два месяца после покупки выше, чем в последующие периоды (14% против 9%). \n",
    "Проверим это еще раз:"
   ]
  },
  {
   "cell_type": "code",
   "execution_count": 63,
   "metadata": {},
   "outputs": [],
   "source": [
    "def get_prev_buy(row):\n",
    "    if row['prev_1_buy'] >0:\n",
    "        return 1\n",
    "    if row['prev_2_buy'] >0:\n",
    "        return 2\n",
    "    else:\n",
    "        return 0\n",
    "report['prev_buy'] = report.apply(get_prev_buy, axis =1)"
   ]
  },
  {
   "cell_type": "code",
   "execution_count": 64,
   "metadata": {},
   "outputs": [
    {
     "data": {
      "text/html": [
       "<div>\n",
       "<style scoped>\n",
       "    .dataframe tbody tr th:only-of-type {\n",
       "        vertical-align: middle;\n",
       "    }\n",
       "\n",
       "    .dataframe tbody tr th {\n",
       "        vertical-align: top;\n",
       "    }\n",
       "\n",
       "    .dataframe thead tr th {\n",
       "        text-align: left;\n",
       "    }\n",
       "</style>\n",
       "<table border=\"1\" class=\"dataframe\">\n",
       "  <thead>\n",
       "    <tr>\n",
       "      <th></th>\n",
       "      <th>id</th>\n",
       "      <th colspan=\"3\" halign=\"left\">pc_c</th>\n",
       "      <th colspan=\"3\" halign=\"left\">pc_o</th>\n",
       "      <th>delta1_o</th>\n",
       "      <th>delta2_o</th>\n",
       "      <th>delta1_c</th>\n",
       "      <th>delta2_c</th>\n",
       "    </tr>\n",
       "    <tr>\n",
       "      <th>prev_buy</th>\n",
       "      <th></th>\n",
       "      <th>0</th>\n",
       "      <th>1</th>\n",
       "      <th>2</th>\n",
       "      <th>0</th>\n",
       "      <th>1</th>\n",
       "      <th>2</th>\n",
       "      <th></th>\n",
       "      <th></th>\n",
       "      <th></th>\n",
       "      <th></th>\n",
       "    </tr>\n",
       "  </thead>\n",
       "  <tbody>\n",
       "    <tr>\n",
       "      <th>0</th>\n",
       "      <td>003GH1K9GPLAB0WG</td>\n",
       "      <td>0.000000</td>\n",
       "      <td>NaN</td>\n",
       "      <td>NaN</td>\n",
       "      <td>0.000000</td>\n",
       "      <td>NaN</td>\n",
       "      <td>NaN</td>\n",
       "      <td>NaN</td>\n",
       "      <td>NaN</td>\n",
       "      <td>NaN</td>\n",
       "      <td>NaN</td>\n",
       "    </tr>\n",
       "    <tr>\n",
       "      <th>1</th>\n",
       "      <td>0049U5ZF5M0KFYTZ</td>\n",
       "      <td>0.018868</td>\n",
       "      <td>0.000000</td>\n",
       "      <td>0.000000</td>\n",
       "      <td>0.146226</td>\n",
       "      <td>1.000000</td>\n",
       "      <td>1.000000</td>\n",
       "      <td>0.853774</td>\n",
       "      <td>0.853774</td>\n",
       "      <td>-0.018868</td>\n",
       "      <td>-0.018868</td>\n",
       "    </tr>\n",
       "    <tr>\n",
       "      <th>2</th>\n",
       "      <td>006ZYWZO9M7FS9BT</td>\n",
       "      <td>0.000000</td>\n",
       "      <td>0.000000</td>\n",
       "      <td>0.157895</td>\n",
       "      <td>0.195745</td>\n",
       "      <td>0.696970</td>\n",
       "      <td>0.368421</td>\n",
       "      <td>0.501225</td>\n",
       "      <td>0.172676</td>\n",
       "      <td>0.000000</td>\n",
       "      <td>0.157895</td>\n",
       "    </tr>\n",
       "    <tr>\n",
       "      <th>3</th>\n",
       "      <td>00720YKABZ6J9ZJ1</td>\n",
       "      <td>0.000000</td>\n",
       "      <td>NaN</td>\n",
       "      <td>NaN</td>\n",
       "      <td>0.000000</td>\n",
       "      <td>NaN</td>\n",
       "      <td>NaN</td>\n",
       "      <td>NaN</td>\n",
       "      <td>NaN</td>\n",
       "      <td>NaN</td>\n",
       "      <td>NaN</td>\n",
       "    </tr>\n",
       "    <tr>\n",
       "      <th>4</th>\n",
       "      <td>009LQ66BFK5BIS1S</td>\n",
       "      <td>0.000000</td>\n",
       "      <td>NaN</td>\n",
       "      <td>NaN</td>\n",
       "      <td>0.000000</td>\n",
       "      <td>NaN</td>\n",
       "      <td>NaN</td>\n",
       "      <td>NaN</td>\n",
       "      <td>NaN</td>\n",
       "      <td>NaN</td>\n",
       "      <td>NaN</td>\n",
       "    </tr>\n",
       "    <tr>\n",
       "      <th>...</th>\n",
       "      <td>...</td>\n",
       "      <td>...</td>\n",
       "      <td>...</td>\n",
       "      <td>...</td>\n",
       "      <td>...</td>\n",
       "      <td>...</td>\n",
       "      <td>...</td>\n",
       "      <td>...</td>\n",
       "      <td>...</td>\n",
       "      <td>...</td>\n",
       "      <td>...</td>\n",
       "    </tr>\n",
       "    <tr>\n",
       "      <th>14054</th>\n",
       "      <td>ZZGUEFBYPRPHV4L7</td>\n",
       "      <td>0.000000</td>\n",
       "      <td>NaN</td>\n",
       "      <td>NaN</td>\n",
       "      <td>0.000000</td>\n",
       "      <td>NaN</td>\n",
       "      <td>NaN</td>\n",
       "      <td>NaN</td>\n",
       "      <td>NaN</td>\n",
       "      <td>NaN</td>\n",
       "      <td>NaN</td>\n",
       "    </tr>\n",
       "    <tr>\n",
       "      <th>14055</th>\n",
       "      <td>ZZIMU0NWLG08HFXH</td>\n",
       "      <td>0.000000</td>\n",
       "      <td>NaN</td>\n",
       "      <td>NaN</td>\n",
       "      <td>0.000000</td>\n",
       "      <td>NaN</td>\n",
       "      <td>NaN</td>\n",
       "      <td>NaN</td>\n",
       "      <td>NaN</td>\n",
       "      <td>NaN</td>\n",
       "      <td>NaN</td>\n",
       "    </tr>\n",
       "    <tr>\n",
       "      <th>14056</th>\n",
       "      <td>ZZKXJSUCL1TDAXTC</td>\n",
       "      <td>0.000000</td>\n",
       "      <td>NaN</td>\n",
       "      <td>NaN</td>\n",
       "      <td>0.000000</td>\n",
       "      <td>NaN</td>\n",
       "      <td>NaN</td>\n",
       "      <td>NaN</td>\n",
       "      <td>NaN</td>\n",
       "      <td>NaN</td>\n",
       "      <td>NaN</td>\n",
       "    </tr>\n",
       "    <tr>\n",
       "      <th>14057</th>\n",
       "      <td>ZZPKQZAEI42CGS93</td>\n",
       "      <td>0.000000</td>\n",
       "      <td>0.000000</td>\n",
       "      <td>0.000000</td>\n",
       "      <td>0.000000</td>\n",
       "      <td>0.000000</td>\n",
       "      <td>0.166667</td>\n",
       "      <td>0.000000</td>\n",
       "      <td>0.166667</td>\n",
       "      <td>0.000000</td>\n",
       "      <td>0.000000</td>\n",
       "    </tr>\n",
       "    <tr>\n",
       "      <th>14058</th>\n",
       "      <td>ZZZEACTRF1D49SYO</td>\n",
       "      <td>0.073333</td>\n",
       "      <td>0.038462</td>\n",
       "      <td>0.000000</td>\n",
       "      <td>0.220000</td>\n",
       "      <td>0.269231</td>\n",
       "      <td>0.026667</td>\n",
       "      <td>0.049231</td>\n",
       "      <td>-0.193333</td>\n",
       "      <td>-0.034872</td>\n",
       "      <td>-0.073333</td>\n",
       "    </tr>\n",
       "  </tbody>\n",
       "</table>\n",
       "<p>14059 rows × 11 columns</p>\n",
       "</div>"
      ],
      "text/plain": [
       "                        id      pc_c                          pc_o            \\\n",
       "prev_buy                           0         1         2         0         1   \n",
       "0         003GH1K9GPLAB0WG  0.000000       NaN       NaN  0.000000       NaN   \n",
       "1         0049U5ZF5M0KFYTZ  0.018868  0.000000  0.000000  0.146226  1.000000   \n",
       "2         006ZYWZO9M7FS9BT  0.000000  0.000000  0.157895  0.195745  0.696970   \n",
       "3         00720YKABZ6J9ZJ1  0.000000       NaN       NaN  0.000000       NaN   \n",
       "4         009LQ66BFK5BIS1S  0.000000       NaN       NaN  0.000000       NaN   \n",
       "...                    ...       ...       ...       ...       ...       ...   \n",
       "14054     ZZGUEFBYPRPHV4L7  0.000000       NaN       NaN  0.000000       NaN   \n",
       "14055     ZZIMU0NWLG08HFXH  0.000000       NaN       NaN  0.000000       NaN   \n",
       "14056     ZZKXJSUCL1TDAXTC  0.000000       NaN       NaN  0.000000       NaN   \n",
       "14057     ZZPKQZAEI42CGS93  0.000000  0.000000  0.000000  0.000000  0.000000   \n",
       "14058     ZZZEACTRF1D49SYO  0.073333  0.038462  0.000000  0.220000  0.269231   \n",
       "\n",
       "                    delta1_o  delta2_o  delta1_c  delta2_c  \n",
       "prev_buy         2                                          \n",
       "0              NaN       NaN       NaN       NaN       NaN  \n",
       "1         1.000000  0.853774  0.853774 -0.018868 -0.018868  \n",
       "2         0.368421  0.501225  0.172676  0.000000  0.157895  \n",
       "3              NaN       NaN       NaN       NaN       NaN  \n",
       "4              NaN       NaN       NaN       NaN       NaN  \n",
       "...            ...       ...       ...       ...       ...  \n",
       "14054          NaN       NaN       NaN       NaN       NaN  \n",
       "14055          NaN       NaN       NaN       NaN       NaN  \n",
       "14056          NaN       NaN       NaN       NaN       NaN  \n",
       "14057     0.166667  0.000000  0.166667  0.000000  0.000000  \n",
       "14058     0.026667  0.049231 -0.193333 -0.034872 -0.073333  \n",
       "\n",
       "[14059 rows x 11 columns]"
      ]
     },
     "execution_count": 64,
     "metadata": {},
     "output_type": "execute_result"
    }
   ],
   "source": [
    "df = report.groupby(['id', 'prev_buy']).agg({\n",
    "                                                  'sent':'sum', \n",
    "                                                   'delivered':'sum', \n",
    "                                                   'opened':'sum',\n",
    "                                                   'clicked':'sum',\n",
    "                                                   'unsubscribed':'sum'}).reset_index()\n",
    "df['pc_o'] = df['pc_o_0'] = df['opened']/df['delivered']\n",
    "df['pc_c'] = df['clicked']/df['delivered']\n",
    "df = df.pivot_table(index='id', columns='prev_buy', values=['pc_o', 'pc_c'], aggfunc = 'mean').reset_index()\n",
    "\n",
    "df['delta1_o']= df['pc_o'][1] - df['pc_o'][0]\n",
    "df['delta2_o']= df['pc_o'][2] - df['pc_o'][0]\n",
    "df['delta1_c']= df['pc_c'][1] - df['pc_c'][0]\n",
    "df['delta2_c']= df['pc_c'][2] - df['pc_c'][0]\n",
    "\n",
    "df"
   ]
  },
  {
   "cell_type": "code",
   "execution_count": 65,
   "metadata": {},
   "outputs": [
    {
     "data": {
      "text/plain": [
       "          prev_buy\n",
       "delta1_o              0.057207\n",
       "delta2_o              0.031921\n",
       "delta1_c              0.017205\n",
       "delta2_c              0.012206\n",
       "dtype: float64"
      ]
     },
     "execution_count": 65,
     "metadata": {},
     "output_type": "execute_result"
    }
   ],
   "source": [
    "df[['delta1_o', 'delta2_o', 'delta1_c', 'delta2_c']].mean()"
   ]
  },
  {
   "cell_type": "code",
   "execution_count": 66,
   "metadata": {},
   "outputs": [
    {
     "data": {
      "text/plain": [
       "197327.5"
      ]
     },
     "execution_count": 66,
     "metadata": {},
     "output_type": "execute_result"
    }
   ],
   "source": [
    "engagements['sent'].sum()  / 12"
   ]
  },
  {
   "cell_type": "code",
   "execution_count": 67,
   "metadata": {},
   "outputs": [
    {
     "data": {
      "text/plain": [
       "14.029683611802346"
      ]
     },
     "execution_count": 67,
     "metadata": {},
     "output_type": "execute_result"
    }
   ],
   "source": [
    "report['sent'].sum() / 12  / report['id'].nunique()"
   ]
  },
  {
   "cell_type": "markdown",
   "metadata": {
    "colab_type": "text",
    "id": "zd1u20-IH86E"
   },
   "source": [
    "Так и получилось: в первый месяц после покупки средняя доля просмотренных сообщений на 57% выше, чем в остальные месяцы, а во втором месяце на 33%. Доля клиенто-месяцев, в которых пользователи открывали все рассылки,  в первые два месяца (4%) выше в 2 раза, чем в остальные. Доля клиенто-месяцев, в которых пользователи не открыли не одной рассылки,  в первые два месяца (62%) ниже на 8%, чем в остальные.<br>\n",
    "\n",
    "Кликрейт также уеличивается в 2 раза до 2,6%."
   ]
  },
  {
   "cell_type": "markdown",
   "metadata": {
    "colab_type": "text",
    "id": "mdEeMuZcFVpl"
   },
   "source": [
    "## Общий вывод"
   ]
  },
  {
   "cell_type": "markdown",
   "metadata": {
    "colab_type": "text",
    "id": "aa4EuFS7IaZL"
   },
   "source": [
    "По вопросу 1:\n",
    "Для определения максимальной частоты рассылок рассматривались следующие факторы: пол клиента, возраст клиента, лайфтайм клиента от последней покупки. Первые два признака не влияют на реакцию клиента на рассылки. Для каждого лайфтайма существует оптимальное колиечство рассылок, при котором доля просмотренных сообщений максимальна. Оптимальное колиечство рассылок по клиенту было опредленно исходя из прогнозного лайфтайма клиента (на август 2020 года).<br>\n"
   ]
  },
  {
   "cell_type": "markdown",
   "metadata": {
    "colab_type": "text",
    "id": "vwMl3HuQJ-7d"
   },
   "source": [
    "По вопросу 2.1: Гипотеза о “пассивной отписке” (когда человеку показалось, что ему пишут слишком много, и он просто перестает открывать рассылки, хоть и не готов отписываться) подтверждена для небольшого количества клиентов (1,5 тыс. или 10%). На остальных клиентах большее влияние на снижение доли просмотренных сообщений влияет возврат к среднему после ее увеличения из-за совершения покупки."
   ]
  },
  {
   "cell_type": "markdown",
   "metadata": {
    "colab_type": "text",
    "id": "xKnLXQ_ZK1Yn"
   },
   "source": [
    "По вопросу 2.2.: После совершения покупки, клиент не совершает повторную покупку в течение 6 месяцев, но при этом более активно смотрит приходящие рассылки (средняя доля просомтренных сообщений увеличивается на примерно 40%). Кликрейт также уеличивается в 2 раза до 2,6%."
   ]
  }
 ],
 "metadata": {
  "colab": {
   "collapsed_sections": [
    "H_PG4XZgyfFg"
   ],
   "name": "Abibas_v5.ipynb",
   "provenance": [],
   "toc_visible": true
  },
  "hide_input": false,
  "kernelspec": {
   "display_name": "Python 3",
   "language": "python",
   "name": "python3"
  },
  "language_info": {
   "codemirror_mode": {
    "name": "ipython",
    "version": 3
   },
   "file_extension": ".py",
   "mimetype": "text/x-python",
   "name": "python",
   "nbconvert_exporter": "python",
   "pygments_lexer": "ipython3",
   "version": "3.7.6"
  },
  "toc": {
   "base_numbering": 1,
   "nav_menu": {},
   "number_sections": true,
   "sideBar": true,
   "skip_h1_title": false,
   "title_cell": "Table of Contents",
   "title_sidebar": "Contents",
   "toc_cell": false,
   "toc_position": {},
   "toc_section_display": true,
   "toc_window_display": false
  }
 },
 "nbformat": 4,
 "nbformat_minor": 1
}
