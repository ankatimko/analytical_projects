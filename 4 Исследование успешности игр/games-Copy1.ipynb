{
 "cells": [
  {
   "cell_type": "markdown",
   "metadata": {
    "colab_type": "text",
    "id": "-5PcfspkwfxQ"
   },
   "source": [
    "# Определение факторов успешности продаж игр"
   ]
  },
  {
   "cell_type": "markdown",
   "metadata": {
    "colab_type": "text",
    "id": "x6c9tgtww2dZ"
   },
   "source": [
    "<div style=\"border:solid grey 2px; padding: 30px\">\n",
    "    \n",
    "Интернет-магазин «Стримчик» продаёт по всему миру компьютерные игры.<br>\n",
    "Целью исследования является выявление закономерности величины продаж определенной игры с целью формирования ассортимента на плановый период.<br>\n",
    "Для анализа будут использоваться доступные из открытых источников  исторические данные о продажах игр, оценки пользователей и экспертов, жанры и платформы (например, Xbox или PlayStation).<br>\n",
    "За плановый период в данном исследовании принят 2017 год.<br></div>"
   ]
  },
  {
   "cell_type": "markdown",
   "metadata": {},
   "source": [
    "<div style=\"border:solid grey 2px; padding: 30px\">\n",
    "План работы:<br>\n",
    "<p>1 Ознакомление с данными</p>\n",
    "<p>2 Предобработка данных</p>\n",
    "<p>3 Анализ данных по пр</p>\n",
    "<p style=\"text-indent: 25px;\">3.1 Краткий анализ отрасли</p>\n",
    "<p style=\"text-indent: 25px;\">3.2 Определение длительности жизненного цикла платформы</p>\n",
    "<p style=\"text-indent: 25px;\">3.3 Выбор перспективных платформ на плановый период</p>\n",
    "<p style=\"text-indent: 25px;\">3.4 Анализ продаж по выбранным платформам</p>\n",
    "<p>4 Составление портретов пользователей</p>\n",
    "<p>5 Проверка предложенных гипотез</p>\n",
    "<p>6 Общий вывод</p>\n",
    "    </div>"
   ]
  },
  {
   "cell_type": "markdown",
   "metadata": {
    "colab_type": "text",
    "id": "jrqNWrO4yH5F"
   },
   "source": [
    "## 1 Загрузка данных и библиотек"
   ]
  },
  {
   "cell_type": "code",
   "execution_count": 3,
   "metadata": {
    "colab": {
     "base_uri": "https://localhost:8080/",
     "height": 72
    },
    "colab_type": "code",
    "id": "jbEcv9jcwokm",
    "outputId": "588a0d5b-bf01-479e-b8ef-f911eaf29192"
   },
   "outputs": [],
   "source": [
    "import pandas as pd\n",
    "import numpy as np\n",
    "import seaborn as sns\n",
    "import matplotlib.pyplot as plt\n",
    "from scipy import stats as st"
   ]
  },
  {
   "cell_type": "code",
   "execution_count": 4,
   "metadata": {
    "colab": {},
    "colab_type": "code",
    "id": "AHHWXXjBwyyG"
   },
   "outputs": [],
   "source": [
    "df = pd.read_csv('https://code.s3.yandex.net/datasets/games.csv')\n",
    "#df = pd.read_csv('/datasets/games.csv')"
   ]
  },
  {
   "cell_type": "code",
   "execution_count": 5,
   "metadata": {
    "colab": {
     "base_uri": "https://localhost:8080/",
     "height": 399
    },
    "colab_type": "code",
    "id": "C_42Uz1mgJb0",
    "outputId": "8df5e462-f277-41c6-a0ee-df4680f4162c"
   },
   "outputs": [
    {
     "data": {
      "text/html": [
       "<div>\n",
       "<style scoped>\n",
       "    .dataframe tbody tr th:only-of-type {\n",
       "        vertical-align: middle;\n",
       "    }\n",
       "\n",
       "    .dataframe tbody tr th {\n",
       "        vertical-align: top;\n",
       "    }\n",
       "\n",
       "    .dataframe thead th {\n",
       "        text-align: right;\n",
       "    }\n",
       "</style>\n",
       "<table border=\"1\" class=\"dataframe\">\n",
       "  <thead>\n",
       "    <tr style=\"text-align: right;\">\n",
       "      <th></th>\n",
       "      <th>Name</th>\n",
       "      <th>Platform</th>\n",
       "      <th>Year_of_Release</th>\n",
       "      <th>Genre</th>\n",
       "      <th>NA_sales</th>\n",
       "      <th>EU_sales</th>\n",
       "      <th>JP_sales</th>\n",
       "      <th>Other_sales</th>\n",
       "      <th>Critic_Score</th>\n",
       "      <th>User_Score</th>\n",
       "      <th>Rating</th>\n",
       "    </tr>\n",
       "  </thead>\n",
       "  <tbody>\n",
       "    <tr>\n",
       "      <th>0</th>\n",
       "      <td>Wii Sports</td>\n",
       "      <td>Wii</td>\n",
       "      <td>2006.0</td>\n",
       "      <td>Sports</td>\n",
       "      <td>41.36</td>\n",
       "      <td>28.96</td>\n",
       "      <td>3.77</td>\n",
       "      <td>8.45</td>\n",
       "      <td>76.0</td>\n",
       "      <td>8</td>\n",
       "      <td>E</td>\n",
       "    </tr>\n",
       "    <tr>\n",
       "      <th>1</th>\n",
       "      <td>Super Mario Bros.</td>\n",
       "      <td>NES</td>\n",
       "      <td>1985.0</td>\n",
       "      <td>Platform</td>\n",
       "      <td>29.08</td>\n",
       "      <td>3.58</td>\n",
       "      <td>6.81</td>\n",
       "      <td>0.77</td>\n",
       "      <td>NaN</td>\n",
       "      <td>NaN</td>\n",
       "      <td>NaN</td>\n",
       "    </tr>\n",
       "    <tr>\n",
       "      <th>2</th>\n",
       "      <td>Mario Kart Wii</td>\n",
       "      <td>Wii</td>\n",
       "      <td>2008.0</td>\n",
       "      <td>Racing</td>\n",
       "      <td>15.68</td>\n",
       "      <td>12.76</td>\n",
       "      <td>3.79</td>\n",
       "      <td>3.29</td>\n",
       "      <td>82.0</td>\n",
       "      <td>8.3</td>\n",
       "      <td>E</td>\n",
       "    </tr>\n",
       "    <tr>\n",
       "      <th>3</th>\n",
       "      <td>Wii Sports Resort</td>\n",
       "      <td>Wii</td>\n",
       "      <td>2009.0</td>\n",
       "      <td>Sports</td>\n",
       "      <td>15.61</td>\n",
       "      <td>10.93</td>\n",
       "      <td>3.28</td>\n",
       "      <td>2.95</td>\n",
       "      <td>80.0</td>\n",
       "      <td>8</td>\n",
       "      <td>E</td>\n",
       "    </tr>\n",
       "    <tr>\n",
       "      <th>4</th>\n",
       "      <td>Pokemon Red/Pokemon Blue</td>\n",
       "      <td>GB</td>\n",
       "      <td>1996.0</td>\n",
       "      <td>Role-Playing</td>\n",
       "      <td>11.27</td>\n",
       "      <td>8.89</td>\n",
       "      <td>10.22</td>\n",
       "      <td>1.00</td>\n",
       "      <td>NaN</td>\n",
       "      <td>NaN</td>\n",
       "      <td>NaN</td>\n",
       "    </tr>\n",
       "    <tr>\n",
       "      <th>...</th>\n",
       "      <td>...</td>\n",
       "      <td>...</td>\n",
       "      <td>...</td>\n",
       "      <td>...</td>\n",
       "      <td>...</td>\n",
       "      <td>...</td>\n",
       "      <td>...</td>\n",
       "      <td>...</td>\n",
       "      <td>...</td>\n",
       "      <td>...</td>\n",
       "      <td>...</td>\n",
       "    </tr>\n",
       "    <tr>\n",
       "      <th>16710</th>\n",
       "      <td>Samurai Warriors: Sanada Maru</td>\n",
       "      <td>PS3</td>\n",
       "      <td>2016.0</td>\n",
       "      <td>Action</td>\n",
       "      <td>0.00</td>\n",
       "      <td>0.00</td>\n",
       "      <td>0.01</td>\n",
       "      <td>0.00</td>\n",
       "      <td>NaN</td>\n",
       "      <td>NaN</td>\n",
       "      <td>NaN</td>\n",
       "    </tr>\n",
       "    <tr>\n",
       "      <th>16711</th>\n",
       "      <td>LMA Manager 2007</td>\n",
       "      <td>X360</td>\n",
       "      <td>2006.0</td>\n",
       "      <td>Sports</td>\n",
       "      <td>0.00</td>\n",
       "      <td>0.01</td>\n",
       "      <td>0.00</td>\n",
       "      <td>0.00</td>\n",
       "      <td>NaN</td>\n",
       "      <td>NaN</td>\n",
       "      <td>NaN</td>\n",
       "    </tr>\n",
       "    <tr>\n",
       "      <th>16712</th>\n",
       "      <td>Haitaka no Psychedelica</td>\n",
       "      <td>PSV</td>\n",
       "      <td>2016.0</td>\n",
       "      <td>Adventure</td>\n",
       "      <td>0.00</td>\n",
       "      <td>0.00</td>\n",
       "      <td>0.01</td>\n",
       "      <td>0.00</td>\n",
       "      <td>NaN</td>\n",
       "      <td>NaN</td>\n",
       "      <td>NaN</td>\n",
       "    </tr>\n",
       "    <tr>\n",
       "      <th>16713</th>\n",
       "      <td>Spirits &amp; Spells</td>\n",
       "      <td>GBA</td>\n",
       "      <td>2003.0</td>\n",
       "      <td>Platform</td>\n",
       "      <td>0.01</td>\n",
       "      <td>0.00</td>\n",
       "      <td>0.00</td>\n",
       "      <td>0.00</td>\n",
       "      <td>NaN</td>\n",
       "      <td>NaN</td>\n",
       "      <td>NaN</td>\n",
       "    </tr>\n",
       "    <tr>\n",
       "      <th>16714</th>\n",
       "      <td>Winning Post 8 2016</td>\n",
       "      <td>PSV</td>\n",
       "      <td>2016.0</td>\n",
       "      <td>Simulation</td>\n",
       "      <td>0.00</td>\n",
       "      <td>0.00</td>\n",
       "      <td>0.01</td>\n",
       "      <td>0.00</td>\n",
       "      <td>NaN</td>\n",
       "      <td>NaN</td>\n",
       "      <td>NaN</td>\n",
       "    </tr>\n",
       "  </tbody>\n",
       "</table>\n",
       "<p>16715 rows × 11 columns</p>\n",
       "</div>"
      ],
      "text/plain": [
       "                                Name Platform  Year_of_Release         Genre  \\\n",
       "0                         Wii Sports      Wii           2006.0        Sports   \n",
       "1                  Super Mario Bros.      NES           1985.0      Platform   \n",
       "2                     Mario Kart Wii      Wii           2008.0        Racing   \n",
       "3                  Wii Sports Resort      Wii           2009.0        Sports   \n",
       "4           Pokemon Red/Pokemon Blue       GB           1996.0  Role-Playing   \n",
       "...                              ...      ...              ...           ...   \n",
       "16710  Samurai Warriors: Sanada Maru      PS3           2016.0        Action   \n",
       "16711               LMA Manager 2007     X360           2006.0        Sports   \n",
       "16712        Haitaka no Psychedelica      PSV           2016.0     Adventure   \n",
       "16713               Spirits & Spells      GBA           2003.0      Platform   \n",
       "16714            Winning Post 8 2016      PSV           2016.0    Simulation   \n",
       "\n",
       "       NA_sales  EU_sales  JP_sales  Other_sales  Critic_Score User_Score  \\\n",
       "0         41.36     28.96      3.77         8.45          76.0          8   \n",
       "1         29.08      3.58      6.81         0.77           NaN        NaN   \n",
       "2         15.68     12.76      3.79         3.29          82.0        8.3   \n",
       "3         15.61     10.93      3.28         2.95          80.0          8   \n",
       "4         11.27      8.89     10.22         1.00           NaN        NaN   \n",
       "...         ...       ...       ...          ...           ...        ...   \n",
       "16710      0.00      0.00      0.01         0.00           NaN        NaN   \n",
       "16711      0.00      0.01      0.00         0.00           NaN        NaN   \n",
       "16712      0.00      0.00      0.01         0.00           NaN        NaN   \n",
       "16713      0.01      0.00      0.00         0.00           NaN        NaN   \n",
       "16714      0.00      0.00      0.01         0.00           NaN        NaN   \n",
       "\n",
       "      Rating  \n",
       "0          E  \n",
       "1        NaN  \n",
       "2          E  \n",
       "3          E  \n",
       "4        NaN  \n",
       "...      ...  \n",
       "16710    NaN  \n",
       "16711    NaN  \n",
       "16712    NaN  \n",
       "16713    NaN  \n",
       "16714    NaN  \n",
       "\n",
       "[16715 rows x 11 columns]"
      ]
     },
     "execution_count": 5,
     "metadata": {},
     "output_type": "execute_result"
    }
   ],
   "source": [
    "df"
   ]
  },
  {
   "cell_type": "markdown",
   "metadata": {
    "colab_type": "text",
    "id": "Vjvh6h1B4GCv"
   },
   "source": [
    "<div style=\"border:solid grey 2px; padding: 30px\">\n",
    "У нас есть данные по 16 715 игр на различных платформах за период с 1980 по 2016 гг.<br>\n",
    "В таблице указаны имеются следующие данные по играм:<br>\n",
    "Name — название игры <br>\n",
    "Platform — платформа <br>\n",
    "Year_of_Release — год выпуска <br>\n",
    "Genre — жанр игры <br>\n",
    "NA_sales — продажи в Северной Америке (миллионы долларов) <br>\n",
    "EU_sales — продажи в Европе (миллионы долларов) <br>\n",
    "JP_sales — продажи в Японии (миллионы долларов) <br>\n",
    "Other_sales — продажи в других странах (миллионы долларов) <br>\n",
    "Critic_Score — оценка критиков (максимум 100) <br>\n",
    "User_Score — оценка пользователей (максимум 10) <br>\n",
    "Rating — рейтинг от организации ESRB (англ. Entertainment Software Rating Board). Эта ассоциация определяет рейтинг компьютерных игр и присваивает им подходящую возрастную категорию.\n",
    "    </div>"
   ]
  },
  {
   "cell_type": "markdown",
   "metadata": {
    "colab_type": "text",
    "id": "rgVRnFXTyO0Q"
   },
   "source": [
    "## 2 Предобработка данных"
   ]
  },
  {
   "cell_type": "code",
   "execution_count": 6,
   "metadata": {
    "colab": {
     "base_uri": "https://localhost:8080/",
     "height": 337
    },
    "colab_type": "code",
    "id": "i0LFtyFTw3h5",
    "outputId": "90df5366-908a-4c2a-c2d6-db3770c4e8cd"
   },
   "outputs": [
    {
     "name": "stdout",
     "output_type": "stream",
     "text": [
      "<class 'pandas.core.frame.DataFrame'>\n",
      "RangeIndex: 16715 entries, 0 to 16714\n",
      "Data columns (total 11 columns):\n",
      " #   Column           Non-Null Count  Dtype  \n",
      "---  ------           --------------  -----  \n",
      " 0   Name             16713 non-null  object \n",
      " 1   Platform         16715 non-null  object \n",
      " 2   Year_of_Release  16446 non-null  float64\n",
      " 3   Genre            16713 non-null  object \n",
      " 4   NA_sales         16715 non-null  float64\n",
      " 5   EU_sales         16715 non-null  float64\n",
      " 6   JP_sales         16715 non-null  float64\n",
      " 7   Other_sales      16715 non-null  float64\n",
      " 8   Critic_Score     8137 non-null   float64\n",
      " 9   User_Score       10014 non-null  object \n",
      " 10  Rating           9949 non-null   object \n",
      "dtypes: float64(6), object(5)\n",
      "memory usage: 1.4+ MB\n"
     ]
    }
   ],
   "source": [
    "df.info()"
   ]
  },
  {
   "cell_type": "code",
   "execution_count": 7,
   "metadata": {
    "colab": {},
    "colab_type": "code",
    "id": "ZodWFJlNf8JS"
   },
   "outputs": [],
   "source": [
    "df.drop(df.loc[df['Name'].isna()].index, inplace=True)\n",
    "df.drop(df.loc[df['Year_of_Release'].isna()].index, inplace=True)"
   ]
  },
  {
   "cell_type": "code",
   "execution_count": 8,
   "metadata": {
    "colab": {},
    "colab_type": "code",
    "id": "xCXVff_c6Gpy"
   },
   "outputs": [],
   "source": [
    "df['Year_of_Release'] = round(df['Year_of_Release'], 0).astype(int)"
   ]
  },
  {
   "cell_type": "code",
   "execution_count": 9,
   "metadata": {
    "colab": {},
    "colab_type": "code",
    "id": "eQ0bjMtk4Ba-"
   },
   "outputs": [],
   "source": [
    "df.loc[df['User_Score'] == 'tbd'] = np.nan\n",
    "df['User_Score'] = df['User_Score'].astype('float64')"
   ]
  },
  {
   "cell_type": "code",
   "execution_count": 10,
   "metadata": {
    "colab": {},
    "colab_type": "code",
    "id": "i-472Pd5NvRi"
   },
   "outputs": [],
   "source": [
    "df['Tot_sales'] = df['NA_sales'] + df['EU_sales'] + df['JP_sales'] + df['Other_sales']"
   ]
  },
  {
   "cell_type": "markdown",
   "metadata": {
    "colab_type": "text",
    "id": "j5IHxThU4pMy"
   },
   "source": [
    "<div style=\"border:solid grey 2px; padding: 30px\">\n",
    "    Удалили записи без имени и года - это основные данные, без которых с соответствующими записями нам делать нечего (плюс их немного). Пропуски в инх являются случайными. Данные по годам выпуска игр можно было бы восстановить по названиям игр, также, теоретически, можно было бы найти пропущенные названия, зная жанр, год, рейтинги и платформу.<br>\n",
    "Year_of_Release перевели в int.<br>\n",
    "Удалили стринги из User_Score.<br>\n",
    "Рассчитали суммарные продажи.</div>"
   ]
  },
  {
   "cell_type": "markdown",
   "metadata": {
    "colab_type": "text",
    "id": "7Bjidmxb-sDo"
   },
   "source": [
    "## 3 Анализ данных"
   ]
  },
  {
   "cell_type": "markdown",
   "metadata": {
    "colab_type": "text",
    "id": "3linJk8ZKS52"
   },
   "source": [
    "### Количество игр по годам"
   ]
  },
  {
   "cell_type": "code",
   "execution_count": 11,
   "metadata": {
    "colab": {
     "base_uri": "https://localhost:8080/",
     "height": 1000
    },
    "colab_type": "code",
    "id": "9-VPFaIq5j1c",
    "outputId": "fbc5ec6e-d035-48cc-c16a-9865c7e7e157"
   },
   "outputs": [
    {
     "name": "stdout",
     "output_type": "stream",
     "text": [
      "\u001b[1mКоличество выпускаемых игр по годам\n"
     ]
    },
    {
     "data": {
      "text/html": [
       "<div>\n",
       "<style scoped>\n",
       "    .dataframe tbody tr th:only-of-type {\n",
       "        vertical-align: middle;\n",
       "    }\n",
       "\n",
       "    .dataframe tbody tr th {\n",
       "        vertical-align: top;\n",
       "    }\n",
       "\n",
       "    .dataframe thead th {\n",
       "        text-align: right;\n",
       "    }\n",
       "</style>\n",
       "<table border=\"1\" class=\"dataframe\">\n",
       "  <thead>\n",
       "    <tr style=\"text-align: right;\">\n",
       "      <th></th>\n",
       "      <th>Year_of_Release</th>\n",
       "      <th>Count</th>\n",
       "    </tr>\n",
       "  </thead>\n",
       "  <tbody>\n",
       "    <tr>\n",
       "      <th>0</th>\n",
       "      <td>1980.0</td>\n",
       "      <td>8</td>\n",
       "    </tr>\n",
       "    <tr>\n",
       "      <th>1</th>\n",
       "      <td>1981.0</td>\n",
       "      <td>43</td>\n",
       "    </tr>\n",
       "    <tr>\n",
       "      <th>2</th>\n",
       "      <td>1982.0</td>\n",
       "      <td>33</td>\n",
       "    </tr>\n",
       "    <tr>\n",
       "      <th>3</th>\n",
       "      <td>1983.0</td>\n",
       "      <td>16</td>\n",
       "    </tr>\n",
       "    <tr>\n",
       "      <th>4</th>\n",
       "      <td>1984.0</td>\n",
       "      <td>13</td>\n",
       "    </tr>\n",
       "    <tr>\n",
       "      <th>5</th>\n",
       "      <td>1985.0</td>\n",
       "      <td>13</td>\n",
       "    </tr>\n",
       "    <tr>\n",
       "      <th>6</th>\n",
       "      <td>1986.0</td>\n",
       "      <td>21</td>\n",
       "    </tr>\n",
       "    <tr>\n",
       "      <th>7</th>\n",
       "      <td>1987.0</td>\n",
       "      <td>15</td>\n",
       "    </tr>\n",
       "    <tr>\n",
       "      <th>8</th>\n",
       "      <td>1988.0</td>\n",
       "      <td>11</td>\n",
       "    </tr>\n",
       "    <tr>\n",
       "      <th>9</th>\n",
       "      <td>1989.0</td>\n",
       "      <td>14</td>\n",
       "    </tr>\n",
       "    <tr>\n",
       "      <th>10</th>\n",
       "      <td>1990.0</td>\n",
       "      <td>14</td>\n",
       "    </tr>\n",
       "    <tr>\n",
       "      <th>11</th>\n",
       "      <td>1991.0</td>\n",
       "      <td>40</td>\n",
       "    </tr>\n",
       "    <tr>\n",
       "      <th>12</th>\n",
       "      <td>1992.0</td>\n",
       "      <td>37</td>\n",
       "    </tr>\n",
       "    <tr>\n",
       "      <th>13</th>\n",
       "      <td>1993.0</td>\n",
       "      <td>58</td>\n",
       "    </tr>\n",
       "    <tr>\n",
       "      <th>14</th>\n",
       "      <td>1994.0</td>\n",
       "      <td>112</td>\n",
       "    </tr>\n",
       "    <tr>\n",
       "      <th>15</th>\n",
       "      <td>1995.0</td>\n",
       "      <td>200</td>\n",
       "    </tr>\n",
       "    <tr>\n",
       "      <th>16</th>\n",
       "      <td>1996.0</td>\n",
       "      <td>247</td>\n",
       "    </tr>\n",
       "    <tr>\n",
       "      <th>17</th>\n",
       "      <td>1997.0</td>\n",
       "      <td>267</td>\n",
       "    </tr>\n",
       "    <tr>\n",
       "      <th>18</th>\n",
       "      <td>1998.0</td>\n",
       "      <td>348</td>\n",
       "    </tr>\n",
       "    <tr>\n",
       "      <th>19</th>\n",
       "      <td>1999.0</td>\n",
       "      <td>286</td>\n",
       "    </tr>\n",
       "    <tr>\n",
       "      <th>20</th>\n",
       "      <td>2000.0</td>\n",
       "      <td>268</td>\n",
       "    </tr>\n",
       "    <tr>\n",
       "      <th>21</th>\n",
       "      <td>2001.0</td>\n",
       "      <td>353</td>\n",
       "    </tr>\n",
       "    <tr>\n",
       "      <th>22</th>\n",
       "      <td>2002.0</td>\n",
       "      <td>471</td>\n",
       "    </tr>\n",
       "    <tr>\n",
       "      <th>23</th>\n",
       "      <td>2003.0</td>\n",
       "      <td>459</td>\n",
       "    </tr>\n",
       "    <tr>\n",
       "      <th>24</th>\n",
       "      <td>2004.0</td>\n",
       "      <td>476</td>\n",
       "    </tr>\n",
       "    <tr>\n",
       "      <th>25</th>\n",
       "      <td>2005.0</td>\n",
       "      <td>564</td>\n",
       "    </tr>\n",
       "    <tr>\n",
       "      <th>26</th>\n",
       "      <td>2006.0</td>\n",
       "      <td>662</td>\n",
       "    </tr>\n",
       "    <tr>\n",
       "      <th>27</th>\n",
       "      <td>2007.0</td>\n",
       "      <td>721</td>\n",
       "    </tr>\n",
       "    <tr>\n",
       "      <th>28</th>\n",
       "      <td>2008.0</td>\n",
       "      <td>777</td>\n",
       "    </tr>\n",
       "    <tr>\n",
       "      <th>29</th>\n",
       "      <td>2009.0</td>\n",
       "      <td>701</td>\n",
       "    </tr>\n",
       "    <tr>\n",
       "      <th>30</th>\n",
       "      <td>2010.0</td>\n",
       "      <td>659</td>\n",
       "    </tr>\n",
       "    <tr>\n",
       "      <th>31</th>\n",
       "      <td>2011.0</td>\n",
       "      <td>633</td>\n",
       "    </tr>\n",
       "    <tr>\n",
       "      <th>32</th>\n",
       "      <td>2012.0</td>\n",
       "      <td>398</td>\n",
       "    </tr>\n",
       "    <tr>\n",
       "      <th>33</th>\n",
       "      <td>2013.0</td>\n",
       "      <td>292</td>\n",
       "    </tr>\n",
       "    <tr>\n",
       "      <th>34</th>\n",
       "      <td>2014.0</td>\n",
       "      <td>273</td>\n",
       "    </tr>\n",
       "    <tr>\n",
       "      <th>35</th>\n",
       "      <td>2015.0</td>\n",
       "      <td>320</td>\n",
       "    </tr>\n",
       "    <tr>\n",
       "      <th>36</th>\n",
       "      <td>2016.0</td>\n",
       "      <td>269</td>\n",
       "    </tr>\n",
       "  </tbody>\n",
       "</table>\n",
       "</div>"
      ],
      "text/plain": [
       "    Year_of_Release  Count\n",
       "0            1980.0      8\n",
       "1            1981.0     43\n",
       "2            1982.0     33\n",
       "3            1983.0     16\n",
       "4            1984.0     13\n",
       "5            1985.0     13\n",
       "6            1986.0     21\n",
       "7            1987.0     15\n",
       "8            1988.0     11\n",
       "9            1989.0     14\n",
       "10           1990.0     14\n",
       "11           1991.0     40\n",
       "12           1992.0     37\n",
       "13           1993.0     58\n",
       "14           1994.0    112\n",
       "15           1995.0    200\n",
       "16           1996.0    247\n",
       "17           1997.0    267\n",
       "18           1998.0    348\n",
       "19           1999.0    286\n",
       "20           2000.0    268\n",
       "21           2001.0    353\n",
       "22           2002.0    471\n",
       "23           2003.0    459\n",
       "24           2004.0    476\n",
       "25           2005.0    564\n",
       "26           2006.0    662\n",
       "27           2007.0    721\n",
       "28           2008.0    777\n",
       "29           2009.0    701\n",
       "30           2010.0    659\n",
       "31           2011.0    633\n",
       "32           2012.0    398\n",
       "33           2013.0    292\n",
       "34           2014.0    273\n",
       "35           2015.0    320\n",
       "36           2016.0    269"
      ]
     },
     "execution_count": 11,
     "metadata": {},
     "output_type": "execute_result"
    }
   ],
   "source": [
    "print('\\033[1m' + 'Количество выпускаемых игр по годам')\n",
    "a1 = df.drop_duplicates(subset=['Name']).groupby('Year_of_Release')['Name'].agg('count').reset_index()\n",
    "a1.columns = ['Year_of_Release', 'Count']\n",
    "a1"
   ]
  },
  {
   "cell_type": "code",
   "execution_count": 12,
   "metadata": {
    "colab": {
     "base_uri": "https://localhost:8080/",
     "height": 828
    },
    "colab_type": "code",
    "id": "WXBD-8eb7oUr",
    "outputId": "71bf2fc7-eea5-448f-f18f-88e682e334a4"
   },
   "outputs": [
    {
     "name": "stdout",
     "output_type": "stream",
     "text": [
      "\u001b[1mКоличество выпускаемых мультиплатформных игр по годам\n"
     ]
    },
    {
     "data": {
      "text/html": [
       "<div>\n",
       "<style scoped>\n",
       "    .dataframe tbody tr th:only-of-type {\n",
       "        vertical-align: middle;\n",
       "    }\n",
       "\n",
       "    .dataframe tbody tr th {\n",
       "        vertical-align: top;\n",
       "    }\n",
       "\n",
       "    .dataframe thead th {\n",
       "        text-align: right;\n",
       "    }\n",
       "</style>\n",
       "<table border=\"1\" class=\"dataframe\">\n",
       "  <thead>\n",
       "    <tr style=\"text-align: right;\">\n",
       "      <th></th>\n",
       "      <th>Year_of_Release</th>\n",
       "      <th>Count</th>\n",
       "    </tr>\n",
       "  </thead>\n",
       "  <tbody>\n",
       "    <tr>\n",
       "      <th>0</th>\n",
       "      <td>1991.0</td>\n",
       "      <td>1</td>\n",
       "    </tr>\n",
       "    <tr>\n",
       "      <th>1</th>\n",
       "      <td>1992.0</td>\n",
       "      <td>2</td>\n",
       "    </tr>\n",
       "    <tr>\n",
       "      <th>2</th>\n",
       "      <td>1993.0</td>\n",
       "      <td>1</td>\n",
       "    </tr>\n",
       "    <tr>\n",
       "      <th>3</th>\n",
       "      <td>1994.0</td>\n",
       "      <td>4</td>\n",
       "    </tr>\n",
       "    <tr>\n",
       "      <th>4</th>\n",
       "      <td>1995.0</td>\n",
       "      <td>4</td>\n",
       "    </tr>\n",
       "    <tr>\n",
       "      <th>5</th>\n",
       "      <td>1996.0</td>\n",
       "      <td>5</td>\n",
       "    </tr>\n",
       "    <tr>\n",
       "      <th>6</th>\n",
       "      <td>1997.0</td>\n",
       "      <td>7</td>\n",
       "    </tr>\n",
       "    <tr>\n",
       "      <th>7</th>\n",
       "      <td>1998.0</td>\n",
       "      <td>15</td>\n",
       "    </tr>\n",
       "    <tr>\n",
       "      <th>8</th>\n",
       "      <td>1999.0</td>\n",
       "      <td>12</td>\n",
       "    </tr>\n",
       "    <tr>\n",
       "      <th>9</th>\n",
       "      <td>2000.0</td>\n",
       "      <td>16</td>\n",
       "    </tr>\n",
       "    <tr>\n",
       "      <th>10</th>\n",
       "      <td>2001.0</td>\n",
       "      <td>27</td>\n",
       "    </tr>\n",
       "    <tr>\n",
       "      <th>11</th>\n",
       "      <td>2002.0</td>\n",
       "      <td>89</td>\n",
       "    </tr>\n",
       "    <tr>\n",
       "      <th>12</th>\n",
       "      <td>2003.0</td>\n",
       "      <td>110</td>\n",
       "    </tr>\n",
       "    <tr>\n",
       "      <th>13</th>\n",
       "      <td>2004.0</td>\n",
       "      <td>111</td>\n",
       "    </tr>\n",
       "    <tr>\n",
       "      <th>14</th>\n",
       "      <td>2005.0</td>\n",
       "      <td>129</td>\n",
       "    </tr>\n",
       "    <tr>\n",
       "      <th>15</th>\n",
       "      <td>2006.0</td>\n",
       "      <td>96</td>\n",
       "    </tr>\n",
       "    <tr>\n",
       "      <th>16</th>\n",
       "      <td>2007.0</td>\n",
       "      <td>125</td>\n",
       "    </tr>\n",
       "    <tr>\n",
       "      <th>17</th>\n",
       "      <td>2008.0</td>\n",
       "      <td>148</td>\n",
       "    </tr>\n",
       "    <tr>\n",
       "      <th>18</th>\n",
       "      <td>2009.0</td>\n",
       "      <td>156</td>\n",
       "    </tr>\n",
       "    <tr>\n",
       "      <th>19</th>\n",
       "      <td>2010.0</td>\n",
       "      <td>148</td>\n",
       "    </tr>\n",
       "    <tr>\n",
       "      <th>20</th>\n",
       "      <td>2011.0</td>\n",
       "      <td>148</td>\n",
       "    </tr>\n",
       "    <tr>\n",
       "      <th>21</th>\n",
       "      <td>2012.0</td>\n",
       "      <td>107</td>\n",
       "    </tr>\n",
       "    <tr>\n",
       "      <th>22</th>\n",
       "      <td>2013.0</td>\n",
       "      <td>103</td>\n",
       "    </tr>\n",
       "    <tr>\n",
       "      <th>23</th>\n",
       "      <td>2014.0</td>\n",
       "      <td>118</td>\n",
       "    </tr>\n",
       "    <tr>\n",
       "      <th>24</th>\n",
       "      <td>2015.0</td>\n",
       "      <td>111</td>\n",
       "    </tr>\n",
       "    <tr>\n",
       "      <th>25</th>\n",
       "      <td>2016.0</td>\n",
       "      <td>115</td>\n",
       "    </tr>\n",
       "  </tbody>\n",
       "</table>\n",
       "</div>"
      ],
      "text/plain": [
       "    Year_of_Release  Count\n",
       "0            1991.0      1\n",
       "1            1992.0      2\n",
       "2            1993.0      1\n",
       "3            1994.0      4\n",
       "4            1995.0      4\n",
       "5            1996.0      5\n",
       "6            1997.0      7\n",
       "7            1998.0     15\n",
       "8            1999.0     12\n",
       "9            2000.0     16\n",
       "10           2001.0     27\n",
       "11           2002.0     89\n",
       "12           2003.0    110\n",
       "13           2004.0    111\n",
       "14           2005.0    129\n",
       "15           2006.0     96\n",
       "16           2007.0    125\n",
       "17           2008.0    148\n",
       "18           2009.0    156\n",
       "19           2010.0    148\n",
       "20           2011.0    148\n",
       "21           2012.0    107\n",
       "22           2013.0    103\n",
       "23           2014.0    118\n",
       "24           2015.0    111\n",
       "25           2016.0    115"
      ]
     },
     "execution_count": 12,
     "metadata": {},
     "output_type": "execute_result"
    }
   ],
   "source": [
    "print('\\033[1m' + 'Количество выпускаемых мультиплатформных игр по годам')\n",
    "a2 = df.groupby(['Year_of_Release', 'Name'])['Platform'].agg('count').reset_index().query('Platform > 1').groupby('Year_of_Release')['Platform'].agg('count').reset_index()\n",
    "a2.columns = ['Year_of_Release', 'Count']\n",
    "a2"
   ]
  },
  {
   "cell_type": "code",
   "execution_count": 13,
   "metadata": {
    "colab": {
     "base_uri": "https://localhost:8080/",
     "height": 296
    },
    "colab_type": "code",
    "id": "oH9b3Vei_vUI",
    "outputId": "63533664-deb5-4976-881c-1cdd4a3fc7ff"
   },
   "outputs": [
    {
     "data": {
      "image/png": "[encoded data removed]",
      "text/plain": [
       "<Figure size 432x288 with 1 Axes>"
      ]
     },
     "metadata": {
      "needs_background": "light"
     },
     "output_type": "display_data"
    }
   ],
   "source": [
    "concatenated = pd.concat([a1.assign(dataset='games'), a2.assign(dataset='multiplatform games')])\n",
    "sns.lineplot(x='Year_of_Release', y='Count', data=concatenated,\n",
    "                hue='dataset', style='dataset')\n",
    "plt.title('Количество выпускаемых игр и мультиплатформных игр по годам')\n",
    "plt.show()\n"
   ]
  },
  {
   "cell_type": "markdown",
   "metadata": {
    "colab_type": "text",
    "id": "GaFU-Z8ODFr-"
   },
   "source": [
    "<div align=\"left\", style=\"border:solid grey 2px; padding: 30px\">\n",
    "Бум геймдева был с 2002 по 2011 гг. Предположительно толчком к нему были<br> 1) рост и последующее падение общего темпа мировой диджетализации* <br> 2) выпуск 6-го и 7-го поколения консолей, которые оказали большее влияние, чем предыдущие и последующие, создав новые рынки, насыщение которых мы видим в 2002-2011 гг.<br>После этого количество выпускаемых игр стабилизирвоалось на величине 300 игр в год. При этом только около трети из них выпускают на более чем одной платформе. <br><br>\n",
    "    * Рост мировых продаж ПК (млн шт. в год, CAGR) :<br>\n",
    "    1996-2001 гг.: 57,2, 10,36%<br>\n",
    "    2002-2011 гг.: 233, 10,68%<br>\n",
    "    2012-2017 гг: -92, -4.92 %<br>\n",
    "<a href=\"https://en.wikipedia.org/wiki/Personal_computer\">Источник</a>\n",
    "</div>"
   ]
  },
  {
   "cell_type": "markdown",
   "metadata": {
    "colab_type": "text",
    "id": "U-38y9ecKYhU"
   },
   "source": [
    "### Сколько живет платформа?"
   ]
  },
  {
   "cell_type": "code",
   "execution_count": 14,
   "metadata": {
    "colab": {
     "base_uri": "https://localhost:8080/",
     "height": 593
    },
    "colab_type": "code",
    "id": "CtfCDEGy7bOG",
    "outputId": "4ab4a020-416f-44f5-dc7a-0a9b3f00b9ec",
    "scrolled": false
   },
   "outputs": [
    {
     "name": "stdout",
     "output_type": "stream",
     "text": [
      "\u001b[1mПродажи по платформам и доля продаж каждой платформы в суммарных продажах\n"
     ]
    },
    {
     "data": {
      "text/html": [
       "<div>\n",
       "<style scoped>\n",
       "    .dataframe tbody tr th:only-of-type {\n",
       "        vertical-align: middle;\n",
       "    }\n",
       "\n",
       "    .dataframe tbody tr th {\n",
       "        vertical-align: top;\n",
       "    }\n",
       "\n",
       "    .dataframe thead th {\n",
       "        text-align: right;\n",
       "    }\n",
       "</style>\n",
       "<table border=\"1\" class=\"dataframe\">\n",
       "  <thead>\n",
       "    <tr style=\"text-align: right;\">\n",
       "      <th></th>\n",
       "      <th>Platform</th>\n",
       "      <th>Tot_sales</th>\n",
       "      <th>tot_sales_pct</th>\n",
       "      <th>cum_pct</th>\n",
       "    </tr>\n",
       "  </thead>\n",
       "  <tbody>\n",
       "    <tr>\n",
       "      <th>16</th>\n",
       "      <td>PS2</td>\n",
       "      <td>1171.19</td>\n",
       "      <td>14.0</td>\n",
       "      <td>14.0</td>\n",
       "    </tr>\n",
       "    <tr>\n",
       "      <th>28</th>\n",
       "      <td>X360</td>\n",
       "      <td>948.74</td>\n",
       "      <td>11.0</td>\n",
       "      <td>25.0</td>\n",
       "    </tr>\n",
       "    <tr>\n",
       "      <th>17</th>\n",
       "      <td>PS3</td>\n",
       "      <td>921.09</td>\n",
       "      <td>11.0</td>\n",
       "      <td>36.0</td>\n",
       "    </tr>\n",
       "    <tr>\n",
       "      <th>26</th>\n",
       "      <td>Wii</td>\n",
       "      <td>791.91</td>\n",
       "      <td>9.0</td>\n",
       "      <td>45.0</td>\n",
       "    </tr>\n",
       "    <tr>\n",
       "      <th>15</th>\n",
       "      <td>PS</td>\n",
       "      <td>714.26</td>\n",
       "      <td>9.0</td>\n",
       "      <td>54.0</td>\n",
       "    </tr>\n",
       "    <tr>\n",
       "      <th>4</th>\n",
       "      <td>DS</td>\n",
       "      <td>655.36</td>\n",
       "      <td>8.0</td>\n",
       "      <td>62.0</td>\n",
       "    </tr>\n",
       "    <tr>\n",
       "      <th>18</th>\n",
       "      <td>PS4</td>\n",
       "      <td>314.00</td>\n",
       "      <td>4.0</td>\n",
       "      <td>66.0</td>\n",
       "    </tr>\n",
       "    <tr>\n",
       "      <th>19</th>\n",
       "      <td>PSP</td>\n",
       "      <td>273.11</td>\n",
       "      <td>3.0</td>\n",
       "      <td>69.0</td>\n",
       "    </tr>\n",
       "    <tr>\n",
       "      <th>6</th>\n",
       "      <td>GBA</td>\n",
       "      <td>263.70</td>\n",
       "      <td>3.0</td>\n",
       "      <td>72.0</td>\n",
       "    </tr>\n",
       "    <tr>\n",
       "      <th>5</th>\n",
       "      <td>GB</td>\n",
       "      <td>254.43</td>\n",
       "      <td>3.0</td>\n",
       "      <td>75.0</td>\n",
       "    </tr>\n",
       "    <tr>\n",
       "      <th>2</th>\n",
       "      <td>3DS</td>\n",
       "      <td>253.24</td>\n",
       "      <td>3.0</td>\n",
       "      <td>78.0</td>\n",
       "    </tr>\n",
       "    <tr>\n",
       "      <th>13</th>\n",
       "      <td>PC</td>\n",
       "      <td>252.25</td>\n",
       "      <td>3.0</td>\n",
       "      <td>81.0</td>\n",
       "    </tr>\n",
       "    <tr>\n",
       "      <th>11</th>\n",
       "      <td>NES</td>\n",
       "      <td>251.05</td>\n",
       "      <td>3.0</td>\n",
       "      <td>84.0</td>\n",
       "    </tr>\n",
       "    <tr>\n",
       "      <th>29</th>\n",
       "      <td>XB</td>\n",
       "      <td>236.38</td>\n",
       "      <td>3.0</td>\n",
       "      <td>87.0</td>\n",
       "    </tr>\n",
       "    <tr>\n",
       "      <th>10</th>\n",
       "      <td>N64</td>\n",
       "      <td>218.01</td>\n",
       "      <td>3.0</td>\n",
       "      <td>90.0</td>\n",
       "    </tr>\n",
       "    <tr>\n",
       "      <th>23</th>\n",
       "      <td>SNES</td>\n",
       "      <td>200.04</td>\n",
       "      <td>2.0</td>\n",
       "      <td>92.0</td>\n",
       "    </tr>\n",
       "    <tr>\n",
       "      <th>7</th>\n",
       "      <td>GC</td>\n",
       "      <td>185.68</td>\n",
       "      <td>2.0</td>\n",
       "      <td>94.0</td>\n",
       "    </tr>\n",
       "    <tr>\n",
       "      <th>30</th>\n",
       "      <td>XOne</td>\n",
       "      <td>158.77</td>\n",
       "      <td>2.0</td>\n",
       "      <td>96.0</td>\n",
       "    </tr>\n",
       "  </tbody>\n",
       "</table>\n",
       "</div>"
      ],
      "text/plain": [
       "   Platform  Tot_sales  tot_sales_pct  cum_pct\n",
       "16      PS2    1171.19           14.0     14.0\n",
       "28     X360     948.74           11.0     25.0\n",
       "17      PS3     921.09           11.0     36.0\n",
       "26      Wii     791.91            9.0     45.0\n",
       "15       PS     714.26            9.0     54.0\n",
       "4        DS     655.36            8.0     62.0\n",
       "18      PS4     314.00            4.0     66.0\n",
       "19      PSP     273.11            3.0     69.0\n",
       "6       GBA     263.70            3.0     72.0\n",
       "5        GB     254.43            3.0     75.0\n",
       "2       3DS     253.24            3.0     78.0\n",
       "13       PC     252.25            3.0     81.0\n",
       "11      NES     251.05            3.0     84.0\n",
       "29       XB     236.38            3.0     87.0\n",
       "10      N64     218.01            3.0     90.0\n",
       "23     SNES     200.04            2.0     92.0\n",
       "7        GC     185.68            2.0     94.0\n",
       "30     XOne     158.77            2.0     96.0"
      ]
     },
     "execution_count": 14,
     "metadata": {},
     "output_type": "execute_result"
    }
   ],
   "source": [
    "print('\\033[1m' + 'Продажи по платформам и доля продаж каждой платформы в суммарных продажах')\n",
    "sales_by_platform = df.groupby('Platform')['Tot_sales'].agg('sum').reset_index().sort_values('Tot_sales', ascending=False)\n",
    "\n",
    "tot_sales = sales_by_platform['Tot_sales'].sum()\n",
    "sales_by_platform['tot_sales_pct'] = round(sales_by_platform['Tot_sales'] / tot_sales *100 )\n",
    "sales_by_platform['cum_pct'] = sales_by_platform['tot_sales_pct'].cumsum()\n",
    "\n",
    "\n",
    "\n",
    "sales_by_platform[sales_by_platform['tot_sales_pct'] >= 2 ]"
   ]
  },
  {
   "cell_type": "code",
   "execution_count": 15,
   "metadata": {},
   "outputs": [
    {
     "data": {
      "image/png": "[encoded data removed]",
      "text/plain": [
       "<Figure size 864x288 with 1 Axes>"
      ]
     },
     "metadata": {
      "needs_background": "light"
     },
     "output_type": "display_data"
    }
   ],
   "source": [
    "sns.barplot(data = sales_by_platform[sales_by_platform['tot_sales_pct'] >= 2 ]\n",
    "            ,x = 'Platform'\n",
    "            ,y = 'Tot_sales')\n",
    "fig = plt.gcf()\n",
    "plt.title('Продажи по платформам')\n",
    "fig.set_size_inches(12, 4)"
   ]
  },
  {
   "cell_type": "code",
   "execution_count": 16,
   "metadata": {
    "colab": {
     "base_uri": "https://localhost:8080/",
     "height": 372
    },
    "colab_type": "code",
    "id": "pnt5E9XQu0fE",
    "outputId": "dae57d12-fb7c-4e0d-e95f-58abb8120db1"
   },
   "outputs": [
    {
     "name": "stdout",
     "output_type": "stream",
     "text": [
      "\u001b[1mСписок платформ с наибольшими продажами\n"
     ]
    },
    {
     "data": {
      "text/plain": [
       "16     PS2\n",
       "28    X360\n",
       "17     PS3\n",
       "26     Wii\n",
       "15      PS\n",
       "4       DS\n",
       "18     PS4\n",
       "19     PSP\n",
       "6      GBA\n",
       "5       GB\n",
       "2      3DS\n",
       "13      PC\n",
       "11     NES\n",
       "29      XB\n",
       "10     N64\n",
       "23    SNES\n",
       "7       GC\n",
       "30    XOne\n",
       "Name: Platform, dtype: object"
      ]
     },
     "execution_count": 16,
     "metadata": {},
     "output_type": "execute_result"
    }
   ],
   "source": [
    "print('\\033[1m' + 'Список платформ с наибольшими продажами')\n",
    "top_platforms = sales_by_platform[sales_by_platform['tot_sales_pct'] >= 2 ]['Platform']\n",
    "top_platforms"
   ]
  },
  {
   "cell_type": "code",
   "execution_count": 17,
   "metadata": {
    "colab": {
     "base_uri": "https://localhost:8080/",
     "height": 974
    },
    "colab_type": "code",
    "id": "hUmlFZDx78XW",
    "outputId": "25a581d5-ed62-4f05-e5a1-a16988ae3320"
   },
   "outputs": [
    {
     "name": "stdout",
     "output_type": "stream",
     "text": [
      "\u001b[1mПродажи игр по годам по платформам с наибольшими продажами\n"
     ]
    },
    {
     "data": {
      "text/html": [
       "<div>\n",
       "<style scoped>\n",
       "    .dataframe tbody tr th:only-of-type {\n",
       "        vertical-align: middle;\n",
       "    }\n",
       "\n",
       "    .dataframe tbody tr th {\n",
       "        vertical-align: top;\n",
       "    }\n",
       "\n",
       "    .dataframe thead th {\n",
       "        text-align: right;\n",
       "    }\n",
       "</style>\n",
       "<table border=\"1\" class=\"dataframe\">\n",
       "  <thead>\n",
       "    <tr style=\"text-align: right;\">\n",
       "      <th>Platform</th>\n",
       "      <th>Year_of_Release</th>\n",
       "      <th>3DS</th>\n",
       "      <th>DS</th>\n",
       "      <th>GB</th>\n",
       "      <th>GBA</th>\n",
       "      <th>GC</th>\n",
       "      <th>N64</th>\n",
       "      <th>NES</th>\n",
       "      <th>PC</th>\n",
       "      <th>PS</th>\n",
       "      <th>PS2</th>\n",
       "      <th>PS3</th>\n",
       "      <th>PS4</th>\n",
       "      <th>PSP</th>\n",
       "      <th>SNES</th>\n",
       "      <th>Wii</th>\n",
       "      <th>X360</th>\n",
       "      <th>XB</th>\n",
       "      <th>XOne</th>\n",
       "    </tr>\n",
       "  </thead>\n",
       "  <tbody>\n",
       "    <tr>\n",
       "      <th>0</th>\n",
       "      <td>1986.0</td>\n",
       "      <td>NaN</td>\n",
       "      <td>NaN</td>\n",
       "      <td>NaN</td>\n",
       "      <td>NaN</td>\n",
       "      <td>NaN</td>\n",
       "      <td>NaN</td>\n",
       "      <td>36.41</td>\n",
       "      <td>NaN</td>\n",
       "      <td>NaN</td>\n",
       "      <td>NaN</td>\n",
       "      <td>NaN</td>\n",
       "      <td>NaN</td>\n",
       "      <td>NaN</td>\n",
       "      <td>NaN</td>\n",
       "      <td>NaN</td>\n",
       "      <td>NaN</td>\n",
       "      <td>NaN</td>\n",
       "      <td>NaN</td>\n",
       "    </tr>\n",
       "    <tr>\n",
       "      <th>1</th>\n",
       "      <td>1987.0</td>\n",
       "      <td>NaN</td>\n",
       "      <td>NaN</td>\n",
       "      <td>NaN</td>\n",
       "      <td>NaN</td>\n",
       "      <td>NaN</td>\n",
       "      <td>NaN</td>\n",
       "      <td>19.76</td>\n",
       "      <td>NaN</td>\n",
       "      <td>NaN</td>\n",
       "      <td>NaN</td>\n",
       "      <td>NaN</td>\n",
       "      <td>NaN</td>\n",
       "      <td>NaN</td>\n",
       "      <td>NaN</td>\n",
       "      <td>NaN</td>\n",
       "      <td>NaN</td>\n",
       "      <td>NaN</td>\n",
       "      <td>NaN</td>\n",
       "    </tr>\n",
       "    <tr>\n",
       "      <th>2</th>\n",
       "      <td>1988.0</td>\n",
       "      <td>NaN</td>\n",
       "      <td>NaN</td>\n",
       "      <td>1.43</td>\n",
       "      <td>NaN</td>\n",
       "      <td>NaN</td>\n",
       "      <td>NaN</td>\n",
       "      <td>45.01</td>\n",
       "      <td>0.03</td>\n",
       "      <td>NaN</td>\n",
       "      <td>NaN</td>\n",
       "      <td>NaN</td>\n",
       "      <td>NaN</td>\n",
       "      <td>NaN</td>\n",
       "      <td>NaN</td>\n",
       "      <td>NaN</td>\n",
       "      <td>NaN</td>\n",
       "      <td>NaN</td>\n",
       "      <td>NaN</td>\n",
       "    </tr>\n",
       "    <tr>\n",
       "      <th>3</th>\n",
       "      <td>1989.0</td>\n",
       "      <td>NaN</td>\n",
       "      <td>NaN</td>\n",
       "      <td>64.97</td>\n",
       "      <td>NaN</td>\n",
       "      <td>NaN</td>\n",
       "      <td>NaN</td>\n",
       "      <td>7.85</td>\n",
       "      <td>NaN</td>\n",
       "      <td>NaN</td>\n",
       "      <td>NaN</td>\n",
       "      <td>NaN</td>\n",
       "      <td>NaN</td>\n",
       "      <td>NaN</td>\n",
       "      <td>NaN</td>\n",
       "      <td>NaN</td>\n",
       "      <td>NaN</td>\n",
       "      <td>NaN</td>\n",
       "      <td>NaN</td>\n",
       "    </tr>\n",
       "    <tr>\n",
       "      <th>4</th>\n",
       "      <td>1990.0</td>\n",
       "      <td>NaN</td>\n",
       "      <td>NaN</td>\n",
       "      <td>4.89</td>\n",
       "      <td>NaN</td>\n",
       "      <td>NaN</td>\n",
       "      <td>NaN</td>\n",
       "      <td>15.73</td>\n",
       "      <td>NaN</td>\n",
       "      <td>NaN</td>\n",
       "      <td>NaN</td>\n",
       "      <td>NaN</td>\n",
       "      <td>NaN</td>\n",
       "      <td>NaN</td>\n",
       "      <td>26.15</td>\n",
       "      <td>NaN</td>\n",
       "      <td>NaN</td>\n",
       "      <td>NaN</td>\n",
       "      <td>NaN</td>\n",
       "    </tr>\n",
       "    <tr>\n",
       "      <th>5</th>\n",
       "      <td>1991.0</td>\n",
       "      <td>NaN</td>\n",
       "      <td>NaN</td>\n",
       "      <td>5.57</td>\n",
       "      <td>NaN</td>\n",
       "      <td>NaN</td>\n",
       "      <td>NaN</td>\n",
       "      <td>6.11</td>\n",
       "      <td>NaN</td>\n",
       "      <td>NaN</td>\n",
       "      <td>NaN</td>\n",
       "      <td>NaN</td>\n",
       "      <td>NaN</td>\n",
       "      <td>NaN</td>\n",
       "      <td>16.22</td>\n",
       "      <td>NaN</td>\n",
       "      <td>NaN</td>\n",
       "      <td>NaN</td>\n",
       "      <td>NaN</td>\n",
       "    </tr>\n",
       "    <tr>\n",
       "      <th>6</th>\n",
       "      <td>1992.0</td>\n",
       "      <td>NaN</td>\n",
       "      <td>NaN</td>\n",
       "      <td>25.49</td>\n",
       "      <td>NaN</td>\n",
       "      <td>NaN</td>\n",
       "      <td>NaN</td>\n",
       "      <td>1.98</td>\n",
       "      <td>3.03</td>\n",
       "      <td>NaN</td>\n",
       "      <td>NaN</td>\n",
       "      <td>NaN</td>\n",
       "      <td>NaN</td>\n",
       "      <td>NaN</td>\n",
       "      <td>32.98</td>\n",
       "      <td>NaN</td>\n",
       "      <td>NaN</td>\n",
       "      <td>NaN</td>\n",
       "      <td>NaN</td>\n",
       "    </tr>\n",
       "    <tr>\n",
       "      <th>7</th>\n",
       "      <td>1993.0</td>\n",
       "      <td>NaN</td>\n",
       "      <td>NaN</td>\n",
       "      <td>NaN</td>\n",
       "      <td>NaN</td>\n",
       "      <td>NaN</td>\n",
       "      <td>NaN</td>\n",
       "      <td>3.61</td>\n",
       "      <td>NaN</td>\n",
       "      <td>NaN</td>\n",
       "      <td>NaN</td>\n",
       "      <td>NaN</td>\n",
       "      <td>NaN</td>\n",
       "      <td>NaN</td>\n",
       "      <td>40.02</td>\n",
       "      <td>NaN</td>\n",
       "      <td>NaN</td>\n",
       "      <td>NaN</td>\n",
       "      <td>NaN</td>\n",
       "    </tr>\n",
       "    <tr>\n",
       "      <th>8</th>\n",
       "      <td>1994.0</td>\n",
       "      <td>NaN</td>\n",
       "      <td>NaN</td>\n",
       "      <td>12.18</td>\n",
       "      <td>NaN</td>\n",
       "      <td>NaN</td>\n",
       "      <td>NaN</td>\n",
       "      <td>0.11</td>\n",
       "      <td>12.87</td>\n",
       "      <td>6.03</td>\n",
       "      <td>NaN</td>\n",
       "      <td>NaN</td>\n",
       "      <td>NaN</td>\n",
       "      <td>NaN</td>\n",
       "      <td>35.08</td>\n",
       "      <td>NaN</td>\n",
       "      <td>NaN</td>\n",
       "      <td>NaN</td>\n",
       "      <td>NaN</td>\n",
       "    </tr>\n",
       "    <tr>\n",
       "      <th>9</th>\n",
       "      <td>1995.0</td>\n",
       "      <td>NaN</td>\n",
       "      <td>NaN</td>\n",
       "      <td>3.60</td>\n",
       "      <td>NaN</td>\n",
       "      <td>NaN</td>\n",
       "      <td>NaN</td>\n",
       "      <td>NaN</td>\n",
       "      <td>4.22</td>\n",
       "      <td>35.96</td>\n",
       "      <td>NaN</td>\n",
       "      <td>NaN</td>\n",
       "      <td>NaN</td>\n",
       "      <td>NaN</td>\n",
       "      <td>32.20</td>\n",
       "      <td>NaN</td>\n",
       "      <td>NaN</td>\n",
       "      <td>NaN</td>\n",
       "      <td>NaN</td>\n",
       "    </tr>\n",
       "    <tr>\n",
       "      <th>10</th>\n",
       "      <td>1996.0</td>\n",
       "      <td>NaN</td>\n",
       "      <td>NaN</td>\n",
       "      <td>36.03</td>\n",
       "      <td>NaN</td>\n",
       "      <td>NaN</td>\n",
       "      <td>34.10</td>\n",
       "      <td>NaN</td>\n",
       "      <td>10.58</td>\n",
       "      <td>94.70</td>\n",
       "      <td>NaN</td>\n",
       "      <td>NaN</td>\n",
       "      <td>NaN</td>\n",
       "      <td>NaN</td>\n",
       "      <td>15.92</td>\n",
       "      <td>NaN</td>\n",
       "      <td>NaN</td>\n",
       "      <td>NaN</td>\n",
       "      <td>NaN</td>\n",
       "    </tr>\n",
       "    <tr>\n",
       "      <th>11</th>\n",
       "      <td>1997.0</td>\n",
       "      <td>NaN</td>\n",
       "      <td>NaN</td>\n",
       "      <td>6.37</td>\n",
       "      <td>NaN</td>\n",
       "      <td>NaN</td>\n",
       "      <td>39.50</td>\n",
       "      <td>NaN</td>\n",
       "      <td>11.27</td>\n",
       "      <td>136.12</td>\n",
       "      <td>NaN</td>\n",
       "      <td>NaN</td>\n",
       "      <td>NaN</td>\n",
       "      <td>NaN</td>\n",
       "      <td>0.99</td>\n",
       "      <td>NaN</td>\n",
       "      <td>NaN</td>\n",
       "      <td>NaN</td>\n",
       "      <td>NaN</td>\n",
       "    </tr>\n",
       "    <tr>\n",
       "      <th>12</th>\n",
       "      <td>1998.0</td>\n",
       "      <td>NaN</td>\n",
       "      <td>NaN</td>\n",
       "      <td>26.90</td>\n",
       "      <td>NaN</td>\n",
       "      <td>NaN</td>\n",
       "      <td>49.24</td>\n",
       "      <td>NaN</td>\n",
       "      <td>3.26</td>\n",
       "      <td>169.49</td>\n",
       "      <td>NaN</td>\n",
       "      <td>NaN</td>\n",
       "      <td>NaN</td>\n",
       "      <td>NaN</td>\n",
       "      <td>0.22</td>\n",
       "      <td>NaN</td>\n",
       "      <td>NaN</td>\n",
       "      <td>NaN</td>\n",
       "      <td>NaN</td>\n",
       "    </tr>\n",
       "    <tr>\n",
       "      <th>13</th>\n",
       "      <td>1999.0</td>\n",
       "      <td>NaN</td>\n",
       "      <td>NaN</td>\n",
       "      <td>38.00</td>\n",
       "      <td>NaN</td>\n",
       "      <td>NaN</td>\n",
       "      <td>57.87</td>\n",
       "      <td>NaN</td>\n",
       "      <td>2.80</td>\n",
       "      <td>142.19</td>\n",
       "      <td>NaN</td>\n",
       "      <td>NaN</td>\n",
       "      <td>NaN</td>\n",
       "      <td>NaN</td>\n",
       "      <td>0.26</td>\n",
       "      <td>NaN</td>\n",
       "      <td>NaN</td>\n",
       "      <td>NaN</td>\n",
       "      <td>NaN</td>\n",
       "    </tr>\n",
       "    <tr>\n",
       "      <th>14</th>\n",
       "      <td>2000.0</td>\n",
       "      <td>NaN</td>\n",
       "      <td>NaN</td>\n",
       "      <td>19.76</td>\n",
       "      <td>0.07</td>\n",
       "      <td>NaN</td>\n",
       "      <td>33.97</td>\n",
       "      <td>NaN</td>\n",
       "      <td>4.66</td>\n",
       "      <td>86.71</td>\n",
       "      <td>34.91</td>\n",
       "      <td>NaN</td>\n",
       "      <td>NaN</td>\n",
       "      <td>NaN</td>\n",
       "      <td>NaN</td>\n",
       "      <td>NaN</td>\n",
       "      <td>NaN</td>\n",
       "      <td>0.99</td>\n",
       "      <td>NaN</td>\n",
       "    </tr>\n",
       "    <tr>\n",
       "      <th>15</th>\n",
       "      <td>2001.0</td>\n",
       "      <td>NaN</td>\n",
       "      <td>NaN</td>\n",
       "      <td>9.24</td>\n",
       "      <td>51.32</td>\n",
       "      <td>25.68</td>\n",
       "      <td>3.25</td>\n",
       "      <td>NaN</td>\n",
       "      <td>5.47</td>\n",
       "      <td>34.32</td>\n",
       "      <td>159.77</td>\n",
       "      <td>NaN</td>\n",
       "      <td>NaN</td>\n",
       "      <td>NaN</td>\n",
       "      <td>NaN</td>\n",
       "      <td>NaN</td>\n",
       "      <td>NaN</td>\n",
       "      <td>20.97</td>\n",
       "      <td>NaN</td>\n",
       "    </tr>\n",
       "    <tr>\n",
       "      <th>16</th>\n",
       "      <td>2002.0</td>\n",
       "      <td>NaN</td>\n",
       "      <td>NaN</td>\n",
       "      <td>NaN</td>\n",
       "      <td>63.22</td>\n",
       "      <td>48.33</td>\n",
       "      <td>0.08</td>\n",
       "      <td>NaN</td>\n",
       "      <td>8.56</td>\n",
       "      <td>6.67</td>\n",
       "      <td>198.07</td>\n",
       "      <td>NaN</td>\n",
       "      <td>NaN</td>\n",
       "      <td>NaN</td>\n",
       "      <td>NaN</td>\n",
       "      <td>NaN</td>\n",
       "      <td>NaN</td>\n",
       "      <td>44.30</td>\n",
       "      <td>NaN</td>\n",
       "    </tr>\n",
       "    <tr>\n",
       "      <th>17</th>\n",
       "      <td>2003.0</td>\n",
       "      <td>NaN</td>\n",
       "      <td>NaN</td>\n",
       "      <td>NaN</td>\n",
       "      <td>50.14</td>\n",
       "      <td>49.85</td>\n",
       "      <td>NaN</td>\n",
       "      <td>NaN</td>\n",
       "      <td>8.84</td>\n",
       "      <td>2.07</td>\n",
       "      <td>180.71</td>\n",
       "      <td>NaN</td>\n",
       "      <td>NaN</td>\n",
       "      <td>NaN</td>\n",
       "      <td>NaN</td>\n",
       "      <td>NaN</td>\n",
       "      <td>NaN</td>\n",
       "      <td>51.43</td>\n",
       "      <td>NaN</td>\n",
       "    </tr>\n",
       "    <tr>\n",
       "      <th>18</th>\n",
       "      <td>2004.0</td>\n",
       "      <td>NaN</td>\n",
       "      <td>17.23</td>\n",
       "      <td>NaN</td>\n",
       "      <td>64.05</td>\n",
       "      <td>26.50</td>\n",
       "      <td>NaN</td>\n",
       "      <td>NaN</td>\n",
       "      <td>10.39</td>\n",
       "      <td>NaN</td>\n",
       "      <td>209.10</td>\n",
       "      <td>NaN</td>\n",
       "      <td>NaN</td>\n",
       "      <td>7.03</td>\n",
       "      <td>NaN</td>\n",
       "      <td>NaN</td>\n",
       "      <td>NaN</td>\n",
       "      <td>62.20</td>\n",
       "      <td>NaN</td>\n",
       "    </tr>\n",
       "    <tr>\n",
       "      <th>19</th>\n",
       "      <td>2005.0</td>\n",
       "      <td>NaN</td>\n",
       "      <td>128.68</td>\n",
       "      <td>NaN</td>\n",
       "      <td>27.28</td>\n",
       "      <td>25.09</td>\n",
       "      <td>NaN</td>\n",
       "      <td>NaN</td>\n",
       "      <td>4.36</td>\n",
       "      <td>NaN</td>\n",
       "      <td>154.96</td>\n",
       "      <td>NaN</td>\n",
       "      <td>NaN</td>\n",
       "      <td>43.71</td>\n",
       "      <td>NaN</td>\n",
       "      <td>NaN</td>\n",
       "      <td>8.25</td>\n",
       "      <td>46.50</td>\n",
       "      <td>NaN</td>\n",
       "    </tr>\n",
       "    <tr>\n",
       "      <th>20</th>\n",
       "      <td>2006.0</td>\n",
       "      <td>NaN</td>\n",
       "      <td>114.93</td>\n",
       "      <td>NaN</td>\n",
       "      <td>4.41</td>\n",
       "      <td>10.01</td>\n",
       "      <td>NaN</td>\n",
       "      <td>NaN</td>\n",
       "      <td>2.81</td>\n",
       "      <td>NaN</td>\n",
       "      <td>100.49</td>\n",
       "      <td>20.46</td>\n",
       "      <td>NaN</td>\n",
       "      <td>52.48</td>\n",
       "      <td>NaN</td>\n",
       "      <td>136.07</td>\n",
       "      <td>51.55</td>\n",
       "      <td>9.26</td>\n",
       "      <td>NaN</td>\n",
       "    </tr>\n",
       "    <tr>\n",
       "      <th>21</th>\n",
       "      <td>2007.0</td>\n",
       "      <td>NaN</td>\n",
       "      <td>121.23</td>\n",
       "      <td>NaN</td>\n",
       "      <td>3.21</td>\n",
       "      <td>0.22</td>\n",
       "      <td>NaN</td>\n",
       "      <td>NaN</td>\n",
       "      <td>9.23</td>\n",
       "      <td>NaN</td>\n",
       "      <td>66.39</td>\n",
       "      <td>72.99</td>\n",
       "      <td>NaN</td>\n",
       "      <td>44.48</td>\n",
       "      <td>NaN</td>\n",
       "      <td>149.08</td>\n",
       "      <td>94.37</td>\n",
       "      <td>0.55</td>\n",
       "      <td>NaN</td>\n",
       "    </tr>\n",
       "    <tr>\n",
       "      <th>22</th>\n",
       "      <td>2008.0</td>\n",
       "      <td>NaN</td>\n",
       "      <td>102.44</td>\n",
       "      <td>NaN</td>\n",
       "      <td>NaN</td>\n",
       "      <td>NaN</td>\n",
       "      <td>NaN</td>\n",
       "      <td>NaN</td>\n",
       "      <td>12.26</td>\n",
       "      <td>NaN</td>\n",
       "      <td>43.74</td>\n",
       "      <td>117.01</td>\n",
       "      <td>NaN</td>\n",
       "      <td>32.48</td>\n",
       "      <td>NaN</td>\n",
       "      <td>158.56</td>\n",
       "      <td>134.07</td>\n",
       "      <td>0.18</td>\n",
       "      <td>NaN</td>\n",
       "    </tr>\n",
       "    <tr>\n",
       "      <th>23</th>\n",
       "      <td>2009.0</td>\n",
       "      <td>NaN</td>\n",
       "      <td>84.54</td>\n",
       "      <td>NaN</td>\n",
       "      <td>NaN</td>\n",
       "      <td>NaN</td>\n",
       "      <td>NaN</td>\n",
       "      <td>NaN</td>\n",
       "      <td>16.33</td>\n",
       "      <td>NaN</td>\n",
       "      <td>18.93</td>\n",
       "      <td>128.92</td>\n",
       "      <td>NaN</td>\n",
       "      <td>33.31</td>\n",
       "      <td>NaN</td>\n",
       "      <td>179.78</td>\n",
       "      <td>118.39</td>\n",
       "      <td>NaN</td>\n",
       "      <td>NaN</td>\n",
       "    </tr>\n",
       "    <tr>\n",
       "      <th>24</th>\n",
       "      <td>2010.0</td>\n",
       "      <td>NaN</td>\n",
       "      <td>61.56</td>\n",
       "      <td>NaN</td>\n",
       "      <td>NaN</td>\n",
       "      <td>NaN</td>\n",
       "      <td>NaN</td>\n",
       "      <td>NaN</td>\n",
       "      <td>24.13</td>\n",
       "      <td>NaN</td>\n",
       "      <td>3.72</td>\n",
       "      <td>140.18</td>\n",
       "      <td>NaN</td>\n",
       "      <td>32.08</td>\n",
       "      <td>NaN</td>\n",
       "      <td>90.86</td>\n",
       "      <td>166.93</td>\n",
       "      <td>NaN</td>\n",
       "      <td>NaN</td>\n",
       "    </tr>\n",
       "    <tr>\n",
       "      <th>25</th>\n",
       "      <td>2011.0</td>\n",
       "      <td>60.53</td>\n",
       "      <td>13.48</td>\n",
       "      <td>NaN</td>\n",
       "      <td>NaN</td>\n",
       "      <td>NaN</td>\n",
       "      <td>NaN</td>\n",
       "      <td>NaN</td>\n",
       "      <td>34.55</td>\n",
       "      <td>NaN</td>\n",
       "      <td>0.40</td>\n",
       "      <td>154.14</td>\n",
       "      <td>NaN</td>\n",
       "      <td>16.72</td>\n",
       "      <td>NaN</td>\n",
       "      <td>45.61</td>\n",
       "      <td>140.18</td>\n",
       "      <td>NaN</td>\n",
       "      <td>NaN</td>\n",
       "    </tr>\n",
       "    <tr>\n",
       "      <th>26</th>\n",
       "      <td>2012.0</td>\n",
       "      <td>51.01</td>\n",
       "      <td>10.28</td>\n",
       "      <td>NaN</td>\n",
       "      <td>NaN</td>\n",
       "      <td>NaN</td>\n",
       "      <td>NaN</td>\n",
       "      <td>NaN</td>\n",
       "      <td>23.22</td>\n",
       "      <td>NaN</td>\n",
       "      <td>NaN</td>\n",
       "      <td>107.29</td>\n",
       "      <td>NaN</td>\n",
       "      <td>7.32</td>\n",
       "      <td>NaN</td>\n",
       "      <td>21.08</td>\n",
       "      <td>99.57</td>\n",
       "      <td>NaN</td>\n",
       "      <td>NaN</td>\n",
       "    </tr>\n",
       "    <tr>\n",
       "      <th>27</th>\n",
       "      <td>2013.0</td>\n",
       "      <td>56.32</td>\n",
       "      <td>0.97</td>\n",
       "      <td>NaN</td>\n",
       "      <td>NaN</td>\n",
       "      <td>NaN</td>\n",
       "      <td>NaN</td>\n",
       "      <td>NaN</td>\n",
       "      <td>12.38</td>\n",
       "      <td>NaN</td>\n",
       "      <td>NaN</td>\n",
       "      <td>113.24</td>\n",
       "      <td>25.99</td>\n",
       "      <td>3.14</td>\n",
       "      <td>NaN</td>\n",
       "      <td>8.11</td>\n",
       "      <td>88.57</td>\n",
       "      <td>NaN</td>\n",
       "      <td>18.96</td>\n",
       "    </tr>\n",
       "    <tr>\n",
       "      <th>28</th>\n",
       "      <td>2014.0</td>\n",
       "      <td>43.07</td>\n",
       "      <td>NaN</td>\n",
       "      <td>NaN</td>\n",
       "      <td>NaN</td>\n",
       "      <td>NaN</td>\n",
       "      <td>NaN</td>\n",
       "      <td>NaN</td>\n",
       "      <td>13.25</td>\n",
       "      <td>NaN</td>\n",
       "      <td>NaN</td>\n",
       "      <td>47.40</td>\n",
       "      <td>100.00</td>\n",
       "      <td>0.24</td>\n",
       "      <td>NaN</td>\n",
       "      <td>2.61</td>\n",
       "      <td>33.77</td>\n",
       "      <td>NaN</td>\n",
       "      <td>54.07</td>\n",
       "    </tr>\n",
       "    <tr>\n",
       "      <th>29</th>\n",
       "      <td>2015.0</td>\n",
       "      <td>27.21</td>\n",
       "      <td>NaN</td>\n",
       "      <td>NaN</td>\n",
       "      <td>NaN</td>\n",
       "      <td>NaN</td>\n",
       "      <td>NaN</td>\n",
       "      <td>NaN</td>\n",
       "      <td>8.49</td>\n",
       "      <td>NaN</td>\n",
       "      <td>NaN</td>\n",
       "      <td>16.30</td>\n",
       "      <td>118.86</td>\n",
       "      <td>0.12</td>\n",
       "      <td>NaN</td>\n",
       "      <td>0.15</td>\n",
       "      <td>11.87</td>\n",
       "      <td>NaN</td>\n",
       "      <td>59.92</td>\n",
       "    </tr>\n",
       "    <tr>\n",
       "      <th>30</th>\n",
       "      <td>2016.0</td>\n",
       "      <td>15.10</td>\n",
       "      <td>NaN</td>\n",
       "      <td>NaN</td>\n",
       "      <td>NaN</td>\n",
       "      <td>NaN</td>\n",
       "      <td>NaN</td>\n",
       "      <td>NaN</td>\n",
       "      <td>5.22</td>\n",
       "      <td>NaN</td>\n",
       "      <td>NaN</td>\n",
       "      <td>3.16</td>\n",
       "      <td>69.15</td>\n",
       "      <td>NaN</td>\n",
       "      <td>NaN</td>\n",
       "      <td>NaN</td>\n",
       "      <td>1.22</td>\n",
       "      <td>NaN</td>\n",
       "      <td>25.82</td>\n",
       "    </tr>\n",
       "  </tbody>\n",
       "</table>\n",
       "</div>"
      ],
      "text/plain": [
       "Platform  Year_of_Release    3DS      DS     GB    GBA     GC    N64    NES  \\\n",
       "0                  1986.0    NaN     NaN    NaN    NaN    NaN    NaN  36.41   \n",
       "1                  1987.0    NaN     NaN    NaN    NaN    NaN    NaN  19.76   \n",
       "2                  1988.0    NaN     NaN   1.43    NaN    NaN    NaN  45.01   \n",
       "3                  1989.0    NaN     NaN  64.97    NaN    NaN    NaN   7.85   \n",
       "4                  1990.0    NaN     NaN   4.89    NaN    NaN    NaN  15.73   \n",
       "5                  1991.0    NaN     NaN   5.57    NaN    NaN    NaN   6.11   \n",
       "6                  1992.0    NaN     NaN  25.49    NaN    NaN    NaN   1.98   \n",
       "7                  1993.0    NaN     NaN    NaN    NaN    NaN    NaN   3.61   \n",
       "8                  1994.0    NaN     NaN  12.18    NaN    NaN    NaN   0.11   \n",
       "9                  1995.0    NaN     NaN   3.60    NaN    NaN    NaN    NaN   \n",
       "10                 1996.0    NaN     NaN  36.03    NaN    NaN  34.10    NaN   \n",
       "11                 1997.0    NaN     NaN   6.37    NaN    NaN  39.50    NaN   \n",
       "12                 1998.0    NaN     NaN  26.90    NaN    NaN  49.24    NaN   \n",
       "13                 1999.0    NaN     NaN  38.00    NaN    NaN  57.87    NaN   \n",
       "14                 2000.0    NaN     NaN  19.76   0.07    NaN  33.97    NaN   \n",
       "15                 2001.0    NaN     NaN   9.24  51.32  25.68   3.25    NaN   \n",
       "16                 2002.0    NaN     NaN    NaN  63.22  48.33   0.08    NaN   \n",
       "17                 2003.0    NaN     NaN    NaN  50.14  49.85    NaN    NaN   \n",
       "18                 2004.0    NaN   17.23    NaN  64.05  26.50    NaN    NaN   \n",
       "19                 2005.0    NaN  128.68    NaN  27.28  25.09    NaN    NaN   \n",
       "20                 2006.0    NaN  114.93    NaN   4.41  10.01    NaN    NaN   \n",
       "21                 2007.0    NaN  121.23    NaN   3.21   0.22    NaN    NaN   \n",
       "22                 2008.0    NaN  102.44    NaN    NaN    NaN    NaN    NaN   \n",
       "23                 2009.0    NaN   84.54    NaN    NaN    NaN    NaN    NaN   \n",
       "24                 2010.0    NaN   61.56    NaN    NaN    NaN    NaN    NaN   \n",
       "25                 2011.0  60.53   13.48    NaN    NaN    NaN    NaN    NaN   \n",
       "26                 2012.0  51.01   10.28    NaN    NaN    NaN    NaN    NaN   \n",
       "27                 2013.0  56.32    0.97    NaN    NaN    NaN    NaN    NaN   \n",
       "28                 2014.0  43.07     NaN    NaN    NaN    NaN    NaN    NaN   \n",
       "29                 2015.0  27.21     NaN    NaN    NaN    NaN    NaN    NaN   \n",
       "30                 2016.0  15.10     NaN    NaN    NaN    NaN    NaN    NaN   \n",
       "\n",
       "Platform     PC      PS     PS2     PS3     PS4    PSP   SNES     Wii    X360  \\\n",
       "0           NaN     NaN     NaN     NaN     NaN    NaN    NaN     NaN     NaN   \n",
       "1           NaN     NaN     NaN     NaN     NaN    NaN    NaN     NaN     NaN   \n",
       "2          0.03     NaN     NaN     NaN     NaN    NaN    NaN     NaN     NaN   \n",
       "3           NaN     NaN     NaN     NaN     NaN    NaN    NaN     NaN     NaN   \n",
       "4           NaN     NaN     NaN     NaN     NaN    NaN  26.15     NaN     NaN   \n",
       "5           NaN     NaN     NaN     NaN     NaN    NaN  16.22     NaN     NaN   \n",
       "6          3.03     NaN     NaN     NaN     NaN    NaN  32.98     NaN     NaN   \n",
       "7           NaN     NaN     NaN     NaN     NaN    NaN  40.02     NaN     NaN   \n",
       "8         12.87    6.03     NaN     NaN     NaN    NaN  35.08     NaN     NaN   \n",
       "9          4.22   35.96     NaN     NaN     NaN    NaN  32.20     NaN     NaN   \n",
       "10        10.58   94.70     NaN     NaN     NaN    NaN  15.92     NaN     NaN   \n",
       "11        11.27  136.12     NaN     NaN     NaN    NaN   0.99     NaN     NaN   \n",
       "12         3.26  169.49     NaN     NaN     NaN    NaN   0.22     NaN     NaN   \n",
       "13         2.80  142.19     NaN     NaN     NaN    NaN   0.26     NaN     NaN   \n",
       "14         4.66   86.71   34.91     NaN     NaN    NaN    NaN     NaN     NaN   \n",
       "15         5.47   34.32  159.77     NaN     NaN    NaN    NaN     NaN     NaN   \n",
       "16         8.56    6.67  198.07     NaN     NaN    NaN    NaN     NaN     NaN   \n",
       "17         8.84    2.07  180.71     NaN     NaN    NaN    NaN     NaN     NaN   \n",
       "18        10.39     NaN  209.10     NaN     NaN   7.03    NaN     NaN     NaN   \n",
       "19         4.36     NaN  154.96     NaN     NaN  43.71    NaN     NaN    8.25   \n",
       "20         2.81     NaN  100.49   20.46     NaN  52.48    NaN  136.07   51.55   \n",
       "21         9.23     NaN   66.39   72.99     NaN  44.48    NaN  149.08   94.37   \n",
       "22        12.26     NaN   43.74  117.01     NaN  32.48    NaN  158.56  134.07   \n",
       "23        16.33     NaN   18.93  128.92     NaN  33.31    NaN  179.78  118.39   \n",
       "24        24.13     NaN    3.72  140.18     NaN  32.08    NaN   90.86  166.93   \n",
       "25        34.55     NaN    0.40  154.14     NaN  16.72    NaN   45.61  140.18   \n",
       "26        23.22     NaN     NaN  107.29     NaN   7.32    NaN   21.08   99.57   \n",
       "27        12.38     NaN     NaN  113.24   25.99   3.14    NaN    8.11   88.57   \n",
       "28        13.25     NaN     NaN   47.40  100.00   0.24    NaN    2.61   33.77   \n",
       "29         8.49     NaN     NaN   16.30  118.86   0.12    NaN    0.15   11.87   \n",
       "30         5.22     NaN     NaN    3.16   69.15    NaN    NaN     NaN    1.22   \n",
       "\n",
       "Platform     XB   XOne  \n",
       "0           NaN    NaN  \n",
       "1           NaN    NaN  \n",
       "2           NaN    NaN  \n",
       "3           NaN    NaN  \n",
       "4           NaN    NaN  \n",
       "5           NaN    NaN  \n",
       "6           NaN    NaN  \n",
       "7           NaN    NaN  \n",
       "8           NaN    NaN  \n",
       "9           NaN    NaN  \n",
       "10          NaN    NaN  \n",
       "11          NaN    NaN  \n",
       "12          NaN    NaN  \n",
       "13          NaN    NaN  \n",
       "14         0.99    NaN  \n",
       "15        20.97    NaN  \n",
       "16        44.30    NaN  \n",
       "17        51.43    NaN  \n",
       "18        62.20    NaN  \n",
       "19        46.50    NaN  \n",
       "20         9.26    NaN  \n",
       "21         0.55    NaN  \n",
       "22         0.18    NaN  \n",
       "23          NaN    NaN  \n",
       "24          NaN    NaN  \n",
       "25          NaN    NaN  \n",
       "26          NaN    NaN  \n",
       "27          NaN  18.96  \n",
       "28          NaN  54.07  \n",
       "29          NaN  59.92  \n",
       "30          NaN  25.82  "
      ]
     },
     "execution_count": 17,
     "metadata": {},
     "output_type": "execute_result"
    }
   ],
   "source": [
    "print('\\033[1m' + 'Продажи игр по годам по платформам с наибольшими продажами')\n",
    "top_platforms_sales = pd.pivot_table(df.query('Platform in @top_platforms and Year_of_Release>1985'), values='Tot_sales', index=['Year_of_Release'],\n",
    "                    columns=['Platform'], aggfunc=np.sum).reset_index()\n",
    "top_platforms_sales"
   ]
  },
  {
   "cell_type": "code",
   "execution_count": 18,
   "metadata": {
    "colab": {
     "base_uri": "https://localhost:8080/",
     "height": 340
    },
    "colab_type": "code",
    "id": "CiVLKS0iINUs",
    "outputId": "0004183a-f778-41d8-ee15-d63ceff112fc"
   },
   "outputs": [
    {
     "data": {
      "image/png": "[encoded data removed]",
      "text/plain": [
       "<Figure size 720x288 with 1 Axes>"
      ]
     },
     "metadata": {
      "needs_background": "light"
     },
     "output_type": "display_data"
    }
   ],
   "source": [
    "sns.lineplot(x='Year_of_Release', y='value', hue='Platform', \n",
    "             data=pd.melt(top_platforms_sales, ['Year_of_Release']))\n",
    "fig = plt.gcf()\n",
    "plt.title('Продажи игр по годам по платформам с наибольшими продажами')\n",
    "fig.set_size_inches(10, 4)"
   ]
  },
  {
   "cell_type": "markdown",
   "metadata": {},
   "source": [
    "Проведем расчет срока жизни: отфильтруем данные по продажам, исключив из срока жизни года с продажами менее $10 млн и платформы, чей срок жизни еще не закончился (PS4, XOne, PC). "
   ]
  },
  {
   "cell_type": "code",
   "execution_count": 19,
   "metadata": {},
   "outputs": [
    {
     "data": {
      "text/plain": [
       "8.5"
      ]
     },
     "execution_count": 19,
     "metadata": {},
     "output_type": "execute_result"
    }
   ],
   "source": [
    "top_platforms_sales1 = top_platforms_sales.copy()\n",
    "top_platforms_sales1[top_platforms_sales<10] = np.nan\n",
    "top_platforms_sales1[top_platforms_sales1.columns.difference(['PC', 'XOne', 'PS4'])].count().mean()"
   ]
  },
  {
   "cell_type": "code",
   "execution_count": 20,
   "metadata": {},
   "outputs": [
    {
     "data": {
      "text/plain": [
       "2005.0"
      ]
     },
     "execution_count": 20,
     "metadata": {},
     "output_type": "execute_result"
    }
   ],
   "source": [
    "actual_year = np.ceil(df['Year_of_Release'].max()- top_platforms_sales[top_platforms_sales.columns.difference(['PC', 'XOne', 'PS4'])].count().mean())\n",
    "actual_year"
   ]
  },
  {
   "cell_type": "markdown",
   "metadata": {
    "colab_type": "text",
    "id": "ok9sfpYUSblH"
   },
   "source": [
    "<div align=\"left\", style=\"border:solid grey 2px; padding: 30px\">\n",
    "В среднем срок жизни платформы составляет 8,5 лет.</div>"
   ]
  },
  {
   "cell_type": "markdown",
   "metadata": {
    "colab_type": "text",
    "id": "y2Vmjc9gYSU0"
   },
   "source": [
    "### Выбор платформ на 2017 год"
   ]
  },
  {
   "cell_type": "markdown",
   "metadata": {
    "colab_type": "text",
    "id": "fkUROPfJS2IT"
   },
   "source": [
    "\n",
    "На планируемый период (2017 г.) целесообразно рассматривать в качестве потенциальных платформ только те, по которым были продажи в планируемом периоде - 1 (2016 г.)."
   ]
  },
  {
   "cell_type": "code",
   "execution_count": 21,
   "metadata": {
    "colab": {
     "base_uri": "https://localhost:8080/",
     "height": 974
    },
    "colab_type": "code",
    "id": "fX9wMe7iv1uM",
    "outputId": "c983beb7-3b88-4b16-928c-62d890c864b5"
   },
   "outputs": [
    {
     "name": "stdout",
     "output_type": "stream",
     "text": [
      "\u001b[1mПлатформы, игры на которых продавались в 2016 г.\n"
     ]
    },
    {
     "data": {
      "text/html": [
       "<div>\n",
       "<style scoped>\n",
       "    .dataframe tbody tr th:only-of-type {\n",
       "        vertical-align: middle;\n",
       "    }\n",
       "\n",
       "    .dataframe tbody tr th {\n",
       "        vertical-align: top;\n",
       "    }\n",
       "\n",
       "    .dataframe thead th {\n",
       "        text-align: right;\n",
       "    }\n",
       "</style>\n",
       "<table border=\"1\" class=\"dataframe\">\n",
       "  <thead>\n",
       "    <tr style=\"text-align: right;\">\n",
       "      <th>Platform</th>\n",
       "      <th>Year_of_Release</th>\n",
       "      <th>3DS</th>\n",
       "      <th>PC</th>\n",
       "      <th>PS3</th>\n",
       "      <th>PS4</th>\n",
       "      <th>X360</th>\n",
       "      <th>XOne</th>\n",
       "    </tr>\n",
       "  </thead>\n",
       "  <tbody>\n",
       "    <tr>\n",
       "      <th>0</th>\n",
       "      <td>1986.0</td>\n",
       "      <td>NaN</td>\n",
       "      <td>NaN</td>\n",
       "      <td>NaN</td>\n",
       "      <td>NaN</td>\n",
       "      <td>NaN</td>\n",
       "      <td>NaN</td>\n",
       "    </tr>\n",
       "    <tr>\n",
       "      <th>1</th>\n",
       "      <td>1987.0</td>\n",
       "      <td>NaN</td>\n",
       "      <td>NaN</td>\n",
       "      <td>NaN</td>\n",
       "      <td>NaN</td>\n",
       "      <td>NaN</td>\n",
       "      <td>NaN</td>\n",
       "    </tr>\n",
       "    <tr>\n",
       "      <th>2</th>\n",
       "      <td>1988.0</td>\n",
       "      <td>NaN</td>\n",
       "      <td>0.03</td>\n",
       "      <td>NaN</td>\n",
       "      <td>NaN</td>\n",
       "      <td>NaN</td>\n",
       "      <td>NaN</td>\n",
       "    </tr>\n",
       "    <tr>\n",
       "      <th>3</th>\n",
       "      <td>1989.0</td>\n",
       "      <td>NaN</td>\n",
       "      <td>NaN</td>\n",
       "      <td>NaN</td>\n",
       "      <td>NaN</td>\n",
       "      <td>NaN</td>\n",
       "      <td>NaN</td>\n",
       "    </tr>\n",
       "    <tr>\n",
       "      <th>4</th>\n",
       "      <td>1990.0</td>\n",
       "      <td>NaN</td>\n",
       "      <td>NaN</td>\n",
       "      <td>NaN</td>\n",
       "      <td>NaN</td>\n",
       "      <td>NaN</td>\n",
       "      <td>NaN</td>\n",
       "    </tr>\n",
       "    <tr>\n",
       "      <th>5</th>\n",
       "      <td>1991.0</td>\n",
       "      <td>NaN</td>\n",
       "      <td>NaN</td>\n",
       "      <td>NaN</td>\n",
       "      <td>NaN</td>\n",
       "      <td>NaN</td>\n",
       "      <td>NaN</td>\n",
       "    </tr>\n",
       "    <tr>\n",
       "      <th>6</th>\n",
       "      <td>1992.0</td>\n",
       "      <td>NaN</td>\n",
       "      <td>3.03</td>\n",
       "      <td>NaN</td>\n",
       "      <td>NaN</td>\n",
       "      <td>NaN</td>\n",
       "      <td>NaN</td>\n",
       "    </tr>\n",
       "    <tr>\n",
       "      <th>7</th>\n",
       "      <td>1993.0</td>\n",
       "      <td>NaN</td>\n",
       "      <td>NaN</td>\n",
       "      <td>NaN</td>\n",
       "      <td>NaN</td>\n",
       "      <td>NaN</td>\n",
       "      <td>NaN</td>\n",
       "    </tr>\n",
       "    <tr>\n",
       "      <th>8</th>\n",
       "      <td>1994.0</td>\n",
       "      <td>NaN</td>\n",
       "      <td>12.87</td>\n",
       "      <td>NaN</td>\n",
       "      <td>NaN</td>\n",
       "      <td>NaN</td>\n",
       "      <td>NaN</td>\n",
       "    </tr>\n",
       "    <tr>\n",
       "      <th>9</th>\n",
       "      <td>1995.0</td>\n",
       "      <td>NaN</td>\n",
       "      <td>4.22</td>\n",
       "      <td>NaN</td>\n",
       "      <td>NaN</td>\n",
       "      <td>NaN</td>\n",
       "      <td>NaN</td>\n",
       "    </tr>\n",
       "    <tr>\n",
       "      <th>10</th>\n",
       "      <td>1996.0</td>\n",
       "      <td>NaN</td>\n",
       "      <td>10.58</td>\n",
       "      <td>NaN</td>\n",
       "      <td>NaN</td>\n",
       "      <td>NaN</td>\n",
       "      <td>NaN</td>\n",
       "    </tr>\n",
       "    <tr>\n",
       "      <th>11</th>\n",
       "      <td>1997.0</td>\n",
       "      <td>NaN</td>\n",
       "      <td>11.27</td>\n",
       "      <td>NaN</td>\n",
       "      <td>NaN</td>\n",
       "      <td>NaN</td>\n",
       "      <td>NaN</td>\n",
       "    </tr>\n",
       "    <tr>\n",
       "      <th>12</th>\n",
       "      <td>1998.0</td>\n",
       "      <td>NaN</td>\n",
       "      <td>3.26</td>\n",
       "      <td>NaN</td>\n",
       "      <td>NaN</td>\n",
       "      <td>NaN</td>\n",
       "      <td>NaN</td>\n",
       "    </tr>\n",
       "    <tr>\n",
       "      <th>13</th>\n",
       "      <td>1999.0</td>\n",
       "      <td>NaN</td>\n",
       "      <td>2.80</td>\n",
       "      <td>NaN</td>\n",
       "      <td>NaN</td>\n",
       "      <td>NaN</td>\n",
       "      <td>NaN</td>\n",
       "    </tr>\n",
       "    <tr>\n",
       "      <th>14</th>\n",
       "      <td>2000.0</td>\n",
       "      <td>NaN</td>\n",
       "      <td>4.66</td>\n",
       "      <td>NaN</td>\n",
       "      <td>NaN</td>\n",
       "      <td>NaN</td>\n",
       "      <td>NaN</td>\n",
       "    </tr>\n",
       "    <tr>\n",
       "      <th>15</th>\n",
       "      <td>2001.0</td>\n",
       "      <td>NaN</td>\n",
       "      <td>5.47</td>\n",
       "      <td>NaN</td>\n",
       "      <td>NaN</td>\n",
       "      <td>NaN</td>\n",
       "      <td>NaN</td>\n",
       "    </tr>\n",
       "    <tr>\n",
       "      <th>16</th>\n",
       "      <td>2002.0</td>\n",
       "      <td>NaN</td>\n",
       "      <td>8.56</td>\n",
       "      <td>NaN</td>\n",
       "      <td>NaN</td>\n",
       "      <td>NaN</td>\n",
       "      <td>NaN</td>\n",
       "    </tr>\n",
       "    <tr>\n",
       "      <th>17</th>\n",
       "      <td>2003.0</td>\n",
       "      <td>NaN</td>\n",
       "      <td>8.84</td>\n",
       "      <td>NaN</td>\n",
       "      <td>NaN</td>\n",
       "      <td>NaN</td>\n",
       "      <td>NaN</td>\n",
       "    </tr>\n",
       "    <tr>\n",
       "      <th>18</th>\n",
       "      <td>2004.0</td>\n",
       "      <td>NaN</td>\n",
       "      <td>10.39</td>\n",
       "      <td>NaN</td>\n",
       "      <td>NaN</td>\n",
       "      <td>NaN</td>\n",
       "      <td>NaN</td>\n",
       "    </tr>\n",
       "    <tr>\n",
       "      <th>19</th>\n",
       "      <td>2005.0</td>\n",
       "      <td>NaN</td>\n",
       "      <td>4.36</td>\n",
       "      <td>NaN</td>\n",
       "      <td>NaN</td>\n",
       "      <td>8.25</td>\n",
       "      <td>NaN</td>\n",
       "    </tr>\n",
       "    <tr>\n",
       "      <th>20</th>\n",
       "      <td>2006.0</td>\n",
       "      <td>NaN</td>\n",
       "      <td>2.81</td>\n",
       "      <td>20.46</td>\n",
       "      <td>NaN</td>\n",
       "      <td>51.55</td>\n",
       "      <td>NaN</td>\n",
       "    </tr>\n",
       "    <tr>\n",
       "      <th>21</th>\n",
       "      <td>2007.0</td>\n",
       "      <td>NaN</td>\n",
       "      <td>9.23</td>\n",
       "      <td>72.99</td>\n",
       "      <td>NaN</td>\n",
       "      <td>94.37</td>\n",
       "      <td>NaN</td>\n",
       "    </tr>\n",
       "    <tr>\n",
       "      <th>22</th>\n",
       "      <td>2008.0</td>\n",
       "      <td>NaN</td>\n",
       "      <td>12.26</td>\n",
       "      <td>117.01</td>\n",
       "      <td>NaN</td>\n",
       "      <td>134.07</td>\n",
       "      <td>NaN</td>\n",
       "    </tr>\n",
       "    <tr>\n",
       "      <th>23</th>\n",
       "      <td>2009.0</td>\n",
       "      <td>NaN</td>\n",
       "      <td>16.33</td>\n",
       "      <td>128.92</td>\n",
       "      <td>NaN</td>\n",
       "      <td>118.39</td>\n",
       "      <td>NaN</td>\n",
       "    </tr>\n",
       "    <tr>\n",
       "      <th>24</th>\n",
       "      <td>2010.0</td>\n",
       "      <td>NaN</td>\n",
       "      <td>24.13</td>\n",
       "      <td>140.18</td>\n",
       "      <td>NaN</td>\n",
       "      <td>166.93</td>\n",
       "      <td>NaN</td>\n",
       "    </tr>\n",
       "    <tr>\n",
       "      <th>25</th>\n",
       "      <td>2011.0</td>\n",
       "      <td>60.53</td>\n",
       "      <td>34.55</td>\n",
       "      <td>154.14</td>\n",
       "      <td>NaN</td>\n",
       "      <td>140.18</td>\n",
       "      <td>NaN</td>\n",
       "    </tr>\n",
       "    <tr>\n",
       "      <th>26</th>\n",
       "      <td>2012.0</td>\n",
       "      <td>51.01</td>\n",
       "      <td>23.22</td>\n",
       "      <td>107.29</td>\n",
       "      <td>NaN</td>\n",
       "      <td>99.57</td>\n",
       "      <td>NaN</td>\n",
       "    </tr>\n",
       "    <tr>\n",
       "      <th>27</th>\n",
       "      <td>2013.0</td>\n",
       "      <td>56.32</td>\n",
       "      <td>12.38</td>\n",
       "      <td>113.24</td>\n",
       "      <td>25.99</td>\n",
       "      <td>88.57</td>\n",
       "      <td>18.96</td>\n",
       "    </tr>\n",
       "    <tr>\n",
       "      <th>28</th>\n",
       "      <td>2014.0</td>\n",
       "      <td>43.07</td>\n",
       "      <td>13.25</td>\n",
       "      <td>47.40</td>\n",
       "      <td>100.00</td>\n",
       "      <td>33.77</td>\n",
       "      <td>54.07</td>\n",
       "    </tr>\n",
       "    <tr>\n",
       "      <th>29</th>\n",
       "      <td>2015.0</td>\n",
       "      <td>27.21</td>\n",
       "      <td>8.49</td>\n",
       "      <td>16.30</td>\n",
       "      <td>118.86</td>\n",
       "      <td>11.87</td>\n",
       "      <td>59.92</td>\n",
       "    </tr>\n",
       "    <tr>\n",
       "      <th>30</th>\n",
       "      <td>2016.0</td>\n",
       "      <td>15.10</td>\n",
       "      <td>5.22</td>\n",
       "      <td>3.16</td>\n",
       "      <td>69.15</td>\n",
       "      <td>1.22</td>\n",
       "      <td>25.82</td>\n",
       "    </tr>\n",
       "  </tbody>\n",
       "</table>\n",
       "</div>"
      ],
      "text/plain": [
       "Platform  Year_of_Release    3DS     PC     PS3     PS4    X360   XOne\n",
       "0                  1986.0    NaN    NaN     NaN     NaN     NaN    NaN\n",
       "1                  1987.0    NaN    NaN     NaN     NaN     NaN    NaN\n",
       "2                  1988.0    NaN   0.03     NaN     NaN     NaN    NaN\n",
       "3                  1989.0    NaN    NaN     NaN     NaN     NaN    NaN\n",
       "4                  1990.0    NaN    NaN     NaN     NaN     NaN    NaN\n",
       "5                  1991.0    NaN    NaN     NaN     NaN     NaN    NaN\n",
       "6                  1992.0    NaN   3.03     NaN     NaN     NaN    NaN\n",
       "7                  1993.0    NaN    NaN     NaN     NaN     NaN    NaN\n",
       "8                  1994.0    NaN  12.87     NaN     NaN     NaN    NaN\n",
       "9                  1995.0    NaN   4.22     NaN     NaN     NaN    NaN\n",
       "10                 1996.0    NaN  10.58     NaN     NaN     NaN    NaN\n",
       "11                 1997.0    NaN  11.27     NaN     NaN     NaN    NaN\n",
       "12                 1998.0    NaN   3.26     NaN     NaN     NaN    NaN\n",
       "13                 1999.0    NaN   2.80     NaN     NaN     NaN    NaN\n",
       "14                 2000.0    NaN   4.66     NaN     NaN     NaN    NaN\n",
       "15                 2001.0    NaN   5.47     NaN     NaN     NaN    NaN\n",
       "16                 2002.0    NaN   8.56     NaN     NaN     NaN    NaN\n",
       "17                 2003.0    NaN   8.84     NaN     NaN     NaN    NaN\n",
       "18                 2004.0    NaN  10.39     NaN     NaN     NaN    NaN\n",
       "19                 2005.0    NaN   4.36     NaN     NaN    8.25    NaN\n",
       "20                 2006.0    NaN   2.81   20.46     NaN   51.55    NaN\n",
       "21                 2007.0    NaN   9.23   72.99     NaN   94.37    NaN\n",
       "22                 2008.0    NaN  12.26  117.01     NaN  134.07    NaN\n",
       "23                 2009.0    NaN  16.33  128.92     NaN  118.39    NaN\n",
       "24                 2010.0    NaN  24.13  140.18     NaN  166.93    NaN\n",
       "25                 2011.0  60.53  34.55  154.14     NaN  140.18    NaN\n",
       "26                 2012.0  51.01  23.22  107.29     NaN   99.57    NaN\n",
       "27                 2013.0  56.32  12.38  113.24   25.99   88.57  18.96\n",
       "28                 2014.0  43.07  13.25   47.40  100.00   33.77  54.07\n",
       "29                 2015.0  27.21   8.49   16.30  118.86   11.87  59.92\n",
       "30                 2016.0  15.10   5.22    3.16   69.15    1.22  25.82"
      ]
     },
     "execution_count": 21,
     "metadata": {},
     "output_type": "execute_result"
    }
   ],
   "source": [
    "print('\\033[1m' + 'Платформы, игры на которых продавались в 2016 г.')\n",
    "sales_2016 = top_platforms_sales[top_platforms_sales.columns[top_platforms_sales[top_platforms_sales['Year_of_Release']==2016].notna().all()]]\n",
    "sales_2016"
   ]
  },
  {
   "cell_type": "markdown",
   "metadata": {
    "colab_type": "text",
    "id": "rn5BPvxmPRrM"
   },
   "source": [
    "<div align=\"left\", style=\"border:solid grey 2px; padding: 30px\">\n",
    "    На основании того, что:<br>\n",
    "    1) продажи по платформе в 2016 году положительные;<br>\n",
    "    2) время от старта продаж по платформе меньше, чем срок жизни платформы ;<br>\n",
    "    3) тренд продаж не нисходящий<br>\n",
    "    (PC исключение) <br>\n",
    "    выбираем следующие платформы на 2017 год: XOne, PS4, PC.\n",
    "\n",
    "</div>"
   ]
  },
  {
   "cell_type": "code",
   "execution_count": 22,
   "metadata": {
    "colab": {
     "base_uri": "https://localhost:8080/",
     "height": 35
    },
    "colab_type": "code",
    "id": "dUIoBYD-wv_Q",
    "outputId": "a3f97f92-b32c-4732-c687-d48631b990b9"
   },
   "outputs": [
    {
     "data": {
      "text/plain": [
       "['XOne', 'PS4', 'PC']"
      ]
     },
     "execution_count": 22,
     "metadata": {},
     "output_type": "execute_result"
    }
   ],
   "source": [
    "platforms2017 = ['XOne', 'PS4', 'PC']\n",
    "platforms2017"
   ]
  },
  {
   "cell_type": "markdown",
   "metadata": {},
   "source": [
    "<font color=green>Обоснование своих действий - очень важная часть проекта. \n",
    "    \n",
    "---"
   ]
  },
  {
   "cell_type": "markdown",
   "metadata": {
    "colab_type": "text",
    "id": "8COHiyVxYYCy"
   },
   "source": [
    "### Анализ продаж по выбранным платформам"
   ]
  },
  {
   "cell_type": "markdown",
   "metadata": {
    "colab_type": "text",
    "id": "RFrpq8V0bC-j"
   },
   "source": [
    "#### Сравниваем распределения"
   ]
  },
  {
   "cell_type": "code",
   "execution_count": 23,
   "metadata": {
    "colab": {
     "base_uri": "https://localhost:8080/",
     "height": 295
    },
    "colab_type": "code",
    "id": "0Q9aWejtxfP1",
    "outputId": "20ab648b-2d08-466a-ca40-2cb2ef310b4d"
   },
   "outputs": [
    {
     "data": {
      "image/png": "[encoded data removed]",
      "text/plain": [
       "<Figure size 720x288 with 1 Axes>"
      ]
     },
     "metadata": {
      "needs_background": "light"
     },
     "output_type": "display_data"
    }
   ],
   "source": [
    "top_platforms = top_platforms_sales[top_platforms_sales.columns[top_platforms_sales[top_platforms_sales['Year_of_Release']==2016].notna().all()]].columns[:2]\n",
    "\n",
    "sns.boxplot(x='Platform', y='Tot_sales', \n",
    "             data=df.query('Platform in @platforms2017 and Year_of_Release > @actual_year'), showmeans=True)\n",
    "fig = plt.gcf()\n",
    "plt.title('Боксплоты распределений продаж по выбранным платформам')\n",
    "plt.ylim(0, 2)\n",
    "fig.set_size_inches(10, 4)\n"
   ]
  },
  {
   "cell_type": "code",
   "execution_count": 24,
   "metadata": {
    "colab": {
     "base_uri": "https://localhost:8080/",
     "height": 88
    },
    "colab_type": "code",
    "id": "AD_38LVO8uSf",
    "outputId": "2a49768e-0123-4243-e20d-b16ea4b703b0"
   },
   "outputs": [
    {
     "data": {
      "text/plain": [
       "PC      730\n",
       "PS4     386\n",
       "XOne    236\n",
       "Name: Platform, dtype: int64"
      ]
     },
     "execution_count": 24,
     "metadata": {},
     "output_type": "execute_result"
    }
   ],
   "source": [
    "df.query('Platform in @platforms2017 and Year_of_Release >@actual_year')['Platform'].value_counts()"
   ]
  },
  {
   "cell_type": "code",
   "execution_count": 25,
   "metadata": {},
   "outputs": [
    {
     "data": {
      "text/plain": [
       "PC_sales      0.302981\n",
       "XOne_sales    0.934038\n",
       "PS4_sales     1.914519\n",
       "dtype: float64"
      ]
     },
     "execution_count": 25,
     "metadata": {},
     "output_type": "execute_result"
    }
   ],
   "source": [
    "PC = df[df['Platform'] == 'PC'][['Name', 'Tot_sales']]\n",
    "PC.columns = ['Name', 'PC_sales']\n",
    "\n",
    "XOne = df[df['Platform'] == 'XOne'][['Name', 'Tot_sales']]\n",
    "XOne.columns = ['Name', 'XOne_sales']\n",
    "\n",
    "PS4 = df[df['Platform'] == 'PS4'][['Name', 'Tot_sales']]\n",
    "PS4.columns = ['Name', 'PS4_sales']\n",
    "\n",
    "dff = pd.merge(PC, XOne, how='inner', on=['Name']).merge(PS4, on='Name')\n",
    "\n",
    "\n",
    "\n",
    "dff.mean()\n",
    "#dff.count()\n"
   ]
  },
  {
   "cell_type": "markdown",
   "metadata": {
    "colab_type": "text",
    "id": "9U9n_LpBZWoZ"
   },
   "source": [
    "<div align=\"left\", style=\"border:solid grey 2px; padding: 30px\">\n",
    "Игры на приставочных платформах продаются одинаково. Игры на ПК продаются заметно хуже, чем на приставочных, по всем показателям: средние, медианные, максимальные и минимальные продажи. При этом количество продаваемых игр на ПК больше, чем на ХОne и PS4 вместе взятых. <br>\n",
    "Средние продажи каждой игры, которая выходила на всех трех платформах на РС в три раза меньше, чем на XOne и в 6 раз меньше, чем на PS4. <br>\n",
    "На это влияет в том числе цена - при прочих равных игры на консолях дороже за счет необходимости оплаты разработчиками лицензионных платежей в пользу платформ.</div>"
   ]
  },
  {
   "cell_type": "markdown",
   "metadata": {
    "colab_type": "text",
    "id": "ce69lA_PcLYV"
   },
   "source": [
    "#### Влияние рейтингов пользователей и критиков"
   ]
  },
  {
   "cell_type": "code",
   "execution_count": 26,
   "metadata": {},
   "outputs": [
    {
     "name": "stdout",
     "output_type": "stream",
     "text": [
      "XOne\n",
      "-0.06892505328279414\n",
      "0.41215586820316974\n",
      "PS4\n",
      "-0.031957110204556424\n",
      "0.4064685741971657\n",
      "PC\n",
      "-0.020555707172675488\n",
      "0.2862999409914994\n"
     ]
    },
    {
     "data": {
      "image/png": "[encoded data removed]",
      "text/plain": [
       "<Figure size 1800x360 with 2 Axes>"
      ]
     },
     "metadata": {
      "needs_background": "light"
     },
     "output_type": "display_data"
    },
    {
     "data": {
      "image/png": "[encoded data removed]",
      "text/plain": [
       "<Figure size 1800x360 with 2 Axes>"
      ]
     },
     "metadata": {
      "needs_background": "light"
     },
     "output_type": "display_data"
    },
    {
     "data": {
      "image/png": "[encoded data removed]",
      "text/plain": [
       "<Figure size 1800x360 with 2 Axes>"
      ]
     },
     "metadata": {
      "needs_background": "light"
     },
     "output_type": "display_data"
    }
   ],
   "source": [
    "for platform in platforms2017:\n",
    "    print(platform)\n",
    "    f, axes = plt.subplots(1, 2, figsize=(25, 5), sharex=False)\n",
    "    f.suptitle('Влияние рейтингов на продажи {}'.format(platform))\n",
    "    axes[0].set_title(\"Рейтинг критиков\")\n",
    "    axes[1].set_title(\"Рейтинг пользователей\")\n",
    "    sns.scatterplot(data = df.query('Platform == @platform and Year_of_Release >@actual_year')\n",
    "            ,x = 'Critic_Score'\n",
    "            ,y = 'Tot_sales'\n",
    "            ,ax=axes[0])\n",
    "    sns.scatterplot(data = df.query('Platform == \"XOne\" and Year_of_Release >@actual_year')\n",
    "            ,x = 'User_Score'\n",
    "            ,y = 'Tot_sales'\n",
    "            ,ax=axes[1])\n",
    "    print(df.query('Platform == @platform and Year_of_Release >@actual_year')['User_Score'].corr(df['Tot_sales']))\n",
    "    print(df.query('Platform == @platform and Year_of_Release >@actual_year')['Critic_Score'].corr(df['Tot_sales']))"
   ]
  },
  {
   "cell_type": "markdown",
   "metadata": {
    "colab_type": "text",
    "id": "Z7rrqX6QcZWa"
   },
   "source": [
    "<div align=\"left\", style=\"border:solid grey 2px; padding: 30px\">\n",
    "    По диаграммам рассеивания видно, что продажи игр по выбранным платформам коррелируют с рейтингами критиков. Коэффициент корреляции составляет от 0,29 до 0,41.<br>\n",
    "При этом корреляция продаж и рейтинга пользователей отсутствует.<br>\n",
    "Наличие одной и отсутствие другой зависимости можно объяснить тем, что пользователи, которые собственно покупают игры, ориентируются на отзывы критиков, а не других пользователей.<br>\n",
    "Ситуация одинакова для всех выбранных платформ.\n",
    "</div>"
   ]
  },
  {
   "cell_type": "markdown",
   "metadata": {
    "colab_type": "text",
    "id": "1aFlHdyQfGQb"
   },
   "source": [
    "#### Влияние жанра игры на продажи"
   ]
  },
  {
   "cell_type": "code",
   "execution_count": 27,
   "metadata": {
    "colab": {
     "base_uri": "https://localhost:8080/",
     "height": 399
    },
    "colab_type": "code",
    "id": "BMn1y7r9LYLe",
    "outputId": "14763212-b298-47b9-cb42-0a0578f721d9"
   },
   "outputs": [
    {
     "name": "stderr",
     "output_type": "stream",
     "text": [
      "T:\\Programs\\Anaconda\\lib\\site-packages\\ipykernel_launcher.py:1: RuntimeWarning: invalid value encountered in double_scalars\n",
      "  \"\"\"Entry point for launching an IPython kernel.\n"
     ]
    },
    {
     "data": {
      "text/html": [
       "<div>\n",
       "<style scoped>\n",
       "    .dataframe tbody tr th:only-of-type {\n",
       "        vertical-align: middle;\n",
       "    }\n",
       "\n",
       "    .dataframe tbody tr th {\n",
       "        vertical-align: top;\n",
       "    }\n",
       "\n",
       "    .dataframe thead th {\n",
       "        text-align: right;\n",
       "    }\n",
       "</style>\n",
       "<table border=\"1\" class=\"dataframe\">\n",
       "  <thead>\n",
       "    <tr style=\"text-align: right;\">\n",
       "      <th></th>\n",
       "      <th>genre</th>\n",
       "      <th>sum</th>\n",
       "      <th>count</th>\n",
       "      <th>sales_per_game</th>\n",
       "    </tr>\n",
       "  </thead>\n",
       "  <tbody>\n",
       "    <tr>\n",
       "      <th>8</th>\n",
       "      <td>Shooter</td>\n",
       "      <td>402.27</td>\n",
       "      <td>316</td>\n",
       "      <td>1.273006</td>\n",
       "    </tr>\n",
       "    <tr>\n",
       "      <th>4</th>\n",
       "      <td>Platform</td>\n",
       "      <td>87.71</td>\n",
       "      <td>110</td>\n",
       "      <td>0.797364</td>\n",
       "    </tr>\n",
       "    <tr>\n",
       "      <th>10</th>\n",
       "      <td>Sports</td>\n",
       "      <td>229.89</td>\n",
       "      <td>340</td>\n",
       "      <td>0.676147</td>\n",
       "    </tr>\n",
       "    <tr>\n",
       "      <th>6</th>\n",
       "      <td>Racing</td>\n",
       "      <td>86.20</td>\n",
       "      <td>160</td>\n",
       "      <td>0.538750</td>\n",
       "    </tr>\n",
       "    <tr>\n",
       "      <th>7</th>\n",
       "      <td>Role-Playing</td>\n",
       "      <td>245.63</td>\n",
       "      <td>465</td>\n",
       "      <td>0.528237</td>\n",
       "    </tr>\n",
       "    <tr>\n",
       "      <th>0</th>\n",
       "      <td>Action</td>\n",
       "      <td>546.15</td>\n",
       "      <td>1188</td>\n",
       "      <td>0.459722</td>\n",
       "    </tr>\n",
       "    <tr>\n",
       "      <th>3</th>\n",
       "      <td>Misc</td>\n",
       "      <td>119.88</td>\n",
       "      <td>279</td>\n",
       "      <td>0.429677</td>\n",
       "    </tr>\n",
       "    <tr>\n",
       "      <th>2</th>\n",
       "      <td>Fighting</td>\n",
       "      <td>66.78</td>\n",
       "      <td>156</td>\n",
       "      <td>0.428077</td>\n",
       "    </tr>\n",
       "    <tr>\n",
       "      <th>9</th>\n",
       "      <td>Simulation</td>\n",
       "      <td>47.16</td>\n",
       "      <td>112</td>\n",
       "      <td>0.421071</td>\n",
       "    </tr>\n",
       "    <tr>\n",
       "      <th>5</th>\n",
       "      <td>Puzzle</td>\n",
       "      <td>8.36</td>\n",
       "      <td>43</td>\n",
       "      <td>0.194419</td>\n",
       "    </tr>\n",
       "    <tr>\n",
       "      <th>11</th>\n",
       "      <td>Strategy</td>\n",
       "      <td>22.08</td>\n",
       "      <td>116</td>\n",
       "      <td>0.190345</td>\n",
       "    </tr>\n",
       "    <tr>\n",
       "      <th>1</th>\n",
       "      <td>Adventure</td>\n",
       "      <td>43.24</td>\n",
       "      <td>388</td>\n",
       "      <td>0.111443</td>\n",
       "    </tr>\n",
       "  </tbody>\n",
       "</table>\n",
       "</div>"
      ],
      "text/plain": [
       "           genre     sum  count  sales_per_game\n",
       "8        Shooter  402.27    316        1.273006\n",
       "4       Platform   87.71    110        0.797364\n",
       "10        Sports  229.89    340        0.676147\n",
       "6         Racing   86.20    160        0.538750\n",
       "7   Role-Playing  245.63    465        0.528237\n",
       "0         Action  546.15   1188        0.459722\n",
       "3           Misc  119.88    279        0.429677\n",
       "2       Fighting   66.78    156        0.428077\n",
       "9     Simulation   47.16    112        0.421071\n",
       "5         Puzzle    8.36     43        0.194419\n",
       "11      Strategy   22.08    116        0.190345\n",
       "1      Adventure   43.24    388        0.111443"
      ]
     },
     "execution_count": 27,
     "metadata": {},
     "output_type": "execute_result"
    }
   ],
   "source": [
    "a = df.query('Year_of_Release >2010').groupby('Genre')['Tot_sales'].agg(['sum', 'count', lambda x: x.sum()/ x.count()]).reset_index()\n",
    "a.columns = ['genre', 'sum', 'count', 'sales_per_game']\n",
    "a.sort_values('sales_per_game', ascending=False)"
   ]
  },
  {
   "cell_type": "code",
   "execution_count": 28,
   "metadata": {
    "colab": {
     "base_uri": "https://localhost:8080/",
     "height": 279
    },
    "colab_type": "code",
    "id": "9PNMGS5-LYOy",
    "outputId": "0f7e0b39-4a0a-4ca7-f206-c7309121656b"
   },
   "outputs": [
    {
     "data": {
      "image/png": "[encoded data removed]",
      "text/plain": [
       "<Figure size 864x288 with 1 Axes>"
      ]
     },
     "metadata": {
      "needs_background": "light"
     },
     "output_type": "display_data"
    }
   ],
   "source": [
    "sns.barplot(data = a.sort_values('sales_per_game', ascending=False)\n",
    "            ,x = 'genre'\n",
    "            ,y = 'sales_per_game')\n",
    "fig = plt.gcf()\n",
    "plt.title('Средние продажи одной игры по жанрам')\n",
    "fig.set_size_inches(12, 4)"
   ]
  },
  {
   "cell_type": "code",
   "execution_count": 29,
   "metadata": {
    "colab": {
     "base_uri": "https://localhost:8080/",
     "height": 661
    },
    "colab_type": "code",
    "id": "PxWsZy3egM0O",
    "outputId": "11468d75-5494-43f4-f070-e5d68dc2e822"
   },
   "outputs": [
    {
     "data": {
      "text/html": [
       "<div>\n",
       "<style scoped>\n",
       "    .dataframe tbody tr th:only-of-type {\n",
       "        vertical-align: middle;\n",
       "    }\n",
       "\n",
       "    .dataframe tbody tr th {\n",
       "        vertical-align: top;\n",
       "    }\n",
       "\n",
       "    .dataframe thead th {\n",
       "        text-align: right;\n",
       "    }\n",
       "</style>\n",
       "<table border=\"1\" class=\"dataframe\">\n",
       "  <thead>\n",
       "    <tr style=\"text-align: right;\">\n",
       "      <th></th>\n",
       "      <th>genre</th>\n",
       "      <th>sum</th>\n",
       "      <th>count</th>\n",
       "      <th>sales_per_game</th>\n",
       "    </tr>\n",
       "  </thead>\n",
       "  <tbody>\n",
       "    <tr>\n",
       "      <th>0</th>\n",
       "      <td>Action</td>\n",
       "      <td>546.15</td>\n",
       "      <td>1188</td>\n",
       "      <td>0.459722</td>\n",
       "    </tr>\n",
       "    <tr>\n",
       "      <th>1</th>\n",
       "      <td>Adventure</td>\n",
       "      <td>43.24</td>\n",
       "      <td>388</td>\n",
       "      <td>0.111443</td>\n",
       "    </tr>\n",
       "    <tr>\n",
       "      <th>2</th>\n",
       "      <td>Fighting</td>\n",
       "      <td>66.78</td>\n",
       "      <td>156</td>\n",
       "      <td>0.428077</td>\n",
       "    </tr>\n",
       "    <tr>\n",
       "      <th>3</th>\n",
       "      <td>Misc</td>\n",
       "      <td>119.88</td>\n",
       "      <td>279</td>\n",
       "      <td>0.429677</td>\n",
       "    </tr>\n",
       "    <tr>\n",
       "      <th>4</th>\n",
       "      <td>Platform</td>\n",
       "      <td>87.71</td>\n",
       "      <td>110</td>\n",
       "      <td>0.797364</td>\n",
       "    </tr>\n",
       "    <tr>\n",
       "      <th>5</th>\n",
       "      <td>Puzzle</td>\n",
       "      <td>8.36</td>\n",
       "      <td>43</td>\n",
       "      <td>0.194419</td>\n",
       "    </tr>\n",
       "    <tr>\n",
       "      <th>6</th>\n",
       "      <td>Racing</td>\n",
       "      <td>86.20</td>\n",
       "      <td>160</td>\n",
       "      <td>0.538750</td>\n",
       "    </tr>\n",
       "    <tr>\n",
       "      <th>7</th>\n",
       "      <td>Role-Playing</td>\n",
       "      <td>245.63</td>\n",
       "      <td>465</td>\n",
       "      <td>0.528237</td>\n",
       "    </tr>\n",
       "    <tr>\n",
       "      <th>8</th>\n",
       "      <td>Shooter</td>\n",
       "      <td>402.27</td>\n",
       "      <td>316</td>\n",
       "      <td>1.273006</td>\n",
       "    </tr>\n",
       "    <tr>\n",
       "      <th>9</th>\n",
       "      <td>Simulation</td>\n",
       "      <td>47.16</td>\n",
       "      <td>112</td>\n",
       "      <td>0.421071</td>\n",
       "    </tr>\n",
       "    <tr>\n",
       "      <th>10</th>\n",
       "      <td>Sports</td>\n",
       "      <td>229.89</td>\n",
       "      <td>340</td>\n",
       "      <td>0.676147</td>\n",
       "    </tr>\n",
       "    <tr>\n",
       "      <th>11</th>\n",
       "      <td>Strategy</td>\n",
       "      <td>22.08</td>\n",
       "      <td>116</td>\n",
       "      <td>0.190345</td>\n",
       "    </tr>\n",
       "  </tbody>\n",
       "</table>\n",
       "</div>"
      ],
      "text/plain": [
       "           genre     sum  count  sales_per_game\n",
       "0         Action  546.15   1188        0.459722\n",
       "1      Adventure   43.24    388        0.111443\n",
       "2       Fighting   66.78    156        0.428077\n",
       "3           Misc  119.88    279        0.429677\n",
       "4       Platform   87.71    110        0.797364\n",
       "5         Puzzle    8.36     43        0.194419\n",
       "6         Racing   86.20    160        0.538750\n",
       "7   Role-Playing  245.63    465        0.528237\n",
       "8        Shooter  402.27    316        1.273006\n",
       "9     Simulation   47.16    112        0.421071\n",
       "10        Sports  229.89    340        0.676147\n",
       "11      Strategy   22.08    116        0.190345"
      ]
     },
     "execution_count": 29,
     "metadata": {},
     "output_type": "execute_result"
    },
    {
     "data": {
      "image/png": "[encoded data removed]",
      "text/plain": [
       "<Figure size 864x288 with 1 Axes>"
      ]
     },
     "metadata": {
      "needs_background": "light"
     },
     "output_type": "display_data"
    }
   ],
   "source": [
    "a.sort_values('sum', ascending=False)\n",
    "sns.barplot(data = a.sort_values('sum', ascending=False)\n",
    "            ,x = 'genre'\n",
    "            ,y = 'sum')\n",
    "fig = plt.gcf()\n",
    "plt.title('Суммарные продажи игр по жанрам')\n",
    "fig.set_size_inches(12, 4)\n",
    "a"
   ]
  },
  {
   "cell_type": "markdown",
   "metadata": {
    "colab_type": "text",
    "id": "9Vm9CVDqgKF7"
   },
   "source": [
    "<div align=\"left\", style=\"border:solid grey 2px; padding: 30px\">\n",
    "    Топ-3 жанров по суммарным продажам: экшн, шутер и РПГ.<br>\n",
    "Топ-3 жанров по продажам на одну игру: шутер, платформер и спорт.<br>\n",
    "Шутер - явный лидер для нашего маганзина.</div>"
   ]
  },
  {
   "cell_type": "markdown",
   "metadata": {},
   "source": [
    "На данный момент мы выяснили, что:<br>\n",
    "в год выпускается примерно 300 новых игр, треть из них мультиплатформенные;<br>\n",
    "лидерами по настоящий момент среди платформ по продажам были PS и Xbox;<br>\n",
    "средний срок жизни платформы составляет 8,5 лет;<br>\n",
    "перспективными платформами на 2017 год будут являться продолжения PS и Xbox в лице PS4 и XOne, также актуальность сохраняет PC;<br>\n",
    "на PC выходит больше игр, чем на выбранные консоли, но продаются они значительно дешевле, что приводит к значительно меньшим продажам;<br>\n",
    "больше всего продается игр жанров экшн, шутер, РПГ, но стоит иметь в виду, что себестоимость данных игр выше, чем других жанров.<br>"
   ]
  },
  {
   "cell_type": "markdown",
   "metadata": {
    "colab_type": "text",
    "id": "IENSkgMSpbFH"
   },
   "source": [
    "### 4 Портрет пользователя каждого региона"
   ]
  },
  {
   "cell_type": "markdown",
   "metadata": {
    "colab_type": "text",
    "id": "-Xga8O2B10Es"
   },
   "source": [
    "#### NA"
   ]
  },
  {
   "cell_type": "code",
   "execution_count": 30,
   "metadata": {
    "colab": {
     "base_uri": "https://localhost:8080/",
     "height": 194
    },
    "colab_type": "code",
    "id": "wtb1q5PCpaCq",
    "outputId": "c21ea16e-cdbc-4a99-91f9-fc3657257304"
   },
   "outputs": [
    {
     "data": {
      "text/html": [
       "<div>\n",
       "<style scoped>\n",
       "    .dataframe tbody tr th:only-of-type {\n",
       "        vertical-align: middle;\n",
       "    }\n",
       "\n",
       "    .dataframe tbody tr th {\n",
       "        vertical-align: top;\n",
       "    }\n",
       "\n",
       "    .dataframe thead th {\n",
       "        text-align: right;\n",
       "    }\n",
       "</style>\n",
       "<table border=\"1\" class=\"dataframe\">\n",
       "  <thead>\n",
       "    <tr style=\"text-align: right;\">\n",
       "      <th></th>\n",
       "      <th>Platform</th>\n",
       "      <th>NA_sales</th>\n",
       "      <th>sales_pct</th>\n",
       "    </tr>\n",
       "  </thead>\n",
       "  <tbody>\n",
       "    <tr>\n",
       "      <th>12</th>\n",
       "      <td>X360</td>\n",
       "      <td>578.94</td>\n",
       "      <td>27.0</td>\n",
       "    </tr>\n",
       "    <tr>\n",
       "      <th>10</th>\n",
       "      <td>Wii</td>\n",
       "      <td>412.77</td>\n",
       "      <td>19.0</td>\n",
       "    </tr>\n",
       "    <tr>\n",
       "      <th>6</th>\n",
       "      <td>PS3</td>\n",
       "      <td>383.80</td>\n",
       "      <td>18.0</td>\n",
       "    </tr>\n",
       "    <tr>\n",
       "      <th>1</th>\n",
       "      <td>DS</td>\n",
       "      <td>224.11</td>\n",
       "      <td>10.0</td>\n",
       "    </tr>\n",
       "    <tr>\n",
       "      <th>7</th>\n",
       "      <td>PS4</td>\n",
       "      <td>108.62</td>\n",
       "      <td>5.0</td>\n",
       "    </tr>\n",
       "  </tbody>\n",
       "</table>\n",
       "</div>"
      ],
      "text/plain": [
       "   Platform  NA_sales  sales_pct\n",
       "12     X360    578.94       27.0\n",
       "10      Wii    412.77       19.0\n",
       "6       PS3    383.80       18.0\n",
       "1        DS    224.11       10.0\n",
       "7       PS4    108.62        5.0"
      ]
     },
     "execution_count": 30,
     "metadata": {},
     "output_type": "execute_result"
    }
   ],
   "source": [
    "reg_sales_NA = df.query('NA_sales > 0 and Year_of_Release > @actual_year').groupby('Platform')['NA_sales'].agg('sum').reset_index().sort_values('NA_sales', ascending= False).head(5)\n",
    "tot_sales_NA = df.query('NA_sales > 0 and Year_of_Release > @actual_year')['NA_sales'].sum()\n",
    "reg_sales_NA['sales_pct'] = round(reg_sales_NA['NA_sales'] / tot_sales_NA * 100 )\n",
    "reg_sales_NA"
   ]
  },
  {
   "cell_type": "code",
   "execution_count": 31,
   "metadata": {
    "colab": {
     "base_uri": "https://localhost:8080/",
     "height": 194
    },
    "colab_type": "code",
    "id": "v515RsmdLYXg",
    "outputId": "54f7db23-787c-4b89-aabe-ceda4e41d7ab"
   },
   "outputs": [
    {
     "data": {
      "text/html": [
       "<div>\n",
       "<style scoped>\n",
       "    .dataframe tbody tr th:only-of-type {\n",
       "        vertical-align: middle;\n",
       "    }\n",
       "\n",
       "    .dataframe tbody tr th {\n",
       "        vertical-align: top;\n",
       "    }\n",
       "\n",
       "    .dataframe thead th {\n",
       "        text-align: right;\n",
       "    }\n",
       "</style>\n",
       "<table border=\"1\" class=\"dataframe\">\n",
       "  <thead>\n",
       "    <tr style=\"text-align: right;\">\n",
       "      <th></th>\n",
       "      <th>Genre</th>\n",
       "      <th>NA_sales</th>\n",
       "    </tr>\n",
       "  </thead>\n",
       "  <tbody>\n",
       "    <tr>\n",
       "      <th>0</th>\n",
       "      <td>Action</td>\n",
       "      <td>499.93</td>\n",
       "    </tr>\n",
       "    <tr>\n",
       "      <th>8</th>\n",
       "      <td>Shooter</td>\n",
       "      <td>370.14</td>\n",
       "    </tr>\n",
       "    <tr>\n",
       "      <th>10</th>\n",
       "      <td>Sports</td>\n",
       "      <td>356.99</td>\n",
       "    </tr>\n",
       "    <tr>\n",
       "      <th>3</th>\n",
       "      <td>Misc</td>\n",
       "      <td>232.00</td>\n",
       "    </tr>\n",
       "    <tr>\n",
       "      <th>7</th>\n",
       "      <td>Role-Playing</td>\n",
       "      <td>197.55</td>\n",
       "    </tr>\n",
       "  </tbody>\n",
       "</table>\n",
       "</div>"
      ],
      "text/plain": [
       "           Genre  NA_sales\n",
       "0         Action    499.93\n",
       "8        Shooter    370.14\n",
       "10        Sports    356.99\n",
       "3           Misc    232.00\n",
       "7   Role-Playing    197.55"
      ]
     },
     "execution_count": 31,
     "metadata": {},
     "output_type": "execute_result"
    }
   ],
   "source": [
    "genre_NA = df.query('NA_sales > 0 and Year_of_Release > @actual_year').groupby('Genre')['NA_sales'].agg('sum').reset_index().sort_values('NA_sales', ascending= False).head(5)\n",
    "genre_NA"
   ]
  },
  {
   "cell_type": "code",
   "execution_count": 32,
   "metadata": {
    "colab": {
     "base_uri": "https://localhost:8080/",
     "height": 164
    },
    "colab_type": "code",
    "id": "JXhr5m2Wo2AL",
    "outputId": "f3c042c7-036f-4d65-dcb7-f9e7741b7d3a"
   },
   "outputs": [
    {
     "name": "stderr",
     "output_type": "stream",
     "text": [
      "T:\\Programs\\Anaconda\\lib\\site-packages\\ipykernel_launcher.py:1: RuntimeWarning: invalid value encountered in double_scalars\n",
      "  \"\"\"Entry point for launching an IPython kernel.\n"
     ]
    },
    {
     "data": {
      "text/html": [
       "<div>\n",
       "<style scoped>\n",
       "    .dataframe tbody tr th:only-of-type {\n",
       "        vertical-align: middle;\n",
       "    }\n",
       "\n",
       "    .dataframe tbody tr th {\n",
       "        vertical-align: top;\n",
       "    }\n",
       "\n",
       "    .dataframe thead th {\n",
       "        text-align: right;\n",
       "    }\n",
       "</style>\n",
       "<table border=\"1\" class=\"dataframe\">\n",
       "  <thead>\n",
       "    <tr style=\"text-align: right;\">\n",
       "      <th></th>\n",
       "      <th>Rating</th>\n",
       "      <th>sum</th>\n",
       "      <th>count</th>\n",
       "      <th>&lt;lambda_0&gt;</th>\n",
       "    </tr>\n",
       "  </thead>\n",
       "  <tbody>\n",
       "    <tr>\n",
       "      <th>0</th>\n",
       "      <td>E</td>\n",
       "      <td>638.75</td>\n",
       "      <td>1194</td>\n",
       "      <td>0.534966</td>\n",
       "    </tr>\n",
       "    <tr>\n",
       "      <th>2</th>\n",
       "      <td>M</td>\n",
       "      <td>573.11</td>\n",
       "      <td>968</td>\n",
       "      <td>0.592056</td>\n",
       "    </tr>\n",
       "    <tr>\n",
       "      <th>3</th>\n",
       "      <td>T</td>\n",
       "      <td>400.03</td>\n",
       "      <td>1336</td>\n",
       "      <td>0.299424</td>\n",
       "    </tr>\n",
       "    <tr>\n",
       "      <th>1</th>\n",
       "      <td>E10+</td>\n",
       "      <td>281.08</td>\n",
       "      <td>873</td>\n",
       "      <td>0.321970</td>\n",
       "    </tr>\n",
       "  </tbody>\n",
       "</table>\n",
       "</div>"
      ],
      "text/plain": [
       "  Rating     sum  count  <lambda_0>\n",
       "0      E  638.75   1194    0.534966\n",
       "2      M  573.11    968    0.592056\n",
       "3      T  400.03   1336    0.299424\n",
       "1   E10+  281.08    873    0.321970"
      ]
     },
     "execution_count": 32,
     "metadata": {},
     "output_type": "execute_result"
    }
   ],
   "source": [
    "rating_NA = df.query('NA_sales > 0 and Year_of_Release > @actual_year').groupby('Rating')['NA_sales'].agg(['sum', 'count', lambda x: x.sum()/ x.count()]).reset_index().sort_values('sum', ascending=False)\n",
    "rating_NA"
   ]
  },
  {
   "cell_type": "markdown",
   "metadata": {
    "colab_type": "text",
    "id": "7XX7115g7WN1"
   },
   "source": [
    "#### EU"
   ]
  },
  {
   "cell_type": "code",
   "execution_count": 33,
   "metadata": {
    "colab": {
     "base_uri": "https://localhost:8080/",
     "height": 194
    },
    "colab_type": "code",
    "id": "7MjHFjZ7o2SI",
    "outputId": "c96f9df3-1436-41cb-88e5-d992966f5bbe"
   },
   "outputs": [
    {
     "data": {
      "text/html": [
       "<div>\n",
       "<style scoped>\n",
       "    .dataframe tbody tr th:only-of-type {\n",
       "        vertical-align: middle;\n",
       "    }\n",
       "\n",
       "    .dataframe tbody tr th {\n",
       "        vertical-align: top;\n",
       "    }\n",
       "\n",
       "    .dataframe thead th {\n",
       "        text-align: right;\n",
       "    }\n",
       "</style>\n",
       "<table border=\"1\" class=\"dataframe\">\n",
       "  <thead>\n",
       "    <tr style=\"text-align: right;\">\n",
       "      <th></th>\n",
       "      <th>Platform</th>\n",
       "      <th>EU_sales</th>\n",
       "      <th>sales_pct</th>\n",
       "    </tr>\n",
       "  </thead>\n",
       "  <tbody>\n",
       "    <tr>\n",
       "      <th>6</th>\n",
       "      <td>PS3</td>\n",
       "      <td>324.88</td>\n",
       "      <td>23.0</td>\n",
       "    </tr>\n",
       "    <tr>\n",
       "      <th>12</th>\n",
       "      <td>X360</td>\n",
       "      <td>266.31</td>\n",
       "      <td>19.0</td>\n",
       "    </tr>\n",
       "    <tr>\n",
       "      <th>10</th>\n",
       "      <td>Wii</td>\n",
       "      <td>241.29</td>\n",
       "      <td>17.0</td>\n",
       "    </tr>\n",
       "    <tr>\n",
       "      <th>7</th>\n",
       "      <td>PS4</td>\n",
       "      <td>141.09</td>\n",
       "      <td>10.0</td>\n",
       "    </tr>\n",
       "    <tr>\n",
       "      <th>1</th>\n",
       "      <td>DS</td>\n",
       "      <td>112.13</td>\n",
       "      <td>8.0</td>\n",
       "    </tr>\n",
       "  </tbody>\n",
       "</table>\n",
       "</div>"
      ],
      "text/plain": [
       "   Platform  EU_sales  sales_pct\n",
       "6       PS3    324.88       23.0\n",
       "12     X360    266.31       19.0\n",
       "10      Wii    241.29       17.0\n",
       "7       PS4    141.09       10.0\n",
       "1        DS    112.13        8.0"
      ]
     },
     "execution_count": 33,
     "metadata": {},
     "output_type": "execute_result"
    }
   ],
   "source": [
    "reg_sales_EU = df.query('EU_sales > 0 and Year_of_Release > @actual_year').groupby('Platform')['EU_sales'].agg('sum').reset_index().sort_values('EU_sales', ascending= False).head(5)\n",
    "tot_sales_EU = df.query('EU_sales > 0 and Year_of_Release > @actual_year')['EU_sales'].sum()\n",
    "reg_sales_EU['sales_pct'] = round(reg_sales_EU['EU_sales'] / tot_sales_EU * 100 )\n",
    "reg_sales_EU\n"
   ]
  },
  {
   "cell_type": "code",
   "execution_count": 34,
   "metadata": {
    "colab": {
     "base_uri": "https://localhost:8080/",
     "height": 194
    },
    "colab_type": "code",
    "id": "OXjQJDHfo2VI",
    "outputId": "ca513e35-7575-448d-fb68-eceac9c81c63"
   },
   "outputs": [
    {
     "data": {
      "text/html": [
       "<div>\n",
       "<style scoped>\n",
       "    .dataframe tbody tr th:only-of-type {\n",
       "        vertical-align: middle;\n",
       "    }\n",
       "\n",
       "    .dataframe tbody tr th {\n",
       "        vertical-align: top;\n",
       "    }\n",
       "\n",
       "    .dataframe thead th {\n",
       "        text-align: right;\n",
       "    }\n",
       "</style>\n",
       "<table border=\"1\" class=\"dataframe\">\n",
       "  <thead>\n",
       "    <tr style=\"text-align: right;\">\n",
       "      <th></th>\n",
       "      <th>Genre</th>\n",
       "      <th>EU_sales</th>\n",
       "    </tr>\n",
       "  </thead>\n",
       "  <tbody>\n",
       "    <tr>\n",
       "      <th>0</th>\n",
       "      <td>Action</td>\n",
       "      <td>340.39</td>\n",
       "    </tr>\n",
       "    <tr>\n",
       "      <th>10</th>\n",
       "      <td>Sports</td>\n",
       "      <td>240.44</td>\n",
       "    </tr>\n",
       "    <tr>\n",
       "      <th>8</th>\n",
       "      <td>Shooter</td>\n",
       "      <td>238.50</td>\n",
       "    </tr>\n",
       "    <tr>\n",
       "      <th>3</th>\n",
       "      <td>Misc</td>\n",
       "      <td>131.27</td>\n",
       "    </tr>\n",
       "    <tr>\n",
       "      <th>6</th>\n",
       "      <td>Racing</td>\n",
       "      <td>111.02</td>\n",
       "    </tr>\n",
       "  </tbody>\n",
       "</table>\n",
       "</div>"
      ],
      "text/plain": [
       "      Genre  EU_sales\n",
       "0    Action    340.39\n",
       "10   Sports    240.44\n",
       "8   Shooter    238.50\n",
       "3      Misc    131.27\n",
       "6    Racing    111.02"
      ]
     },
     "execution_count": 34,
     "metadata": {},
     "output_type": "execute_result"
    }
   ],
   "source": [
    "genre_EU = df.query('EU_sales > 0 and Year_of_Release > @actual_year').groupby('Genre')['EU_sales'].agg('sum').reset_index().sort_values('EU_sales', ascending= False).head(5)\n",
    "genre_EU"
   ]
  },
  {
   "cell_type": "code",
   "execution_count": 35,
   "metadata": {
    "colab": {
     "base_uri": "https://localhost:8080/",
     "height": 194
    },
    "colab_type": "code",
    "id": "rcO6rWU7o2XT",
    "outputId": "f9b9b129-51a9-4e2c-9f35-e89f33c254e0"
   },
   "outputs": [
    {
     "name": "stderr",
     "output_type": "stream",
     "text": [
      "T:\\Programs\\Anaconda\\lib\\site-packages\\ipykernel_launcher.py:1: RuntimeWarning: invalid value encountered in double_scalars\n",
      "  \"\"\"Entry point for launching an IPython kernel.\n"
     ]
    },
    {
     "data": {
      "text/html": [
       "<div>\n",
       "<style scoped>\n",
       "    .dataframe tbody tr th:only-of-type {\n",
       "        vertical-align: middle;\n",
       "    }\n",
       "\n",
       "    .dataframe tbody tr th {\n",
       "        vertical-align: top;\n",
       "    }\n",
       "\n",
       "    .dataframe thead th {\n",
       "        text-align: right;\n",
       "    }\n",
       "</style>\n",
       "<table border=\"1\" class=\"dataframe\">\n",
       "  <thead>\n",
       "    <tr style=\"text-align: right;\">\n",
       "      <th></th>\n",
       "      <th>Rating</th>\n",
       "      <th>sum</th>\n",
       "      <th>count</th>\n",
       "      <th>&lt;lambda_0&gt;</th>\n",
       "    </tr>\n",
       "  </thead>\n",
       "  <tbody>\n",
       "    <tr>\n",
       "      <th>0</th>\n",
       "      <td>E</td>\n",
       "      <td>413.39</td>\n",
       "      <td>992</td>\n",
       "      <td>0.416724</td>\n",
       "    </tr>\n",
       "    <tr>\n",
       "      <th>2</th>\n",
       "      <td>M</td>\n",
       "      <td>398.35</td>\n",
       "      <td>1003</td>\n",
       "      <td>0.397159</td>\n",
       "    </tr>\n",
       "    <tr>\n",
       "      <th>4</th>\n",
       "      <td>T</td>\n",
       "      <td>226.66</td>\n",
       "      <td>1248</td>\n",
       "      <td>0.181619</td>\n",
       "    </tr>\n",
       "    <tr>\n",
       "      <th>1</th>\n",
       "      <td>E10+</td>\n",
       "      <td>161.98</td>\n",
       "      <td>759</td>\n",
       "      <td>0.213412</td>\n",
       "    </tr>\n",
       "    <tr>\n",
       "      <th>3</th>\n",
       "      <td>RP</td>\n",
       "      <td>0.03</td>\n",
       "      <td>1</td>\n",
       "      <td>0.030000</td>\n",
       "    </tr>\n",
       "  </tbody>\n",
       "</table>\n",
       "</div>"
      ],
      "text/plain": [
       "  Rating     sum  count  <lambda_0>\n",
       "0      E  413.39    992    0.416724\n",
       "2      M  398.35   1003    0.397159\n",
       "4      T  226.66   1248    0.181619\n",
       "1   E10+  161.98    759    0.213412\n",
       "3     RP    0.03      1    0.030000"
      ]
     },
     "execution_count": 35,
     "metadata": {},
     "output_type": "execute_result"
    }
   ],
   "source": [
    "rating_EU = df.query('EU_sales > 0 and Year_of_Release > @actual_year').groupby('Rating')['EU_sales'].agg(['sum', 'count', lambda x: x.sum()/ x.count()]).reset_index().sort_values('sum', ascending=False)\n",
    "rating_EU"
   ]
  },
  {
   "cell_type": "markdown",
   "metadata": {
    "colab_type": "text",
    "id": "CAWjMj687aZD"
   },
   "source": [
    "#### JP"
   ]
  },
  {
   "cell_type": "code",
   "execution_count": 36,
   "metadata": {
    "colab": {
     "base_uri": "https://localhost:8080/",
     "height": 194
    },
    "colab_type": "code",
    "id": "_cq8VrXwo2aJ",
    "outputId": "b6f011ec-539f-4433-a23d-038c856f5dfa"
   },
   "outputs": [
    {
     "data": {
      "text/html": [
       "<div>\n",
       "<style scoped>\n",
       "    .dataframe tbody tr th:only-of-type {\n",
       "        vertical-align: middle;\n",
       "    }\n",
       "\n",
       "    .dataframe tbody tr th {\n",
       "        vertical-align: top;\n",
       "    }\n",
       "\n",
       "    .dataframe thead th {\n",
       "        text-align: right;\n",
       "    }\n",
       "</style>\n",
       "<table border=\"1\" class=\"dataframe\">\n",
       "  <thead>\n",
       "    <tr style=\"text-align: right;\">\n",
       "      <th></th>\n",
       "      <th>Platform</th>\n",
       "      <th>JP_sales</th>\n",
       "      <th>sales_pct</th>\n",
       "    </tr>\n",
       "  </thead>\n",
       "  <tbody>\n",
       "    <tr>\n",
       "      <th>2</th>\n",
       "      <td>DS</td>\n",
       "      <td>138.03</td>\n",
       "      <td>25.0</td>\n",
       "    </tr>\n",
       "    <tr>\n",
       "      <th>0</th>\n",
       "      <td>3DS</td>\n",
       "      <td>100.39</td>\n",
       "      <td>18.0</td>\n",
       "    </tr>\n",
       "    <tr>\n",
       "      <th>6</th>\n",
       "      <td>PS3</td>\n",
       "      <td>79.04</td>\n",
       "      <td>14.0</td>\n",
       "    </tr>\n",
       "    <tr>\n",
       "      <th>8</th>\n",
       "      <td>PSP</td>\n",
       "      <td>70.31</td>\n",
       "      <td>13.0</td>\n",
       "    </tr>\n",
       "    <tr>\n",
       "      <th>10</th>\n",
       "      <td>Wii</td>\n",
       "      <td>67.85</td>\n",
       "      <td>12.0</td>\n",
       "    </tr>\n",
       "  </tbody>\n",
       "</table>\n",
       "</div>"
      ],
      "text/plain": [
       "   Platform  JP_sales  sales_pct\n",
       "2        DS    138.03       25.0\n",
       "0       3DS    100.39       18.0\n",
       "6       PS3     79.04       14.0\n",
       "8       PSP     70.31       13.0\n",
       "10      Wii     67.85       12.0"
      ]
     },
     "execution_count": 36,
     "metadata": {},
     "output_type": "execute_result"
    }
   ],
   "source": [
    "reg_sales_JP = df.query('JP_sales > 0 and Year_of_Release > @actual_year').groupby('Platform')['JP_sales'].agg('sum').reset_index().sort_values('JP_sales', ascending= False).head(5)\n",
    "tot_sales_JP = df.query('JP_sales > 0 and Year_of_Release > @actual_year')['JP_sales'].sum()\n",
    "reg_sales_JP['sales_pct'] = round(reg_sales_JP['JP_sales'] / tot_sales_JP * 100 )\n",
    "reg_sales_JP\n"
   ]
  },
  {
   "cell_type": "code",
   "execution_count": 37,
   "metadata": {
    "colab": {
     "base_uri": "https://localhost:8080/",
     "height": 194
    },
    "colab_type": "code",
    "id": "DllYLhupo2b7",
    "outputId": "947045af-a6c6-4e38-b5cf-a145c58dc49d"
   },
   "outputs": [
    {
     "data": {
      "text/html": [
       "<div>\n",
       "<style scoped>\n",
       "    .dataframe tbody tr th:only-of-type {\n",
       "        vertical-align: middle;\n",
       "    }\n",
       "\n",
       "    .dataframe tbody tr th {\n",
       "        vertical-align: top;\n",
       "    }\n",
       "\n",
       "    .dataframe thead th {\n",
       "        text-align: right;\n",
       "    }\n",
       "</style>\n",
       "<table border=\"1\" class=\"dataframe\">\n",
       "  <thead>\n",
       "    <tr style=\"text-align: right;\">\n",
       "      <th></th>\n",
       "      <th>Genre</th>\n",
       "      <th>JP_sales</th>\n",
       "    </tr>\n",
       "  </thead>\n",
       "  <tbody>\n",
       "    <tr>\n",
       "      <th>7</th>\n",
       "      <td>Role-Playing</td>\n",
       "      <td>170.04</td>\n",
       "    </tr>\n",
       "    <tr>\n",
       "      <th>0</th>\n",
       "      <td>Action</td>\n",
       "      <td>100.82</td>\n",
       "    </tr>\n",
       "    <tr>\n",
       "      <th>3</th>\n",
       "      <td>Misc</td>\n",
       "      <td>63.82</td>\n",
       "    </tr>\n",
       "    <tr>\n",
       "      <th>10</th>\n",
       "      <td>Sports</td>\n",
       "      <td>48.32</td>\n",
       "    </tr>\n",
       "    <tr>\n",
       "      <th>4</th>\n",
       "      <td>Platform</td>\n",
       "      <td>35.20</td>\n",
       "    </tr>\n",
       "  </tbody>\n",
       "</table>\n",
       "</div>"
      ],
      "text/plain": [
       "           Genre  JP_sales\n",
       "7   Role-Playing    170.04\n",
       "0         Action    100.82\n",
       "3           Misc     63.82\n",
       "10        Sports     48.32\n",
       "4       Platform     35.20"
      ]
     },
     "execution_count": 37,
     "metadata": {},
     "output_type": "execute_result"
    }
   ],
   "source": [
    "genre_JP = df.query('JP_sales > 0 and Year_of_Release > @actual_year').groupby('Genre')['JP_sales'].agg('sum').reset_index().sort_values('JP_sales', ascending= False).head(5)\n",
    "genre_JP"
   ]
  },
  {
   "cell_type": "code",
   "execution_count": 38,
   "metadata": {
    "colab": {
     "base_uri": "https://localhost:8080/",
     "height": 164
    },
    "colab_type": "code",
    "id": "dc7nfI5po2eK",
    "outputId": "5b9b5623-801b-4cc5-986c-9210291e866b"
   },
   "outputs": [
    {
     "name": "stderr",
     "output_type": "stream",
     "text": [
      "T:\\Programs\\Anaconda\\lib\\site-packages\\ipykernel_launcher.py:1: RuntimeWarning: invalid value encountered in double_scalars\n",
      "  \"\"\"Entry point for launching an IPython kernel.\n"
     ]
    },
    {
     "data": {
      "text/html": [
       "<div>\n",
       "<style scoped>\n",
       "    .dataframe tbody tr th:only-of-type {\n",
       "        vertical-align: middle;\n",
       "    }\n",
       "\n",
       "    .dataframe tbody tr th {\n",
       "        vertical-align: top;\n",
       "    }\n",
       "\n",
       "    .dataframe thead th {\n",
       "        text-align: right;\n",
       "    }\n",
       "</style>\n",
       "<table border=\"1\" class=\"dataframe\">\n",
       "  <thead>\n",
       "    <tr style=\"text-align: right;\">\n",
       "      <th></th>\n",
       "      <th>Rating</th>\n",
       "      <th>sum</th>\n",
       "      <th>count</th>\n",
       "      <th>&lt;lambda_0&gt;</th>\n",
       "    </tr>\n",
       "  </thead>\n",
       "  <tbody>\n",
       "    <tr>\n",
       "      <th>0</th>\n",
       "      <td>E</td>\n",
       "      <td>117.67</td>\n",
       "      <td>342</td>\n",
       "      <td>0.344064</td>\n",
       "    </tr>\n",
       "    <tr>\n",
       "      <th>3</th>\n",
       "      <td>T</td>\n",
       "      <td>82.56</td>\n",
       "      <td>622</td>\n",
       "      <td>0.132733</td>\n",
       "    </tr>\n",
       "    <tr>\n",
       "      <th>2</th>\n",
       "      <td>M</td>\n",
       "      <td>43.78</td>\n",
       "      <td>475</td>\n",
       "      <td>0.092168</td>\n",
       "    </tr>\n",
       "    <tr>\n",
       "      <th>1</th>\n",
       "      <td>E10+</td>\n",
       "      <td>35.49</td>\n",
       "      <td>203</td>\n",
       "      <td>0.174828</td>\n",
       "    </tr>\n",
       "  </tbody>\n",
       "</table>\n",
       "</div>"
      ],
      "text/plain": [
       "  Rating     sum  count  <lambda_0>\n",
       "0      E  117.67    342    0.344064\n",
       "3      T   82.56    622    0.132733\n",
       "2      M   43.78    475    0.092168\n",
       "1   E10+   35.49    203    0.174828"
      ]
     },
     "execution_count": 38,
     "metadata": {},
     "output_type": "execute_result"
    }
   ],
   "source": [
    "rating_JP = df.query('JP_sales > 0 and Year_of_Release > @actual_year').groupby('Rating')['JP_sales'].agg(['sum', 'count', lambda x: x.sum()/ x.count()]).reset_index().sort_values('sum', ascending=False)\n",
    "rating_JP"
   ]
  },
  {
   "cell_type": "code",
   "execution_count": 39,
   "metadata": {},
   "outputs": [
    {
     "data": {
      "text/plain": [
       "<matplotlib.axes._subplots.AxesSubplot at 0x1d85707af48>"
      ]
     },
     "execution_count": 39,
     "metadata": {},
     "output_type": "execute_result"
    },
    {
     "data": {
      "image/png": "[encoded data removed]",
      "text/plain": [
       "<Figure size 1800x360 with 3 Axes>"
      ]
     },
     "metadata": {
      "needs_background": "light"
     },
     "output_type": "display_data"
    },
    {
     "data": {
      "image/png": "[encoded data removed]",
      "text/plain": [
       "<Figure size 1800x360 with 3 Axes>"
      ]
     },
     "metadata": {
      "needs_background": "light"
     },
     "output_type": "display_data"
    },
    {
     "data": {
      "image/png": "[encoded data removed]",
      "text/plain": [
       "<Figure size 1800x360 with 3 Axes>"
      ]
     },
     "metadata": {
      "needs_background": "light"
     },
     "output_type": "display_data"
    }
   ],
   "source": [
    "f, axes = plt.subplots(1, 3, figsize=(25, 5), sharex=False)\n",
    "f.suptitle('Доля платформ по регионам')\n",
    "axes[0].set_title(\"NA\")\n",
    "axes[1].set_title(\"EU\")\n",
    "axes[2].set_title(\"JP\")\n",
    "sns.barplot(data = reg_sales_NA\n",
    "            ,x = 'Platform'\n",
    "            ,y = 'sales_pct'\n",
    "            ,ax=axes[0])\n",
    "sns.barplot(data = reg_sales_EU\n",
    "            ,x = 'Platform'\n",
    "            ,y = 'sales_pct'\n",
    "            ,ax=axes[1])\n",
    "sns.barplot(data = reg_sales_JP\n",
    "            ,x = 'Platform'\n",
    "            ,y = 'sales_pct'\n",
    "            ,ax=axes[2])\n",
    "\n",
    "f, axes = plt.subplots(1, 3, figsize=(25, 5), sharex=False)\n",
    "f.suptitle('Продажи по жанрам')\n",
    "axes[0].set_title(\"NA\")\n",
    "axes[1].set_title(\"EU\")\n",
    "axes[2].set_title(\"JP\")\n",
    "sns.barplot(data = genre_NA\n",
    "            ,x = 'Genre'\n",
    "            ,y = 'NA_sales'\n",
    "            ,ax=axes[0])\n",
    "sns.barplot(data = genre_EU\n",
    "            ,x = 'Genre'\n",
    "            ,y = 'EU_sales'\n",
    "            ,ax=axes[1])\n",
    "sns.barplot(data = genre_JP\n",
    "            ,x = 'Genre'\n",
    "            ,y = 'JP_sales'\n",
    "            ,ax=axes[2])\n",
    "\n",
    "f, axes = plt.subplots(1, 3, figsize=(25, 5), sharex=False)\n",
    "f.suptitle('Продажи по рейтингу')\n",
    "axes[0].set_title(\"NA\")\n",
    "axes[1].set_title(\"EU\")\n",
    "axes[2].set_title(\"JP\")\n",
    "sns.barplot(data = rating_NA\n",
    "            ,x = 'Rating'\n",
    "            ,y = 'sum'\n",
    "            ,ax=axes[0])\n",
    "sns.barplot(data = rating_EU\n",
    "            ,x = 'Rating'\n",
    "            ,y = 'sum'\n",
    "            ,ax=axes[1])\n",
    "sns.barplot(data = rating_JP\n",
    "            ,x = 'Rating'\n",
    "            ,y = 'sum'\n",
    "            ,ax=axes[2])"
   ]
  },
  {
   "cell_type": "markdown",
   "metadata": {
    "colab_type": "text",
    "id": "D_F-sWk4Xhwo"
   },
   "source": [
    "<div align=\"left\", style=\"border:solid grey 2px; padding: 30px\">\n",
    "Профили пользователей регионов NA и EU почти аналогичны.<br>Топ платформ: PS3, PS4, X360, но в NA, в отличие от EU,  XOne уже успел вытеснить PC.<br>\n",
    "Топ жанров также одинаков за исключением пятой позиции (прочее в NA против рейсинга в EU).<br>\n",
    "По рейтингу полностью аналогичные топы: больше всех продаются игры для взрослых, после них - игры для всех.<br>\n",
    "<br>\n",
    "Азиаты особенные, профиль пользовтеля региона JP отличается.<br>\n",
    "Наибольшую долю в платформах занимает Nintendo. Также там любят другие портативные консоли PSV и PSP. <br>\n",
    "Огромную долю продаж занимают игры RPG, также, в отличие от европеоидов, присутствуют файтинги.<br>\n",
    "Игры для взрослых имеют наименьшие продажи.</div>"
   ]
  },
  {
   "cell_type": "markdown",
   "metadata": {
    "colab_type": "text",
    "id": "aHe1FP--M7dQ"
   },
   "source": [
    "### 5 Проверка гипотез"
   ]
  },
  {
   "cell_type": "code",
   "execution_count": 40,
   "metadata": {
    "colab": {
     "base_uri": "https://localhost:8080/",
     "height": 35
    },
    "colab_type": "code",
    "id": "lCVx6k0Eo2hB",
    "outputId": "dc6f0604-3d0d-4144-871c-dd9a312e6dbd"
   },
   "outputs": [
    {
     "data": {
      "text/plain": [
       "6.830081300813019"
      ]
     },
     "execution_count": 40,
     "metadata": {},
     "output_type": "execute_result"
    }
   ],
   "source": [
    "df.query('Platform==\"PC\" and Year_of_Release>@actual_year')['User_Score'].mean()"
   ]
  },
  {
   "cell_type": "code",
   "execution_count": 41,
   "metadata": {
    "colab": {
     "base_uri": "https://localhost:8080/",
     "height": 35
    },
    "colab_type": "code",
    "id": "-ugBpK_I-8V1",
    "outputId": "9c3b1ca8-cef7-4e11-cdb2-92e2d99b986f"
   },
   "outputs": [
    {
     "data": {
      "text/plain": [
       "6.52142857142857"
      ]
     },
     "execution_count": 41,
     "metadata": {},
     "output_type": "execute_result"
    }
   ],
   "source": [
    "df.query('Platform==\"XOne\" and Year_of_Release>@actual_year')['User_Score'].mean()"
   ]
  },
  {
   "cell_type": "markdown",
   "metadata": {
    "colab_type": "text",
    "id": "eaEBSBbMND2k"
   },
   "source": [
    "#### Средние пользовательские рейтинги платформ Xbox One и PC одинаковые"
   ]
  },
  {
   "cell_type": "markdown",
   "metadata": {
    "colab_type": "text",
    "id": "NejLrsg0QayN"
   },
   "source": [
    "По общим правилам формулировки статистических гипотез формулируем\n",
    "\n",
    "\n",
    "нулеую гипотезу:\n",
    "> cредние пользовательские рейтинги платформ Xbox One и PC равны\n",
    "\n",
    "и альтернативную: \n",
    "> cредние пользовательские рейтинги платформ Xbox One и PC не равны.\n",
    "\n",
    "Для проверки равенства средних значений в двух выборках, имеющих нормальное распределение используется t-критерий Стьюдента. Наши сравниваемые выборки имеют распределение похожее на нормальное, поэтому используем t-критерий.\n"
   ]
  },
  {
   "cell_type": "code",
   "execution_count": 42,
   "metadata": {
    "colab": {
     "base_uri": "https://localhost:8080/",
     "height": 52
    },
    "colab_type": "code",
    "id": "N9lxXIOs-8aG",
    "outputId": "e7e21ad6-e8d5-49fc-9960-c134e2b64e35"
   },
   "outputs": [
    {
     "name": "stdout",
     "output_type": "stream",
     "text": [
      "p-значение: 0.01617899869488552\n",
      "Отвергаем нулевую гипотезу\n"
     ]
    }
   ],
   "source": [
    "alpha = .05 \n",
    "results = st.ttest_ind(\n",
    "    df.dropna().query('Platform==\"PC\" and Year_of_Release>@actual_year')[\"User_Score\"], \n",
    "    df.dropna().query('Platform==\"XOne\" and Year_of_Release>@actual_year')[\"User_Score\"]) \n",
    "print('p-значение:', results.pvalue)\n",
    "if (results.pvalue < alpha):\n",
    "    print(\"Отвергаем нулевую гипотезу\")\n",
    "else:\n",
    "    print(\"Не получилось отвергнуть нулевую гипотезу\")"
   ]
  },
  {
   "cell_type": "markdown",
   "metadata": {
    "colab_type": "text",
    "id": "9mK1VbwoS5LX"
   },
   "source": [
    "#### Средние пользовательские рейтинги жанров Action и Sports разные."
   ]
  },
  {
   "cell_type": "markdown",
   "metadata": {
    "colab_type": "text",
    "id": "42SZc8ynTMjM"
   },
   "source": [
    "По общим правилам формулировки статистических гипотез формулируем\n",
    "\n",
    "\n",
    "нулеую гипотезу:\n",
    "> cредние пользовательские рейтинги жанров Action и Sports равны.\n",
    "\n",
    "и альтернативную: \n",
    "> cредние пользовательские рейтинги жанров Action и Sports не равны.\n",
    "\n",
    "Для проверки равенства средних значений в двух выборках, имеющих нормальное распределение используется t-критерий Стьюдента. Наши сравниваемые выборки имеют распределение похожее на нормальное, поэтому используем t-критерий.\n"
   ]
  },
  {
   "cell_type": "code",
   "execution_count": 43,
   "metadata": {
    "colab": {
     "base_uri": "https://localhost:8080/",
     "height": 35
    },
    "colab_type": "code",
    "id": "iC4XlvXJ-8e_",
    "outputId": "cb329d56-5b35-40fc-9d89-b264eef23f9b"
   },
   "outputs": [
    {
     "data": {
      "text/plain": [
       "6.878625377643504"
      ]
     },
     "execution_count": 43,
     "metadata": {},
     "output_type": "execute_result"
    }
   ],
   "source": [
    "df.query('Genre == \"Action\" and Year_of_Release>@actual_year')['User_Score'].mean()"
   ]
  },
  {
   "cell_type": "code",
   "execution_count": 44,
   "metadata": {
    "colab": {
     "base_uri": "https://localhost:8080/",
     "height": 35
    },
    "colab_type": "code",
    "id": "rSTU_Ent-8jC",
    "outputId": "47658c29-1348-4880-a35a-56728e6d9ca9"
   },
   "outputs": [
    {
     "data": {
      "text/plain": [
       "6.4164201183431935"
      ]
     },
     "execution_count": 44,
     "metadata": {},
     "output_type": "execute_result"
    }
   ],
   "source": [
    "df.query('Genre == \"Sports\" and Year_of_Release>@actual_year')['User_Score'].mean()"
   ]
  },
  {
   "cell_type": "code",
   "execution_count": 45,
   "metadata": {
    "colab": {
     "base_uri": "https://localhost:8080/",
     "height": 52
    },
    "colab_type": "code",
    "id": "Hz7eYP32-8ny",
    "outputId": "127df864-5cf4-46c5-d92e-e7e07c69f0aa"
   },
   "outputs": [
    {
     "name": "stdout",
     "output_type": "stream",
     "text": [
      "p-значение: 3.72609768502499e-06\n",
      "Отвергаем нулевую гипотезу\n"
     ]
    }
   ],
   "source": [
    "alpha = .05 \n",
    "results = st.ttest_ind(\n",
    "    df.dropna().query('Genre == \"Action\" and Year_of_Release>@actual_year')['User_Score'], \n",
    "    df.dropna().query('Genre == \"Sports\" and Year_of_Release>@actual_year')['User_Score'])\n",
    "print('p-значение:', results.pvalue)\n",
    "if (results.pvalue < alpha):\n",
    "    print(\"Отвергаем нулевую гипотезу\")\n",
    "else:\n",
    "    print(\"Не получилось отвергнуть нулевую гипотезу\")"
   ]
  },
  {
   "cell_type": "markdown",
   "metadata": {
    "colab_type": "text",
    "id": "Y_38LRIlTX60"
   },
   "source": [
    "<div align=\"left\", style=\"border:solid grey 2px; padding: 30px\">\n",
    "    По результатам проверки гипотез первая гипотеза не была отвегнута (она же была нулевой), вторая гипотеза была отвергнута (нулевая гипотеза была не отвергнута).</div>"
   ]
  },
  {
   "cell_type": "markdown",
   "metadata": {
    "colab_type": "text",
    "id": "28Lm6hOlTsTD"
   },
   "source": [
    "### Общий вывод"
   ]
  },
  {
   "cell_type": "markdown",
   "metadata": {
    "colab_type": "text",
    "id": "hfhFAt4sTvtL"
   },
   "source": [
    "<div align=\"left\", style=\"border:solid grey 2px; padding: 30px\">\n",
    "Целью исследования является выявление закономерности величины продаж определенной игры с целью формирования ассортимента на плановый период для магазина \"Стримчик\".<br>\n",
    "Для анализа использовались доступные из открытых источников  исторические данные о продажах игр, оценки пользователей и экспертов, жанры и платформы (например, Xbox или PlayStation).<br>\n",
    "За плановый период в данном исследовании принят 2017 год.<br>\n",
    "\n",
    "Данные были предобработаны: удалены записи с отсутствующими названиями игр и годами их выхода.<br>\n",
    "\n",
    "Выяснили, что в год выпускается около 300 игр, примерно 100 из них выпускают на несколько платформ.<br>\n",
    "\n",
    "В среднем срок жизни платформы составляет 5-10 лет. <br>\n",
    "Как потенциально прибыльниые платформы на 2017 год были выбраны те, по которым были продажи в 2016 году, и было видно, что динамика продаж по ним будет сохранятся : XOne, PS4, PC.<br>\n",
    "Распределение продаж игр на PS4 и XOne достаточно похожи. Среднее значение составляет около 750 у.е., медианное - 200 у.е. Показатели по PC ниже: среднее -  250 у.е., медианное - 100 у.е. <br>\n",
    "Продажи игр по выбранным платформам коррелируют с рейтингами критиков. Коэффициент корреляции составляет от 0,26 до 0,41. При этом коррекляция продаж и рейтинга пользователей отсутствует.<br>\n",
    "Топ-3 жанров по суммарным продажам: экшн, шутер и РПГ.<br>\n",
    "Топ-3 жанров по продажам на одну игру: шутер, платформер и спорт.<br>\n",
    "\n",
    "Профили пользователей регионов NA и EU почти аналогичны.<br>Топ платформ: PS3, PS4, X360. Топ жанров также одинаков: экшн, шутер, спорт, РПГ. Больше всех продаются игры для врозслых, после них - игры для всех.<br>\n",
    "Профиль пользовтеля региона JP отличается.<br>\n",
    "Наибольшую долю в платформах занимает Nintendo. Также там любят другие портативные консоли PSV и PSP. <br>\n",
    "Огромную долю продаж занимают игры RPG, также, в отличие от EU, NA, в топе жанров присутствуют файтинги.<br>\n",
    "Игры для взрослых имеют наименьшие продажи.\n",
    "<br>\n",
    "По результатам проверки гипотеза гипотезы о том, что \n",
    "средние пользовательские рейтинги платформ Xbox One и PC одинаковые не была отвергнута, гипотеза о том, что средние пользовательские рейтинги жанров Action и Sports разные была отвергунта.</div>"
   ]
  }
 ],
 "metadata": {
  "colab": {
   "collapsed_sections": [],
   "name": "Project4.ipynb",
   "provenance": [],
   "toc_visible": true
  },
  "kernelspec": {
   "display_name": "Python 3",
   "language": "python",
   "name": "python3"
  },
  "language_info": {
   "codemirror_mode": {
    "name": "ipython",
    "version": 3
   },
   "file_extension": ".py",
   "mimetype": "text/x-python",
   "name": "python",
   "nbconvert_exporter": "python",
   "pygments_lexer": "ipython3",
   "version": "3.7.6"
  }
 },
 "nbformat": 4,
 "nbformat_minor": 1
}
